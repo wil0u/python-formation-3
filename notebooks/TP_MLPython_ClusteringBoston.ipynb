{
 "cells": [
  {
   "cell_type": "markdown",
   "metadata": {},
   "source": [
    "# TP CLUSTERING DANS UN BUT DE SEGMENTATION"
   ]
  },
  {
   "cell_type": "markdown",
   "metadata": {},
   "source": [
    "# Sommaire\n",
    "\n",
    "1. [Import](#sect1)\n",
    "2. [Réduction de dimension via une ACP](#sect2)\n",
    "3. [Clustering Mixte](#sect3)\n",
    "4. [Portraits Robots](#sect4)\n"
   ]
  },
  {
   "cell_type": "code",
   "execution_count": 44,
   "metadata": {},
   "outputs": [],
   "source": [
    "import matplotlib.pyplot as plt\n",
    "\n",
    "import pandas as pd\n",
    "import numpy as np\n",
    "import os\n",
    "os.chdir(\"../data\")"
   ]
  },
  {
   "cell_type": "markdown",
   "metadata": {},
   "source": [
    "# 1. Import <a name=\"sect1\"></a> "
   ]
  },
  {
   "cell_type": "markdown",
   "metadata": {},
   "source": [
    "## LES DONNEES\n",
    "Housing data lien : https://www.kaggle.com/apratim87/housingdata/version/1#housingdata.csv\n",
    "\n",
    "\n",
    "Variables dans l'ordre : \n",
    "\n",
    "- **CRIM** per capita crime rate by town \n",
    "- **ZN** proportion of residential land zoned for lots over 25,000 sq.ft. \n",
    "- **INDUS** proportion of non-retail business acres per town \n",
    "- **CHAS** Charles River dummy variable (= 1 if tract bounds river; 0 otherwise) \n",
    "- **NOX** nitric oxides concentration (parts per 10 million) \n",
    "- **RM** average number of rooms per dwelling \n",
    "- **AGE** proportion of owner-occupied units built prior to 1940 \n",
    "- **DIS** weighted distances to five Boston employment centres \n",
    "- **RAD** index of accessibility to radial highways \n",
    "- **TAX** full-value property-tax rate per $10,000 \n",
    "- **PTRATIO** pupil-teacher ratio by town \n",
    "- **LSTAT** ratio de lower status of the population \n",
    "- **MEDV** Median value of owner-occupied homes en milliers de dollars\n"
   ]
  },
  {
   "cell_type": "code",
   "execution_count": 45,
   "metadata": {},
   "outputs": [],
   "source": [
    "housing = pd.read_csv('housingdata.csv',header=0,index_col=False,sep=',',\n",
    "names=[\"CRIM\",\"ZN\",\"INDUS\",\"CHAS\",\"NOX\",\"RM\",\"AGE\",\"DIS\",\"RAD\",\"TAX\", \"PTRATIO\",\"LSTAT\",\"MEDV\"])"
   ]
  },
  {
   "cell_type": "code",
   "execution_count": 46,
   "metadata": {},
   "outputs": [
    {
     "data": {
      "application/vnd.microsoft.datawrangler.viewer.v0+json": {
       "columns": [
        {
         "name": "index",
         "rawType": "int64",
         "type": "integer"
        },
        {
         "name": "CRIM",
         "rawType": "float64",
         "type": "float"
        },
        {
         "name": "ZN",
         "rawType": "float64",
         "type": "float"
        },
        {
         "name": "INDUS",
         "rawType": "float64",
         "type": "float"
        },
        {
         "name": "CHAS",
         "rawType": "int64",
         "type": "integer"
        },
        {
         "name": "NOX",
         "rawType": "float64",
         "type": "float"
        },
        {
         "name": "RM",
         "rawType": "float64",
         "type": "float"
        },
        {
         "name": "AGE",
         "rawType": "float64",
         "type": "float"
        },
        {
         "name": "DIS",
         "rawType": "float64",
         "type": "float"
        },
        {
         "name": "RAD",
         "rawType": "int64",
         "type": "integer"
        },
        {
         "name": "TAX",
         "rawType": "int64",
         "type": "integer"
        },
        {
         "name": "PTRATIO",
         "rawType": "float64",
         "type": "float"
        },
        {
         "name": "LSTAT",
         "rawType": "float64",
         "type": "float"
        },
        {
         "name": "MEDV",
         "rawType": "float64",
         "type": "float"
        }
       ],
       "ref": "70dc6912-dc12-413b-a89e-5cb7f9393411",
       "rows": [
        [
         "0",
         "0.02729",
         "0.0",
         "7.07",
         "0",
         "0.469",
         "7.185",
         "61.1",
         "4.9671",
         "2",
         "242",
         "17.8",
         "4.03",
         "34.7"
        ],
        [
         "1",
         "0.03237",
         "0.0",
         "2.18",
         "0",
         "0.458",
         "6.998",
         "45.8",
         "6.0622",
         "3",
         "222",
         "18.7",
         "2.94",
         "33.4"
        ],
        [
         "2",
         "0.06905",
         "0.0",
         "2.18",
         "0",
         "0.458",
         "7.147",
         "54.2",
         "6.0622",
         "3",
         "222",
         "18.7",
         "5.33",
         "36.2"
        ],
        [
         "3",
         "0.02985",
         "0.0",
         "2.18",
         "0",
         "0.458",
         "6.43",
         "58.7",
         "6.0622",
         "3",
         "222",
         "18.7",
         "5.21",
         "28.7"
        ],
        [
         "4",
         "0.08829",
         "12.5",
         "7.87",
         "0",
         "0.524",
         "6.012",
         "66.6",
         "5.5605",
         "5",
         "311",
         "15.2",
         "12.43",
         "22.9"
        ]
       ],
       "shape": {
        "columns": 13,
        "rows": 5
       }
      },
      "text/html": [
       "<div>\n",
       "<style scoped>\n",
       "    .dataframe tbody tr th:only-of-type {\n",
       "        vertical-align: middle;\n",
       "    }\n",
       "\n",
       "    .dataframe tbody tr th {\n",
       "        vertical-align: top;\n",
       "    }\n",
       "\n",
       "    .dataframe thead th {\n",
       "        text-align: right;\n",
       "    }\n",
       "</style>\n",
       "<table border=\"1\" class=\"dataframe\">\n",
       "  <thead>\n",
       "    <tr style=\"text-align: right;\">\n",
       "      <th></th>\n",
       "      <th>CRIM</th>\n",
       "      <th>ZN</th>\n",
       "      <th>INDUS</th>\n",
       "      <th>CHAS</th>\n",
       "      <th>NOX</th>\n",
       "      <th>RM</th>\n",
       "      <th>AGE</th>\n",
       "      <th>DIS</th>\n",
       "      <th>RAD</th>\n",
       "      <th>TAX</th>\n",
       "      <th>PTRATIO</th>\n",
       "      <th>LSTAT</th>\n",
       "      <th>MEDV</th>\n",
       "    </tr>\n",
       "  </thead>\n",
       "  <tbody>\n",
       "    <tr>\n",
       "      <th>0</th>\n",
       "      <td>0.02729</td>\n",
       "      <td>0.0</td>\n",
       "      <td>7.07</td>\n",
       "      <td>0</td>\n",
       "      <td>0.469</td>\n",
       "      <td>7.185</td>\n",
       "      <td>61.1</td>\n",
       "      <td>4.9671</td>\n",
       "      <td>2</td>\n",
       "      <td>242</td>\n",
       "      <td>17.8</td>\n",
       "      <td>4.03</td>\n",
       "      <td>34.7</td>\n",
       "    </tr>\n",
       "    <tr>\n",
       "      <th>1</th>\n",
       "      <td>0.03237</td>\n",
       "      <td>0.0</td>\n",
       "      <td>2.18</td>\n",
       "      <td>0</td>\n",
       "      <td>0.458</td>\n",
       "      <td>6.998</td>\n",
       "      <td>45.8</td>\n",
       "      <td>6.0622</td>\n",
       "      <td>3</td>\n",
       "      <td>222</td>\n",
       "      <td>18.7</td>\n",
       "      <td>2.94</td>\n",
       "      <td>33.4</td>\n",
       "    </tr>\n",
       "    <tr>\n",
       "      <th>2</th>\n",
       "      <td>0.06905</td>\n",
       "      <td>0.0</td>\n",
       "      <td>2.18</td>\n",
       "      <td>0</td>\n",
       "      <td>0.458</td>\n",
       "      <td>7.147</td>\n",
       "      <td>54.2</td>\n",
       "      <td>6.0622</td>\n",
       "      <td>3</td>\n",
       "      <td>222</td>\n",
       "      <td>18.7</td>\n",
       "      <td>5.33</td>\n",
       "      <td>36.2</td>\n",
       "    </tr>\n",
       "    <tr>\n",
       "      <th>3</th>\n",
       "      <td>0.02985</td>\n",
       "      <td>0.0</td>\n",
       "      <td>2.18</td>\n",
       "      <td>0</td>\n",
       "      <td>0.458</td>\n",
       "      <td>6.430</td>\n",
       "      <td>58.7</td>\n",
       "      <td>6.0622</td>\n",
       "      <td>3</td>\n",
       "      <td>222</td>\n",
       "      <td>18.7</td>\n",
       "      <td>5.21</td>\n",
       "      <td>28.7</td>\n",
       "    </tr>\n",
       "    <tr>\n",
       "      <th>4</th>\n",
       "      <td>0.08829</td>\n",
       "      <td>12.5</td>\n",
       "      <td>7.87</td>\n",
       "      <td>0</td>\n",
       "      <td>0.524</td>\n",
       "      <td>6.012</td>\n",
       "      <td>66.6</td>\n",
       "      <td>5.5605</td>\n",
       "      <td>5</td>\n",
       "      <td>311</td>\n",
       "      <td>15.2</td>\n",
       "      <td>12.43</td>\n",
       "      <td>22.9</td>\n",
       "    </tr>\n",
       "  </tbody>\n",
       "</table>\n",
       "</div>"
      ],
      "text/plain": [
       "      CRIM    ZN  INDUS  CHAS    NOX     RM   AGE     DIS  RAD  TAX  PTRATIO  \\\n",
       "0  0.02729   0.0   7.07     0  0.469  7.185  61.1  4.9671    2  242     17.8   \n",
       "1  0.03237   0.0   2.18     0  0.458  6.998  45.8  6.0622    3  222     18.7   \n",
       "2  0.06905   0.0   2.18     0  0.458  7.147  54.2  6.0622    3  222     18.7   \n",
       "3  0.02985   0.0   2.18     0  0.458  6.430  58.7  6.0622    3  222     18.7   \n",
       "4  0.08829  12.5   7.87     0  0.524  6.012  66.6  5.5605    5  311     15.2   \n",
       "\n",
       "   LSTAT  MEDV  \n",
       "0   4.03  34.7  \n",
       "1   2.94  33.4  \n",
       "2   5.33  36.2  \n",
       "3   5.21  28.7  \n",
       "4  12.43  22.9  "
      ]
     },
     "execution_count": 46,
     "metadata": {},
     "output_type": "execute_result"
    }
   ],
   "source": [
    "housing.head()"
   ]
  },
  {
   "cell_type": "code",
   "execution_count": 47,
   "metadata": {},
   "outputs": [
    {
     "data": {
      "text/plain": [
       "(504, 13)"
      ]
     },
     "execution_count": 47,
     "metadata": {},
     "output_type": "execute_result"
    }
   ],
   "source": [
    "housing.shape"
   ]
  },
  {
   "cell_type": "code",
   "execution_count": 48,
   "metadata": {},
   "outputs": [
    {
     "data": {
      "application/vnd.microsoft.datawrangler.viewer.v0+json": {
       "columns": [
        {
         "name": "index",
         "rawType": "object",
         "type": "string"
        },
        {
         "name": "0",
         "rawType": "object",
         "type": "unknown"
        }
       ],
       "ref": "f3aecf0c-f87c-4b91-8698-06a4edba2a02",
       "rows": [
        [
         "CRIM",
         "float64"
        ],
        [
         "ZN",
         "float64"
        ],
        [
         "INDUS",
         "float64"
        ],
        [
         "CHAS",
         "int64"
        ],
        [
         "NOX",
         "float64"
        ],
        [
         "RM",
         "float64"
        ],
        [
         "AGE",
         "float64"
        ],
        [
         "DIS",
         "float64"
        ],
        [
         "RAD",
         "int64"
        ],
        [
         "TAX",
         "int64"
        ],
        [
         "PTRATIO",
         "float64"
        ],
        [
         "LSTAT",
         "float64"
        ],
        [
         "MEDV",
         "float64"
        ]
       ],
       "shape": {
        "columns": 1,
        "rows": 13
       }
      },
      "text/plain": [
       "CRIM       float64\n",
       "ZN         float64\n",
       "INDUS      float64\n",
       "CHAS         int64\n",
       "NOX        float64\n",
       "RM         float64\n",
       "AGE        float64\n",
       "DIS        float64\n",
       "RAD          int64\n",
       "TAX          int64\n",
       "PTRATIO    float64\n",
       "LSTAT      float64\n",
       "MEDV       float64\n",
       "dtype: object"
      ]
     },
     "execution_count": 48,
     "metadata": {},
     "output_type": "execute_result"
    }
   ],
   "source": [
    "housing.dtypes"
   ]
  },
  {
   "cell_type": "markdown",
   "metadata": {},
   "source": [
    "#### Transformation des données au bon format et regroupement par classe"
   ]
  },
  {
   "cell_type": "code",
   "execution_count": 49,
   "metadata": {},
   "outputs": [],
   "source": [
    "housing['CHAS']=housing['CHAS'].astype(bool)"
   ]
  },
  {
   "cell_type": "code",
   "execution_count": 50,
   "metadata": {},
   "outputs": [
    {
     "data": {
      "application/vnd.microsoft.datawrangler.viewer.v0+json": {
       "columns": [
        {
         "name": "index",
         "rawType": "object",
         "type": "string"
        },
        {
         "name": "CRIM",
         "rawType": "float64",
         "type": "float"
        },
        {
         "name": "ZN",
         "rawType": "float64",
         "type": "float"
        },
        {
         "name": "INDUS",
         "rawType": "float64",
         "type": "float"
        },
        {
         "name": "CHAS",
         "rawType": "object",
         "type": "unknown"
        },
        {
         "name": "NOX",
         "rawType": "float64",
         "type": "float"
        },
        {
         "name": "RM",
         "rawType": "float64",
         "type": "float"
        },
        {
         "name": "AGE",
         "rawType": "float64",
         "type": "float"
        },
        {
         "name": "DIS",
         "rawType": "float64",
         "type": "float"
        },
        {
         "name": "RAD",
         "rawType": "float64",
         "type": "float"
        },
        {
         "name": "TAX",
         "rawType": "float64",
         "type": "float"
        },
        {
         "name": "PTRATIO",
         "rawType": "float64",
         "type": "float"
        },
        {
         "name": "LSTAT",
         "rawType": "float64",
         "type": "float"
        },
        {
         "name": "MEDV",
         "rawType": "float64",
         "type": "float"
        }
       ],
       "ref": "95175cf4-2c82-4854-b653-e4080dd9fa6c",
       "rows": [
        [
         "count",
         "504.0",
         "504.0",
         "504.0",
         "504",
         "504.0",
         "504.0",
         "504.0",
         "504.0",
         "504.0",
         "504.0",
         "504.0",
         "504.0",
         "504.0"
        ],
        [
         "unique",
         null,
         null,
         null,
         "2",
         null,
         null,
         null,
         null,
         null,
         null,
         null,
         null,
         null
        ],
        [
         "top",
         null,
         null,
         null,
         "False",
         null,
         null,
         null,
         null,
         null,
         null,
         null,
         null,
         null
        ],
        [
         "freq",
         null,
         null,
         null,
         "469",
         null,
         null,
         null,
         null,
         null,
         null,
         null,
         null,
         null
        ],
        [
         "mean",
         "3.6277962103174604",
         "11.373015873015873",
         "11.16236111111111",
         null,
         "0.5548982142857142",
         "6.283787698412698",
         "68.56111111111112",
         "3.7921319444444443",
         "9.581349206349206",
         "408.78968253968253",
         "18.46309523809524",
         "12.675257936507936",
         "22.53174603174603"
        ],
        [
         "std",
         "8.615632202162791",
         "23.361404382940815",
         "6.860258515475972",
         null,
         "0.1160423661955929",
         "0.7038667841774116",
         "28.200605501507333",
         "2.1092019615823734",
         "8.709660170372842",
         "168.63395549834058",
         "2.1644670561214214",
         "7.1453091518619685",
         "9.215044323047488"
        ],
        [
         "min",
         "0.00906",
         "0.0",
         "0.46",
         null,
         "0.385",
         "3.561",
         "2.9",
         "1.1296",
         "1.0",
         "187.0",
         "12.6",
         "1.73",
         "5.0"
        ],
        [
         "25%",
         "0.0823825",
         "0.0",
         "5.19",
         null,
         "0.449",
         "5.88475",
         "44.85",
         "2.0970500000000003",
         "4.0",
         "279.0",
         "17.4",
         "6.99",
         "16.95"
        ],
        [
         "50%",
         "0.26042",
         "0.0",
         "9.69",
         null,
         "0.538",
         "6.205",
         "77.5",
         "3.19095",
         "5.0",
         "330.0",
         "19.1",
         "11.395",
         "21.2"
        ],
        [
         "75%",
         "3.6819425",
         "12.5",
         "18.1",
         null,
         "0.624",
         "6.6259999999999994",
         "94.1",
         "5.212575",
         "24.0",
         "666.0",
         "20.2",
         "16.9925",
         "25.0"
        ],
        [
         "max",
         "88.9762",
         "100.0",
         "27.74",
         null,
         "0.871",
         "8.78",
         "100.0",
         "12.1265",
         "24.0",
         "711.0",
         "22.0",
         "37.97",
         "50.0"
        ]
       ],
       "shape": {
        "columns": 13,
        "rows": 11
       }
      },
      "text/html": [
       "<div>\n",
       "<style scoped>\n",
       "    .dataframe tbody tr th:only-of-type {\n",
       "        vertical-align: middle;\n",
       "    }\n",
       "\n",
       "    .dataframe tbody tr th {\n",
       "        vertical-align: top;\n",
       "    }\n",
       "\n",
       "    .dataframe thead th {\n",
       "        text-align: right;\n",
       "    }\n",
       "</style>\n",
       "<table border=\"1\" class=\"dataframe\">\n",
       "  <thead>\n",
       "    <tr style=\"text-align: right;\">\n",
       "      <th></th>\n",
       "      <th>CRIM</th>\n",
       "      <th>ZN</th>\n",
       "      <th>INDUS</th>\n",
       "      <th>CHAS</th>\n",
       "      <th>NOX</th>\n",
       "      <th>RM</th>\n",
       "      <th>AGE</th>\n",
       "      <th>DIS</th>\n",
       "      <th>RAD</th>\n",
       "      <th>TAX</th>\n",
       "      <th>PTRATIO</th>\n",
       "      <th>LSTAT</th>\n",
       "      <th>MEDV</th>\n",
       "    </tr>\n",
       "  </thead>\n",
       "  <tbody>\n",
       "    <tr>\n",
       "      <th>count</th>\n",
       "      <td>504.000000</td>\n",
       "      <td>504.000000</td>\n",
       "      <td>504.000000</td>\n",
       "      <td>504</td>\n",
       "      <td>504.000000</td>\n",
       "      <td>504.000000</td>\n",
       "      <td>504.000000</td>\n",
       "      <td>504.000000</td>\n",
       "      <td>504.000000</td>\n",
       "      <td>504.000000</td>\n",
       "      <td>504.000000</td>\n",
       "      <td>504.000000</td>\n",
       "      <td>504.000000</td>\n",
       "    </tr>\n",
       "    <tr>\n",
       "      <th>unique</th>\n",
       "      <td>NaN</td>\n",
       "      <td>NaN</td>\n",
       "      <td>NaN</td>\n",
       "      <td>2</td>\n",
       "      <td>NaN</td>\n",
       "      <td>NaN</td>\n",
       "      <td>NaN</td>\n",
       "      <td>NaN</td>\n",
       "      <td>NaN</td>\n",
       "      <td>NaN</td>\n",
       "      <td>NaN</td>\n",
       "      <td>NaN</td>\n",
       "      <td>NaN</td>\n",
       "    </tr>\n",
       "    <tr>\n",
       "      <th>top</th>\n",
       "      <td>NaN</td>\n",
       "      <td>NaN</td>\n",
       "      <td>NaN</td>\n",
       "      <td>False</td>\n",
       "      <td>NaN</td>\n",
       "      <td>NaN</td>\n",
       "      <td>NaN</td>\n",
       "      <td>NaN</td>\n",
       "      <td>NaN</td>\n",
       "      <td>NaN</td>\n",
       "      <td>NaN</td>\n",
       "      <td>NaN</td>\n",
       "      <td>NaN</td>\n",
       "    </tr>\n",
       "    <tr>\n",
       "      <th>freq</th>\n",
       "      <td>NaN</td>\n",
       "      <td>NaN</td>\n",
       "      <td>NaN</td>\n",
       "      <td>469</td>\n",
       "      <td>NaN</td>\n",
       "      <td>NaN</td>\n",
       "      <td>NaN</td>\n",
       "      <td>NaN</td>\n",
       "      <td>NaN</td>\n",
       "      <td>NaN</td>\n",
       "      <td>NaN</td>\n",
       "      <td>NaN</td>\n",
       "      <td>NaN</td>\n",
       "    </tr>\n",
       "    <tr>\n",
       "      <th>mean</th>\n",
       "      <td>3.627796</td>\n",
       "      <td>11.373016</td>\n",
       "      <td>11.162361</td>\n",
       "      <td>NaN</td>\n",
       "      <td>0.554898</td>\n",
       "      <td>6.283788</td>\n",
       "      <td>68.561111</td>\n",
       "      <td>3.792132</td>\n",
       "      <td>9.581349</td>\n",
       "      <td>408.789683</td>\n",
       "      <td>18.463095</td>\n",
       "      <td>12.675258</td>\n",
       "      <td>22.531746</td>\n",
       "    </tr>\n",
       "    <tr>\n",
       "      <th>std</th>\n",
       "      <td>8.615632</td>\n",
       "      <td>23.361404</td>\n",
       "      <td>6.860259</td>\n",
       "      <td>NaN</td>\n",
       "      <td>0.116042</td>\n",
       "      <td>0.703867</td>\n",
       "      <td>28.200606</td>\n",
       "      <td>2.109202</td>\n",
       "      <td>8.709660</td>\n",
       "      <td>168.633955</td>\n",
       "      <td>2.164467</td>\n",
       "      <td>7.145309</td>\n",
       "      <td>9.215044</td>\n",
       "    </tr>\n",
       "    <tr>\n",
       "      <th>min</th>\n",
       "      <td>0.009060</td>\n",
       "      <td>0.000000</td>\n",
       "      <td>0.460000</td>\n",
       "      <td>NaN</td>\n",
       "      <td>0.385000</td>\n",
       "      <td>3.561000</td>\n",
       "      <td>2.900000</td>\n",
       "      <td>1.129600</td>\n",
       "      <td>1.000000</td>\n",
       "      <td>187.000000</td>\n",
       "      <td>12.600000</td>\n",
       "      <td>1.730000</td>\n",
       "      <td>5.000000</td>\n",
       "    </tr>\n",
       "    <tr>\n",
       "      <th>25%</th>\n",
       "      <td>0.082382</td>\n",
       "      <td>0.000000</td>\n",
       "      <td>5.190000</td>\n",
       "      <td>NaN</td>\n",
       "      <td>0.449000</td>\n",
       "      <td>5.884750</td>\n",
       "      <td>44.850000</td>\n",
       "      <td>2.097050</td>\n",
       "      <td>4.000000</td>\n",
       "      <td>279.000000</td>\n",
       "      <td>17.400000</td>\n",
       "      <td>6.990000</td>\n",
       "      <td>16.950000</td>\n",
       "    </tr>\n",
       "    <tr>\n",
       "      <th>50%</th>\n",
       "      <td>0.260420</td>\n",
       "      <td>0.000000</td>\n",
       "      <td>9.690000</td>\n",
       "      <td>NaN</td>\n",
       "      <td>0.538000</td>\n",
       "      <td>6.205000</td>\n",
       "      <td>77.500000</td>\n",
       "      <td>3.190950</td>\n",
       "      <td>5.000000</td>\n",
       "      <td>330.000000</td>\n",
       "      <td>19.100000</td>\n",
       "      <td>11.395000</td>\n",
       "      <td>21.200000</td>\n",
       "    </tr>\n",
       "    <tr>\n",
       "      <th>75%</th>\n",
       "      <td>3.681942</td>\n",
       "      <td>12.500000</td>\n",
       "      <td>18.100000</td>\n",
       "      <td>NaN</td>\n",
       "      <td>0.624000</td>\n",
       "      <td>6.626000</td>\n",
       "      <td>94.100000</td>\n",
       "      <td>5.212575</td>\n",
       "      <td>24.000000</td>\n",
       "      <td>666.000000</td>\n",
       "      <td>20.200000</td>\n",
       "      <td>16.992500</td>\n",
       "      <td>25.000000</td>\n",
       "    </tr>\n",
       "    <tr>\n",
       "      <th>max</th>\n",
       "      <td>88.976200</td>\n",
       "      <td>100.000000</td>\n",
       "      <td>27.740000</td>\n",
       "      <td>NaN</td>\n",
       "      <td>0.871000</td>\n",
       "      <td>8.780000</td>\n",
       "      <td>100.000000</td>\n",
       "      <td>12.126500</td>\n",
       "      <td>24.000000</td>\n",
       "      <td>711.000000</td>\n",
       "      <td>22.000000</td>\n",
       "      <td>37.970000</td>\n",
       "      <td>50.000000</td>\n",
       "    </tr>\n",
       "  </tbody>\n",
       "</table>\n",
       "</div>"
      ],
      "text/plain": [
       "              CRIM          ZN       INDUS   CHAS         NOX          RM  \\\n",
       "count   504.000000  504.000000  504.000000    504  504.000000  504.000000   \n",
       "unique         NaN         NaN         NaN      2         NaN         NaN   \n",
       "top            NaN         NaN         NaN  False         NaN         NaN   \n",
       "freq           NaN         NaN         NaN    469         NaN         NaN   \n",
       "mean      3.627796   11.373016   11.162361    NaN    0.554898    6.283788   \n",
       "std       8.615632   23.361404    6.860259    NaN    0.116042    0.703867   \n",
       "min       0.009060    0.000000    0.460000    NaN    0.385000    3.561000   \n",
       "25%       0.082382    0.000000    5.190000    NaN    0.449000    5.884750   \n",
       "50%       0.260420    0.000000    9.690000    NaN    0.538000    6.205000   \n",
       "75%       3.681942   12.500000   18.100000    NaN    0.624000    6.626000   \n",
       "max      88.976200  100.000000   27.740000    NaN    0.871000    8.780000   \n",
       "\n",
       "               AGE         DIS         RAD         TAX     PTRATIO  \\\n",
       "count   504.000000  504.000000  504.000000  504.000000  504.000000   \n",
       "unique         NaN         NaN         NaN         NaN         NaN   \n",
       "top            NaN         NaN         NaN         NaN         NaN   \n",
       "freq           NaN         NaN         NaN         NaN         NaN   \n",
       "mean     68.561111    3.792132    9.581349  408.789683   18.463095   \n",
       "std      28.200606    2.109202    8.709660  168.633955    2.164467   \n",
       "min       2.900000    1.129600    1.000000  187.000000   12.600000   \n",
       "25%      44.850000    2.097050    4.000000  279.000000   17.400000   \n",
       "50%      77.500000    3.190950    5.000000  330.000000   19.100000   \n",
       "75%      94.100000    5.212575   24.000000  666.000000   20.200000   \n",
       "max     100.000000   12.126500   24.000000  711.000000   22.000000   \n",
       "\n",
       "             LSTAT        MEDV  \n",
       "count   504.000000  504.000000  \n",
       "unique         NaN         NaN  \n",
       "top            NaN         NaN  \n",
       "freq           NaN         NaN  \n",
       "mean     12.675258   22.531746  \n",
       "std       7.145309    9.215044  \n",
       "min       1.730000    5.000000  \n",
       "25%       6.990000   16.950000  \n",
       "50%      11.395000   21.200000  \n",
       "75%      16.992500   25.000000  \n",
       "max      37.970000   50.000000  "
      ]
     },
     "execution_count": 50,
     "metadata": {},
     "output_type": "execute_result"
    }
   ],
   "source": [
    "stats = housing.describe(include=\"all\")\n",
    "stats"
   ]
  },
  {
   "cell_type": "code",
   "execution_count": 51,
   "metadata": {},
   "outputs": [
    {
     "data": {
      "application/vnd.microsoft.datawrangler.viewer.v0+json": {
       "columns": [
        {
         "name": "index",
         "rawType": "object",
         "type": "string"
        },
        {
         "name": "Valeur_Immo",
         "rawType": "object",
         "type": "unknown"
        }
       ],
       "ref": "4aef2f5c-79b8-4a64-86e8-9bfa4c228dc5",
       "rows": [
        [
         "count",
         "504"
        ],
        [
         "unique",
         "3"
        ],
        [
         "top",
         "2.15k-25k$"
        ],
        [
         "freq",
         "278"
        ]
       ],
       "shape": {
        "columns": 1,
        "rows": 4
       }
      },
      "text/plain": [
       "count            504\n",
       "unique             3\n",
       "top       2.15k-25k$\n",
       "freq             278\n",
       "Name: Valeur_Immo, dtype: object"
      ]
     },
     "execution_count": 51,
     "metadata": {},
     "output_type": "execute_result"
    }
   ],
   "source": [
    "# Créer 3 groupes de valeur des logements <15 , 15-25 et 25+ pour constituer une variable de contrôle à la fin de la segmentation\n",
    "housing[\"Valeur_Immo\"] = '2.15k-25k$'\n",
    "housing.loc[housing['MEDV'] >= 25, 'Valeur_Immo'] = '3.>25k$'\n",
    "housing.loc[housing['MEDV'] <15, 'Valeur_Immo'] = '1.<15k$'\n",
    "housing['Valeur_Immo']=housing['Valeur_Immo'].astype('category')\n",
    "housing['Valeur_Immo'].describe()"
   ]
  },
  {
   "cell_type": "markdown",
   "metadata": {},
   "source": [
    "# 2. REDUCTION DE DIMENSIONS AVEC ACP <a name=\"sect2\" ></a>"
   ]
  },
  {
   "cell_type": "code",
   "execution_count": 52,
   "metadata": {},
   "outputs": [],
   "source": [
    "# ACP sur les var numérique et doit être appliquée sur des données standardisées\n",
    "from sklearn.preprocessing import StandardScaler\n",
    "from sklearn.decomposition import PCA\n",
    "\n",
    "# MEDV ne sont plus des variables qu'on veut projetter et Valeur Immo sera une variable de controle du clustering\n",
    "X = housing.drop([\"MEDV\",\"Valeur_Immo\"],axis=1)\n",
    "# on écrase et on standardise\n",
    "X = StandardScaler().fit_transform(X)"
   ]
  },
  {
   "cell_type": "code",
   "execution_count": 53,
   "metadata": {},
   "outputs": [],
   "source": [
    "# CALCUL ACP AVEC SKLEARN avec autant de composants que de colonnes avant de filtrer le nombre de composants (=dimensions)\n",
    "pca_housing = PCA(n_components=X.shape[1]).fit(X)\n",
    "CP_housing = pca_housing.transform(X)\n",
    "# projection des 505 villes sur les nouvelles dimensions"
   ]
  },
  {
   "cell_type": "code",
   "execution_count": 54,
   "metadata": {},
   "outputs": [
    {
     "data": {
      "text/plain": [
       "array([-0.41831909, -0.48731297, -0.5971243 , -0.27317918, -0.74096695,\n",
       "        1.2816455 , -0.26483559,  0.55762106, -0.87131776, -0.99004613,\n",
       "       -0.30665935, -1.21112288])"
      ]
     },
     "execution_count": 54,
     "metadata": {},
     "output_type": "execute_result"
    }
   ],
   "source": [
    "# Analyse des différences de projection\n",
    "X[0]"
   ]
  },
  {
   "cell_type": "code",
   "execution_count": 55,
   "metadata": {},
   "outputs": [
    {
     "data": {
      "text/plain": [
       "array([-2.03568405,  0.63823533,  0.01575284, -0.97093418,  0.80703978,\n",
       "        0.51227253, -0.10581473,  0.05350127,  0.1865577 ,  0.48972618,\n",
       "        0.14032252, -0.01354096])"
      ]
     },
     "execution_count": 55,
     "metadata": {},
     "output_type": "execute_result"
    }
   ],
   "source": [
    "CP_housing[0]"
   ]
  },
  {
   "cell_type": "code",
   "execution_count": 56,
   "metadata": {},
   "outputs": [
    {
     "name": "stdout",
     "output_type": "stream",
     "text": [
      "[0.49223103 0.11668486 0.09842775 0.07111062 0.06695671 0.04467627\n",
      " 0.03303232 0.02320461 0.01872156 0.0154672  0.01420034 0.00528675]\n"
     ]
    }
   ],
   "source": [
    "print(pca_housing.explained_variance_ratio_) # 3 composantes expliquent 75% de la variance des données"
   ]
  },
  {
   "cell_type": "code",
   "execution_count": 57,
   "metadata": {},
   "outputs": [
    {
     "name": "stdout",
     "output_type": "stream",
     "text": [
      "[ 49.22  60.89  70.73  77.84  84.54  89.01  92.31  94.63  96.5   98.05\n",
      "  99.47 100.  ]\n"
     ]
    }
   ],
   "source": [
    "print(np.cumsum(np.round(pca_housing.explained_variance_ratio_, decimals=4)*100))"
   ]
  },
  {
   "cell_type": "code",
   "execution_count": 58,
   "metadata": {},
   "outputs": [
    {
     "data": {
      "text/plain": [
       "[<matplotlib.lines.Line2D at 0x1c0497c2ed0>]"
      ]
     },
     "execution_count": 58,
     "metadata": {},
     "output_type": "execute_result"
    },
    {
     "data": {
      "image/png": "[encoded data removed]",
      "text/plain": [
       "<Figure size 640x480 with 1 Axes>"
      ]
     },
     "metadata": {},
     "output_type": "display_data"
    },
    {
     "data": {
      "image/png": "[encoded data removed]",
      "text/plain": [
       "<Figure size 640x480 with 1 Axes>"
      ]
     },
     "metadata": {},
     "output_type": "display_data"
    }
   ],
   "source": [
    "plt.plot(np.cumsum(np.round(pca_housing.explained_variance_ratio_, decimals=4)*100))\n",
    "plt.figure()\n",
    "plt.plot(np.round(pca_housing.explained_variance_ratio_, decimals=1))\n"
   ]
  },
  {
   "cell_type": "code",
   "execution_count": 59,
   "metadata": {},
   "outputs": [
    {
     "data": {
      "text/plain": [
       "<seaborn.axisgrid.PairGrid at 0x1c0490dbd50>"
      ]
     },
     "execution_count": 59,
     "metadata": {},
     "output_type": "execute_result"
    },
    {
     "data": {
      "image/png": "[encoded data removed]",
      "text/plain": [
       "<Figure size 628.25x500 with 1 Axes>"
      ]
     },
     "metadata": {},
     "output_type": "display_data"
    },
    {
     "data": {
      "image/png": "[encoded data removed]",
      "text/plain": [
       "<Figure size 628.25x500 with 1 Axes>"
      ]
     },
     "metadata": {},
     "output_type": "display_data"
    },
    {
     "data": {
      "image/png": "[encoded data removed]",
      "text/plain": [
       "<Figure size 628.25x500 with 1 Axes>"
      ]
     },
     "metadata": {},
     "output_type": "display_data"
    }
   ],
   "source": [
    "import seaborn as sns\n",
    "targets = housing.Valeur_Immo.unique()\n",
    "\n",
    "# Conservation d'uniquement 3 axes et rapprochement avec les données de Valur Immobilière\n",
    "finalDf = pd.concat([pd.DataFrame(CP_housing[:,0:3], columns = ['CP1', 'CP2','CP3']), housing[[\"CHAS\",\"MEDV\",'Valeur_Immo']]], axis = 1)\n",
    "sns.pairplot(x_vars='CP1', y_vars='CP2', data=finalDf, hue=\"Valeur_Immo\", height=5)\n",
    "sns.pairplot(x_vars='CP1', y_vars='CP3', data=finalDf, hue=\"Valeur_Immo\", height=5)\n",
    "sns.pairplot(x_vars='CP2', y_vars='CP3', data=finalDf, hue=\"Valeur_Immo\", height=5)\n",
    "# Les 3 catégories de valeur immobilière sont assez corrélées avec l'axe 1 et 3"
   ]
  },
  {
   "cell_type": "markdown",
   "metadata": {},
   "source": [
    "#### INTERPRETATION DES AXES\n"
   ]
  },
  {
   "cell_type": "markdown",
   "metadata": {},
   "source": [
    "La règle des 70% de la variance expliquée nous fait sélectionner uniquement 3 axes"
   ]
  },
  {
   "cell_type": "code",
   "execution_count": 60,
   "metadata": {},
   "outputs": [
    {
     "data": {
      "text/plain": [
       "<Axes: >"
      ]
     },
     "execution_count": 60,
     "metadata": {},
     "output_type": "execute_result"
    },
    {
     "data": {
      "image/png": "[encoded data removed]",
      "text/plain": [
       "<Figure size 640x480 with 2 Axes>"
      ]
     },
     "metadata": {},
     "output_type": "display_data"
    }
   ],
   "source": [
    "import matplotlib.pyplot as plt\n",
    "analyse = pd.concat([pd.DataFrame(CP_housing[:,0:3], columns = ['CP1', 'CP2','CP3']), housing[[\"CRIM\",\"ZN\",\"INDUS\",\"NOX\",\"RM\",\"AGE\",\"DIS\",\"RAD\",\"TAX\", \"PTRATIO\",\"LSTAT\", \"CHAS\"]]], axis = 1)\n",
    "corr=analyse.corr().loc[[\"CRIM\",\"ZN\",\"INDUS\",\"NOX\",\"RM\",\"AGE\",\"DIS\",\"RAD\",\"TAX\", \"PTRATIO\",\"LSTAT\",\"CHAS\"],[\"CP1\",\"CP2\",\"CP3\"]]\n",
    "plt.figure()\n",
    "sns.heatmap(corr,xticklabels=corr.columns.values,yticklabels=corr.index.values)"
   ]
  },
  {
   "cell_type": "code",
   "execution_count": 61,
   "metadata": {},
   "outputs": [
    {
     "data": {
      "application/vnd.microsoft.datawrangler.viewer.v0+json": {
       "columns": [
        {
         "name": "index",
         "rawType": "object",
         "type": "string"
        },
        {
         "name": "CP1",
         "rawType": "float64",
         "type": "float"
        },
        {
         "name": "CP2",
         "rawType": "float64",
         "type": "float"
        },
        {
         "name": "CP3",
         "rawType": "float64",
         "type": "float"
        }
       ],
       "ref": "5f57b860-cb01-4658-9a5e-39e43dae5d05",
       "rows": [
        [
         "CRIM",
         "0.6103258186351415",
         "-0.323622042080317",
         "0.38266614934804594"
        ],
        [
         "ZN",
         "-0.6484422634097733",
         "-0.29389847490103016",
         "0.3892271587584687"
        ],
        [
         "INDUS",
         "0.8623262757405202",
         "0.1117602371247802",
         "-0.01673544170619464"
        ],
        [
         "NOX",
         "0.8508491254945854",
         "0.2749083426878459",
         "0.08422388408212518"
        ],
        [
         "RM",
         "-0.47700120932391327",
         "0.3236677827726517",
         "0.6105624482210509"
        ],
        [
         "AGE",
         "0.7866728388068609",
         "0.3448653098988342",
         "-0.08119250685620918"
        ],
        [
         "DIS",
         "-0.8044747482403494",
         "-0.4045979250075361",
         "0.015122099879542794"
        ],
        [
         "RAD",
         "0.7827012033289634",
         "-0.27248875041175835",
         "0.44416141815861393"
        ],
        [
         "TAX",
         "0.8316195812382862",
         "-0.2516091451465899",
         "0.3603573721642777"
        ],
        [
         "PTRATIO",
         "0.5114861099507871",
         "-0.4649914961835421",
         "-0.19912378734793515"
        ],
        [
         "LSTAT",
         "0.7658605227388804",
         "-0.1513281160055166",
         "-0.28776989278360654"
        ],
        [
         "CHAS",
         "0.017603366835889662",
         "0.5974770333999372",
         "0.21592142029172728"
        ]
       ],
       "shape": {
        "columns": 3,
        "rows": 12
       }
      },
      "text/html": [
       "<div>\n",
       "<style scoped>\n",
       "    .dataframe tbody tr th:only-of-type {\n",
       "        vertical-align: middle;\n",
       "    }\n",
       "\n",
       "    .dataframe tbody tr th {\n",
       "        vertical-align: top;\n",
       "    }\n",
       "\n",
       "    .dataframe thead th {\n",
       "        text-align: right;\n",
       "    }\n",
       "</style>\n",
       "<table border=\"1\" class=\"dataframe\">\n",
       "  <thead>\n",
       "    <tr style=\"text-align: right;\">\n",
       "      <th></th>\n",
       "      <th>CP1</th>\n",
       "      <th>CP2</th>\n",
       "      <th>CP3</th>\n",
       "    </tr>\n",
       "  </thead>\n",
       "  <tbody>\n",
       "    <tr>\n",
       "      <th>CRIM</th>\n",
       "      <td>0.610326</td>\n",
       "      <td>-0.323622</td>\n",
       "      <td>0.382666</td>\n",
       "    </tr>\n",
       "    <tr>\n",
       "      <th>ZN</th>\n",
       "      <td>-0.648442</td>\n",
       "      <td>-0.293898</td>\n",
       "      <td>0.389227</td>\n",
       "    </tr>\n",
       "    <tr>\n",
       "      <th>INDUS</th>\n",
       "      <td>0.862326</td>\n",
       "      <td>0.111760</td>\n",
       "      <td>-0.016735</td>\n",
       "    </tr>\n",
       "    <tr>\n",
       "      <th>NOX</th>\n",
       "      <td>0.850849</td>\n",
       "      <td>0.274908</td>\n",
       "      <td>0.084224</td>\n",
       "    </tr>\n",
       "    <tr>\n",
       "      <th>RM</th>\n",
       "      <td>-0.477001</td>\n",
       "      <td>0.323668</td>\n",
       "      <td>0.610562</td>\n",
       "    </tr>\n",
       "    <tr>\n",
       "      <th>AGE</th>\n",
       "      <td>0.786673</td>\n",
       "      <td>0.344865</td>\n",
       "      <td>-0.081193</td>\n",
       "    </tr>\n",
       "    <tr>\n",
       "      <th>DIS</th>\n",
       "      <td>-0.804475</td>\n",
       "      <td>-0.404598</td>\n",
       "      <td>0.015122</td>\n",
       "    </tr>\n",
       "    <tr>\n",
       "      <th>RAD</th>\n",
       "      <td>0.782701</td>\n",
       "      <td>-0.272489</td>\n",
       "      <td>0.444161</td>\n",
       "    </tr>\n",
       "    <tr>\n",
       "      <th>TAX</th>\n",
       "      <td>0.831620</td>\n",
       "      <td>-0.251609</td>\n",
       "      <td>0.360357</td>\n",
       "    </tr>\n",
       "    <tr>\n",
       "      <th>PTRATIO</th>\n",
       "      <td>0.511486</td>\n",
       "      <td>-0.464991</td>\n",
       "      <td>-0.199124</td>\n",
       "    </tr>\n",
       "    <tr>\n",
       "      <th>LSTAT</th>\n",
       "      <td>0.765861</td>\n",
       "      <td>-0.151328</td>\n",
       "      <td>-0.287770</td>\n",
       "    </tr>\n",
       "    <tr>\n",
       "      <th>CHAS</th>\n",
       "      <td>0.017603</td>\n",
       "      <td>0.597477</td>\n",
       "      <td>0.215921</td>\n",
       "    </tr>\n",
       "  </tbody>\n",
       "</table>\n",
       "</div>"
      ],
      "text/plain": [
       "              CP1       CP2       CP3\n",
       "CRIM     0.610326 -0.323622  0.382666\n",
       "ZN      -0.648442 -0.293898  0.389227\n",
       "INDUS    0.862326  0.111760 -0.016735\n",
       "NOX      0.850849  0.274908  0.084224\n",
       "RM      -0.477001  0.323668  0.610562\n",
       "AGE      0.786673  0.344865 -0.081193\n",
       "DIS     -0.804475 -0.404598  0.015122\n",
       "RAD      0.782701 -0.272489  0.444161\n",
       "TAX      0.831620 -0.251609  0.360357\n",
       "PTRATIO  0.511486 -0.464991 -0.199124\n",
       "LSTAT    0.765861 -0.151328 -0.287770\n",
       "CHAS     0.017603  0.597477  0.215921"
      ]
     },
     "execution_count": 61,
     "metadata": {},
     "output_type": "execute_result"
    }
   ],
   "source": [
    "corr"
   ]
  },
  {
   "cell_type": "code",
   "execution_count": 62,
   "metadata": {},
   "outputs": [
    {
     "name": "stderr",
     "output_type": "stream",
     "text": [
      "C:\\Users\\wilverde\\AppData\\Local\\Temp\\ipykernel_36956\\2073602907.py:1: FutureWarning: The default of observed=False is deprecated and will be changed to True in a future version of pandas. Pass observed=False to retain current behavior or observed=True to adopt the future default and silence this warning.\n",
      "  housing.groupby(['Valeur_Immo']).mean().T\n"
     ]
    },
    {
     "data": {
      "application/vnd.microsoft.datawrangler.viewer.v0+json": {
       "columns": [
        {
         "name": "index",
         "rawType": "object",
         "type": "string"
        },
        {
         "name": "1.<15k$",
         "rawType": "float64",
         "type": "float"
        },
        {
         "name": "2.15k-25k$",
         "rawType": "float64",
         "type": "float"
        },
        {
         "name": "3.>25k$",
         "rawType": "float64",
         "type": "float"
        }
       ],
       "ref": "5fabf66d-72e1-4bfb-a9e0-8e1f53921378",
       "rows": [
        [
         "CRIM",
         "12.909406170212765",
         "1.8052707913669064",
         "0.8565138636363637"
        ],
        [
         "ZN",
         "0.0",
         "8.93705035971223",
         "24.602272727272727"
        ],
        [
         "INDUS",
         "17.50936170212766",
         "11.235503597122303",
         "6.488484848484848"
        ],
        [
         "CHAS",
         "0.010638297872340425",
         "0.06474820143884892",
         "0.12121212121212122"
        ],
        [
         "NOX",
         "0.6734893617021277",
         "0.5434992805755396",
         "0.49445378787878785"
        ],
        [
         "RM",
         "5.859095744680851",
         "6.082856115107914",
         "7.00939393939394"
        ],
        [
         "AGE",
         "93.76170212765958",
         "66.35683453237411",
         "55.25757575757576"
        ],
        [
         "DIS",
         "2.074043617021277",
         "4.100753956834533",
         "4.3656424242424245"
        ],
        [
         "RAD",
         "19.117021276595743",
         "7.960431654676259",
         "6.204545454545454"
        ],
        [
         "TAX",
         "600.5425531914893",
         "388.0071942446043",
         "316.00757575757575"
        ],
        [
         "PTRATIO",
         "20.00744680851064",
         "18.670143884892088",
         "16.92727272727273"
        ],
        [
         "LSTAT",
         "22.52191489361702",
         "12.446007194244604",
         "6.146060606060606"
        ],
        [
         "MEDV",
         "11.608510638297872",
         "20.47697841726619",
         "34.63787878787878"
        ]
       ],
       "shape": {
        "columns": 3,
        "rows": 13
       }
      },
      "text/html": [
       "<div>\n",
       "<style scoped>\n",
       "    .dataframe tbody tr th:only-of-type {\n",
       "        vertical-align: middle;\n",
       "    }\n",
       "\n",
       "    .dataframe tbody tr th {\n",
       "        vertical-align: top;\n",
       "    }\n",
       "\n",
       "    .dataframe thead th {\n",
       "        text-align: right;\n",
       "    }\n",
       "</style>\n",
       "<table border=\"1\" class=\"dataframe\">\n",
       "  <thead>\n",
       "    <tr style=\"text-align: right;\">\n",
       "      <th>Valeur_Immo</th>\n",
       "      <th>1.&lt;15k$</th>\n",
       "      <th>2.15k-25k$</th>\n",
       "      <th>3.&gt;25k$</th>\n",
       "    </tr>\n",
       "  </thead>\n",
       "  <tbody>\n",
       "    <tr>\n",
       "      <th>CRIM</th>\n",
       "      <td>12.909406</td>\n",
       "      <td>1.805271</td>\n",
       "      <td>0.856514</td>\n",
       "    </tr>\n",
       "    <tr>\n",
       "      <th>ZN</th>\n",
       "      <td>0.000000</td>\n",
       "      <td>8.937050</td>\n",
       "      <td>24.602273</td>\n",
       "    </tr>\n",
       "    <tr>\n",
       "      <th>INDUS</th>\n",
       "      <td>17.509362</td>\n",
       "      <td>11.235504</td>\n",
       "      <td>6.488485</td>\n",
       "    </tr>\n",
       "    <tr>\n",
       "      <th>CHAS</th>\n",
       "      <td>0.010638</td>\n",
       "      <td>0.064748</td>\n",
       "      <td>0.121212</td>\n",
       "    </tr>\n",
       "    <tr>\n",
       "      <th>NOX</th>\n",
       "      <td>0.673489</td>\n",
       "      <td>0.543499</td>\n",
       "      <td>0.494454</td>\n",
       "    </tr>\n",
       "    <tr>\n",
       "      <th>RM</th>\n",
       "      <td>5.859096</td>\n",
       "      <td>6.082856</td>\n",
       "      <td>7.009394</td>\n",
       "    </tr>\n",
       "    <tr>\n",
       "      <th>AGE</th>\n",
       "      <td>93.761702</td>\n",
       "      <td>66.356835</td>\n",
       "      <td>55.257576</td>\n",
       "    </tr>\n",
       "    <tr>\n",
       "      <th>DIS</th>\n",
       "      <td>2.074044</td>\n",
       "      <td>4.100754</td>\n",
       "      <td>4.365642</td>\n",
       "    </tr>\n",
       "    <tr>\n",
       "      <th>RAD</th>\n",
       "      <td>19.117021</td>\n",
       "      <td>7.960432</td>\n",
       "      <td>6.204545</td>\n",
       "    </tr>\n",
       "    <tr>\n",
       "      <th>TAX</th>\n",
       "      <td>600.542553</td>\n",
       "      <td>388.007194</td>\n",
       "      <td>316.007576</td>\n",
       "    </tr>\n",
       "    <tr>\n",
       "      <th>PTRATIO</th>\n",
       "      <td>20.007447</td>\n",
       "      <td>18.670144</td>\n",
       "      <td>16.927273</td>\n",
       "    </tr>\n",
       "    <tr>\n",
       "      <th>LSTAT</th>\n",
       "      <td>22.521915</td>\n",
       "      <td>12.446007</td>\n",
       "      <td>6.146061</td>\n",
       "    </tr>\n",
       "    <tr>\n",
       "      <th>MEDV</th>\n",
       "      <td>11.608511</td>\n",
       "      <td>20.476978</td>\n",
       "      <td>34.637879</td>\n",
       "    </tr>\n",
       "  </tbody>\n",
       "</table>\n",
       "</div>"
      ],
      "text/plain": [
       "Valeur_Immo     1.<15k$  2.15k-25k$     3.>25k$\n",
       "CRIM          12.909406    1.805271    0.856514\n",
       "ZN             0.000000    8.937050   24.602273\n",
       "INDUS         17.509362   11.235504    6.488485\n",
       "CHAS           0.010638    0.064748    0.121212\n",
       "NOX            0.673489    0.543499    0.494454\n",
       "RM             5.859096    6.082856    7.009394\n",
       "AGE           93.761702   66.356835   55.257576\n",
       "DIS            2.074044    4.100754    4.365642\n",
       "RAD           19.117021    7.960432    6.204545\n",
       "TAX          600.542553  388.007194  316.007576\n",
       "PTRATIO       20.007447   18.670144   16.927273\n",
       "LSTAT         22.521915   12.446007    6.146061\n",
       "MEDV          11.608511   20.476978   34.637879"
      ]
     },
     "execution_count": 62,
     "metadata": {},
     "output_type": "execute_result"
    }
   ],
   "source": [
    "housing.groupby(['Valeur_Immo']).mean().T"
   ]
  },
  {
   "cell_type": "markdown",
   "metadata": {},
   "source": [
    "# 3. CLUSTERING MIXTE <a name=\"sect3\" ></a>\n",
    "\n",
    "La classification mixte permet de garder les qualités des méthodes de nuées dynamiques \n",
    "et de la classification hiérarchique en contournant leurs inconvénients.\n",
    "On commence par une k-means pour diminuer la dimension du problème \n",
    "puis on fait une classification hiérarchique sur les centroides."
   ]
  },
  {
   "cell_type": "code",
   "execution_count": 63,
   "metadata": {},
   "outputs": [],
   "source": [
    "from sklearn.cluster import KMeans\n",
    "from sklearn import metrics\n",
    "from scipy.spatial.distance import cdist\n",
    "from scipy import cluster\n",
    "from sklearn.cluster import AgglomerativeClustering"
   ]
  },
  {
   "cell_type": "code",
   "execution_count": 64,
   "metadata": {},
   "outputs": [],
   "source": [
    "# On fait une k-means avec beaucoup de clusters et on récupère les coordonnées des centroides\n",
    "# une bonne pratique est de choisir n^(1/3) -> limite de wong\n",
    "k_means_cent = KMeans(n_clusters = round(len(X)**(1/3)), random_state = 2016).fit(CP_housing[:,0:3])\n",
    "# barycentres des  classes issues de la partition KM\n",
    "centroides = k_means_cent.cluster_centers_"
   ]
  },
  {
   "cell_type": "code",
   "execution_count": 65,
   "metadata": {},
   "outputs": [
    {
     "name": "stdout",
     "output_type": "stream",
     "text": [
      "[[ 2.80521309 -0.34101966  0.91785888]\n",
      " [-2.01031181  0.70862373  0.46230286]\n",
      " [ 1.95344063  1.01512482 -1.19306789]\n",
      " [-3.62881383 -1.0488256   1.02438958]\n",
      " [-0.06188446  0.2934567  -1.04745907]\n",
      " [-0.56002704  2.69337054  0.93191112]\n",
      " [-1.66992932 -0.49205857 -0.68583572]\n",
      " [ 4.19441042 -1.29897011  0.39844868]]\n"
     ]
    }
   ],
   "source": [
    "print(centroides)"
   ]
  },
  {
   "cell_type": "code",
   "execution_count": 66,
   "metadata": {},
   "outputs": [
    {
     "data": {
      "image/png": "[encoded data removed]",
      "text/plain": [
       "<Figure size 640x480 with 1 Axes>"
      ]
     },
     "metadata": {},
     "output_type": "display_data"
    }
   ],
   "source": [
    "# 22 individus fictifs (barycentres)\n",
    "\n",
    "# On trace le dendogramme \n",
    "# étape préliminaire avec la cluster.hierarchy (CAH): bénéfice de pouvoir représenter\n",
    "Z = cluster.hierarchy.linkage(centroides, method='ward', metric='euclidean')\n",
    "plt.figure()\n",
    "\n",
    "plt.title('Hierarchical Clustering Dendrogram', fontsize=18)\n",
    "\n",
    "plt.xlabel('sample index', fontsize=16)\n",
    "\n",
    "plt.ylabel('distance', fontsize=16)\n",
    "dn = cluster.hierarchy.dendrogram(Z, leaf_font_size=12, leaf_rotation=90.)\n"
   ]
  },
  {
   "cell_type": "code",
   "execution_count": 67,
   "metadata": {},
   "outputs": [
    {
     "data": {
      "text/html": [
       "<style>#sk-container-id-3 {\n",
       "  /* Definition of color scheme common for light and dark mode */\n",
       "  --sklearn-color-text: #000;\n",
       "  --sklearn-color-text-muted: #666;\n",
       "  --sklearn-color-line: gray;\n",
       "  /* Definition of color scheme for unfitted estimators */\n",
       "  --sklearn-color-unfitted-level-0: #fff5e6;\n",
       "  --sklearn-color-unfitted-level-1: #f6e4d2;\n",
       "  --sklearn-color-unfitted-level-2: #ffe0b3;\n",
       "  --sklearn-color-unfitted-level-3: chocolate;\n",
       "  /* Definition of color scheme for fitted estimators */\n",
       "  --sklearn-color-fitted-level-0: #f0f8ff;\n",
       "  --sklearn-color-fitted-level-1: #d4ebff;\n",
       "  --sklearn-color-fitted-level-2: #b3dbfd;\n",
       "  --sklearn-color-fitted-level-3: cornflowerblue;\n",
       "\n",
       "  /* Specific color for light theme */\n",
       "  --sklearn-color-text-on-default-background: var(--sg-text-color, var(--theme-code-foreground, var(--jp-content-font-color1, black)));\n",
       "  --sklearn-color-background: var(--sg-background-color, var(--theme-background, var(--jp-layout-color0, white)));\n",
       "  --sklearn-color-border-box: var(--sg-text-color, var(--theme-code-foreground, var(--jp-content-font-color1, black)));\n",
       "  --sklearn-color-icon: #696969;\n",
       "\n",
       "  @media (prefers-color-scheme: dark) {\n",
       "    /* Redefinition of color scheme for dark theme */\n",
       "    --sklearn-color-text-on-default-background: var(--sg-text-color, var(--theme-code-foreground, var(--jp-content-font-color1, white)));\n",
       "    --sklearn-color-background: var(--sg-background-color, var(--theme-background, var(--jp-layout-color0, #111)));\n",
       "    --sklearn-color-border-box: var(--sg-text-color, var(--theme-code-foreground, var(--jp-content-font-color1, white)));\n",
       "    --sklearn-color-icon: #878787;\n",
       "  }\n",
       "}\n",
       "\n",
       "#sk-container-id-3 {\n",
       "  color: var(--sklearn-color-text);\n",
       "}\n",
       "\n",
       "#sk-container-id-3 pre {\n",
       "  padding: 0;\n",
       "}\n",
       "\n",
       "#sk-container-id-3 input.sk-hidden--visually {\n",
       "  border: 0;\n",
       "  clip: rect(1px 1px 1px 1px);\n",
       "  clip: rect(1px, 1px, 1px, 1px);\n",
       "  height: 1px;\n",
       "  margin: -1px;\n",
       "  overflow: hidden;\n",
       "  padding: 0;\n",
       "  position: absolute;\n",
       "  width: 1px;\n",
       "}\n",
       "\n",
       "#sk-container-id-3 div.sk-dashed-wrapped {\n",
       "  border: 1px dashed var(--sklearn-color-line);\n",
       "  margin: 0 0.4em 0.5em 0.4em;\n",
       "  box-sizing: border-box;\n",
       "  padding-bottom: 0.4em;\n",
       "  background-color: var(--sklearn-color-background);\n",
       "}\n",
       "\n",
       "#sk-container-id-3 div.sk-container {\n",
       "  /* jupyter's `normalize.less` sets `[hidden] { display: none; }`\n",
       "     but bootstrap.min.css set `[hidden] { display: none !important; }`\n",
       "     so we also need the `!important` here to be able to override the\n",
       "     default hidden behavior on the sphinx rendered scikit-learn.org.\n",
       "     See: https://github.com/scikit-learn/scikit-learn/issues/21755 */\n",
       "  display: inline-block !important;\n",
       "  position: relative;\n",
       "}\n",
       "\n",
       "#sk-container-id-3 div.sk-text-repr-fallback {\n",
       "  display: none;\n",
       "}\n",
       "\n",
       "div.sk-parallel-item,\n",
       "div.sk-serial,\n",
       "div.sk-item {\n",
       "  /* draw centered vertical line to link estimators */\n",
       "  background-image: linear-gradient(var(--sklearn-color-text-on-default-background), var(--sklearn-color-text-on-default-background));\n",
       "  background-size: 2px 100%;\n",
       "  background-repeat: no-repeat;\n",
       "  background-position: center center;\n",
       "}\n",
       "\n",
       "/* Parallel-specific style estimator block */\n",
       "\n",
       "#sk-container-id-3 div.sk-parallel-item::after {\n",
       "  content: \"\";\n",
       "  width: 100%;\n",
       "  border-bottom: 2px solid var(--sklearn-color-text-on-default-background);\n",
       "  flex-grow: 1;\n",
       "}\n",
       "\n",
       "#sk-container-id-3 div.sk-parallel {\n",
       "  display: flex;\n",
       "  align-items: stretch;\n",
       "  justify-content: center;\n",
       "  background-color: var(--sklearn-color-background);\n",
       "  position: relative;\n",
       "}\n",
       "\n",
       "#sk-container-id-3 div.sk-parallel-item {\n",
       "  display: flex;\n",
       "  flex-direction: column;\n",
       "}\n",
       "\n",
       "#sk-container-id-3 div.sk-parallel-item:first-child::after {\n",
       "  align-self: flex-end;\n",
       "  width: 50%;\n",
       "}\n",
       "\n",
       "#sk-container-id-3 div.sk-parallel-item:last-child::after {\n",
       "  align-self: flex-start;\n",
       "  width: 50%;\n",
       "}\n",
       "\n",
       "#sk-container-id-3 div.sk-parallel-item:only-child::after {\n",
       "  width: 0;\n",
       "}\n",
       "\n",
       "/* Serial-specific style estimator block */\n",
       "\n",
       "#sk-container-id-3 div.sk-serial {\n",
       "  display: flex;\n",
       "  flex-direction: column;\n",
       "  align-items: center;\n",
       "  background-color: var(--sklearn-color-background);\n",
       "  padding-right: 1em;\n",
       "  padding-left: 1em;\n",
       "}\n",
       "\n",
       "\n",
       "/* Toggleable style: style used for estimator/Pipeline/ColumnTransformer box that is\n",
       "clickable and can be expanded/collapsed.\n",
       "- Pipeline and ColumnTransformer use this feature and define the default style\n",
       "- Estimators will overwrite some part of the style using the `sk-estimator` class\n",
       "*/\n",
       "\n",
       "/* Pipeline and ColumnTransformer style (default) */\n",
       "\n",
       "#sk-container-id-3 div.sk-toggleable {\n",
       "  /* Default theme specific background. It is overwritten whether we have a\n",
       "  specific estimator or a Pipeline/ColumnTransformer */\n",
       "  background-color: var(--sklearn-color-background);\n",
       "}\n",
       "\n",
       "/* Toggleable label */\n",
       "#sk-container-id-3 label.sk-toggleable__label {\n",
       "  cursor: pointer;\n",
       "  display: flex;\n",
       "  width: 100%;\n",
       "  margin-bottom: 0;\n",
       "  padding: 0.5em;\n",
       "  box-sizing: border-box;\n",
       "  text-align: center;\n",
       "  align-items: start;\n",
       "  justify-content: space-between;\n",
       "  gap: 0.5em;\n",
       "}\n",
       "\n",
       "#sk-container-id-3 label.sk-toggleable__label .caption {\n",
       "  font-size: 0.6rem;\n",
       "  font-weight: lighter;\n",
       "  color: var(--sklearn-color-text-muted);\n",
       "}\n",
       "\n",
       "#sk-container-id-3 label.sk-toggleable__label-arrow:before {\n",
       "  /* Arrow on the left of the label */\n",
       "  content: \"▸\";\n",
       "  float: left;\n",
       "  margin-right: 0.25em;\n",
       "  color: var(--sklearn-color-icon);\n",
       "}\n",
       "\n",
       "#sk-container-id-3 label.sk-toggleable__label-arrow:hover:before {\n",
       "  color: var(--sklearn-color-text);\n",
       "}\n",
       "\n",
       "/* Toggleable content - dropdown */\n",
       "\n",
       "#sk-container-id-3 div.sk-toggleable__content {\n",
       "  display: none;\n",
       "  text-align: left;\n",
       "  /* unfitted */\n",
       "  background-color: var(--sklearn-color-unfitted-level-0);\n",
       "}\n",
       "\n",
       "#sk-container-id-3 div.sk-toggleable__content.fitted {\n",
       "  /* fitted */\n",
       "  background-color: var(--sklearn-color-fitted-level-0);\n",
       "}\n",
       "\n",
       "#sk-container-id-3 div.sk-toggleable__content pre {\n",
       "  margin: 0.2em;\n",
       "  border-radius: 0.25em;\n",
       "  color: var(--sklearn-color-text);\n",
       "  /* unfitted */\n",
       "  background-color: var(--sklearn-color-unfitted-level-0);\n",
       "}\n",
       "\n",
       "#sk-container-id-3 div.sk-toggleable__content.fitted pre {\n",
       "  /* unfitted */\n",
       "  background-color: var(--sklearn-color-fitted-level-0);\n",
       "}\n",
       "\n",
       "#sk-container-id-3 input.sk-toggleable__control:checked~div.sk-toggleable__content {\n",
       "  /* Expand drop-down */\n",
       "  display: block;\n",
       "  width: 100%;\n",
       "  overflow: visible;\n",
       "}\n",
       "\n",
       "#sk-container-id-3 input.sk-toggleable__control:checked~label.sk-toggleable__label-arrow:before {\n",
       "  content: \"▾\";\n",
       "}\n",
       "\n",
       "/* Pipeline/ColumnTransformer-specific style */\n",
       "\n",
       "#sk-container-id-3 div.sk-label input.sk-toggleable__control:checked~label.sk-toggleable__label {\n",
       "  color: var(--sklearn-color-text);\n",
       "  background-color: var(--sklearn-color-unfitted-level-2);\n",
       "}\n",
       "\n",
       "#sk-container-id-3 div.sk-label.fitted input.sk-toggleable__control:checked~label.sk-toggleable__label {\n",
       "  background-color: var(--sklearn-color-fitted-level-2);\n",
       "}\n",
       "\n",
       "/* Estimator-specific style */\n",
       "\n",
       "/* Colorize estimator box */\n",
       "#sk-container-id-3 div.sk-estimator input.sk-toggleable__control:checked~label.sk-toggleable__label {\n",
       "  /* unfitted */\n",
       "  background-color: var(--sklearn-color-unfitted-level-2);\n",
       "}\n",
       "\n",
       "#sk-container-id-3 div.sk-estimator.fitted input.sk-toggleable__control:checked~label.sk-toggleable__label {\n",
       "  /* fitted */\n",
       "  background-color: var(--sklearn-color-fitted-level-2);\n",
       "}\n",
       "\n",
       "#sk-container-id-3 div.sk-label label.sk-toggleable__label,\n",
       "#sk-container-id-3 div.sk-label label {\n",
       "  /* The background is the default theme color */\n",
       "  color: var(--sklearn-color-text-on-default-background);\n",
       "}\n",
       "\n",
       "/* On hover, darken the color of the background */\n",
       "#sk-container-id-3 div.sk-label:hover label.sk-toggleable__label {\n",
       "  color: var(--sklearn-color-text);\n",
       "  background-color: var(--sklearn-color-unfitted-level-2);\n",
       "}\n",
       "\n",
       "/* Label box, darken color on hover, fitted */\n",
       "#sk-container-id-3 div.sk-label.fitted:hover label.sk-toggleable__label.fitted {\n",
       "  color: var(--sklearn-color-text);\n",
       "  background-color: var(--sklearn-color-fitted-level-2);\n",
       "}\n",
       "\n",
       "/* Estimator label */\n",
       "\n",
       "#sk-container-id-3 div.sk-label label {\n",
       "  font-family: monospace;\n",
       "  font-weight: bold;\n",
       "  display: inline-block;\n",
       "  line-height: 1.2em;\n",
       "}\n",
       "\n",
       "#sk-container-id-3 div.sk-label-container {\n",
       "  text-align: center;\n",
       "}\n",
       "\n",
       "/* Estimator-specific */\n",
       "#sk-container-id-3 div.sk-estimator {\n",
       "  font-family: monospace;\n",
       "  border: 1px dotted var(--sklearn-color-border-box);\n",
       "  border-radius: 0.25em;\n",
       "  box-sizing: border-box;\n",
       "  margin-bottom: 0.5em;\n",
       "  /* unfitted */\n",
       "  background-color: var(--sklearn-color-unfitted-level-0);\n",
       "}\n",
       "\n",
       "#sk-container-id-3 div.sk-estimator.fitted {\n",
       "  /* fitted */\n",
       "  background-color: var(--sklearn-color-fitted-level-0);\n",
       "}\n",
       "\n",
       "/* on hover */\n",
       "#sk-container-id-3 div.sk-estimator:hover {\n",
       "  /* unfitted */\n",
       "  background-color: var(--sklearn-color-unfitted-level-2);\n",
       "}\n",
       "\n",
       "#sk-container-id-3 div.sk-estimator.fitted:hover {\n",
       "  /* fitted */\n",
       "  background-color: var(--sklearn-color-fitted-level-2);\n",
       "}\n",
       "\n",
       "/* Specification for estimator info (e.g. \"i\" and \"?\") */\n",
       "\n",
       "/* Common style for \"i\" and \"?\" */\n",
       "\n",
       ".sk-estimator-doc-link,\n",
       "a:link.sk-estimator-doc-link,\n",
       "a:visited.sk-estimator-doc-link {\n",
       "  float: right;\n",
       "  font-size: smaller;\n",
       "  line-height: 1em;\n",
       "  font-family: monospace;\n",
       "  background-color: var(--sklearn-color-background);\n",
       "  border-radius: 1em;\n",
       "  height: 1em;\n",
       "  width: 1em;\n",
       "  text-decoration: none !important;\n",
       "  margin-left: 0.5em;\n",
       "  text-align: center;\n",
       "  /* unfitted */\n",
       "  border: var(--sklearn-color-unfitted-level-1) 1pt solid;\n",
       "  color: var(--sklearn-color-unfitted-level-1);\n",
       "}\n",
       "\n",
       ".sk-estimator-doc-link.fitted,\n",
       "a:link.sk-estimator-doc-link.fitted,\n",
       "a:visited.sk-estimator-doc-link.fitted {\n",
       "  /* fitted */\n",
       "  border: var(--sklearn-color-fitted-level-1) 1pt solid;\n",
       "  color: var(--sklearn-color-fitted-level-1);\n",
       "}\n",
       "\n",
       "/* On hover */\n",
       "div.sk-estimator:hover .sk-estimator-doc-link:hover,\n",
       ".sk-estimator-doc-link:hover,\n",
       "div.sk-label-container:hover .sk-estimator-doc-link:hover,\n",
       ".sk-estimator-doc-link:hover {\n",
       "  /* unfitted */\n",
       "  background-color: var(--sklearn-color-unfitted-level-3);\n",
       "  color: var(--sklearn-color-background);\n",
       "  text-decoration: none;\n",
       "}\n",
       "\n",
       "div.sk-estimator.fitted:hover .sk-estimator-doc-link.fitted:hover,\n",
       ".sk-estimator-doc-link.fitted:hover,\n",
       "div.sk-label-container:hover .sk-estimator-doc-link.fitted:hover,\n",
       ".sk-estimator-doc-link.fitted:hover {\n",
       "  /* fitted */\n",
       "  background-color: var(--sklearn-color-fitted-level-3);\n",
       "  color: var(--sklearn-color-background);\n",
       "  text-decoration: none;\n",
       "}\n",
       "\n",
       "/* Span, style for the box shown on hovering the info icon */\n",
       ".sk-estimator-doc-link span {\n",
       "  display: none;\n",
       "  z-index: 9999;\n",
       "  position: relative;\n",
       "  font-weight: normal;\n",
       "  right: .2ex;\n",
       "  padding: .5ex;\n",
       "  margin: .5ex;\n",
       "  width: min-content;\n",
       "  min-width: 20ex;\n",
       "  max-width: 50ex;\n",
       "  color: var(--sklearn-color-text);\n",
       "  box-shadow: 2pt 2pt 4pt #999;\n",
       "  /* unfitted */\n",
       "  background: var(--sklearn-color-unfitted-level-0);\n",
       "  border: .5pt solid var(--sklearn-color-unfitted-level-3);\n",
       "}\n",
       "\n",
       ".sk-estimator-doc-link.fitted span {\n",
       "  /* fitted */\n",
       "  background: var(--sklearn-color-fitted-level-0);\n",
       "  border: var(--sklearn-color-fitted-level-3);\n",
       "}\n",
       "\n",
       ".sk-estimator-doc-link:hover span {\n",
       "  display: block;\n",
       "}\n",
       "\n",
       "/* \"?\"-specific style due to the `<a>` HTML tag */\n",
       "\n",
       "#sk-container-id-3 a.estimator_doc_link {\n",
       "  float: right;\n",
       "  font-size: 1rem;\n",
       "  line-height: 1em;\n",
       "  font-family: monospace;\n",
       "  background-color: var(--sklearn-color-background);\n",
       "  border-radius: 1rem;\n",
       "  height: 1rem;\n",
       "  width: 1rem;\n",
       "  text-decoration: none;\n",
       "  /* unfitted */\n",
       "  color: var(--sklearn-color-unfitted-level-1);\n",
       "  border: var(--sklearn-color-unfitted-level-1) 1pt solid;\n",
       "}\n",
       "\n",
       "#sk-container-id-3 a.estimator_doc_link.fitted {\n",
       "  /* fitted */\n",
       "  border: var(--sklearn-color-fitted-level-1) 1pt solid;\n",
       "  color: var(--sklearn-color-fitted-level-1);\n",
       "}\n",
       "\n",
       "/* On hover */\n",
       "#sk-container-id-3 a.estimator_doc_link:hover {\n",
       "  /* unfitted */\n",
       "  background-color: var(--sklearn-color-unfitted-level-3);\n",
       "  color: var(--sklearn-color-background);\n",
       "  text-decoration: none;\n",
       "}\n",
       "\n",
       "#sk-container-id-3 a.estimator_doc_link.fitted:hover {\n",
       "  /* fitted */\n",
       "  background-color: var(--sklearn-color-fitted-level-3);\n",
       "}\n",
       "\n",
       ".estimator-table summary {\n",
       "    padding: .5rem;\n",
       "    font-family: monospace;\n",
       "    cursor: pointer;\n",
       "}\n",
       "\n",
       ".estimator-table details[open] {\n",
       "    padding-left: 0.1rem;\n",
       "    padding-right: 0.1rem;\n",
       "    padding-bottom: 0.3rem;\n",
       "}\n",
       "\n",
       ".estimator-table .parameters-table {\n",
       "    margin-left: auto !important;\n",
       "    margin-right: auto !important;\n",
       "}\n",
       "\n",
       ".estimator-table .parameters-table tr:nth-child(odd) {\n",
       "    background-color: #fff;\n",
       "}\n",
       "\n",
       ".estimator-table .parameters-table tr:nth-child(even) {\n",
       "    background-color: #f6f6f6;\n",
       "}\n",
       "\n",
       ".estimator-table .parameters-table tr:hover {\n",
       "    background-color: #e0e0e0;\n",
       "}\n",
       "\n",
       ".estimator-table table td {\n",
       "    border: 1px solid rgba(106, 105, 104, 0.232);\n",
       "}\n",
       "\n",
       ".user-set td {\n",
       "    color:rgb(255, 94, 0);\n",
       "    text-align: left;\n",
       "}\n",
       "\n",
       ".user-set td.value pre {\n",
       "    color:rgb(255, 94, 0) !important;\n",
       "    background-color: transparent !important;\n",
       "}\n",
       "\n",
       ".default td {\n",
       "    color: black;\n",
       "    text-align: left;\n",
       "}\n",
       "\n",
       ".user-set td i,\n",
       ".default td i {\n",
       "    color: black;\n",
       "}\n",
       "\n",
       ".copy-paste-icon {\n",
       "    background-image: url(data:image/svg+xml;base64,PHN2ZyB4bWxucz0iaHR0cDovL3d3dy53My5vcmcvMjAwMC9zdmciIHZpZXdCb3g9IjAgMCA0NDggNTEyIj48IS0tIUZvbnQgQXdlc29tZSBGcmVlIDYuNy4yIGJ5IEBmb250YXdlc29tZSAtIGh0dHBzOi8vZm9udGF3ZXNvbWUuY29tIExpY2Vuc2UgLSBodHRwczovL2ZvbnRhd2Vzb21lLmNvbS9saWNlbnNlL2ZyZWUgQ29weXJpZ2h0IDIwMjUgRm9udGljb25zLCBJbmMuLS0+PHBhdGggZD0iTTIwOCAwTDMzMi4xIDBjMTIuNyAwIDI0LjkgNS4xIDMzLjkgMTQuMWw2Ny45IDY3LjljOSA5IDE0LjEgMjEuMiAxNC4xIDMzLjlMNDQ4IDMzNmMwIDI2LjUtMjEuNSA0OC00OCA0OGwtMTkyIDBjLTI2LjUgMC00OC0yMS41LTQ4LTQ4bDAtMjg4YzAtMjYuNSAyMS41LTQ4IDQ4LTQ4ek00OCAxMjhsODAgMCAwIDY0LTY0IDAgMCAyNTYgMTkyIDAgMC0zMiA2NCAwIDAgNDhjMCAyNi41LTIxLjUgNDgtNDggNDhMNDggNTEyYy0yNi41IDAtNDgtMjEuNS00OC00OEwwIDE3NmMwLTI2LjUgMjEuNS00OCA0OC00OHoiLz48L3N2Zz4=);\n",
       "    background-repeat: no-repeat;\n",
       "    background-size: 14px 14px;\n",
       "    background-position: 0;\n",
       "    display: inline-block;\n",
       "    width: 14px;\n",
       "    height: 14px;\n",
       "    cursor: pointer;\n",
       "}\n",
       "</style><body><div id=\"sk-container-id-3\" class=\"sk-top-container\"><div class=\"sk-text-repr-fallback\"><pre>AgglomerativeClustering(n_clusters=3)</pre><b>In a Jupyter environment, please rerun this cell to show the HTML representation or trust the notebook. <br />On GitHub, the HTML representation is unable to render, please try loading this page with nbviewer.org.</b></div><div class=\"sk-container\" hidden><div class=\"sk-item\"><div class=\"sk-estimator fitted sk-toggleable\"><input class=\"sk-toggleable__control sk-hidden--visually\" id=\"sk-estimator-id-3\" type=\"checkbox\" checked><label for=\"sk-estimator-id-3\" class=\"sk-toggleable__label fitted sk-toggleable__label-arrow\"><div><div>AgglomerativeClustering</div></div><div><a class=\"sk-estimator-doc-link fitted\" rel=\"noreferrer\" target=\"_blank\" href=\"https://scikit-learn.org/1.7/modules/generated/sklearn.cluster.AgglomerativeClustering.html\">?<span>Documentation for AgglomerativeClustering</span></a><span class=\"sk-estimator-doc-link fitted\">i<span>Fitted</span></span></div></label><div class=\"sk-toggleable__content fitted\" data-param-prefix=\"\">\n",
       "        <div class=\"estimator-table\">\n",
       "            <details>\n",
       "                <summary>Parameters</summary>\n",
       "                <table class=\"parameters-table\">\n",
       "                  <tbody>\n",
       "                    \n",
       "        <tr class=\"user-set\">\n",
       "            <td><i class=\"copy-paste-icon\"\n",
       "                 onclick=\"copyToClipboard('n_clusters',\n",
       "                          this.parentElement.nextElementSibling)\"\n",
       "            ></i></td>\n",
       "            <td class=\"param\">n_clusters&nbsp;</td>\n",
       "            <td class=\"value\">3</td>\n",
       "        </tr>\n",
       "    \n",
       "\n",
       "        <tr class=\"default\">\n",
       "            <td><i class=\"copy-paste-icon\"\n",
       "                 onclick=\"copyToClipboard('metric',\n",
       "                          this.parentElement.nextElementSibling)\"\n",
       "            ></i></td>\n",
       "            <td class=\"param\">metric&nbsp;</td>\n",
       "            <td class=\"value\">&#x27;euclidean&#x27;</td>\n",
       "        </tr>\n",
       "    \n",
       "\n",
       "        <tr class=\"default\">\n",
       "            <td><i class=\"copy-paste-icon\"\n",
       "                 onclick=\"copyToClipboard('memory',\n",
       "                          this.parentElement.nextElementSibling)\"\n",
       "            ></i></td>\n",
       "            <td class=\"param\">memory&nbsp;</td>\n",
       "            <td class=\"value\">None</td>\n",
       "        </tr>\n",
       "    \n",
       "\n",
       "        <tr class=\"default\">\n",
       "            <td><i class=\"copy-paste-icon\"\n",
       "                 onclick=\"copyToClipboard('connectivity',\n",
       "                          this.parentElement.nextElementSibling)\"\n",
       "            ></i></td>\n",
       "            <td class=\"param\">connectivity&nbsp;</td>\n",
       "            <td class=\"value\">None</td>\n",
       "        </tr>\n",
       "    \n",
       "\n",
       "        <tr class=\"default\">\n",
       "            <td><i class=\"copy-paste-icon\"\n",
       "                 onclick=\"copyToClipboard('compute_full_tree',\n",
       "                          this.parentElement.nextElementSibling)\"\n",
       "            ></i></td>\n",
       "            <td class=\"param\">compute_full_tree&nbsp;</td>\n",
       "            <td class=\"value\">&#x27;auto&#x27;</td>\n",
       "        </tr>\n",
       "    \n",
       "\n",
       "        <tr class=\"default\">\n",
       "            <td><i class=\"copy-paste-icon\"\n",
       "                 onclick=\"copyToClipboard('linkage',\n",
       "                          this.parentElement.nextElementSibling)\"\n",
       "            ></i></td>\n",
       "            <td class=\"param\">linkage&nbsp;</td>\n",
       "            <td class=\"value\">&#x27;ward&#x27;</td>\n",
       "        </tr>\n",
       "    \n",
       "\n",
       "        <tr class=\"default\">\n",
       "            <td><i class=\"copy-paste-icon\"\n",
       "                 onclick=\"copyToClipboard('distance_threshold',\n",
       "                          this.parentElement.nextElementSibling)\"\n",
       "            ></i></td>\n",
       "            <td class=\"param\">distance_threshold&nbsp;</td>\n",
       "            <td class=\"value\">None</td>\n",
       "        </tr>\n",
       "    \n",
       "\n",
       "        <tr class=\"default\">\n",
       "            <td><i class=\"copy-paste-icon\"\n",
       "                 onclick=\"copyToClipboard('compute_distances',\n",
       "                          this.parentElement.nextElementSibling)\"\n",
       "            ></i></td>\n",
       "            <td class=\"param\">compute_distances&nbsp;</td>\n",
       "            <td class=\"value\">False</td>\n",
       "        </tr>\n",
       "    \n",
       "                  </tbody>\n",
       "                </table>\n",
       "            </details>\n",
       "        </div>\n",
       "    </div></div></div></div></div><script>function copyToClipboard(text, element) {\n",
       "    // Get the parameter prefix from the closest toggleable content\n",
       "    const toggleableContent = element.closest('.sk-toggleable__content');\n",
       "    const paramPrefix = toggleableContent ? toggleableContent.dataset.paramPrefix : '';\n",
       "    const fullParamName = paramPrefix ? `${paramPrefix}${text}` : text;\n",
       "\n",
       "    const originalStyle = element.style;\n",
       "    const computedStyle = window.getComputedStyle(element);\n",
       "    const originalWidth = computedStyle.width;\n",
       "    const originalHTML = element.innerHTML.replace('Copied!', '');\n",
       "\n",
       "    navigator.clipboard.writeText(fullParamName)\n",
       "        .then(() => {\n",
       "            element.style.width = originalWidth;\n",
       "            element.style.color = 'green';\n",
       "            element.innerHTML = \"Copied!\";\n",
       "\n",
       "            setTimeout(() => {\n",
       "                element.innerHTML = originalHTML;\n",
       "                element.style = originalStyle;\n",
       "            }, 2000);\n",
       "        })\n",
       "        .catch(err => {\n",
       "            console.error('Failed to copy:', err);\n",
       "            element.style.color = 'red';\n",
       "            element.innerHTML = \"Failed!\";\n",
       "            setTimeout(() => {\n",
       "                element.innerHTML = originalHTML;\n",
       "                element.style = originalStyle;\n",
       "            }, 2000);\n",
       "        });\n",
       "    return false;\n",
       "}\n",
       "\n",
       "document.querySelectorAll('.fa-regular.fa-copy').forEach(function(element) {\n",
       "    const toggleableContent = element.closest('.sk-toggleable__content');\n",
       "    const paramPrefix = toggleableContent ? toggleableContent.dataset.paramPrefix : '';\n",
       "    const paramName = element.parentElement.nextElementSibling.textContent.trim();\n",
       "    const fullParamName = paramPrefix ? `${paramPrefix}${paramName}` : paramName;\n",
       "\n",
       "    element.setAttribute('title', fullParamName);\n",
       "});\n",
       "</script></body>"
      ],
      "text/plain": [
       "AgglomerativeClustering(n_clusters=3)"
      ]
     },
     "execution_count": 67,
     "metadata": {},
     "output_type": "execute_result"
    }
   ],
   "source": [
    "# etape partitionner par rapport au nombre = 3 ou 4\n",
    "# On peut ensuite réaliser le clustering à l'aide de scikit-learn\n",
    "hac_cent = AgglomerativeClustering(n_clusters = 3, metric = 'euclidean', linkage = 'ward')\n",
    "hac_cent.fit(centroides)"
   ]
  },
  {
   "cell_type": "code",
   "execution_count": 68,
   "metadata": {},
   "outputs": [
    {
     "data": {
      "application/vnd.microsoft.datawrangler.viewer.v0+json": {
       "columns": [
        {
         "name": "index",
         "rawType": "int64",
         "type": "integer"
        },
        {
         "name": "index",
         "rawType": "int64",
         "type": "integer"
        },
        {
         "name": "K-means_cent",
         "rawType": "int32",
         "type": "integer"
        }
       ],
       "ref": "1aa420ff-7d12-4ead-b27e-81c8f3520c4e",
       "rows": [
        [
         "0",
         "0",
         "1"
        ],
        [
         "1",
         "1",
         "1"
        ],
        [
         "2",
         "2",
         "1"
        ],
        [
         "3",
         "3",
         "6"
        ],
        [
         "4",
         "4",
         "6"
        ],
        [
         "5",
         "5",
         "4"
        ],
        [
         "6",
         "6",
         "4"
        ],
        [
         "7",
         "7",
         "6"
        ],
        [
         "8",
         "8",
         "4"
        ],
        [
         "9",
         "9",
         "6"
        ],
        [
         "10",
         "10",
         "6"
        ],
        [
         "11",
         "11",
         "4"
        ],
        [
         "12",
         "12",
         "4"
        ],
        [
         "13",
         "13",
         "4"
        ],
        [
         "14",
         "14",
         "6"
        ],
        [
         "15",
         "15",
         "4"
        ],
        [
         "16",
         "16",
         "4"
        ],
        [
         "17",
         "17",
         "4"
        ],
        [
         "18",
         "18",
         "4"
        ],
        [
         "19",
         "19",
         "4"
        ],
        [
         "20",
         "20",
         "4"
        ],
        [
         "21",
         "21",
         "4"
        ],
        [
         "22",
         "22",
         "4"
        ],
        [
         "23",
         "23",
         "4"
        ],
        [
         "24",
         "24",
         "4"
        ],
        [
         "25",
         "25",
         "4"
        ],
        [
         "26",
         "26",
         "4"
        ],
        [
         "27",
         "27",
         "4"
        ],
        [
         "28",
         "28",
         "4"
        ],
        [
         "29",
         "29",
         "4"
        ],
        [
         "30",
         "30",
         "4"
        ],
        [
         "31",
         "31",
         "4"
        ],
        [
         "32",
         "32",
         "4"
        ],
        [
         "33",
         "33",
         "4"
        ],
        [
         "34",
         "34",
         "4"
        ],
        [
         "35",
         "35",
         "6"
        ],
        [
         "36",
         "36",
         "6"
        ],
        [
         "37",
         "37",
         "3"
        ],
        [
         "38",
         "38",
         "3"
        ],
        [
         "39",
         "39",
         "6"
        ],
        [
         "40",
         "40",
         "6"
        ],
        [
         "41",
         "41",
         "6"
        ],
        [
         "42",
         "42",
         "6"
        ],
        [
         "43",
         "43",
         "6"
        ],
        [
         "44",
         "44",
         "6"
        ],
        [
         "45",
         "45",
         "4"
        ],
        [
         "46",
         "46",
         "4"
        ],
        [
         "47",
         "47",
         "6"
        ],
        [
         "48",
         "48",
         "6"
        ],
        [
         "49",
         "49",
         "6"
        ]
       ],
       "shape": {
        "columns": 2,
        "rows": 504
       }
      },
      "text/html": [
       "<div>\n",
       "<style scoped>\n",
       "    .dataframe tbody tr th:only-of-type {\n",
       "        vertical-align: middle;\n",
       "    }\n",
       "\n",
       "    .dataframe tbody tr th {\n",
       "        vertical-align: top;\n",
       "    }\n",
       "\n",
       "    .dataframe thead th {\n",
       "        text-align: right;\n",
       "    }\n",
       "</style>\n",
       "<table border=\"1\" class=\"dataframe\">\n",
       "  <thead>\n",
       "    <tr style=\"text-align: right;\">\n",
       "      <th></th>\n",
       "      <th>index</th>\n",
       "      <th>K-means_cent</th>\n",
       "    </tr>\n",
       "  </thead>\n",
       "  <tbody>\n",
       "    <tr>\n",
       "      <th>0</th>\n",
       "      <td>0</td>\n",
       "      <td>1</td>\n",
       "    </tr>\n",
       "    <tr>\n",
       "      <th>1</th>\n",
       "      <td>1</td>\n",
       "      <td>1</td>\n",
       "    </tr>\n",
       "    <tr>\n",
       "      <th>2</th>\n",
       "      <td>2</td>\n",
       "      <td>1</td>\n",
       "    </tr>\n",
       "    <tr>\n",
       "      <th>3</th>\n",
       "      <td>3</td>\n",
       "      <td>6</td>\n",
       "    </tr>\n",
       "    <tr>\n",
       "      <th>4</th>\n",
       "      <td>4</td>\n",
       "      <td>6</td>\n",
       "    </tr>\n",
       "    <tr>\n",
       "      <th>...</th>\n",
       "      <td>...</td>\n",
       "      <td>...</td>\n",
       "    </tr>\n",
       "    <tr>\n",
       "      <th>499</th>\n",
       "      <td>499</td>\n",
       "      <td>4</td>\n",
       "    </tr>\n",
       "    <tr>\n",
       "      <th>500</th>\n",
       "      <td>500</td>\n",
       "      <td>4</td>\n",
       "    </tr>\n",
       "    <tr>\n",
       "      <th>501</th>\n",
       "      <td>501</td>\n",
       "      <td>4</td>\n",
       "    </tr>\n",
       "    <tr>\n",
       "      <th>502</th>\n",
       "      <td>502</td>\n",
       "      <td>4</td>\n",
       "    </tr>\n",
       "    <tr>\n",
       "      <th>503</th>\n",
       "      <td>503</td>\n",
       "      <td>4</td>\n",
       "    </tr>\n",
       "  </tbody>\n",
       "</table>\n",
       "<p>504 rows × 2 columns</p>\n",
       "</div>"
      ],
      "text/plain": [
       "     index  K-means_cent\n",
       "0        0             1\n",
       "1        1             1\n",
       "2        2             1\n",
       "3        3             6\n",
       "4        4             6\n",
       "..     ...           ...\n",
       "499    499             4\n",
       "500    500             4\n",
       "501    501             4\n",
       "502    502             4\n",
       "503    503             4\n",
       "\n",
       "[504 rows x 2 columns]"
      ]
     },
     "execution_count": 68,
     "metadata": {},
     "output_type": "execute_result"
    }
   ],
   "source": [
    "# On récupère le cluster assigné lors du K-means puis lors du CAH pour avoir un cluster final pour chaque observation\n",
    "kmeans_cent_df = pd.DataFrame(k_means_cent.labels_, columns = ['K-means_cent']).reset_index()\n",
    "kmeans_cent_df"
   ]
  },
  {
   "cell_type": "code",
   "execution_count": 69,
   "metadata": {},
   "outputs": [
    {
     "data": {
      "application/vnd.microsoft.datawrangler.viewer.v0+json": {
       "columns": [
        {
         "name": "K-means_cent",
         "rawType": "int32",
         "type": "integer"
        },
        {
         "name": "count",
         "rawType": "int64",
         "type": "integer"
        }
       ],
       "ref": "b2d0939e-5459-44a1-9169-b18ce506724d",
       "rows": [
        [
         "4",
         "98"
        ],
        [
         "6",
         "95"
        ],
        [
         "0",
         "94"
        ],
        [
         "3",
         "61"
        ],
        [
         "1",
         "46"
        ],
        [
         "2",
         "40"
        ],
        [
         "7",
         "37"
        ],
        [
         "5",
         "33"
        ]
       ],
       "shape": {
        "columns": 1,
        "rows": 8
       }
      },
      "text/plain": [
       "K-means_cent\n",
       "4    98\n",
       "6    95\n",
       "0    94\n",
       "3    61\n",
       "1    46\n",
       "2    40\n",
       "7    37\n",
       "5    33\n",
       "Name: count, dtype: int64"
      ]
     },
     "execution_count": 69,
     "metadata": {},
     "output_type": "execute_result"
    }
   ],
   "source": [
    "kmeans_cent_df['K-means_cent'].value_counts()"
   ]
  },
  {
   "cell_type": "code",
   "execution_count": 70,
   "metadata": {},
   "outputs": [
    {
     "data": {
      "application/vnd.microsoft.datawrangler.viewer.v0+json": {
       "columns": [
        {
         "name": "index",
         "rawType": "int64",
         "type": "integer"
        },
        {
         "name": "index",
         "rawType": "int64",
         "type": "integer"
        },
        {
         "name": "Typologie",
         "rawType": "int64",
         "type": "integer"
        }
       ],
       "ref": "3dbc8c61-0a39-4dc2-bd4f-19ce01992b75",
       "rows": [
        [
         "2",
         "2",
         "0"
        ],
        [
         "4",
         "4",
         "0"
        ],
        [
         "5",
         "5",
         "0"
        ],
        [
         "0",
         "0",
         "1"
        ],
        [
         "7",
         "7",
         "1"
        ],
        [
         "1",
         "1",
         "2"
        ],
        [
         "3",
         "3",
         "2"
        ],
        [
         "6",
         "6",
         "2"
        ]
       ],
       "shape": {
        "columns": 2,
        "rows": 8
       }
      },
      "text/html": [
       "<div>\n",
       "<style scoped>\n",
       "    .dataframe tbody tr th:only-of-type {\n",
       "        vertical-align: middle;\n",
       "    }\n",
       "\n",
       "    .dataframe tbody tr th {\n",
       "        vertical-align: top;\n",
       "    }\n",
       "\n",
       "    .dataframe thead th {\n",
       "        text-align: right;\n",
       "    }\n",
       "</style>\n",
       "<table border=\"1\" class=\"dataframe\">\n",
       "  <thead>\n",
       "    <tr style=\"text-align: right;\">\n",
       "      <th></th>\n",
       "      <th>index</th>\n",
       "      <th>Typologie</th>\n",
       "    </tr>\n",
       "  </thead>\n",
       "  <tbody>\n",
       "    <tr>\n",
       "      <th>2</th>\n",
       "      <td>2</td>\n",
       "      <td>0</td>\n",
       "    </tr>\n",
       "    <tr>\n",
       "      <th>4</th>\n",
       "      <td>4</td>\n",
       "      <td>0</td>\n",
       "    </tr>\n",
       "    <tr>\n",
       "      <th>5</th>\n",
       "      <td>5</td>\n",
       "      <td>0</td>\n",
       "    </tr>\n",
       "    <tr>\n",
       "      <th>0</th>\n",
       "      <td>0</td>\n",
       "      <td>1</td>\n",
       "    </tr>\n",
       "    <tr>\n",
       "      <th>7</th>\n",
       "      <td>7</td>\n",
       "      <td>1</td>\n",
       "    </tr>\n",
       "    <tr>\n",
       "      <th>1</th>\n",
       "      <td>1</td>\n",
       "      <td>2</td>\n",
       "    </tr>\n",
       "    <tr>\n",
       "      <th>3</th>\n",
       "      <td>3</td>\n",
       "      <td>2</td>\n",
       "    </tr>\n",
       "    <tr>\n",
       "      <th>6</th>\n",
       "      <td>6</td>\n",
       "      <td>2</td>\n",
       "    </tr>\n",
       "  </tbody>\n",
       "</table>\n",
       "</div>"
      ],
      "text/plain": [
       "   index  Typologie\n",
       "2      2          0\n",
       "4      4          0\n",
       "5      5          0\n",
       "0      0          1\n",
       "7      7          1\n",
       "1      1          2\n",
       "3      3          2\n",
       "6      6          2"
      ]
     },
     "execution_count": 70,
     "metadata": {},
     "output_type": "execute_result"
    }
   ],
   "source": [
    "hac_cent_df = pd.DataFrame(hac_cent.labels_, columns = ['Typologie']).reset_index()\n",
    "hac_cent_df.sort_values(['Typologie'])"
   ]
  },
  {
   "cell_type": "code",
   "execution_count": 71,
   "metadata": {},
   "outputs": [],
   "source": [
    "cluster_cent = pd.merge(kmeans_cent_df, hac_cent_df, left_on=['K-means_cent'], right_on=['index'], how='left')\n",
    "cluster_cent = cluster_cent.drop(['K-means_cent','index_y'], axis =1)"
   ]
  },
  {
   "cell_type": "code",
   "execution_count": 72,
   "metadata": {},
   "outputs": [
    {
     "name": "stdout",
     "output_type": "stream",
     "text": [
      "Typologie\n",
      "2    202\n",
      "0    171\n",
      "1    131\n",
      "Name: count, dtype: int64\n",
      "Typologie\n",
      "2    0.400794\n",
      "0    0.339286\n",
      "1    0.259921\n",
      "Name: proportion, dtype: float64\n"
     ]
    }
   ],
   "source": [
    "print(cluster_cent['Typologie'].value_counts())\n",
    "print(cluster_cent['Typologie'].value_counts(normalize=True))\n"
   ]
  },
  {
   "cell_type": "code",
   "execution_count": 73,
   "metadata": {},
   "outputs": [],
   "source": [
    "# Jointure finale avec tous les \n",
    "typologie = pd.merge(left=housing, right=cluster_cent, how='inner',left_index=True, right_index=True)"
   ]
  },
  {
   "cell_type": "markdown",
   "metadata": {},
   "source": [
    "# 4. Portraits Robots <a name=\"sect4\" ></a> "
   ]
  },
  {
   "cell_type": "code",
   "execution_count": 74,
   "metadata": {},
   "outputs": [
    {
     "data": {
      "application/vnd.microsoft.datawrangler.viewer.v0+json": {
       "columns": [
        {
         "name": "index",
         "rawType": "object",
         "type": "string"
        },
        {
         "name": "0",
         "rawType": "float64",
         "type": "float"
        },
        {
         "name": "1",
         "rawType": "float64",
         "type": "float"
        },
        {
         "name": "2",
         "rawType": "float64",
         "type": "float"
        }
       ],
       "ref": "4394f580-9875-40c6-b234-a02b3368207b",
       "rows": [
        [
         "CRIM",
         "0.7348732748538012",
         "12.830168854961832",
         "0.10888039603960395"
        ],
        [
         "ZN",
         "1.9035087719298245",
         "0.0",
         "26.764851485148515"
        ],
        [
         "INDUS",
         "12.876725146198831",
         "18.1",
         "5.211930693069307"
        ],
        [
         "CHAS",
         "0.13450292397660818",
         "0.05343511450381679",
         "0.024752475247524754"
        ],
        [
         "NOX",
         "0.5884204678362573",
         "0.6720687022900763",
         "0.45053366336633666"
        ],
        [
         "RM",
         "6.172760233918128",
         "6.001099236641221",
         "6.56110396039604"
        ],
        [
         "AGE",
         "84.23801169590644",
         "89.85801526717557",
         "41.47871287128713"
        ],
        [
         "DIS",
         "2.834305847953216",
         "2.062448854961832",
         "5.7246900990099014"
        ],
        [
         "RAD",
         "4.7251461988304095",
         "24.0",
         "4.341584158415841"
        ],
        [
         "TAX",
         "351.0175438596491",
         "666.0",
         "290.8910891089109"
        ],
        [
         "PTRATIO",
         "18.1093567251462",
         "20.2",
         "17.636138613861387"
        ],
        [
         "LSTAT",
         "14.207719298245614",
         "18.702213740458014",
         "7.469405940594059"
        ],
        [
         "MEDV",
         "21.846783625730996",
         "16.361832061068704",
         "27.112871287128712"
        ]
       ],
       "shape": {
        "columns": 3,
        "rows": 13
       }
      },
      "text/html": [
       "<div>\n",
       "<style scoped>\n",
       "    .dataframe tbody tr th:only-of-type {\n",
       "        vertical-align: middle;\n",
       "    }\n",
       "\n",
       "    .dataframe tbody tr th {\n",
       "        vertical-align: top;\n",
       "    }\n",
       "\n",
       "    .dataframe thead th {\n",
       "        text-align: right;\n",
       "    }\n",
       "</style>\n",
       "<table border=\"1\" class=\"dataframe\">\n",
       "  <thead>\n",
       "    <tr style=\"text-align: right;\">\n",
       "      <th>Typologie</th>\n",
       "      <th>0</th>\n",
       "      <th>1</th>\n",
       "      <th>2</th>\n",
       "    </tr>\n",
       "  </thead>\n",
       "  <tbody>\n",
       "    <tr>\n",
       "      <th>CRIM</th>\n",
       "      <td>0.734873</td>\n",
       "      <td>12.830169</td>\n",
       "      <td>0.108880</td>\n",
       "    </tr>\n",
       "    <tr>\n",
       "      <th>ZN</th>\n",
       "      <td>1.903509</td>\n",
       "      <td>0.000000</td>\n",
       "      <td>26.764851</td>\n",
       "    </tr>\n",
       "    <tr>\n",
       "      <th>INDUS</th>\n",
       "      <td>12.876725</td>\n",
       "      <td>18.100000</td>\n",
       "      <td>5.211931</td>\n",
       "    </tr>\n",
       "    <tr>\n",
       "      <th>CHAS</th>\n",
       "      <td>0.134503</td>\n",
       "      <td>0.053435</td>\n",
       "      <td>0.024752</td>\n",
       "    </tr>\n",
       "    <tr>\n",
       "      <th>NOX</th>\n",
       "      <td>0.588420</td>\n",
       "      <td>0.672069</td>\n",
       "      <td>0.450534</td>\n",
       "    </tr>\n",
       "    <tr>\n",
       "      <th>RM</th>\n",
       "      <td>6.172760</td>\n",
       "      <td>6.001099</td>\n",
       "      <td>6.561104</td>\n",
       "    </tr>\n",
       "    <tr>\n",
       "      <th>AGE</th>\n",
       "      <td>84.238012</td>\n",
       "      <td>89.858015</td>\n",
       "      <td>41.478713</td>\n",
       "    </tr>\n",
       "    <tr>\n",
       "      <th>DIS</th>\n",
       "      <td>2.834306</td>\n",
       "      <td>2.062449</td>\n",
       "      <td>5.724690</td>\n",
       "    </tr>\n",
       "    <tr>\n",
       "      <th>RAD</th>\n",
       "      <td>4.725146</td>\n",
       "      <td>24.000000</td>\n",
       "      <td>4.341584</td>\n",
       "    </tr>\n",
       "    <tr>\n",
       "      <th>TAX</th>\n",
       "      <td>351.017544</td>\n",
       "      <td>666.000000</td>\n",
       "      <td>290.891089</td>\n",
       "    </tr>\n",
       "    <tr>\n",
       "      <th>PTRATIO</th>\n",
       "      <td>18.109357</td>\n",
       "      <td>20.200000</td>\n",
       "      <td>17.636139</td>\n",
       "    </tr>\n",
       "    <tr>\n",
       "      <th>LSTAT</th>\n",
       "      <td>14.207719</td>\n",
       "      <td>18.702214</td>\n",
       "      <td>7.469406</td>\n",
       "    </tr>\n",
       "    <tr>\n",
       "      <th>MEDV</th>\n",
       "      <td>21.846784</td>\n",
       "      <td>16.361832</td>\n",
       "      <td>27.112871</td>\n",
       "    </tr>\n",
       "  </tbody>\n",
       "</table>\n",
       "</div>"
      ],
      "text/plain": [
       "Typologie           0           1           2\n",
       "CRIM         0.734873   12.830169    0.108880\n",
       "ZN           1.903509    0.000000   26.764851\n",
       "INDUS       12.876725   18.100000    5.211931\n",
       "CHAS         0.134503    0.053435    0.024752\n",
       "NOX          0.588420    0.672069    0.450534\n",
       "RM           6.172760    6.001099    6.561104\n",
       "AGE         84.238012   89.858015   41.478713\n",
       "DIS          2.834306    2.062449    5.724690\n",
       "RAD          4.725146   24.000000    4.341584\n",
       "TAX        351.017544  666.000000  290.891089\n",
       "PTRATIO     18.109357   20.200000   17.636139\n",
       "LSTAT       14.207719   18.702214    7.469406\n",
       "MEDV        21.846784   16.361832   27.112871"
      ]
     },
     "execution_count": 74,
     "metadata": {},
     "output_type": "execute_result"
    }
   ],
   "source": [
    "#Pour chaque cluster, on calcule la moyenne des variables quantitatives\n",
    "# et la proportion des variables qualitatives. On peut ainsi voir en quels domaines les clusters se différencient. Ci-dessous le portrait robot de la classification mixte :\n",
    "\n",
    "# Variables quanti : moyenne de la variable\n",
    "# le index =false permet que le resultat reprenne bien les var en group by\n",
    "stats=typologie.groupby(['Typologie'])[[\"CRIM\",\"ZN\",\"INDUS\",\"CHAS\",\"NOX\",\"RM\",\"AGE\",\"DIS\",\"RAD\",\"TAX\", \"PTRATIO\",\"LSTAT\",\"MEDV\"]].mean()\n",
    "stats.T"
   ]
  },
  {
   "cell_type": "code",
   "execution_count": 75,
   "metadata": {},
   "outputs": [
    {
     "data": {
      "application/vnd.microsoft.datawrangler.viewer.v0+json": {
       "columns": [
        {
         "name": "Typologie",
         "rawType": "int64",
         "type": "integer"
        },
        {
         "name": "1.<15k$",
         "rawType": "float64",
         "type": "float"
        },
        {
         "name": "2.15k-25k$",
         "rawType": "float64",
         "type": "float"
        },
        {
         "name": "3.>25k$",
         "rawType": "float64",
         "type": "float"
        }
       ],
       "ref": "55a2e567-6189-4cae-be17-fb93eb1d9708",
       "rows": [
        [
         "0",
         "0.24468085106382978",
         "0.4244604316546763",
         "0.22727272727272727"
        ],
        [
         "1",
         "0.7553191489361702",
         "0.17625899280575538",
         "0.08333333333333333"
        ],
        [
         "2",
         "0.0",
         "0.39928057553956836",
         "0.6893939393939394"
        ]
       ],
       "shape": {
        "columns": 3,
        "rows": 3
       }
      },
      "text/html": [
       "<div>\n",
       "<style scoped>\n",
       "    .dataframe tbody tr th:only-of-type {\n",
       "        vertical-align: middle;\n",
       "    }\n",
       "\n",
       "    .dataframe tbody tr th {\n",
       "        vertical-align: top;\n",
       "    }\n",
       "\n",
       "    .dataframe thead th {\n",
       "        text-align: right;\n",
       "    }\n",
       "</style>\n",
       "<table border=\"1\" class=\"dataframe\">\n",
       "  <thead>\n",
       "    <tr style=\"text-align: right;\">\n",
       "      <th>Valeur_Immo</th>\n",
       "      <th>1.&lt;15k$</th>\n",
       "      <th>2.15k-25k$</th>\n",
       "      <th>3.&gt;25k$</th>\n",
       "    </tr>\n",
       "    <tr>\n",
       "      <th>Typologie</th>\n",
       "      <th></th>\n",
       "      <th></th>\n",
       "      <th></th>\n",
       "    </tr>\n",
       "  </thead>\n",
       "  <tbody>\n",
       "    <tr>\n",
       "      <th>0</th>\n",
       "      <td>0.244681</td>\n",
       "      <td>0.424460</td>\n",
       "      <td>0.227273</td>\n",
       "    </tr>\n",
       "    <tr>\n",
       "      <th>1</th>\n",
       "      <td>0.755319</td>\n",
       "      <td>0.176259</td>\n",
       "      <td>0.083333</td>\n",
       "    </tr>\n",
       "    <tr>\n",
       "      <th>2</th>\n",
       "      <td>0.000000</td>\n",
       "      <td>0.399281</td>\n",
       "      <td>0.689394</td>\n",
       "    </tr>\n",
       "  </tbody>\n",
       "</table>\n",
       "</div>"
      ],
      "text/plain": [
       "Valeur_Immo   1.<15k$  2.15k-25k$   3.>25k$\n",
       "Typologie                                  \n",
       "0            0.244681    0.424460  0.227273\n",
       "1            0.755319    0.176259  0.083333\n",
       "2            0.000000    0.399281  0.689394"
      ]
     },
     "execution_count": 75,
     "metadata": {},
     "output_type": "execute_result"
    }
   ],
   "source": [
    "pd.crosstab(typologie['Typologie'], typologie['Valeur_Immo'], normalize='columns')"
   ]
  },
  {
   "cell_type": "markdown",
   "metadata": {},
   "source": [
    "#### UTILISER UNE FONCTION DE PORTRAITS ROBOTS\n",
    "\n",
    "cette fonction permet de calculer les P-values du t-test"
   ]
  },
  {
   "cell_type": "code",
   "execution_count": 76,
   "metadata": {},
   "outputs": [],
   "source": [
    "os.chdir(\"../modules/\")\n",
    "from portraits_robots_quanti import portraits_robot_quanti\n",
    "from pouvoir_discriminant import pouvoir_discriminant"
   ]
  },
  {
   "cell_type": "code",
   "execution_count": 77,
   "metadata": {},
   "outputs": [
    {
     "name": "stderr",
     "output_type": "stream",
     "text": [
      "c:\\Users\\wilverde\\Workspace\\form_python_ML\\.venv\\Lib\\site-packages\\scipy\\stats\\_axis_nan_policy.py:579: RuntimeWarning: Precision loss occurred in moment calculation due to catastrophic cancellation. This occurs when the data are nearly identical. Results may be unreliable.\n",
      "  res = hypotest_fun_out(*samples, **kwds)\n"
     ]
    },
    {
     "data": {
      "application/vnd.microsoft.datawrangler.viewer.v0+json": {
       "columns": [
        {
         "name": "index",
         "rawType": "int64",
         "type": "integer"
        },
        {
         "name": "index",
         "rawType": "float64",
         "type": "float"
        },
        {
         "name": "VARIABLE",
         "rawType": "object",
         "type": "string"
        },
        {
         "name": "p-value_0",
         "rawType": "object",
         "type": "unknown"
        },
        {
         "name": "p-value_1",
         "rawType": "object",
         "type": "unknown"
        },
        {
         "name": "p-value_2",
         "rawType": "object",
         "type": "unknown"
        },
        {
         "name": "y_0",
         "rawType": "float64",
         "type": "float"
        },
        {
         "name": "y_1",
         "rawType": "float64",
         "type": "float"
        },
        {
         "name": "y_2",
         "rawType": "float64",
         "type": "float"
        },
        {
         "name": "y_All",
         "rawType": "float64",
         "type": "float"
        }
       ],
       "ref": "4604f965-7e18-4cf6-950a-50656ca61d7a",
       "rows": [
        [
         "3",
         "0.0",
         "CRIM",
         "4.385798680329441e-08",
         "6.2704921971601766e-58",
         "1.2487667183047942e-14",
         "0.7348732748538012",
         "12.830168854961832",
         "0.10888039603960395",
         "3.6277962103174604"
        ],
        [
         "13",
         "1.0",
         "ZN",
         "2.8198865952961248e-11",
         "3.8782830021147996e-11",
         "2.1888865402017545e-39",
         "1.9035087719298245",
         "0.0",
         "26.764851485148515",
         "11.373015873015873"
        ],
        [
         "5",
         "2.0",
         "INDUS",
         "5.1859514332546706e-05",
         "1.3867796252761175e-50",
         "1.6446202181550744e-78",
         "12.876725146198831",
         "18.1",
         "5.211930693069307",
         "11.16236111111111"
        ],
        [
         "2",
         "3.0",
         "CHAS",
         "3.4400331567336686e-05",
         "0.403106032515102",
         "0.0012089037585518215",
         "0.13450292397660818",
         "0.05343511450381679",
         "0.024752475247524754",
         "0.06944444444444445"
        ],
        [
         "8",
         "4.0",
         "NOX",
         "2.712649438414387e-06",
         "2.143812754366151e-50",
         "3.44277810121605e-87",
         "0.5884204678362573",
         "0.6720687022900763",
         "0.45053366336633666",
         "0.5548982142857142"
        ],
        [
         "11",
         "5.0",
         "RM",
         "0.011021110634243167",
         "6.179414069707791e-08",
         "1.1502362788071568e-13",
         "6.172760233918128",
         "6.001099236641221",
         "6.56110396039604",
         "6.283787698412698"
        ],
        [
         "1",
         "6.0",
         "AGE",
         "1.1722612714153574e-20",
         "3.001185450901227e-26",
         "5.2770970878839025e-107",
         "84.23801169590644",
         "89.85801526717557",
         "41.47871287128713",
         "68.56111111111112"
        ],
        [
         "4",
         "7.0",
         "DIS",
         "6.367460160898843e-14",
         "2.6548433417948406e-31",
         "3.345933311615818e-92",
         "2.834305847953216",
         "2.062448854961832",
         "5.7246900990099014",
         "3.7921319444444443"
        ],
        [
         "10",
         "8.0",
         "RAD",
         "8.800765601162944e-21",
         "0.0",
         "3.7324258900040607e-32",
         "4.7251461988304095",
         "24.0",
         "4.341584158415841",
         "9.581349206349206"
        ],
        [
         "12",
         "9.0",
         "TAX",
         "2.2819232838649705e-08",
         "2.9327420963444696e-188",
         "3.3705163303652583e-45",
         "351.0175438596491",
         "666.0",
         "290.8910891089109",
         "408.78968253968253"
        ],
        [
         "9",
         "10.0",
         "PTRATIO",
         "0.00842960436691486",
         "7.230570959731342e-30",
         "6.698072491360769e-13",
         "18.1093567251462",
         "20.2",
         "17.636138613861387",
         "18.46309523809524"
        ],
        [
         "6",
         "11.0",
         "LSTAT",
         "0.0005285998594078618",
         "2.731514004351328e-33",
         "7.021105912753794e-50",
         "14.207719298245614",
         "18.702213740458014",
         "7.469405940594059",
         "12.675257936507936"
        ],
        [
         "7",
         "12.0",
         "MEDV",
         "0.23213727037344167",
         "1.7088148149100725e-20",
         "1.576577506023235e-21",
         "21.846783625730996",
         "16.361832061068704",
         "27.112871287128712",
         "22.53174603174603"
        ],
        [
         "0",
         null,
         "Effectif",
         null,
         null,
         null,
         "171.0",
         "131.0",
         "202.0",
         "504.0"
        ]
       ],
       "shape": {
        "columns": 9,
        "rows": 14
       }
      },
      "text/html": [
       "<div>\n",
       "<style scoped>\n",
       "    .dataframe tbody tr th:only-of-type {\n",
       "        vertical-align: middle;\n",
       "    }\n",
       "\n",
       "    .dataframe tbody tr th {\n",
       "        vertical-align: top;\n",
       "    }\n",
       "\n",
       "    .dataframe thead th {\n",
       "        text-align: right;\n",
       "    }\n",
       "</style>\n",
       "<table border=\"1\" class=\"dataframe\">\n",
       "  <thead>\n",
       "    <tr style=\"text-align: right;\">\n",
       "      <th></th>\n",
       "      <th>index</th>\n",
       "      <th>VARIABLE</th>\n",
       "      <th>p-value_0</th>\n",
       "      <th>p-value_1</th>\n",
       "      <th>p-value_2</th>\n",
       "      <th>y_0</th>\n",
       "      <th>y_1</th>\n",
       "      <th>y_2</th>\n",
       "      <th>y_All</th>\n",
       "    </tr>\n",
       "  </thead>\n",
       "  <tbody>\n",
       "    <tr>\n",
       "      <th>3</th>\n",
       "      <td>0.0</td>\n",
       "      <td>CRIM</td>\n",
       "      <td>0.0</td>\n",
       "      <td>0.0</td>\n",
       "      <td>0.0</td>\n",
       "      <td>0.734873</td>\n",
       "      <td>12.830169</td>\n",
       "      <td>0.108880</td>\n",
       "      <td>3.627796</td>\n",
       "    </tr>\n",
       "    <tr>\n",
       "      <th>13</th>\n",
       "      <td>1.0</td>\n",
       "      <td>ZN</td>\n",
       "      <td>0.0</td>\n",
       "      <td>0.0</td>\n",
       "      <td>0.0</td>\n",
       "      <td>1.903509</td>\n",
       "      <td>0.000000</td>\n",
       "      <td>26.764851</td>\n",
       "      <td>11.373016</td>\n",
       "    </tr>\n",
       "    <tr>\n",
       "      <th>5</th>\n",
       "      <td>2.0</td>\n",
       "      <td>INDUS</td>\n",
       "      <td>0.000052</td>\n",
       "      <td>0.0</td>\n",
       "      <td>0.0</td>\n",
       "      <td>12.876725</td>\n",
       "      <td>18.100000</td>\n",
       "      <td>5.211931</td>\n",
       "      <td>11.162361</td>\n",
       "    </tr>\n",
       "    <tr>\n",
       "      <th>2</th>\n",
       "      <td>3.0</td>\n",
       "      <td>CHAS</td>\n",
       "      <td>0.000034</td>\n",
       "      <td>0.403106</td>\n",
       "      <td>0.001209</td>\n",
       "      <td>0.134503</td>\n",
       "      <td>0.053435</td>\n",
       "      <td>0.024752</td>\n",
       "      <td>0.069444</td>\n",
       "    </tr>\n",
       "    <tr>\n",
       "      <th>8</th>\n",
       "      <td>4.0</td>\n",
       "      <td>NOX</td>\n",
       "      <td>0.000003</td>\n",
       "      <td>0.0</td>\n",
       "      <td>0.0</td>\n",
       "      <td>0.588420</td>\n",
       "      <td>0.672069</td>\n",
       "      <td>0.450534</td>\n",
       "      <td>0.554898</td>\n",
       "    </tr>\n",
       "    <tr>\n",
       "      <th>11</th>\n",
       "      <td>5.0</td>\n",
       "      <td>RM</td>\n",
       "      <td>0.011021</td>\n",
       "      <td>0.0</td>\n",
       "      <td>0.0</td>\n",
       "      <td>6.172760</td>\n",
       "      <td>6.001099</td>\n",
       "      <td>6.561104</td>\n",
       "      <td>6.283788</td>\n",
       "    </tr>\n",
       "    <tr>\n",
       "      <th>1</th>\n",
       "      <td>6.0</td>\n",
       "      <td>AGE</td>\n",
       "      <td>0.0</td>\n",
       "      <td>0.0</td>\n",
       "      <td>0.0</td>\n",
       "      <td>84.238012</td>\n",
       "      <td>89.858015</td>\n",
       "      <td>41.478713</td>\n",
       "      <td>68.561111</td>\n",
       "    </tr>\n",
       "    <tr>\n",
       "      <th>4</th>\n",
       "      <td>7.0</td>\n",
       "      <td>DIS</td>\n",
       "      <td>0.0</td>\n",
       "      <td>0.0</td>\n",
       "      <td>0.0</td>\n",
       "      <td>2.834306</td>\n",
       "      <td>2.062449</td>\n",
       "      <td>5.724690</td>\n",
       "      <td>3.792132</td>\n",
       "    </tr>\n",
       "    <tr>\n",
       "      <th>10</th>\n",
       "      <td>8.0</td>\n",
       "      <td>RAD</td>\n",
       "      <td>0.0</td>\n",
       "      <td>0.0</td>\n",
       "      <td>0.0</td>\n",
       "      <td>4.725146</td>\n",
       "      <td>24.000000</td>\n",
       "      <td>4.341584</td>\n",
       "      <td>9.581349</td>\n",
       "    </tr>\n",
       "    <tr>\n",
       "      <th>12</th>\n",
       "      <td>9.0</td>\n",
       "      <td>TAX</td>\n",
       "      <td>0.0</td>\n",
       "      <td>0.0</td>\n",
       "      <td>0.0</td>\n",
       "      <td>351.017544</td>\n",
       "      <td>666.000000</td>\n",
       "      <td>290.891089</td>\n",
       "      <td>408.789683</td>\n",
       "    </tr>\n",
       "    <tr>\n",
       "      <th>9</th>\n",
       "      <td>10.0</td>\n",
       "      <td>PTRATIO</td>\n",
       "      <td>0.00843</td>\n",
       "      <td>0.0</td>\n",
       "      <td>0.0</td>\n",
       "      <td>18.109357</td>\n",
       "      <td>20.200000</td>\n",
       "      <td>17.636139</td>\n",
       "      <td>18.463095</td>\n",
       "    </tr>\n",
       "    <tr>\n",
       "      <th>6</th>\n",
       "      <td>11.0</td>\n",
       "      <td>LSTAT</td>\n",
       "      <td>0.000529</td>\n",
       "      <td>0.0</td>\n",
       "      <td>0.0</td>\n",
       "      <td>14.207719</td>\n",
       "      <td>18.702214</td>\n",
       "      <td>7.469406</td>\n",
       "      <td>12.675258</td>\n",
       "    </tr>\n",
       "    <tr>\n",
       "      <th>7</th>\n",
       "      <td>12.0</td>\n",
       "      <td>MEDV</td>\n",
       "      <td>0.232137</td>\n",
       "      <td>0.0</td>\n",
       "      <td>0.0</td>\n",
       "      <td>21.846784</td>\n",
       "      <td>16.361832</td>\n",
       "      <td>27.112871</td>\n",
       "      <td>22.531746</td>\n",
       "    </tr>\n",
       "    <tr>\n",
       "      <th>0</th>\n",
       "      <td>NaN</td>\n",
       "      <td>Effectif</td>\n",
       "      <td>NaN</td>\n",
       "      <td>NaN</td>\n",
       "      <td>NaN</td>\n",
       "      <td>171.000000</td>\n",
       "      <td>131.000000</td>\n",
       "      <td>202.000000</td>\n",
       "      <td>504.000000</td>\n",
       "    </tr>\n",
       "  </tbody>\n",
       "</table>\n",
       "</div>"
      ],
      "text/plain": [
       "    index  VARIABLE p-value_0 p-value_1 p-value_2         y_0         y_1  \\\n",
       "3     0.0      CRIM       0.0       0.0       0.0    0.734873   12.830169   \n",
       "13    1.0        ZN       0.0       0.0       0.0    1.903509    0.000000   \n",
       "5     2.0     INDUS  0.000052       0.0       0.0   12.876725   18.100000   \n",
       "2     3.0      CHAS  0.000034  0.403106  0.001209    0.134503    0.053435   \n",
       "8     4.0       NOX  0.000003       0.0       0.0    0.588420    0.672069   \n",
       "11    5.0        RM  0.011021       0.0       0.0    6.172760    6.001099   \n",
       "1     6.0       AGE       0.0       0.0       0.0   84.238012   89.858015   \n",
       "4     7.0       DIS       0.0       0.0       0.0    2.834306    2.062449   \n",
       "10    8.0       RAD       0.0       0.0       0.0    4.725146   24.000000   \n",
       "12    9.0       TAX       0.0       0.0       0.0  351.017544  666.000000   \n",
       "9    10.0   PTRATIO   0.00843       0.0       0.0   18.109357   20.200000   \n",
       "6    11.0     LSTAT  0.000529       0.0       0.0   14.207719   18.702214   \n",
       "7    12.0      MEDV  0.232137       0.0       0.0   21.846784   16.361832   \n",
       "0     NaN  Effectif       NaN       NaN       NaN  171.000000  131.000000   \n",
       "\n",
       "           y_2       y_All  \n",
       "3     0.108880    3.627796  \n",
       "13   26.764851   11.373016  \n",
       "5     5.211931   11.162361  \n",
       "2     0.024752    0.069444  \n",
       "8     0.450534    0.554898  \n",
       "11    6.561104    6.283788  \n",
       "1    41.478713   68.561111  \n",
       "4     5.724690    3.792132  \n",
       "10    4.341584    9.581349  \n",
       "12  290.891089  408.789683  \n",
       "9    17.636139   18.463095  \n",
       "6     7.469406   12.675258  \n",
       "7    27.112871   22.531746  \n",
       "0   202.000000  504.000000  "
      ]
     },
     "execution_count": 77,
     "metadata": {},
     "output_type": "execute_result"
    }
   ],
   "source": [
    "stats=portraits_robot_quanti(typologie, 'Typologie', [\"CRIM\",\"ZN\",\"INDUS\",\"CHAS\",\"NOX\",\"RM\",\"AGE\",\"DIS\",\"RAD\",\"TAX\", \"PTRATIO\",\"LSTAT\",\"MEDV\"])\n",
    "# Pour chaque variable on a la moyenne de la variable par classe de la typologie et la pvalue associée\n",
    "stats.sort_values('index')"
   ]
  },
  {
   "cell_type": "code",
   "execution_count": 78,
   "metadata": {},
   "outputs": [
    {
     "data": {
      "application/vnd.microsoft.datawrangler.viewer.v0+json": {
       "columns": [
        {
         "name": "index",
         "rawType": "int64",
         "type": "integer"
        },
        {
         "name": "Variable",
         "rawType": "object",
         "type": "string"
        },
        {
         "name": "VB",
         "rawType": "float64",
         "type": "float"
        },
        {
         "name": "VW",
         "rawType": "float64",
         "type": "float"
        },
        {
         "name": "VT",
         "rawType": "float64",
         "type": "float"
        },
        {
         "name": "Calinski",
         "rawType": "float64",
         "type": "float"
        },
        {
         "name": "TxVarWithin",
         "rawType": "float64",
         "type": "float"
        },
        {
         "name": "TxVarBetween",
         "rawType": "float64",
         "type": "float"
        }
       ],
       "ref": "902b9be0-d547-4c5a-906c-983818aeef9b",
       "rows": [
        [
         "8",
         "RAD",
         "36813.15211812535",
         "1343.5125644143354",
         "38156.66468253968",
         "6863.869270631142",
         "3.52",
         "96.48"
        ],
        [
         "9",
         "TAX",
         "12045135.155020388",
         "2258882.5513288174",
         "14304017.706349207",
         "1335.7517656496293",
         "15.79",
         "84.21"
        ],
        [
         "6",
         "AGE",
         "249600.13730448516",
         "150422.7604732926",
         "400022.89777777775",
         "415.6607297861333",
         "37.6",
         "62.4"
        ],
        [
         "4",
         "NOX",
         "4.190824557261784",
         "2.5824883111310717",
         "6.773312868392857",
         "406.50776503777763",
         "38.13",
         "61.87"
        ],
        [
         "3",
         "INDUS",
         "13960.055377166209",
         "9712.707513111567",
         "23672.76289027778",
         "360.0431565821791",
         "41.03",
         "58.97"
        ],
        [
         "7",
         "DIS",
         "1303.2327086140167",
         "934.4799475016782",
         "2237.7126561156947",
         "349.3491694290475",
         "41.76",
         "58.24"
        ],
        [
         "11",
         "LSTAT",
         "10634.433369213799",
         "15046.454397254443",
         "25680.88776646825",
         "177.0467306553063",
         "58.59",
         "41.41"
        ],
        [
         "1",
         "CRIM",
         "15025.978530619595",
         "22311.267945581472",
         "37337.246476201064",
         "168.7043350069055",
         "59.76",
         "40.24"
        ],
        [
         "2",
         "ZN",
         "80133.63467559162",
         "194381.23834028136",
         "274514.8730158731",
         "103.2685852689925",
         "70.81",
         "29.19"
        ],
        [
         "10",
         "PTRATIO",
         "554.7423540699928",
         "1801.771217358579",
         "2356.513571428571",
         "77.12575179120398",
         "76.46",
         "23.54"
        ],
        [
         "12",
         "MEDV",
         "9306.430637539099",
         "33406.841425952975",
         "42713.27206349206",
         "69.78393572079649",
         "78.21",
         "21.79"
        ],
        [
         "5",
         "RM",
         "28.111176587384275",
         "221.08933369634588",
         "249.20051028373018",
         "31.8506986176518",
         "88.72",
         "11.28"
        ],
        [
         "0",
         "CHAS",
         "1.160819873670774",
         "31.408624570773682",
         "32.56944444444444",
         "9.258137926393319",
         "96.44",
         "3.56"
        ]
       ],
       "shape": {
        "columns": 7,
        "rows": 13
       }
      },
      "text/html": [
       "<div>\n",
       "<style scoped>\n",
       "    .dataframe tbody tr th:only-of-type {\n",
       "        vertical-align: middle;\n",
       "    }\n",
       "\n",
       "    .dataframe tbody tr th {\n",
       "        vertical-align: top;\n",
       "    }\n",
       "\n",
       "    .dataframe thead th {\n",
       "        text-align: right;\n",
       "    }\n",
       "</style>\n",
       "<table border=\"1\" class=\"dataframe\">\n",
       "  <thead>\n",
       "    <tr style=\"text-align: right;\">\n",
       "      <th></th>\n",
       "      <th>Variable</th>\n",
       "      <th>VB</th>\n",
       "      <th>VW</th>\n",
       "      <th>VT</th>\n",
       "      <th>Calinski</th>\n",
       "      <th>TxVarWithin</th>\n",
       "      <th>TxVarBetween</th>\n",
       "    </tr>\n",
       "  </thead>\n",
       "  <tbody>\n",
       "    <tr>\n",
       "      <th>8</th>\n",
       "      <td>RAD</td>\n",
       "      <td>3.681315e+04</td>\n",
       "      <td>1.343513e+03</td>\n",
       "      <td>3.815666e+04</td>\n",
       "      <td>6863.869271</td>\n",
       "      <td>3.52</td>\n",
       "      <td>96.48</td>\n",
       "    </tr>\n",
       "    <tr>\n",
       "      <th>9</th>\n",
       "      <td>TAX</td>\n",
       "      <td>1.204514e+07</td>\n",
       "      <td>2.258883e+06</td>\n",
       "      <td>1.430402e+07</td>\n",
       "      <td>1335.751766</td>\n",
       "      <td>15.79</td>\n",
       "      <td>84.21</td>\n",
       "    </tr>\n",
       "    <tr>\n",
       "      <th>6</th>\n",
       "      <td>AGE</td>\n",
       "      <td>2.496001e+05</td>\n",
       "      <td>1.504228e+05</td>\n",
       "      <td>4.000229e+05</td>\n",
       "      <td>415.660730</td>\n",
       "      <td>37.60</td>\n",
       "      <td>62.40</td>\n",
       "    </tr>\n",
       "    <tr>\n",
       "      <th>4</th>\n",
       "      <td>NOX</td>\n",
       "      <td>4.190825e+00</td>\n",
       "      <td>2.582488e+00</td>\n",
       "      <td>6.773313e+00</td>\n",
       "      <td>406.507765</td>\n",
       "      <td>38.13</td>\n",
       "      <td>61.87</td>\n",
       "    </tr>\n",
       "    <tr>\n",
       "      <th>3</th>\n",
       "      <td>INDUS</td>\n",
       "      <td>1.396006e+04</td>\n",
       "      <td>9.712708e+03</td>\n",
       "      <td>2.367276e+04</td>\n",
       "      <td>360.043157</td>\n",
       "      <td>41.03</td>\n",
       "      <td>58.97</td>\n",
       "    </tr>\n",
       "    <tr>\n",
       "      <th>7</th>\n",
       "      <td>DIS</td>\n",
       "      <td>1.303233e+03</td>\n",
       "      <td>9.344799e+02</td>\n",
       "      <td>2.237713e+03</td>\n",
       "      <td>349.349169</td>\n",
       "      <td>41.76</td>\n",
       "      <td>58.24</td>\n",
       "    </tr>\n",
       "    <tr>\n",
       "      <th>11</th>\n",
       "      <td>LSTAT</td>\n",
       "      <td>1.063443e+04</td>\n",
       "      <td>1.504645e+04</td>\n",
       "      <td>2.568089e+04</td>\n",
       "      <td>177.046731</td>\n",
       "      <td>58.59</td>\n",
       "      <td>41.41</td>\n",
       "    </tr>\n",
       "    <tr>\n",
       "      <th>1</th>\n",
       "      <td>CRIM</td>\n",
       "      <td>1.502598e+04</td>\n",
       "      <td>2.231127e+04</td>\n",
       "      <td>3.733725e+04</td>\n",
       "      <td>168.704335</td>\n",
       "      <td>59.76</td>\n",
       "      <td>40.24</td>\n",
       "    </tr>\n",
       "    <tr>\n",
       "      <th>2</th>\n",
       "      <td>ZN</td>\n",
       "      <td>8.013363e+04</td>\n",
       "      <td>1.943812e+05</td>\n",
       "      <td>2.745149e+05</td>\n",
       "      <td>103.268585</td>\n",
       "      <td>70.81</td>\n",
       "      <td>29.19</td>\n",
       "    </tr>\n",
       "    <tr>\n",
       "      <th>10</th>\n",
       "      <td>PTRATIO</td>\n",
       "      <td>5.547424e+02</td>\n",
       "      <td>1.801771e+03</td>\n",
       "      <td>2.356514e+03</td>\n",
       "      <td>77.125752</td>\n",
       "      <td>76.46</td>\n",
       "      <td>23.54</td>\n",
       "    </tr>\n",
       "    <tr>\n",
       "      <th>12</th>\n",
       "      <td>MEDV</td>\n",
       "      <td>9.306431e+03</td>\n",
       "      <td>3.340684e+04</td>\n",
       "      <td>4.271327e+04</td>\n",
       "      <td>69.783936</td>\n",
       "      <td>78.21</td>\n",
       "      <td>21.79</td>\n",
       "    </tr>\n",
       "    <tr>\n",
       "      <th>5</th>\n",
       "      <td>RM</td>\n",
       "      <td>2.811118e+01</td>\n",
       "      <td>2.210893e+02</td>\n",
       "      <td>2.492005e+02</td>\n",
       "      <td>31.850699</td>\n",
       "      <td>88.72</td>\n",
       "      <td>11.28</td>\n",
       "    </tr>\n",
       "    <tr>\n",
       "      <th>0</th>\n",
       "      <td>CHAS</td>\n",
       "      <td>1.160820e+00</td>\n",
       "      <td>3.140862e+01</td>\n",
       "      <td>3.256944e+01</td>\n",
       "      <td>9.258138</td>\n",
       "      <td>96.44</td>\n",
       "      <td>3.56</td>\n",
       "    </tr>\n",
       "  </tbody>\n",
       "</table>\n",
       "</div>"
      ],
      "text/plain": [
       "   Variable            VB            VW            VT     Calinski  \\\n",
       "8       RAD  3.681315e+04  1.343513e+03  3.815666e+04  6863.869271   \n",
       "9       TAX  1.204514e+07  2.258883e+06  1.430402e+07  1335.751766   \n",
       "6       AGE  2.496001e+05  1.504228e+05  4.000229e+05   415.660730   \n",
       "4       NOX  4.190825e+00  2.582488e+00  6.773313e+00   406.507765   \n",
       "3     INDUS  1.396006e+04  9.712708e+03  2.367276e+04   360.043157   \n",
       "7       DIS  1.303233e+03  9.344799e+02  2.237713e+03   349.349169   \n",
       "11    LSTAT  1.063443e+04  1.504645e+04  2.568089e+04   177.046731   \n",
       "1      CRIM  1.502598e+04  2.231127e+04  3.733725e+04   168.704335   \n",
       "2        ZN  8.013363e+04  1.943812e+05  2.745149e+05   103.268585   \n",
       "10  PTRATIO  5.547424e+02  1.801771e+03  2.356514e+03    77.125752   \n",
       "12     MEDV  9.306431e+03  3.340684e+04  4.271327e+04    69.783936   \n",
       "5        RM  2.811118e+01  2.210893e+02  2.492005e+02    31.850699   \n",
       "0      CHAS  1.160820e+00  3.140862e+01  3.256944e+01     9.258138   \n",
       "\n",
       "    TxVarWithin  TxVarBetween  \n",
       "8          3.52         96.48  \n",
       "9         15.79         84.21  \n",
       "6         37.60         62.40  \n",
       "4         38.13         61.87  \n",
       "3         41.03         58.97  \n",
       "7         41.76         58.24  \n",
       "11        58.59         41.41  \n",
       "1         59.76         40.24  \n",
       "2         70.81         29.19  \n",
       "10        76.46         23.54  \n",
       "12        78.21         21.79  \n",
       "5         88.72         11.28  \n",
       "0         96.44          3.56  "
      ]
     },
     "execution_count": 78,
     "metadata": {},
     "output_type": "execute_result"
    }
   ],
   "source": [
    "# Fonction qui calcule pour chaque variable numérique si la typologie explique bien leur variance\n",
    "# VB = Variance Between\n",
    "# VW = Variance Within\n",
    "# VT = Variance Totale\n",
    "# Tx* = Taux des variances par rapport à la variance Totale\n",
    "# Calinski = Statistique de Calinski-HaraBascz (Plus c'est élevée plus la variable joue en la faveur de la variance Between)\n",
    "\n",
    "pouvoirDiscrimant=pouvoir_discriminant(typologie, 'Typologie', [\"CHAS\",\"CRIM\",\"ZN\",\"INDUS\",\"NOX\",\"RM\",\"AGE\",\"DIS\",\"RAD\",\"TAX\", \"PTRATIO\",\"LSTAT\",\"MEDV\"])\n",
    "pouvoirDiscrimant"
   ]
  },
  {
   "cell_type": "markdown",
   "metadata": {},
   "source": [
    "## Réaffection - ***Optionnel***\n",
    "\n",
    "\n",
    "Dans cette section, il s’agit de proposer des techniques d’affectation à une segmentation pré-existante et dont nous possédons un échantillon : nous avons des observations sur des individus dont nous connaissons le segment. On est ici dans un cadre de classification supervisée.\n",
    "\n",
    "On commence par séparer notre base en deux : une partie pour apprendre le lien entre les variables explicatives et la cible (la classe d’appartenance du client : ici la classification mixte), et une autre sur laquelle on évalue la qualité de la méthode d’affectation - principe de ne pas être juge et partie.\n",
    "\n",
    "On choisit la taille respective des bases - ici 75% pour l’apprentissage - , puis on tire 75% des lignes au hasard que l’on affecte à la base train, le reste étant affecté à test.\n"
   ]
  },
  {
   "cell_type": "code",
   "execution_count": 79,
   "metadata": {},
   "outputs": [],
   "source": [
    "from sklearn.model_selection import train_test_split \n",
    "X_train, X_test, y_train, y_test = train_test_split(typologie[[\"CRIM\",\"ZN\",\"INDUS\",\"CHAS\",\"NOX\",\"RM\",\"AGE\",\"DIS\",\"RAD\",\"TAX\", \"PTRATIO\",\"LSTAT\"]],typologie['Typologie'],test_size = 0.25, random_state = 42)"
   ]
  },
  {
   "cell_type": "code",
   "execution_count": 80,
   "metadata": {},
   "outputs": [
    {
     "data": {
      "text/html": [
       "<style>#sk-container-id-4 {\n",
       "  /* Definition of color scheme common for light and dark mode */\n",
       "  --sklearn-color-text: #000;\n",
       "  --sklearn-color-text-muted: #666;\n",
       "  --sklearn-color-line: gray;\n",
       "  /* Definition of color scheme for unfitted estimators */\n",
       "  --sklearn-color-unfitted-level-0: #fff5e6;\n",
       "  --sklearn-color-unfitted-level-1: #f6e4d2;\n",
       "  --sklearn-color-unfitted-level-2: #ffe0b3;\n",
       "  --sklearn-color-unfitted-level-3: chocolate;\n",
       "  /* Definition of color scheme for fitted estimators */\n",
       "  --sklearn-color-fitted-level-0: #f0f8ff;\n",
       "  --sklearn-color-fitted-level-1: #d4ebff;\n",
       "  --sklearn-color-fitted-level-2: #b3dbfd;\n",
       "  --sklearn-color-fitted-level-3: cornflowerblue;\n",
       "\n",
       "  /* Specific color for light theme */\n",
       "  --sklearn-color-text-on-default-background: var(--sg-text-color, var(--theme-code-foreground, var(--jp-content-font-color1, black)));\n",
       "  --sklearn-color-background: var(--sg-background-color, var(--theme-background, var(--jp-layout-color0, white)));\n",
       "  --sklearn-color-border-box: var(--sg-text-color, var(--theme-code-foreground, var(--jp-content-font-color1, black)));\n",
       "  --sklearn-color-icon: #696969;\n",
       "\n",
       "  @media (prefers-color-scheme: dark) {\n",
       "    /* Redefinition of color scheme for dark theme */\n",
       "    --sklearn-color-text-on-default-background: var(--sg-text-color, var(--theme-code-foreground, var(--jp-content-font-color1, white)));\n",
       "    --sklearn-color-background: var(--sg-background-color, var(--theme-background, var(--jp-layout-color0, #111)));\n",
       "    --sklearn-color-border-box: var(--sg-text-color, var(--theme-code-foreground, var(--jp-content-font-color1, white)));\n",
       "    --sklearn-color-icon: #878787;\n",
       "  }\n",
       "}\n",
       "\n",
       "#sk-container-id-4 {\n",
       "  color: var(--sklearn-color-text);\n",
       "}\n",
       "\n",
       "#sk-container-id-4 pre {\n",
       "  padding: 0;\n",
       "}\n",
       "\n",
       "#sk-container-id-4 input.sk-hidden--visually {\n",
       "  border: 0;\n",
       "  clip: rect(1px 1px 1px 1px);\n",
       "  clip: rect(1px, 1px, 1px, 1px);\n",
       "  height: 1px;\n",
       "  margin: -1px;\n",
       "  overflow: hidden;\n",
       "  padding: 0;\n",
       "  position: absolute;\n",
       "  width: 1px;\n",
       "}\n",
       "\n",
       "#sk-container-id-4 div.sk-dashed-wrapped {\n",
       "  border: 1px dashed var(--sklearn-color-line);\n",
       "  margin: 0 0.4em 0.5em 0.4em;\n",
       "  box-sizing: border-box;\n",
       "  padding-bottom: 0.4em;\n",
       "  background-color: var(--sklearn-color-background);\n",
       "}\n",
       "\n",
       "#sk-container-id-4 div.sk-container {\n",
       "  /* jupyter's `normalize.less` sets `[hidden] { display: none; }`\n",
       "     but bootstrap.min.css set `[hidden] { display: none !important; }`\n",
       "     so we also need the `!important` here to be able to override the\n",
       "     default hidden behavior on the sphinx rendered scikit-learn.org.\n",
       "     See: https://github.com/scikit-learn/scikit-learn/issues/21755 */\n",
       "  display: inline-block !important;\n",
       "  position: relative;\n",
       "}\n",
       "\n",
       "#sk-container-id-4 div.sk-text-repr-fallback {\n",
       "  display: none;\n",
       "}\n",
       "\n",
       "div.sk-parallel-item,\n",
       "div.sk-serial,\n",
       "div.sk-item {\n",
       "  /* draw centered vertical line to link estimators */\n",
       "  background-image: linear-gradient(var(--sklearn-color-text-on-default-background), var(--sklearn-color-text-on-default-background));\n",
       "  background-size: 2px 100%;\n",
       "  background-repeat: no-repeat;\n",
       "  background-position: center center;\n",
       "}\n",
       "\n",
       "/* Parallel-specific style estimator block */\n",
       "\n",
       "#sk-container-id-4 div.sk-parallel-item::after {\n",
       "  content: \"\";\n",
       "  width: 100%;\n",
       "  border-bottom: 2px solid var(--sklearn-color-text-on-default-background);\n",
       "  flex-grow: 1;\n",
       "}\n",
       "\n",
       "#sk-container-id-4 div.sk-parallel {\n",
       "  display: flex;\n",
       "  align-items: stretch;\n",
       "  justify-content: center;\n",
       "  background-color: var(--sklearn-color-background);\n",
       "  position: relative;\n",
       "}\n",
       "\n",
       "#sk-container-id-4 div.sk-parallel-item {\n",
       "  display: flex;\n",
       "  flex-direction: column;\n",
       "}\n",
       "\n",
       "#sk-container-id-4 div.sk-parallel-item:first-child::after {\n",
       "  align-self: flex-end;\n",
       "  width: 50%;\n",
       "}\n",
       "\n",
       "#sk-container-id-4 div.sk-parallel-item:last-child::after {\n",
       "  align-self: flex-start;\n",
       "  width: 50%;\n",
       "}\n",
       "\n",
       "#sk-container-id-4 div.sk-parallel-item:only-child::after {\n",
       "  width: 0;\n",
       "}\n",
       "\n",
       "/* Serial-specific style estimator block */\n",
       "\n",
       "#sk-container-id-4 div.sk-serial {\n",
       "  display: flex;\n",
       "  flex-direction: column;\n",
       "  align-items: center;\n",
       "  background-color: var(--sklearn-color-background);\n",
       "  padding-right: 1em;\n",
       "  padding-left: 1em;\n",
       "}\n",
       "\n",
       "\n",
       "/* Toggleable style: style used for estimator/Pipeline/ColumnTransformer box that is\n",
       "clickable and can be expanded/collapsed.\n",
       "- Pipeline and ColumnTransformer use this feature and define the default style\n",
       "- Estimators will overwrite some part of the style using the `sk-estimator` class\n",
       "*/\n",
       "\n",
       "/* Pipeline and ColumnTransformer style (default) */\n",
       "\n",
       "#sk-container-id-4 div.sk-toggleable {\n",
       "  /* Default theme specific background. It is overwritten whether we have a\n",
       "  specific estimator or a Pipeline/ColumnTransformer */\n",
       "  background-color: var(--sklearn-color-background);\n",
       "}\n",
       "\n",
       "/* Toggleable label */\n",
       "#sk-container-id-4 label.sk-toggleable__label {\n",
       "  cursor: pointer;\n",
       "  display: flex;\n",
       "  width: 100%;\n",
       "  margin-bottom: 0;\n",
       "  padding: 0.5em;\n",
       "  box-sizing: border-box;\n",
       "  text-align: center;\n",
       "  align-items: start;\n",
       "  justify-content: space-between;\n",
       "  gap: 0.5em;\n",
       "}\n",
       "\n",
       "#sk-container-id-4 label.sk-toggleable__label .caption {\n",
       "  font-size: 0.6rem;\n",
       "  font-weight: lighter;\n",
       "  color: var(--sklearn-color-text-muted);\n",
       "}\n",
       "\n",
       "#sk-container-id-4 label.sk-toggleable__label-arrow:before {\n",
       "  /* Arrow on the left of the label */\n",
       "  content: \"▸\";\n",
       "  float: left;\n",
       "  margin-right: 0.25em;\n",
       "  color: var(--sklearn-color-icon);\n",
       "}\n",
       "\n",
       "#sk-container-id-4 label.sk-toggleable__label-arrow:hover:before {\n",
       "  color: var(--sklearn-color-text);\n",
       "}\n",
       "\n",
       "/* Toggleable content - dropdown */\n",
       "\n",
       "#sk-container-id-4 div.sk-toggleable__content {\n",
       "  display: none;\n",
       "  text-align: left;\n",
       "  /* unfitted */\n",
       "  background-color: var(--sklearn-color-unfitted-level-0);\n",
       "}\n",
       "\n",
       "#sk-container-id-4 div.sk-toggleable__content.fitted {\n",
       "  /* fitted */\n",
       "  background-color: var(--sklearn-color-fitted-level-0);\n",
       "}\n",
       "\n",
       "#sk-container-id-4 div.sk-toggleable__content pre {\n",
       "  margin: 0.2em;\n",
       "  border-radius: 0.25em;\n",
       "  color: var(--sklearn-color-text);\n",
       "  /* unfitted */\n",
       "  background-color: var(--sklearn-color-unfitted-level-0);\n",
       "}\n",
       "\n",
       "#sk-container-id-4 div.sk-toggleable__content.fitted pre {\n",
       "  /* unfitted */\n",
       "  background-color: var(--sklearn-color-fitted-level-0);\n",
       "}\n",
       "\n",
       "#sk-container-id-4 input.sk-toggleable__control:checked~div.sk-toggleable__content {\n",
       "  /* Expand drop-down */\n",
       "  display: block;\n",
       "  width: 100%;\n",
       "  overflow: visible;\n",
       "}\n",
       "\n",
       "#sk-container-id-4 input.sk-toggleable__control:checked~label.sk-toggleable__label-arrow:before {\n",
       "  content: \"▾\";\n",
       "}\n",
       "\n",
       "/* Pipeline/ColumnTransformer-specific style */\n",
       "\n",
       "#sk-container-id-4 div.sk-label input.sk-toggleable__control:checked~label.sk-toggleable__label {\n",
       "  color: var(--sklearn-color-text);\n",
       "  background-color: var(--sklearn-color-unfitted-level-2);\n",
       "}\n",
       "\n",
       "#sk-container-id-4 div.sk-label.fitted input.sk-toggleable__control:checked~label.sk-toggleable__label {\n",
       "  background-color: var(--sklearn-color-fitted-level-2);\n",
       "}\n",
       "\n",
       "/* Estimator-specific style */\n",
       "\n",
       "/* Colorize estimator box */\n",
       "#sk-container-id-4 div.sk-estimator input.sk-toggleable__control:checked~label.sk-toggleable__label {\n",
       "  /* unfitted */\n",
       "  background-color: var(--sklearn-color-unfitted-level-2);\n",
       "}\n",
       "\n",
       "#sk-container-id-4 div.sk-estimator.fitted input.sk-toggleable__control:checked~label.sk-toggleable__label {\n",
       "  /* fitted */\n",
       "  background-color: var(--sklearn-color-fitted-level-2);\n",
       "}\n",
       "\n",
       "#sk-container-id-4 div.sk-label label.sk-toggleable__label,\n",
       "#sk-container-id-4 div.sk-label label {\n",
       "  /* The background is the default theme color */\n",
       "  color: var(--sklearn-color-text-on-default-background);\n",
       "}\n",
       "\n",
       "/* On hover, darken the color of the background */\n",
       "#sk-container-id-4 div.sk-label:hover label.sk-toggleable__label {\n",
       "  color: var(--sklearn-color-text);\n",
       "  background-color: var(--sklearn-color-unfitted-level-2);\n",
       "}\n",
       "\n",
       "/* Label box, darken color on hover, fitted */\n",
       "#sk-container-id-4 div.sk-label.fitted:hover label.sk-toggleable__label.fitted {\n",
       "  color: var(--sklearn-color-text);\n",
       "  background-color: var(--sklearn-color-fitted-level-2);\n",
       "}\n",
       "\n",
       "/* Estimator label */\n",
       "\n",
       "#sk-container-id-4 div.sk-label label {\n",
       "  font-family: monospace;\n",
       "  font-weight: bold;\n",
       "  display: inline-block;\n",
       "  line-height: 1.2em;\n",
       "}\n",
       "\n",
       "#sk-container-id-4 div.sk-label-container {\n",
       "  text-align: center;\n",
       "}\n",
       "\n",
       "/* Estimator-specific */\n",
       "#sk-container-id-4 div.sk-estimator {\n",
       "  font-family: monospace;\n",
       "  border: 1px dotted var(--sklearn-color-border-box);\n",
       "  border-radius: 0.25em;\n",
       "  box-sizing: border-box;\n",
       "  margin-bottom: 0.5em;\n",
       "  /* unfitted */\n",
       "  background-color: var(--sklearn-color-unfitted-level-0);\n",
       "}\n",
       "\n",
       "#sk-container-id-4 div.sk-estimator.fitted {\n",
       "  /* fitted */\n",
       "  background-color: var(--sklearn-color-fitted-level-0);\n",
       "}\n",
       "\n",
       "/* on hover */\n",
       "#sk-container-id-4 div.sk-estimator:hover {\n",
       "  /* unfitted */\n",
       "  background-color: var(--sklearn-color-unfitted-level-2);\n",
       "}\n",
       "\n",
       "#sk-container-id-4 div.sk-estimator.fitted:hover {\n",
       "  /* fitted */\n",
       "  background-color: var(--sklearn-color-fitted-level-2);\n",
       "}\n",
       "\n",
       "/* Specification for estimator info (e.g. \"i\" and \"?\") */\n",
       "\n",
       "/* Common style for \"i\" and \"?\" */\n",
       "\n",
       ".sk-estimator-doc-link,\n",
       "a:link.sk-estimator-doc-link,\n",
       "a:visited.sk-estimator-doc-link {\n",
       "  float: right;\n",
       "  font-size: smaller;\n",
       "  line-height: 1em;\n",
       "  font-family: monospace;\n",
       "  background-color: var(--sklearn-color-background);\n",
       "  border-radius: 1em;\n",
       "  height: 1em;\n",
       "  width: 1em;\n",
       "  text-decoration: none !important;\n",
       "  margin-left: 0.5em;\n",
       "  text-align: center;\n",
       "  /* unfitted */\n",
       "  border: var(--sklearn-color-unfitted-level-1) 1pt solid;\n",
       "  color: var(--sklearn-color-unfitted-level-1);\n",
       "}\n",
       "\n",
       ".sk-estimator-doc-link.fitted,\n",
       "a:link.sk-estimator-doc-link.fitted,\n",
       "a:visited.sk-estimator-doc-link.fitted {\n",
       "  /* fitted */\n",
       "  border: var(--sklearn-color-fitted-level-1) 1pt solid;\n",
       "  color: var(--sklearn-color-fitted-level-1);\n",
       "}\n",
       "\n",
       "/* On hover */\n",
       "div.sk-estimator:hover .sk-estimator-doc-link:hover,\n",
       ".sk-estimator-doc-link:hover,\n",
       "div.sk-label-container:hover .sk-estimator-doc-link:hover,\n",
       ".sk-estimator-doc-link:hover {\n",
       "  /* unfitted */\n",
       "  background-color: var(--sklearn-color-unfitted-level-3);\n",
       "  color: var(--sklearn-color-background);\n",
       "  text-decoration: none;\n",
       "}\n",
       "\n",
       "div.sk-estimator.fitted:hover .sk-estimator-doc-link.fitted:hover,\n",
       ".sk-estimator-doc-link.fitted:hover,\n",
       "div.sk-label-container:hover .sk-estimator-doc-link.fitted:hover,\n",
       ".sk-estimator-doc-link.fitted:hover {\n",
       "  /* fitted */\n",
       "  background-color: var(--sklearn-color-fitted-level-3);\n",
       "  color: var(--sklearn-color-background);\n",
       "  text-decoration: none;\n",
       "}\n",
       "\n",
       "/* Span, style for the box shown on hovering the info icon */\n",
       ".sk-estimator-doc-link span {\n",
       "  display: none;\n",
       "  z-index: 9999;\n",
       "  position: relative;\n",
       "  font-weight: normal;\n",
       "  right: .2ex;\n",
       "  padding: .5ex;\n",
       "  margin: .5ex;\n",
       "  width: min-content;\n",
       "  min-width: 20ex;\n",
       "  max-width: 50ex;\n",
       "  color: var(--sklearn-color-text);\n",
       "  box-shadow: 2pt 2pt 4pt #999;\n",
       "  /* unfitted */\n",
       "  background: var(--sklearn-color-unfitted-level-0);\n",
       "  border: .5pt solid var(--sklearn-color-unfitted-level-3);\n",
       "}\n",
       "\n",
       ".sk-estimator-doc-link.fitted span {\n",
       "  /* fitted */\n",
       "  background: var(--sklearn-color-fitted-level-0);\n",
       "  border: var(--sklearn-color-fitted-level-3);\n",
       "}\n",
       "\n",
       ".sk-estimator-doc-link:hover span {\n",
       "  display: block;\n",
       "}\n",
       "\n",
       "/* \"?\"-specific style due to the `<a>` HTML tag */\n",
       "\n",
       "#sk-container-id-4 a.estimator_doc_link {\n",
       "  float: right;\n",
       "  font-size: 1rem;\n",
       "  line-height: 1em;\n",
       "  font-family: monospace;\n",
       "  background-color: var(--sklearn-color-background);\n",
       "  border-radius: 1rem;\n",
       "  height: 1rem;\n",
       "  width: 1rem;\n",
       "  text-decoration: none;\n",
       "  /* unfitted */\n",
       "  color: var(--sklearn-color-unfitted-level-1);\n",
       "  border: var(--sklearn-color-unfitted-level-1) 1pt solid;\n",
       "}\n",
       "\n",
       "#sk-container-id-4 a.estimator_doc_link.fitted {\n",
       "  /* fitted */\n",
       "  border: var(--sklearn-color-fitted-level-1) 1pt solid;\n",
       "  color: var(--sklearn-color-fitted-level-1);\n",
       "}\n",
       "\n",
       "/* On hover */\n",
       "#sk-container-id-4 a.estimator_doc_link:hover {\n",
       "  /* unfitted */\n",
       "  background-color: var(--sklearn-color-unfitted-level-3);\n",
       "  color: var(--sklearn-color-background);\n",
       "  text-decoration: none;\n",
       "}\n",
       "\n",
       "#sk-container-id-4 a.estimator_doc_link.fitted:hover {\n",
       "  /* fitted */\n",
       "  background-color: var(--sklearn-color-fitted-level-3);\n",
       "}\n",
       "\n",
       ".estimator-table summary {\n",
       "    padding: .5rem;\n",
       "    font-family: monospace;\n",
       "    cursor: pointer;\n",
       "}\n",
       "\n",
       ".estimator-table details[open] {\n",
       "    padding-left: 0.1rem;\n",
       "    padding-right: 0.1rem;\n",
       "    padding-bottom: 0.3rem;\n",
       "}\n",
       "\n",
       ".estimator-table .parameters-table {\n",
       "    margin-left: auto !important;\n",
       "    margin-right: auto !important;\n",
       "}\n",
       "\n",
       ".estimator-table .parameters-table tr:nth-child(odd) {\n",
       "    background-color: #fff;\n",
       "}\n",
       "\n",
       ".estimator-table .parameters-table tr:nth-child(even) {\n",
       "    background-color: #f6f6f6;\n",
       "}\n",
       "\n",
       ".estimator-table .parameters-table tr:hover {\n",
       "    background-color: #e0e0e0;\n",
       "}\n",
       "\n",
       ".estimator-table table td {\n",
       "    border: 1px solid rgba(106, 105, 104, 0.232);\n",
       "}\n",
       "\n",
       ".user-set td {\n",
       "    color:rgb(255, 94, 0);\n",
       "    text-align: left;\n",
       "}\n",
       "\n",
       ".user-set td.value pre {\n",
       "    color:rgb(255, 94, 0) !important;\n",
       "    background-color: transparent !important;\n",
       "}\n",
       "\n",
       ".default td {\n",
       "    color: black;\n",
       "    text-align: left;\n",
       "}\n",
       "\n",
       ".user-set td i,\n",
       ".default td i {\n",
       "    color: black;\n",
       "}\n",
       "\n",
       ".copy-paste-icon {\n",
       "    background-image: url(data:image/svg+xml;base64,PHN2ZyB4bWxucz0iaHR0cDovL3d3dy53My5vcmcvMjAwMC9zdmciIHZpZXdCb3g9IjAgMCA0NDggNTEyIj48IS0tIUZvbnQgQXdlc29tZSBGcmVlIDYuNy4yIGJ5IEBmb250YXdlc29tZSAtIGh0dHBzOi8vZm9udGF3ZXNvbWUuY29tIExpY2Vuc2UgLSBodHRwczovL2ZvbnRhd2Vzb21lLmNvbS9saWNlbnNlL2ZyZWUgQ29weXJpZ2h0IDIwMjUgRm9udGljb25zLCBJbmMuLS0+PHBhdGggZD0iTTIwOCAwTDMzMi4xIDBjMTIuNyAwIDI0LjkgNS4xIDMzLjkgMTQuMWw2Ny45IDY3LjljOSA5IDE0LjEgMjEuMiAxNC4xIDMzLjlMNDQ4IDMzNmMwIDI2LjUtMjEuNSA0OC00OCA0OGwtMTkyIDBjLTI2LjUgMC00OC0yMS41LTQ4LTQ4bDAtMjg4YzAtMjYuNSAyMS41LTQ4IDQ4LTQ4ek00OCAxMjhsODAgMCAwIDY0LTY0IDAgMCAyNTYgMTkyIDAgMC0zMiA2NCAwIDAgNDhjMCAyNi41LTIxLjUgNDgtNDggNDhMNDggNTEyYy0yNi41IDAtNDgtMjEuNS00OC00OEwwIDE3NmMwLTI2LjUgMjEuNS00OCA0OC00OHoiLz48L3N2Zz4=);\n",
       "    background-repeat: no-repeat;\n",
       "    background-size: 14px 14px;\n",
       "    background-position: 0;\n",
       "    display: inline-block;\n",
       "    width: 14px;\n",
       "    height: 14px;\n",
       "    cursor: pointer;\n",
       "}\n",
       "</style><body><div id=\"sk-container-id-4\" class=\"sk-top-container\"><div class=\"sk-text-repr-fallback\"><pre>KNeighborsClassifier(n_neighbors=8)</pre><b>In a Jupyter environment, please rerun this cell to show the HTML representation or trust the notebook. <br />On GitHub, the HTML representation is unable to render, please try loading this page with nbviewer.org.</b></div><div class=\"sk-container\" hidden><div class=\"sk-item\"><div class=\"sk-estimator fitted sk-toggleable\"><input class=\"sk-toggleable__control sk-hidden--visually\" id=\"sk-estimator-id-4\" type=\"checkbox\" checked><label for=\"sk-estimator-id-4\" class=\"sk-toggleable__label fitted sk-toggleable__label-arrow\"><div><div>KNeighborsClassifier</div></div><div><a class=\"sk-estimator-doc-link fitted\" rel=\"noreferrer\" target=\"_blank\" href=\"https://scikit-learn.org/1.7/modules/generated/sklearn.neighbors.KNeighborsClassifier.html\">?<span>Documentation for KNeighborsClassifier</span></a><span class=\"sk-estimator-doc-link fitted\">i<span>Fitted</span></span></div></label><div class=\"sk-toggleable__content fitted\" data-param-prefix=\"\">\n",
       "        <div class=\"estimator-table\">\n",
       "            <details>\n",
       "                <summary>Parameters</summary>\n",
       "                <table class=\"parameters-table\">\n",
       "                  <tbody>\n",
       "                    \n",
       "        <tr class=\"user-set\">\n",
       "            <td><i class=\"copy-paste-icon\"\n",
       "                 onclick=\"copyToClipboard('n_neighbors',\n",
       "                          this.parentElement.nextElementSibling)\"\n",
       "            ></i></td>\n",
       "            <td class=\"param\">n_neighbors&nbsp;</td>\n",
       "            <td class=\"value\">8</td>\n",
       "        </tr>\n",
       "    \n",
       "\n",
       "        <tr class=\"default\">\n",
       "            <td><i class=\"copy-paste-icon\"\n",
       "                 onclick=\"copyToClipboard('weights',\n",
       "                          this.parentElement.nextElementSibling)\"\n",
       "            ></i></td>\n",
       "            <td class=\"param\">weights&nbsp;</td>\n",
       "            <td class=\"value\">&#x27;uniform&#x27;</td>\n",
       "        </tr>\n",
       "    \n",
       "\n",
       "        <tr class=\"default\">\n",
       "            <td><i class=\"copy-paste-icon\"\n",
       "                 onclick=\"copyToClipboard('algorithm',\n",
       "                          this.parentElement.nextElementSibling)\"\n",
       "            ></i></td>\n",
       "            <td class=\"param\">algorithm&nbsp;</td>\n",
       "            <td class=\"value\">&#x27;auto&#x27;</td>\n",
       "        </tr>\n",
       "    \n",
       "\n",
       "        <tr class=\"default\">\n",
       "            <td><i class=\"copy-paste-icon\"\n",
       "                 onclick=\"copyToClipboard('leaf_size',\n",
       "                          this.parentElement.nextElementSibling)\"\n",
       "            ></i></td>\n",
       "            <td class=\"param\">leaf_size&nbsp;</td>\n",
       "            <td class=\"value\">30</td>\n",
       "        </tr>\n",
       "    \n",
       "\n",
       "        <tr class=\"default\">\n",
       "            <td><i class=\"copy-paste-icon\"\n",
       "                 onclick=\"copyToClipboard('p',\n",
       "                          this.parentElement.nextElementSibling)\"\n",
       "            ></i></td>\n",
       "            <td class=\"param\">p&nbsp;</td>\n",
       "            <td class=\"value\">2</td>\n",
       "        </tr>\n",
       "    \n",
       "\n",
       "        <tr class=\"default\">\n",
       "            <td><i class=\"copy-paste-icon\"\n",
       "                 onclick=\"copyToClipboard('metric',\n",
       "                          this.parentElement.nextElementSibling)\"\n",
       "            ></i></td>\n",
       "            <td class=\"param\">metric&nbsp;</td>\n",
       "            <td class=\"value\">&#x27;minkowski&#x27;</td>\n",
       "        </tr>\n",
       "    \n",
       "\n",
       "        <tr class=\"default\">\n",
       "            <td><i class=\"copy-paste-icon\"\n",
       "                 onclick=\"copyToClipboard('metric_params',\n",
       "                          this.parentElement.nextElementSibling)\"\n",
       "            ></i></td>\n",
       "            <td class=\"param\">metric_params&nbsp;</td>\n",
       "            <td class=\"value\">None</td>\n",
       "        </tr>\n",
       "    \n",
       "\n",
       "        <tr class=\"default\">\n",
       "            <td><i class=\"copy-paste-icon\"\n",
       "                 onclick=\"copyToClipboard('n_jobs',\n",
       "                          this.parentElement.nextElementSibling)\"\n",
       "            ></i></td>\n",
       "            <td class=\"param\">n_jobs&nbsp;</td>\n",
       "            <td class=\"value\">None</td>\n",
       "        </tr>\n",
       "    \n",
       "                  </tbody>\n",
       "                </table>\n",
       "            </details>\n",
       "        </div>\n",
       "    </div></div></div></div></div><script>function copyToClipboard(text, element) {\n",
       "    // Get the parameter prefix from the closest toggleable content\n",
       "    const toggleableContent = element.closest('.sk-toggleable__content');\n",
       "    const paramPrefix = toggleableContent ? toggleableContent.dataset.paramPrefix : '';\n",
       "    const fullParamName = paramPrefix ? `${paramPrefix}${text}` : text;\n",
       "\n",
       "    const originalStyle = element.style;\n",
       "    const computedStyle = window.getComputedStyle(element);\n",
       "    const originalWidth = computedStyle.width;\n",
       "    const originalHTML = element.innerHTML.replace('Copied!', '');\n",
       "\n",
       "    navigator.clipboard.writeText(fullParamName)\n",
       "        .then(() => {\n",
       "            element.style.width = originalWidth;\n",
       "            element.style.color = 'green';\n",
       "            element.innerHTML = \"Copied!\";\n",
       "\n",
       "            setTimeout(() => {\n",
       "                element.innerHTML = originalHTML;\n",
       "                element.style = originalStyle;\n",
       "            }, 2000);\n",
       "        })\n",
       "        .catch(err => {\n",
       "            console.error('Failed to copy:', err);\n",
       "            element.style.color = 'red';\n",
       "            element.innerHTML = \"Failed!\";\n",
       "            setTimeout(() => {\n",
       "                element.innerHTML = originalHTML;\n",
       "                element.style = originalStyle;\n",
       "            }, 2000);\n",
       "        });\n",
       "    return false;\n",
       "}\n",
       "\n",
       "document.querySelectorAll('.fa-regular.fa-copy').forEach(function(element) {\n",
       "    const toggleableContent = element.closest('.sk-toggleable__content');\n",
       "    const paramPrefix = toggleableContent ? toggleableContent.dataset.paramPrefix : '';\n",
       "    const paramName = element.parentElement.nextElementSibling.textContent.trim();\n",
       "    const fullParamName = paramPrefix ? `${paramPrefix}${paramName}` : paramName;\n",
       "\n",
       "    element.setAttribute('title', fullParamName);\n",
       "});\n",
       "</script></body>"
      ],
      "text/plain": [
       "KNeighborsClassifier(n_neighbors=8)"
      ]
     },
     "execution_count": 80,
     "metadata": {},
     "output_type": "execute_result"
    }
   ],
   "source": [
    "# Plus proches voisins (Nouvelles méthodes par exemple)\n",
    "\n",
    "# On cherche les plus proches voisins de chaque individu et on lui affecte la classe majoritaire parmi ses voisins. \n",
    "# Le paramètre de la méthode est le nombre K de voisins - ici K = 8.\n",
    "from sklearn.neighbors import KNeighborsClassifier\n",
    "\n",
    "knn = KNeighborsClassifier(n_neighbors = 8)\n",
    "knn.fit(X_train,y_train)"
   ]
  },
  {
   "cell_type": "code",
   "execution_count": 81,
   "metadata": {},
   "outputs": [],
   "source": [
    "y_pred_test = knn.predict(X_test)\n",
    "y_pred_train = knn.predict(X_train)"
   ]
  },
  {
   "cell_type": "code",
   "execution_count": 82,
   "metadata": {},
   "outputs": [
    {
     "name": "stdout",
     "output_type": "stream",
     "text": [
      "Typologie         0         1         2\n",
      "row_0                                  \n",
      "0          0.767442  0.000000  0.232558\n",
      "1          0.058824  0.941176  0.000000\n",
      "2          0.061224  0.000000  0.938776\n",
      "Typologie         0    1         2\n",
      "row_0                             \n",
      "0          0.868421  0.0  0.178571\n",
      "1          0.052632  1.0  0.000000\n",
      "2          0.078947  0.0  0.821429\n"
     ]
    }
   ],
   "source": [
    "\n",
    "#La qualité de la méthode se lit sur la matrice de confusion. Cette méthode est utilisée sur les variables quantitatives.\n",
    "print(pd.crosstab(y_pred_test, y_test,normalize='index'))\n",
    "print(pd.crosstab(y_pred_test, y_test,normalize='columns'))"
   ]
  },
  {
   "cell_type": "code",
   "execution_count": 83,
   "metadata": {},
   "outputs": [
    {
     "data": {
      "text/plain": [
       "(0.9338624338624338, 0.8809523809523809)"
      ]
     },
     "execution_count": 83,
     "metadata": {},
     "output_type": "execute_result"
    }
   ],
   "source": [
    "from sklearn.metrics import accuracy_score\n",
    "accuracy_score(y_train,y_pred_train),accuracy_score(y_test,y_pred_test)"
   ]
  },
  {
   "cell_type": "code",
   "execution_count": null,
   "metadata": {},
   "outputs": [],
   "source": []
  }
 ],
 "metadata": {
  "environment": {
   "name": "tf2-gpu.2-1.m46",
   "type": "gcloud",
   "uri": "gcr.io/deeplearning-platform-release/tf2-gpu.2-1:m46"
  },
  "kernelspec": {
   "display_name": ".venv",
   "language": "python",
   "name": "python3"
  },
  "language_info": {
   "codemirror_mode": {
    "name": "ipython",
    "version": 3
   },
   "file_extension": ".py",
   "mimetype": "text/x-python",
   "name": "python",
   "nbconvert_exporter": "python",
   "pygments_lexer": "ipython3",
   "version": "3.11.9"
  }
 },
 "nbformat": 4,
 "nbformat_minor": 4
}
