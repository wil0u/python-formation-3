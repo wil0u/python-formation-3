{
 "cells": [
  {
   "cell_type": "markdown",
   "metadata": {},
   "source": [
    "# TP CLUSTERING DANS UN BUT DE SEGMENTATION"
   ]
  },
  {
   "cell_type": "markdown",
   "metadata": {},
   "source": [
    "# Sommaire\n",
    "\n",
    "1. [Import](#sect1)\n",
    "2. [Réduction de dimension via une ACP](#sect2)\n",
    "3. [Clustering Mixte](#sect3)\n",
    "4. [Portraits Robots](#sect4)\n"
   ]
  },
  {
   "cell_type": "code",
   "execution_count": 1,
   "metadata": {},
   "outputs": [],
   "source": [
    "import matplotlib.pyplot as plt\n",
    "\n",
    "import pandas as pd\n",
    "import numpy as np\n",
    "import os\n",
    "os.chdir(\"/home/jupyter/python_ml/data\")"
   ]
  },
  {
   "cell_type": "markdown",
   "metadata": {},
   "source": [
    "# 1. Import <a name=\"sect1\"></a> "
   ]
  },
  {
   "cell_type": "markdown",
   "metadata": {},
   "source": [
    "## LES DONNEES\n",
    "Housing data lien : https://www.kaggle.com/apratim87/housingdata/version/1#housingdata.csv\n",
    "\n",
    "\n",
    "Variables dans l'ordre : \n",
    "\n",
    "- **CRIM** per capita crime rate by town \n",
    "- **ZN** proportion of residential land zoned for lots over 25,000 sq.ft. \n",
    "- **INDUS** proportion of non-retail business acres per town \n",
    "- **CHAS** Charles River dummy variable (= 1 if tract bounds river; 0 otherwise) \n",
    "- **NOX** nitric oxides concentration (parts per 10 million) \n",
    "- **RM** average number of rooms per dwelling \n",
    "- **AGE** proportion of owner-occupied units built prior to 1940 \n",
    "- **DIS** weighted distances to five Boston employment centres \n",
    "- **RAD** index of accessibility to radial highways \n",
    "- **TAX** full-value property-tax rate per $10,000 \n",
    "- **PTRATIO** pupil-teacher ratio by town \n",
    "- **LSTAT** ratio de lower status of the population \n",
    "- **MEDV** Median value of owner-occupied homes en milliers de dollars\n"
   ]
  },
  {
   "cell_type": "code",
   "execution_count": 2,
   "metadata": {},
   "outputs": [],
   "source": [
    "housing = pd.read_csv('housingdata.csv',header=0,index_col=False,sep=',',\n",
    "names=[\"CRIM\",\"ZN\",\"INDUS\",\"CHAS\",\"NOX\",\"RM\",\"AGE\",\"DIS\",\"RAD\",\"TAX\", \"PTRATIO\",\"LSTAT\",\"MEDV\"])"
   ]
  },
  {
   "cell_type": "code",
   "execution_count": 3,
   "metadata": {},
   "outputs": [
    {
     "data": {
      "text/html": [
       "<div>\n",
       "<style scoped>\n",
       "    .dataframe tbody tr th:only-of-type {\n",
       "        vertical-align: middle;\n",
       "    }\n",
       "\n",
       "    .dataframe tbody tr th {\n",
       "        vertical-align: top;\n",
       "    }\n",
       "\n",
       "    .dataframe thead th {\n",
       "        text-align: right;\n",
       "    }\n",
       "</style>\n",
       "<table border=\"1\" class=\"dataframe\">\n",
       "  <thead>\n",
       "    <tr style=\"text-align: right;\">\n",
       "      <th></th>\n",
       "      <th>CRIM</th>\n",
       "      <th>ZN</th>\n",
       "      <th>INDUS</th>\n",
       "      <th>CHAS</th>\n",
       "      <th>NOX</th>\n",
       "      <th>RM</th>\n",
       "      <th>AGE</th>\n",
       "      <th>DIS</th>\n",
       "      <th>RAD</th>\n",
       "      <th>TAX</th>\n",
       "      <th>PTRATIO</th>\n",
       "      <th>LSTAT</th>\n",
       "      <th>MEDV</th>\n",
       "    </tr>\n",
       "  </thead>\n",
       "  <tbody>\n",
       "    <tr>\n",
       "      <th>0</th>\n",
       "      <td>0.02729</td>\n",
       "      <td>0.0</td>\n",
       "      <td>7.07</td>\n",
       "      <td>0</td>\n",
       "      <td>0.469</td>\n",
       "      <td>7.185</td>\n",
       "      <td>61.1</td>\n",
       "      <td>4.9671</td>\n",
       "      <td>2</td>\n",
       "      <td>242</td>\n",
       "      <td>17.8</td>\n",
       "      <td>4.03</td>\n",
       "      <td>34.7</td>\n",
       "    </tr>\n",
       "    <tr>\n",
       "      <th>1</th>\n",
       "      <td>0.03237</td>\n",
       "      <td>0.0</td>\n",
       "      <td>2.18</td>\n",
       "      <td>0</td>\n",
       "      <td>0.458</td>\n",
       "      <td>6.998</td>\n",
       "      <td>45.8</td>\n",
       "      <td>6.0622</td>\n",
       "      <td>3</td>\n",
       "      <td>222</td>\n",
       "      <td>18.7</td>\n",
       "      <td>2.94</td>\n",
       "      <td>33.4</td>\n",
       "    </tr>\n",
       "    <tr>\n",
       "      <th>2</th>\n",
       "      <td>0.06905</td>\n",
       "      <td>0.0</td>\n",
       "      <td>2.18</td>\n",
       "      <td>0</td>\n",
       "      <td>0.458</td>\n",
       "      <td>7.147</td>\n",
       "      <td>54.2</td>\n",
       "      <td>6.0622</td>\n",
       "      <td>3</td>\n",
       "      <td>222</td>\n",
       "      <td>18.7</td>\n",
       "      <td>5.33</td>\n",
       "      <td>36.2</td>\n",
       "    </tr>\n",
       "    <tr>\n",
       "      <th>3</th>\n",
       "      <td>0.02985</td>\n",
       "      <td>0.0</td>\n",
       "      <td>2.18</td>\n",
       "      <td>0</td>\n",
       "      <td>0.458</td>\n",
       "      <td>6.430</td>\n",
       "      <td>58.7</td>\n",
       "      <td>6.0622</td>\n",
       "      <td>3</td>\n",
       "      <td>222</td>\n",
       "      <td>18.7</td>\n",
       "      <td>5.21</td>\n",
       "      <td>28.7</td>\n",
       "    </tr>\n",
       "    <tr>\n",
       "      <th>4</th>\n",
       "      <td>0.08829</td>\n",
       "      <td>12.5</td>\n",
       "      <td>7.87</td>\n",
       "      <td>0</td>\n",
       "      <td>0.524</td>\n",
       "      <td>6.012</td>\n",
       "      <td>66.6</td>\n",
       "      <td>5.5605</td>\n",
       "      <td>5</td>\n",
       "      <td>311</td>\n",
       "      <td>15.2</td>\n",
       "      <td>12.43</td>\n",
       "      <td>22.9</td>\n",
       "    </tr>\n",
       "  </tbody>\n",
       "</table>\n",
       "</div>"
      ],
      "text/plain": [
       "      CRIM    ZN  INDUS  CHAS    NOX     RM   AGE     DIS  RAD  TAX  PTRATIO  \\\n",
       "0  0.02729   0.0   7.07     0  0.469  7.185  61.1  4.9671    2  242     17.8   \n",
       "1  0.03237   0.0   2.18     0  0.458  6.998  45.8  6.0622    3  222     18.7   \n",
       "2  0.06905   0.0   2.18     0  0.458  7.147  54.2  6.0622    3  222     18.7   \n",
       "3  0.02985   0.0   2.18     0  0.458  6.430  58.7  6.0622    3  222     18.7   \n",
       "4  0.08829  12.5   7.87     0  0.524  6.012  66.6  5.5605    5  311     15.2   \n",
       "\n",
       "   LSTAT  MEDV  \n",
       "0   4.03  34.7  \n",
       "1   2.94  33.4  \n",
       "2   5.33  36.2  \n",
       "3   5.21  28.7  \n",
       "4  12.43  22.9  "
      ]
     },
     "execution_count": 3,
     "metadata": {},
     "output_type": "execute_result"
    }
   ],
   "source": [
    "housing.head()"
   ]
  },
  {
   "cell_type": "code",
   "execution_count": 4,
   "metadata": {},
   "outputs": [
    {
     "data": {
      "text/plain": [
       "(504, 13)"
      ]
     },
     "execution_count": 4,
     "metadata": {},
     "output_type": "execute_result"
    }
   ],
   "source": [
    "housing.shape"
   ]
  },
  {
   "cell_type": "code",
   "execution_count": 9,
   "metadata": {},
   "outputs": [
    {
     "data": {
      "text/plain": [
       "CRIM            float64\n",
       "ZN              float64\n",
       "INDUS           float64\n",
       "CHAS               bool\n",
       "NOX             float64\n",
       "RM              float64\n",
       "AGE             float64\n",
       "DIS             float64\n",
       "RAD               int64\n",
       "TAX               int64\n",
       "PTRATIO         float64\n",
       "LSTAT           float64\n",
       "MEDV            float64\n",
       "Valeur_Immo    category\n",
       "dtype: object"
      ]
     },
     "execution_count": 9,
     "metadata": {},
     "output_type": "execute_result"
    }
   ],
   "source": [
    "housing.dtypes"
   ]
  },
  {
   "cell_type": "markdown",
   "metadata": {},
   "source": [
    "#### Transformation des données au bon format et regroupement par classe"
   ]
  },
  {
   "cell_type": "code",
   "execution_count": 6,
   "metadata": {},
   "outputs": [],
   "source": [
    "housing['CHAS']=housing['CHAS'].astype(bool)"
   ]
  },
  {
   "cell_type": "code",
   "execution_count": 7,
   "metadata": {},
   "outputs": [
    {
     "data": {
      "text/html": [
       "<div>\n",
       "<style scoped>\n",
       "    .dataframe tbody tr th:only-of-type {\n",
       "        vertical-align: middle;\n",
       "    }\n",
       "\n",
       "    .dataframe tbody tr th {\n",
       "        vertical-align: top;\n",
       "    }\n",
       "\n",
       "    .dataframe thead th {\n",
       "        text-align: right;\n",
       "    }\n",
       "</style>\n",
       "<table border=\"1\" class=\"dataframe\">\n",
       "  <thead>\n",
       "    <tr style=\"text-align: right;\">\n",
       "      <th></th>\n",
       "      <th>CRIM</th>\n",
       "      <th>ZN</th>\n",
       "      <th>INDUS</th>\n",
       "      <th>CHAS</th>\n",
       "      <th>NOX</th>\n",
       "      <th>RM</th>\n",
       "      <th>AGE</th>\n",
       "      <th>DIS</th>\n",
       "      <th>RAD</th>\n",
       "      <th>TAX</th>\n",
       "      <th>PTRATIO</th>\n",
       "      <th>LSTAT</th>\n",
       "      <th>MEDV</th>\n",
       "    </tr>\n",
       "  </thead>\n",
       "  <tbody>\n",
       "    <tr>\n",
       "      <th>count</th>\n",
       "      <td>504.000000</td>\n",
       "      <td>504.000000</td>\n",
       "      <td>504.000000</td>\n",
       "      <td>504</td>\n",
       "      <td>504.000000</td>\n",
       "      <td>504.000000</td>\n",
       "      <td>504.000000</td>\n",
       "      <td>504.000000</td>\n",
       "      <td>504.000000</td>\n",
       "      <td>504.000000</td>\n",
       "      <td>504.000000</td>\n",
       "      <td>504.000000</td>\n",
       "      <td>504.000000</td>\n",
       "    </tr>\n",
       "    <tr>\n",
       "      <th>unique</th>\n",
       "      <td>NaN</td>\n",
       "      <td>NaN</td>\n",
       "      <td>NaN</td>\n",
       "      <td>2</td>\n",
       "      <td>NaN</td>\n",
       "      <td>NaN</td>\n",
       "      <td>NaN</td>\n",
       "      <td>NaN</td>\n",
       "      <td>NaN</td>\n",
       "      <td>NaN</td>\n",
       "      <td>NaN</td>\n",
       "      <td>NaN</td>\n",
       "      <td>NaN</td>\n",
       "    </tr>\n",
       "    <tr>\n",
       "      <th>top</th>\n",
       "      <td>NaN</td>\n",
       "      <td>NaN</td>\n",
       "      <td>NaN</td>\n",
       "      <td>False</td>\n",
       "      <td>NaN</td>\n",
       "      <td>NaN</td>\n",
       "      <td>NaN</td>\n",
       "      <td>NaN</td>\n",
       "      <td>NaN</td>\n",
       "      <td>NaN</td>\n",
       "      <td>NaN</td>\n",
       "      <td>NaN</td>\n",
       "      <td>NaN</td>\n",
       "    </tr>\n",
       "    <tr>\n",
       "      <th>freq</th>\n",
       "      <td>NaN</td>\n",
       "      <td>NaN</td>\n",
       "      <td>NaN</td>\n",
       "      <td>469</td>\n",
       "      <td>NaN</td>\n",
       "      <td>NaN</td>\n",
       "      <td>NaN</td>\n",
       "      <td>NaN</td>\n",
       "      <td>NaN</td>\n",
       "      <td>NaN</td>\n",
       "      <td>NaN</td>\n",
       "      <td>NaN</td>\n",
       "      <td>NaN</td>\n",
       "    </tr>\n",
       "    <tr>\n",
       "      <th>mean</th>\n",
       "      <td>3.627796</td>\n",
       "      <td>11.373016</td>\n",
       "      <td>11.162361</td>\n",
       "      <td>NaN</td>\n",
       "      <td>0.554898</td>\n",
       "      <td>6.283788</td>\n",
       "      <td>68.561111</td>\n",
       "      <td>3.792132</td>\n",
       "      <td>9.581349</td>\n",
       "      <td>408.789683</td>\n",
       "      <td>18.463095</td>\n",
       "      <td>12.675258</td>\n",
       "      <td>22.531746</td>\n",
       "    </tr>\n",
       "    <tr>\n",
       "      <th>std</th>\n",
       "      <td>8.615632</td>\n",
       "      <td>23.361404</td>\n",
       "      <td>6.860259</td>\n",
       "      <td>NaN</td>\n",
       "      <td>0.116042</td>\n",
       "      <td>0.703867</td>\n",
       "      <td>28.200606</td>\n",
       "      <td>2.109202</td>\n",
       "      <td>8.709660</td>\n",
       "      <td>168.633955</td>\n",
       "      <td>2.164467</td>\n",
       "      <td>7.145309</td>\n",
       "      <td>9.215044</td>\n",
       "    </tr>\n",
       "    <tr>\n",
       "      <th>min</th>\n",
       "      <td>0.009060</td>\n",
       "      <td>0.000000</td>\n",
       "      <td>0.460000</td>\n",
       "      <td>NaN</td>\n",
       "      <td>0.385000</td>\n",
       "      <td>3.561000</td>\n",
       "      <td>2.900000</td>\n",
       "      <td>1.129600</td>\n",
       "      <td>1.000000</td>\n",
       "      <td>187.000000</td>\n",
       "      <td>12.600000</td>\n",
       "      <td>1.730000</td>\n",
       "      <td>5.000000</td>\n",
       "    </tr>\n",
       "    <tr>\n",
       "      <th>25%</th>\n",
       "      <td>0.082382</td>\n",
       "      <td>0.000000</td>\n",
       "      <td>5.190000</td>\n",
       "      <td>NaN</td>\n",
       "      <td>0.449000</td>\n",
       "      <td>5.884750</td>\n",
       "      <td>44.850000</td>\n",
       "      <td>2.097050</td>\n",
       "      <td>4.000000</td>\n",
       "      <td>279.000000</td>\n",
       "      <td>17.400000</td>\n",
       "      <td>6.990000</td>\n",
       "      <td>16.950000</td>\n",
       "    </tr>\n",
       "    <tr>\n",
       "      <th>50%</th>\n",
       "      <td>0.260420</td>\n",
       "      <td>0.000000</td>\n",
       "      <td>9.690000</td>\n",
       "      <td>NaN</td>\n",
       "      <td>0.538000</td>\n",
       "      <td>6.205000</td>\n",
       "      <td>77.500000</td>\n",
       "      <td>3.190950</td>\n",
       "      <td>5.000000</td>\n",
       "      <td>330.000000</td>\n",
       "      <td>19.100000</td>\n",
       "      <td>11.395000</td>\n",
       "      <td>21.200000</td>\n",
       "    </tr>\n",
       "    <tr>\n",
       "      <th>75%</th>\n",
       "      <td>3.681942</td>\n",
       "      <td>12.500000</td>\n",
       "      <td>18.100000</td>\n",
       "      <td>NaN</td>\n",
       "      <td>0.624000</td>\n",
       "      <td>6.626000</td>\n",
       "      <td>94.100000</td>\n",
       "      <td>5.212575</td>\n",
       "      <td>24.000000</td>\n",
       "      <td>666.000000</td>\n",
       "      <td>20.200000</td>\n",
       "      <td>16.992500</td>\n",
       "      <td>25.000000</td>\n",
       "    </tr>\n",
       "    <tr>\n",
       "      <th>max</th>\n",
       "      <td>88.976200</td>\n",
       "      <td>100.000000</td>\n",
       "      <td>27.740000</td>\n",
       "      <td>NaN</td>\n",
       "      <td>0.871000</td>\n",
       "      <td>8.780000</td>\n",
       "      <td>100.000000</td>\n",
       "      <td>12.126500</td>\n",
       "      <td>24.000000</td>\n",
       "      <td>711.000000</td>\n",
       "      <td>22.000000</td>\n",
       "      <td>37.970000</td>\n",
       "      <td>50.000000</td>\n",
       "    </tr>\n",
       "  </tbody>\n",
       "</table>\n",
       "</div>"
      ],
      "text/plain": [
       "              CRIM          ZN       INDUS   CHAS         NOX          RM  \\\n",
       "count   504.000000  504.000000  504.000000    504  504.000000  504.000000   \n",
       "unique         NaN         NaN         NaN      2         NaN         NaN   \n",
       "top            NaN         NaN         NaN  False         NaN         NaN   \n",
       "freq           NaN         NaN         NaN    469         NaN         NaN   \n",
       "mean      3.627796   11.373016   11.162361    NaN    0.554898    6.283788   \n",
       "std       8.615632   23.361404    6.860259    NaN    0.116042    0.703867   \n",
       "min       0.009060    0.000000    0.460000    NaN    0.385000    3.561000   \n",
       "25%       0.082382    0.000000    5.190000    NaN    0.449000    5.884750   \n",
       "50%       0.260420    0.000000    9.690000    NaN    0.538000    6.205000   \n",
       "75%       3.681942   12.500000   18.100000    NaN    0.624000    6.626000   \n",
       "max      88.976200  100.000000   27.740000    NaN    0.871000    8.780000   \n",
       "\n",
       "               AGE         DIS         RAD         TAX     PTRATIO  \\\n",
       "count   504.000000  504.000000  504.000000  504.000000  504.000000   \n",
       "unique         NaN         NaN         NaN         NaN         NaN   \n",
       "top            NaN         NaN         NaN         NaN         NaN   \n",
       "freq           NaN         NaN         NaN         NaN         NaN   \n",
       "mean     68.561111    3.792132    9.581349  408.789683   18.463095   \n",
       "std      28.200606    2.109202    8.709660  168.633955    2.164467   \n",
       "min       2.900000    1.129600    1.000000  187.000000   12.600000   \n",
       "25%      44.850000    2.097050    4.000000  279.000000   17.400000   \n",
       "50%      77.500000    3.190950    5.000000  330.000000   19.100000   \n",
       "75%      94.100000    5.212575   24.000000  666.000000   20.200000   \n",
       "max     100.000000   12.126500   24.000000  711.000000   22.000000   \n",
       "\n",
       "             LSTAT        MEDV  \n",
       "count   504.000000  504.000000  \n",
       "unique         NaN         NaN  \n",
       "top            NaN         NaN  \n",
       "freq           NaN         NaN  \n",
       "mean     12.675258   22.531746  \n",
       "std       7.145309    9.215044  \n",
       "min       1.730000    5.000000  \n",
       "25%       6.990000   16.950000  \n",
       "50%      11.395000   21.200000  \n",
       "75%      16.992500   25.000000  \n",
       "max      37.970000   50.000000  "
      ]
     },
     "execution_count": 7,
     "metadata": {},
     "output_type": "execute_result"
    }
   ],
   "source": [
    "stats = housing.describe(include=\"all\")\n",
    "stats"
   ]
  },
  {
   "cell_type": "code",
   "execution_count": 8,
   "metadata": {},
   "outputs": [
    {
     "data": {
      "text/plain": [
       "count            504\n",
       "unique             3\n",
       "top       2.15k-25k$\n",
       "freq             278\n",
       "Name: Valeur_Immo, dtype: object"
      ]
     },
     "execution_count": 8,
     "metadata": {},
     "output_type": "execute_result"
    }
   ],
   "source": [
    "# Créer 3 groupes de valeur des logements <15 , 15-25 et 25+ pour constituer une variable de contrôle à la fin de la segmentation\n",
    "housing[\"Valeur_Immo\"] = '2.15k-25k$'\n",
    "housing.loc[housing['MEDV'] >= 25, 'Valeur_Immo'] = '3.>25k$'\n",
    "housing.loc[housing['MEDV'] <15, 'Valeur_Immo'] = '1.<15k$'\n",
    "housing['Valeur_Immo']=housing['Valeur_Immo'].astype('category')\n",
    "housing['Valeur_Immo'].describe()"
   ]
  },
  {
   "cell_type": "markdown",
   "metadata": {},
   "source": [
    "# 2. REDUCTION DE DIMENSIONS AVEC ACP <a name=\"sect2\" ></a>"
   ]
  },
  {
   "cell_type": "code",
   "execution_count": 47,
   "metadata": {},
   "outputs": [],
   "source": [
    "# ACP sur les var numérique et doit être appliquée sur des données standardisées\n",
    "from sklearn.preprocessing import StandardScaler\n",
    "from sklearn.decomposition import PCA\n",
    "\n",
    "# MEDV ne sont plus des variables qu'on veut projetter et Valeur Immo sera une variable de controle du clustering\n",
    "X = housing.drop([\"MEDV\",\"Valeur_Immo\"],axis=1)\n",
    "# on écrase et on standardise\n",
    "X = StandardScaler().fit_transform(X)"
   ]
  },
  {
   "cell_type": "code",
   "execution_count": 48,
   "metadata": {},
   "outputs": [],
   "source": [
    "# CALCUL ACP AVEC SKLEARN avec autant de composants que de colonnes avant de filtrer le nombre de composants (=dimensions)\n",
    "pca_housing = PCA(n_components=X.shape[1]).fit(X)\n",
    "CP_housing = pca_housing.transform(X)\n",
    "# projection des 505 villes sur les nouvelles dimensions"
   ]
  },
  {
   "cell_type": "code",
   "execution_count": 49,
   "metadata": {},
   "outputs": [
    {
     "data": {
      "text/plain": [
       "array([-0.41831909, -0.48731297, -0.5971243 , -0.27317918, -0.74096695,\n",
       "        1.2816455 , -0.26483559,  0.55762106, -0.87131776, -0.99004613,\n",
       "       -0.30665935, -1.21112288])"
      ]
     },
     "execution_count": 49,
     "metadata": {},
     "output_type": "execute_result"
    }
   ],
   "source": [
    "# Analyse des différences de projection\n",
    "X[0]"
   ]
  },
  {
   "cell_type": "code",
   "execution_count": 50,
   "metadata": {},
   "outputs": [
    {
     "data": {
      "text/plain": [
       "array([-2.03568405,  0.63823533,  0.01575284, -0.97093418, -0.80703978,\n",
       "        0.51227253,  0.10581473,  0.05350127, -0.1865577 , -0.48972618,\n",
       "        0.14032252, -0.01354096])"
      ]
     },
     "execution_count": 50,
     "metadata": {},
     "output_type": "execute_result"
    }
   ],
   "source": [
    "CP_housing[0]"
   ]
  },
  {
   "cell_type": "code",
   "execution_count": 51,
   "metadata": {},
   "outputs": [
    {
     "name": "stdout",
     "output_type": "stream",
     "text": [
      "[0.49223103 0.11668486 0.09842775 0.07111062 0.06695671 0.04467627\n",
      " 0.03303232 0.02320461 0.01872156 0.0154672  0.01420034 0.00528675]\n"
     ]
    }
   ],
   "source": [
    "print(pca_housing.explained_variance_ratio_) # 3 composantes expliquent 75% de la variance des données"
   ]
  },
  {
   "cell_type": "code",
   "execution_count": 52,
   "metadata": {},
   "outputs": [
    {
     "name": "stdout",
     "output_type": "stream",
     "text": [
      "[ 49.22  60.89  70.73  77.84  84.54  89.01  92.31  94.63  96.5   98.05\n",
      "  99.47 100.  ]\n"
     ]
    }
   ],
   "source": [
    "print(np.cumsum(np.round(pca_housing.explained_variance_ratio_, decimals=4)*100))"
   ]
  },
  {
   "cell_type": "code",
   "execution_count": 53,
   "metadata": {},
   "outputs": [
    {
     "data": {
      "text/plain": [
       "[<matplotlib.lines.Line2D at 0x7f37982bd610>]"
      ]
     },
     "execution_count": 53,
     "metadata": {},
     "output_type": "execute_result"
    },
    {
     "data": {
      "image/png": "[encoded data removed]",
      "text/plain": [
       "<Figure size 640x480 with 1 Axes>"
      ]
     },
     "metadata": {},
     "output_type": "display_data"
    },
    {
     "data": {
      "image/png": "[encoded data removed]",
      "text/plain": [
       "<Figure size 640x480 with 1 Axes>"
      ]
     },
     "metadata": {},
     "output_type": "display_data"
    }
   ],
   "source": [
    "plt.plot(np.cumsum(np.round(pca_housing.explained_variance_ratio_, decimals=4)*100))\n",
    "plt.figure()\n",
    "plt.plot(np.round(pca_housing.explained_variance_ratio_, decimals=1))\n"
   ]
  },
  {
   "cell_type": "code",
   "execution_count": 54,
   "metadata": {},
   "outputs": [
    {
     "data": {
      "text/plain": [
       "<seaborn.axisgrid.PairGrid at 0x7f379852cbd0>"
      ]
     },
     "execution_count": 54,
     "metadata": {},
     "output_type": "execute_result"
    },
    {
     "data": {
      "image/png": "[encoded data removed]",
      "text/plain": [
       "<Figure size 628.25x500 with 1 Axes>"
      ]
     },
     "metadata": {},
     "output_type": "display_data"
    },
    {
     "data": {
      "image/png": "[encoded data removed]",
      "text/plain": [
       "<Figure size 628.25x500 with 1 Axes>"
      ]
     },
     "metadata": {},
     "output_type": "display_data"
    },
    {
     "data": {
      "image/png": "[encoded data removed]",
      "text/plain": [
       "<Figure size 628.25x500 with 1 Axes>"
      ]
     },
     "metadata": {},
     "output_type": "display_data"
    }
   ],
   "source": [
    "import seaborn as sns\n",
    "targets = housing.Valeur_Immo.unique()\n",
    "\n",
    "# Conservation d'uniquement 3 axes et rapprochement avec les données de Valur Immobilière\n",
    "finalDf = pd.concat([pd.DataFrame(CP_housing[:,0:3], columns = ['CP1', 'CP2','CP3']), housing[[\"CHAS\",\"MEDV\",'Valeur_Immo']]], axis = 1)\n",
    "sns.pairplot(x_vars='CP1', y_vars='CP2', data=finalDf, hue=\"Valeur_Immo\", height=5)\n",
    "sns.pairplot(x_vars='CP1', y_vars='CP3', data=finalDf, hue=\"Valeur_Immo\", height=5)\n",
    "sns.pairplot(x_vars='CP2', y_vars='CP3', data=finalDf, hue=\"Valeur_Immo\", height=5)\n",
    "# Les 3 catégories de valeur immobilière sont assez corrélées avec l'axe 1 et 3"
   ]
  },
  {
   "cell_type": "markdown",
   "metadata": {},
   "source": [
    "#### INTERPRETATION DES AXES\n"
   ]
  },
  {
   "cell_type": "markdown",
   "metadata": {},
   "source": [
    "La règle des 70% de la variance expliquée nous fait sélectionner uniquement 3 axes"
   ]
  },
  {
   "cell_type": "code",
   "execution_count": 56,
   "metadata": {},
   "outputs": [
    {
     "data": {
      "text/plain": [
       "<AxesSubplot:>"
      ]
     },
     "execution_count": 56,
     "metadata": {},
     "output_type": "execute_result"
    },
    {
     "data": {
      "image/png": "[encoded data removed]",
      "text/plain": [
       "<Figure size 640x480 with 2 Axes>"
      ]
     },
     "metadata": {},
     "output_type": "display_data"
    }
   ],
   "source": [
    "import matplotlib.pyplot as plt\n",
    "analyse = pd.concat([pd.DataFrame(CP_housing[:,0:3], columns = ['CP1', 'CP2','CP3']), housing[[\"CRIM\",\"ZN\",\"INDUS\",\"NOX\",\"RM\",\"AGE\",\"DIS\",\"RAD\",\"TAX\", \"PTRATIO\",\"LSTAT\", \"CHAS\"]]], axis = 1)\n",
    "corr=analyse.corr().loc[[\"CRIM\",\"ZN\",\"INDUS\",\"NOX\",\"RM\",\"AGE\",\"DIS\",\"RAD\",\"TAX\", \"PTRATIO\",\"LSTAT\",\"CHAS\"],[\"CP1\",\"CP2\",\"CP3\"]]\n",
    "plt.figure()\n",
    "sns.heatmap(corr,xticklabels=corr.columns.values,yticklabels=corr.index.values)"
   ]
  },
  {
   "cell_type": "code",
   "execution_count": 57,
   "metadata": {},
   "outputs": [
    {
     "data": {
      "text/html": [
       "<div>\n",
       "<style scoped>\n",
       "    .dataframe tbody tr th:only-of-type {\n",
       "        vertical-align: middle;\n",
       "    }\n",
       "\n",
       "    .dataframe tbody tr th {\n",
       "        vertical-align: top;\n",
       "    }\n",
       "\n",
       "    .dataframe thead th {\n",
       "        text-align: right;\n",
       "    }\n",
       "</style>\n",
       "<table border=\"1\" class=\"dataframe\">\n",
       "  <thead>\n",
       "    <tr style=\"text-align: right;\">\n",
       "      <th></th>\n",
       "      <th>CP1</th>\n",
       "      <th>CP2</th>\n",
       "      <th>CP3</th>\n",
       "    </tr>\n",
       "  </thead>\n",
       "  <tbody>\n",
       "    <tr>\n",
       "      <th>CRIM</th>\n",
       "      <td>0.610326</td>\n",
       "      <td>-0.323622</td>\n",
       "      <td>0.382666</td>\n",
       "    </tr>\n",
       "    <tr>\n",
       "      <th>ZN</th>\n",
       "      <td>-0.648442</td>\n",
       "      <td>-0.293898</td>\n",
       "      <td>0.389227</td>\n",
       "    </tr>\n",
       "    <tr>\n",
       "      <th>INDUS</th>\n",
       "      <td>0.862326</td>\n",
       "      <td>0.111760</td>\n",
       "      <td>-0.016735</td>\n",
       "    </tr>\n",
       "    <tr>\n",
       "      <th>NOX</th>\n",
       "      <td>0.850849</td>\n",
       "      <td>0.274908</td>\n",
       "      <td>0.084224</td>\n",
       "    </tr>\n",
       "    <tr>\n",
       "      <th>RM</th>\n",
       "      <td>-0.477001</td>\n",
       "      <td>0.323668</td>\n",
       "      <td>0.610562</td>\n",
       "    </tr>\n",
       "    <tr>\n",
       "      <th>AGE</th>\n",
       "      <td>0.786673</td>\n",
       "      <td>0.344865</td>\n",
       "      <td>-0.081193</td>\n",
       "    </tr>\n",
       "    <tr>\n",
       "      <th>DIS</th>\n",
       "      <td>-0.804475</td>\n",
       "      <td>-0.404598</td>\n",
       "      <td>0.015122</td>\n",
       "    </tr>\n",
       "    <tr>\n",
       "      <th>RAD</th>\n",
       "      <td>0.782701</td>\n",
       "      <td>-0.272489</td>\n",
       "      <td>0.444161</td>\n",
       "    </tr>\n",
       "    <tr>\n",
       "      <th>TAX</th>\n",
       "      <td>0.831620</td>\n",
       "      <td>-0.251609</td>\n",
       "      <td>0.360357</td>\n",
       "    </tr>\n",
       "    <tr>\n",
       "      <th>PTRATIO</th>\n",
       "      <td>0.511486</td>\n",
       "      <td>-0.464991</td>\n",
       "      <td>-0.199124</td>\n",
       "    </tr>\n",
       "    <tr>\n",
       "      <th>LSTAT</th>\n",
       "      <td>0.765861</td>\n",
       "      <td>-0.151328</td>\n",
       "      <td>-0.287770</td>\n",
       "    </tr>\n",
       "    <tr>\n",
       "      <th>CHAS</th>\n",
       "      <td>0.017603</td>\n",
       "      <td>0.597477</td>\n",
       "      <td>0.215921</td>\n",
       "    </tr>\n",
       "  </tbody>\n",
       "</table>\n",
       "</div>"
      ],
      "text/plain": [
       "              CP1       CP2       CP3\n",
       "CRIM     0.610326 -0.323622  0.382666\n",
       "ZN      -0.648442 -0.293898  0.389227\n",
       "INDUS    0.862326  0.111760 -0.016735\n",
       "NOX      0.850849  0.274908  0.084224\n",
       "RM      -0.477001  0.323668  0.610562\n",
       "AGE      0.786673  0.344865 -0.081193\n",
       "DIS     -0.804475 -0.404598  0.015122\n",
       "RAD      0.782701 -0.272489  0.444161\n",
       "TAX      0.831620 -0.251609  0.360357\n",
       "PTRATIO  0.511486 -0.464991 -0.199124\n",
       "LSTAT    0.765861 -0.151328 -0.287770\n",
       "CHAS     0.017603  0.597477  0.215921"
      ]
     },
     "execution_count": 57,
     "metadata": {},
     "output_type": "execute_result"
    }
   ],
   "source": [
    "corr"
   ]
  },
  {
   "cell_type": "code",
   "execution_count": 93,
   "metadata": {},
   "outputs": [
    {
     "data": {
      "text/html": [
       "<div>\n",
       "<style scoped>\n",
       "    .dataframe tbody tr th:only-of-type {\n",
       "        vertical-align: middle;\n",
       "    }\n",
       "\n",
       "    .dataframe tbody tr th {\n",
       "        vertical-align: top;\n",
       "    }\n",
       "\n",
       "    .dataframe thead th {\n",
       "        text-align: right;\n",
       "    }\n",
       "</style>\n",
       "<table border=\"1\" class=\"dataframe\">\n",
       "  <thead>\n",
       "    <tr style=\"text-align: right;\">\n",
       "      <th>Valeur_Immo</th>\n",
       "      <th>1.&lt;15k$</th>\n",
       "      <th>2.15k-25k$</th>\n",
       "      <th>3.&gt;25k$</th>\n",
       "    </tr>\n",
       "  </thead>\n",
       "  <tbody>\n",
       "    <tr>\n",
       "      <th>CRIM</th>\n",
       "      <td>12.909406</td>\n",
       "      <td>1.805271</td>\n",
       "      <td>0.856514</td>\n",
       "    </tr>\n",
       "    <tr>\n",
       "      <th>ZN</th>\n",
       "      <td>0.000000</td>\n",
       "      <td>8.937050</td>\n",
       "      <td>24.602273</td>\n",
       "    </tr>\n",
       "    <tr>\n",
       "      <th>INDUS</th>\n",
       "      <td>17.509362</td>\n",
       "      <td>11.235504</td>\n",
       "      <td>6.488485</td>\n",
       "    </tr>\n",
       "    <tr>\n",
       "      <th>CHAS</th>\n",
       "      <td>0.010638</td>\n",
       "      <td>0.064748</td>\n",
       "      <td>0.121212</td>\n",
       "    </tr>\n",
       "    <tr>\n",
       "      <th>NOX</th>\n",
       "      <td>0.673489</td>\n",
       "      <td>0.543499</td>\n",
       "      <td>0.494454</td>\n",
       "    </tr>\n",
       "    <tr>\n",
       "      <th>RM</th>\n",
       "      <td>5.859096</td>\n",
       "      <td>6.082856</td>\n",
       "      <td>7.009394</td>\n",
       "    </tr>\n",
       "    <tr>\n",
       "      <th>AGE</th>\n",
       "      <td>93.761702</td>\n",
       "      <td>66.356835</td>\n",
       "      <td>55.257576</td>\n",
       "    </tr>\n",
       "    <tr>\n",
       "      <th>DIS</th>\n",
       "      <td>2.074044</td>\n",
       "      <td>4.100754</td>\n",
       "      <td>4.365642</td>\n",
       "    </tr>\n",
       "    <tr>\n",
       "      <th>RAD</th>\n",
       "      <td>19.117021</td>\n",
       "      <td>7.960432</td>\n",
       "      <td>6.204545</td>\n",
       "    </tr>\n",
       "    <tr>\n",
       "      <th>TAX</th>\n",
       "      <td>600.542553</td>\n",
       "      <td>388.007194</td>\n",
       "      <td>316.007576</td>\n",
       "    </tr>\n",
       "    <tr>\n",
       "      <th>PTRATIO</th>\n",
       "      <td>20.007447</td>\n",
       "      <td>18.670144</td>\n",
       "      <td>16.927273</td>\n",
       "    </tr>\n",
       "    <tr>\n",
       "      <th>LSTAT</th>\n",
       "      <td>22.521915</td>\n",
       "      <td>12.446007</td>\n",
       "      <td>6.146061</td>\n",
       "    </tr>\n",
       "    <tr>\n",
       "      <th>MEDV</th>\n",
       "      <td>11.608511</td>\n",
       "      <td>20.476978</td>\n",
       "      <td>34.637879</td>\n",
       "    </tr>\n",
       "  </tbody>\n",
       "</table>\n",
       "</div>"
      ],
      "text/plain": [
       "Valeur_Immo     1.<15k$  2.15k-25k$     3.>25k$\n",
       "CRIM          12.909406    1.805271    0.856514\n",
       "ZN             0.000000    8.937050   24.602273\n",
       "INDUS         17.509362   11.235504    6.488485\n",
       "CHAS           0.010638    0.064748    0.121212\n",
       "NOX            0.673489    0.543499    0.494454\n",
       "RM             5.859096    6.082856    7.009394\n",
       "AGE           93.761702   66.356835   55.257576\n",
       "DIS            2.074044    4.100754    4.365642\n",
       "RAD           19.117021    7.960432    6.204545\n",
       "TAX          600.542553  388.007194  316.007576\n",
       "PTRATIO       20.007447   18.670144   16.927273\n",
       "LSTAT         22.521915   12.446007    6.146061\n",
       "MEDV          11.608511   20.476978   34.637879"
      ]
     },
     "execution_count": 93,
     "metadata": {},
     "output_type": "execute_result"
    }
   ],
   "source": [
    "housing.groupby(['Valeur_Immo']).mean().T"
   ]
  },
  {
   "cell_type": "markdown",
   "metadata": {},
   "source": [
    "# 3. CLUSTERING MIXTE <a name=\"sect3\" ></a>\n",
    "\n",
    "La classification mixte permet de garder les qualités des méthodes de nuées dynamiques \n",
    "et de la classification hiérarchique en contournant leurs inconvénients.\n",
    "On commence par une k-means pour diminuer la dimension du problème \n",
    "puis on fait une classification hiérarchique sur les centroides."
   ]
  },
  {
   "cell_type": "code",
   "execution_count": 58,
   "metadata": {},
   "outputs": [],
   "source": [
    "from sklearn.cluster import KMeans\n",
    "from sklearn import metrics\n",
    "from scipy.spatial.distance import cdist\n",
    "from scipy import cluster\n",
    "from sklearn.cluster import AgglomerativeClustering"
   ]
  },
  {
   "cell_type": "code",
   "execution_count": 175,
   "metadata": {},
   "outputs": [],
   "source": [
    "# On fait une k-means avec beaucoup de clusters et on récupère les coordonnées des centroides\n",
    "# une bonne pratique est de choisir n^(1/3) -> limite de wong\n",
    "k_means_cent = KMeans(n_clusters = round(len(X)**(1/3)), random_state = 2016).fit(CP_housing[:,0:3])\n",
    "# barycentres des  classes issues de la partition KM\n",
    "centroides = k_means_cent.cluster_centers_"
   ]
  },
  {
   "cell_type": "code",
   "execution_count": 176,
   "metadata": {},
   "outputs": [
    {
     "name": "stdout",
     "output_type": "stream",
     "text": [
      "[[ 4.19441042e+00 -1.29897011e+00  3.98448681e-01]\n",
      " [-3.16948713e-01  1.27277910e-01 -1.05436876e+00]\n",
      " [-3.70275137e+00 -1.04807002e+00  1.11726799e+00]\n",
      " [ 2.81845016e+00 -3.96423726e-01  8.84957225e-01]\n",
      " [-1.94663111e+00 -4.51375742e-01 -3.90688615e-01]\n",
      " [ 9.46986197e-01  2.34086037e+00 -9.38755706e-04]\n",
      " [-1.48732017e+00  1.92303244e+00  9.64467083e-01]\n",
      " [ 1.98199100e+00  7.08435665e-01 -1.35187226e+00]]\n"
     ]
    }
   ],
   "source": [
    "print(centroides)"
   ]
  },
  {
   "cell_type": "code",
   "execution_count": 177,
   "metadata": {},
   "outputs": [
    {
     "data": {
      "image/png": "[encoded data removed]",
      "text/plain": [
       "<Figure size 640x480 with 1 Axes>"
      ]
     },
     "metadata": {},
     "output_type": "display_data"
    }
   ],
   "source": [
    "# 22 individus fictifs (barycentres)\n",
    "\n",
    "# On trace le dendogramme \n",
    "# étape préliminaire avec la cluster.hierarchy (CAH): bénéfice de pouvoir représenter\n",
    "Z = cluster.hierarchy.linkage(centroides, method='ward', metric='euclidean')\n",
    "plt.figure()\n",
    "\n",
    "plt.title('Hierarchical Clustering Dendrogram', fontsize=18)\n",
    "\n",
    "plt.xlabel('sample index', fontsize=16)\n",
    "\n",
    "plt.ylabel('distance', fontsize=16)\n",
    "dn = cluster.hierarchy.dendrogram(Z, leaf_font_size=12, leaf_rotation=90.)\n"
   ]
  },
  {
   "cell_type": "code",
   "execution_count": 178,
   "metadata": {},
   "outputs": [
    {
     "data": {
      "text/plain": [
       "AgglomerativeClustering(n_clusters=3)"
      ]
     },
     "execution_count": 178,
     "metadata": {},
     "output_type": "execute_result"
    }
   ],
   "source": [
    "# etape partitionner par rapport au nombre = 3 ou 4\n",
    "# On peut ensuite réaliser le clustering à l'aide de scikit-learn\n",
    "hac_cent = AgglomerativeClustering(n_clusters = 3, affinity = 'euclidean', linkage = 'ward')\n",
    "hac_cent.fit(centroides)"
   ]
  },
  {
   "cell_type": "code",
   "execution_count": 179,
   "metadata": {},
   "outputs": [
    {
     "data": {
      "text/html": [
       "<div>\n",
       "<style scoped>\n",
       "    .dataframe tbody tr th:only-of-type {\n",
       "        vertical-align: middle;\n",
       "    }\n",
       "\n",
       "    .dataframe tbody tr th {\n",
       "        vertical-align: top;\n",
       "    }\n",
       "\n",
       "    .dataframe thead th {\n",
       "        text-align: right;\n",
       "    }\n",
       "</style>\n",
       "<table border=\"1\" class=\"dataframe\">\n",
       "  <thead>\n",
       "    <tr style=\"text-align: right;\">\n",
       "      <th></th>\n",
       "      <th>index</th>\n",
       "      <th>K-means_cent</th>\n",
       "    </tr>\n",
       "  </thead>\n",
       "  <tbody>\n",
       "    <tr>\n",
       "      <th>0</th>\n",
       "      <td>0</td>\n",
       "      <td>4</td>\n",
       "    </tr>\n",
       "    <tr>\n",
       "      <th>1</th>\n",
       "      <td>1</td>\n",
       "      <td>4</td>\n",
       "    </tr>\n",
       "    <tr>\n",
       "      <th>2</th>\n",
       "      <td>2</td>\n",
       "      <td>4</td>\n",
       "    </tr>\n",
       "    <tr>\n",
       "      <th>3</th>\n",
       "      <td>3</td>\n",
       "      <td>4</td>\n",
       "    </tr>\n",
       "    <tr>\n",
       "      <th>4</th>\n",
       "      <td>4</td>\n",
       "      <td>4</td>\n",
       "    </tr>\n",
       "    <tr>\n",
       "      <th>...</th>\n",
       "      <td>...</td>\n",
       "      <td>...</td>\n",
       "    </tr>\n",
       "    <tr>\n",
       "      <th>499</th>\n",
       "      <td>499</td>\n",
       "      <td>1</td>\n",
       "    </tr>\n",
       "    <tr>\n",
       "      <th>500</th>\n",
       "      <td>500</td>\n",
       "      <td>1</td>\n",
       "    </tr>\n",
       "    <tr>\n",
       "      <th>501</th>\n",
       "      <td>501</td>\n",
       "      <td>1</td>\n",
       "    </tr>\n",
       "    <tr>\n",
       "      <th>502</th>\n",
       "      <td>502</td>\n",
       "      <td>1</td>\n",
       "    </tr>\n",
       "    <tr>\n",
       "      <th>503</th>\n",
       "      <td>503</td>\n",
       "      <td>1</td>\n",
       "    </tr>\n",
       "  </tbody>\n",
       "</table>\n",
       "<p>504 rows × 2 columns</p>\n",
       "</div>"
      ],
      "text/plain": [
       "     index  K-means_cent\n",
       "0        0             4\n",
       "1        1             4\n",
       "2        2             4\n",
       "3        3             4\n",
       "4        4             4\n",
       "..     ...           ...\n",
       "499    499             1\n",
       "500    500             1\n",
       "501    501             1\n",
       "502    502             1\n",
       "503    503             1\n",
       "\n",
       "[504 rows x 2 columns]"
      ]
     },
     "execution_count": 179,
     "metadata": {},
     "output_type": "execute_result"
    }
   ],
   "source": [
    "# On récupère le cluster assigné lors du K-means puis lors du CAH pour avoir un cluster final pour chaque observation\n",
    "kmeans_cent_df = pd.DataFrame(k_means_cent.labels_, columns = ['K-means_cent']).reset_index()\n",
    "kmeans_cent_df"
   ]
  },
  {
   "cell_type": "code",
   "execution_count": 180,
   "metadata": {},
   "outputs": [
    {
     "data": {
      "text/plain": [
       "1    109\n",
       "4    104\n",
       "3     92\n",
       "2     56\n",
       "6     43\n",
       "0     37\n",
       "7     33\n",
       "5     30\n",
       "Name: K-means_cent, dtype: int64"
      ]
     },
     "execution_count": 180,
     "metadata": {},
     "output_type": "execute_result"
    }
   ],
   "source": [
    "kmeans_cent_df['K-means_cent'].value_counts()"
   ]
  },
  {
   "cell_type": "code",
   "execution_count": 181,
   "metadata": {},
   "outputs": [
    {
     "data": {
      "text/html": [
       "<div>\n",
       "<style scoped>\n",
       "    .dataframe tbody tr th:only-of-type {\n",
       "        vertical-align: middle;\n",
       "    }\n",
       "\n",
       "    .dataframe tbody tr th {\n",
       "        vertical-align: top;\n",
       "    }\n",
       "\n",
       "    .dataframe thead th {\n",
       "        text-align: right;\n",
       "    }\n",
       "</style>\n",
       "<table border=\"1\" class=\"dataframe\">\n",
       "  <thead>\n",
       "    <tr style=\"text-align: right;\">\n",
       "      <th></th>\n",
       "      <th>index</th>\n",
       "      <th>Typologie</th>\n",
       "    </tr>\n",
       "  </thead>\n",
       "  <tbody>\n",
       "    <tr>\n",
       "      <th>1</th>\n",
       "      <td>1</td>\n",
       "      <td>0</td>\n",
       "    </tr>\n",
       "    <tr>\n",
       "      <th>2</th>\n",
       "      <td>2</td>\n",
       "      <td>0</td>\n",
       "    </tr>\n",
       "    <tr>\n",
       "      <th>4</th>\n",
       "      <td>4</td>\n",
       "      <td>0</td>\n",
       "    </tr>\n",
       "    <tr>\n",
       "      <th>6</th>\n",
       "      <td>6</td>\n",
       "      <td>0</td>\n",
       "    </tr>\n",
       "    <tr>\n",
       "      <th>5</th>\n",
       "      <td>5</td>\n",
       "      <td>1</td>\n",
       "    </tr>\n",
       "    <tr>\n",
       "      <th>7</th>\n",
       "      <td>7</td>\n",
       "      <td>1</td>\n",
       "    </tr>\n",
       "    <tr>\n",
       "      <th>0</th>\n",
       "      <td>0</td>\n",
       "      <td>2</td>\n",
       "    </tr>\n",
       "    <tr>\n",
       "      <th>3</th>\n",
       "      <td>3</td>\n",
       "      <td>2</td>\n",
       "    </tr>\n",
       "  </tbody>\n",
       "</table>\n",
       "</div>"
      ],
      "text/plain": [
       "   index  Typologie\n",
       "1      1          0\n",
       "2      2          0\n",
       "4      4          0\n",
       "6      6          0\n",
       "5      5          1\n",
       "7      7          1\n",
       "0      0          2\n",
       "3      3          2"
      ]
     },
     "execution_count": 181,
     "metadata": {},
     "output_type": "execute_result"
    }
   ],
   "source": [
    "hac_cent_df = pd.DataFrame(hac_cent.labels_, columns = ['Typologie']).reset_index()\n",
    "hac_cent_df.sort_values(['Typologie'])"
   ]
  },
  {
   "cell_type": "code",
   "execution_count": 182,
   "metadata": {},
   "outputs": [],
   "source": [
    "cluster_cent = pd.merge(kmeans_cent_df, hac_cent_df, left_on=['K-means_cent'], right_on=['index'], how='left')\n",
    "cluster_cent = cluster_cent.drop(['K-means_cent','index_y'], axis =1)"
   ]
  },
  {
   "cell_type": "code",
   "execution_count": 183,
   "metadata": {},
   "outputs": [
    {
     "name": "stdout",
     "output_type": "stream",
     "text": [
      "0    312\n",
      "2    129\n",
      "1     63\n",
      "Name: Typologie, dtype: int64\n",
      "0    0.619048\n",
      "2    0.255952\n",
      "1    0.125000\n",
      "Name: Typologie, dtype: float64\n"
     ]
    }
   ],
   "source": [
    "print(cluster_cent['Typologie'].value_counts())\n",
    "print(cluster_cent['Typologie'].value_counts(normalize=True))\n"
   ]
  },
  {
   "cell_type": "code",
   "execution_count": 184,
   "metadata": {},
   "outputs": [],
   "source": [
    "# Jointure finale avec tous les \n",
    "typologie = pd.merge(left=housing, right=cluster_cent, how='inner',left_index=True, right_index=True)"
   ]
  },
  {
   "cell_type": "markdown",
   "metadata": {},
   "source": [
    "# 4. Portraits Robots <a name=\"sect4\" ></a> "
   ]
  },
  {
   "cell_type": "code",
   "execution_count": 185,
   "metadata": {},
   "outputs": [
    {
     "data": {
      "text/html": [
       "<div>\n",
       "<style scoped>\n",
       "    .dataframe tbody tr th:only-of-type {\n",
       "        vertical-align: middle;\n",
       "    }\n",
       "\n",
       "    .dataframe tbody tr th {\n",
       "        vertical-align: top;\n",
       "    }\n",
       "\n",
       "    .dataframe thead th {\n",
       "        text-align: right;\n",
       "    }\n",
       "</style>\n",
       "<table border=\"1\" class=\"dataframe\">\n",
       "  <thead>\n",
       "    <tr style=\"text-align: right;\">\n",
       "      <th>Typologie</th>\n",
       "      <th>0</th>\n",
       "      <th>1</th>\n",
       "      <th>2</th>\n",
       "    </tr>\n",
       "  </thead>\n",
       "  <tbody>\n",
       "    <tr>\n",
       "      <th>CRIM</th>\n",
       "      <td>0.241148</td>\n",
       "      <td>1.343297</td>\n",
       "      <td>12.934445</td>\n",
       "    </tr>\n",
       "    <tr>\n",
       "      <th>ZN</th>\n",
       "      <td>18.371795</td>\n",
       "      <td>0.000000</td>\n",
       "      <td>0.000000</td>\n",
       "    </tr>\n",
       "    <tr>\n",
       "      <th>INDUS</th>\n",
       "      <td>6.462724</td>\n",
       "      <td>20.231111</td>\n",
       "      <td>18.100000</td>\n",
       "    </tr>\n",
       "    <tr>\n",
       "      <th>CHAS</th>\n",
       "      <td>0.044872</td>\n",
       "      <td>0.253968</td>\n",
       "      <td>0.038760</td>\n",
       "    </tr>\n",
       "    <tr>\n",
       "      <th>NOX</th>\n",
       "      <td>0.483717</td>\n",
       "      <td>0.666190</td>\n",
       "      <td>0.672705</td>\n",
       "    </tr>\n",
       "    <tr>\n",
       "      <th>RM</th>\n",
       "      <td>6.475776</td>\n",
       "      <td>5.938762</td>\n",
       "      <td>5.987946</td>\n",
       "    </tr>\n",
       "    <tr>\n",
       "      <th>AGE</th>\n",
       "      <td>54.724359</td>\n",
       "      <td>93.709524</td>\n",
       "      <td>89.744961</td>\n",
       "    </tr>\n",
       "    <tr>\n",
       "      <th>DIS</th>\n",
       "      <td>4.853085</td>\n",
       "      <td>2.054768</td>\n",
       "      <td>2.074587</td>\n",
       "    </tr>\n",
       "    <tr>\n",
       "      <th>RAD</th>\n",
       "      <td>4.487179</td>\n",
       "      <td>5.285714</td>\n",
       "      <td>24.000000</td>\n",
       "    </tr>\n",
       "    <tr>\n",
       "      <th>TAX</th>\n",
       "      <td>301.791667</td>\n",
       "      <td>412.015873</td>\n",
       "      <td>666.000000</td>\n",
       "    </tr>\n",
       "    <tr>\n",
       "      <th>PTRATIO</th>\n",
       "      <td>17.893269</td>\n",
       "      <td>17.728571</td>\n",
       "      <td>20.200000</td>\n",
       "    </tr>\n",
       "    <tr>\n",
       "      <th>LSTAT</th>\n",
       "      <td>9.258429</td>\n",
       "      <td>16.768254</td>\n",
       "      <td>18.940310</td>\n",
       "    </tr>\n",
       "    <tr>\n",
       "      <th>MEDV</th>\n",
       "      <td>25.877885</td>\n",
       "      <td>19.661905</td>\n",
       "      <td>15.840310</td>\n",
       "    </tr>\n",
       "  </tbody>\n",
       "</table>\n",
       "</div>"
      ],
      "text/plain": [
       "Typologie           0           1           2\n",
       "CRIM         0.241148    1.343297   12.934445\n",
       "ZN          18.371795    0.000000    0.000000\n",
       "INDUS        6.462724   20.231111   18.100000\n",
       "CHAS         0.044872    0.253968    0.038760\n",
       "NOX          0.483717    0.666190    0.672705\n",
       "RM           6.475776    5.938762    5.987946\n",
       "AGE         54.724359   93.709524   89.744961\n",
       "DIS          4.853085    2.054768    2.074587\n",
       "RAD          4.487179    5.285714   24.000000\n",
       "TAX        301.791667  412.015873  666.000000\n",
       "PTRATIO     17.893269   17.728571   20.200000\n",
       "LSTAT        9.258429   16.768254   18.940310\n",
       "MEDV        25.877885   19.661905   15.840310"
      ]
     },
     "execution_count": 185,
     "metadata": {},
     "output_type": "execute_result"
    }
   ],
   "source": [
    "#Pour chaque cluster, on calcule la moyenne des variables quantitatives\n",
    "# et la proportion des variables qualitatives. On peut ainsi voir en quels domaines les clusters se différencient. Ci-dessous le portrait robot de la classification mixte :\n",
    "\n",
    "# Variables quanti : moyenne de la variable\n",
    "# le index =false permet que le resultat reprenne bien les var en group by\n",
    "stats=typologie.groupby(['Typologie'])[[\"CRIM\",\"ZN\",\"INDUS\",\"CHAS\",\"NOX\",\"RM\",\"AGE\",\"DIS\",\"RAD\",\"TAX\", \"PTRATIO\",\"LSTAT\",\"MEDV\"]].mean()\n",
    "stats.T"
   ]
  },
  {
   "cell_type": "code",
   "execution_count": 186,
   "metadata": {},
   "outputs": [
    {
     "data": {
      "text/html": [
       "<div>\n",
       "<style scoped>\n",
       "    .dataframe tbody tr th:only-of-type {\n",
       "        vertical-align: middle;\n",
       "    }\n",
       "\n",
       "    .dataframe tbody tr th {\n",
       "        vertical-align: top;\n",
       "    }\n",
       "\n",
       "    .dataframe thead th {\n",
       "        text-align: right;\n",
       "    }\n",
       "</style>\n",
       "<table border=\"1\" class=\"dataframe\">\n",
       "  <thead>\n",
       "    <tr style=\"text-align: right;\">\n",
       "      <th>Valeur_Immo</th>\n",
       "      <th>1.&lt;15k$</th>\n",
       "      <th>2.15k-25k$</th>\n",
       "      <th>3.&gt;25k$</th>\n",
       "    </tr>\n",
       "    <tr>\n",
       "      <th>Typologie</th>\n",
       "      <th></th>\n",
       "      <th></th>\n",
       "      <th></th>\n",
       "    </tr>\n",
       "  </thead>\n",
       "  <tbody>\n",
       "    <tr>\n",
       "      <th>0</th>\n",
       "      <td>0.117021</td>\n",
       "      <td>0.658273</td>\n",
       "      <td>0.893939</td>\n",
       "    </tr>\n",
       "    <tr>\n",
       "      <th>1</th>\n",
       "      <td>0.127660</td>\n",
       "      <td>0.165468</td>\n",
       "      <td>0.037879</td>\n",
       "    </tr>\n",
       "    <tr>\n",
       "      <th>2</th>\n",
       "      <td>0.755319</td>\n",
       "      <td>0.176259</td>\n",
       "      <td>0.068182</td>\n",
       "    </tr>\n",
       "  </tbody>\n",
       "</table>\n",
       "</div>"
      ],
      "text/plain": [
       "Valeur_Immo   1.<15k$  2.15k-25k$   3.>25k$\n",
       "Typologie                                  \n",
       "0            0.117021    0.658273  0.893939\n",
       "1            0.127660    0.165468  0.037879\n",
       "2            0.755319    0.176259  0.068182"
      ]
     },
     "execution_count": 186,
     "metadata": {},
     "output_type": "execute_result"
    }
   ],
   "source": [
    "pd.crosstab(typologie['Typologie'], typologie['Valeur_Immo'], normalize='columns')"
   ]
  },
  {
   "cell_type": "markdown",
   "metadata": {},
   "source": [
    "#### UTILISER UNE FONCTION DE PORTRAITS ROBOTS\n",
    "\n",
    "cette fonction permet de calculer les P-values du t-test"
   ]
  },
  {
   "cell_type": "code",
   "execution_count": 187,
   "metadata": {},
   "outputs": [],
   "source": [
    "os.chdir(\"/home/jupyter/python_ml/modules/\")\n",
    "from portraits_robots_quanti import portraits_robot_quanti\n",
    "from pouvoir_discriminant import pouvoir_discriminant"
   ]
  },
  {
   "cell_type": "code",
   "execution_count": 188,
   "metadata": {},
   "outputs": [
    {
     "data": {
      "text/html": [
       "<div>\n",
       "<style scoped>\n",
       "    .dataframe tbody tr th:only-of-type {\n",
       "        vertical-align: middle;\n",
       "    }\n",
       "\n",
       "    .dataframe tbody tr th {\n",
       "        vertical-align: top;\n",
       "    }\n",
       "\n",
       "    .dataframe thead th {\n",
       "        text-align: right;\n",
       "    }\n",
       "</style>\n",
       "<table border=\"1\" class=\"dataframe\">\n",
       "  <thead>\n",
       "    <tr style=\"text-align: right;\">\n",
       "      <th></th>\n",
       "      <th>index</th>\n",
       "      <th>VARIABLE</th>\n",
       "      <th>p-value_0</th>\n",
       "      <th>p-value_1</th>\n",
       "      <th>p-value_2</th>\n",
       "      <th>y_0</th>\n",
       "      <th>y_1</th>\n",
       "      <th>y_2</th>\n",
       "      <th>y_All</th>\n",
       "    </tr>\n",
       "  </thead>\n",
       "  <tbody>\n",
       "    <tr>\n",
       "      <th>3</th>\n",
       "      <td>0.0</td>\n",
       "      <td>CRIM</td>\n",
       "      <td>0.0</td>\n",
       "      <td>0.024306</td>\n",
       "      <td>0.0</td>\n",
       "      <td>0.241148</td>\n",
       "      <td>1.343297</td>\n",
       "      <td>12.934445</td>\n",
       "      <td>3.627796</td>\n",
       "    </tr>\n",
       "    <tr>\n",
       "      <th>13</th>\n",
       "      <td>1.0</td>\n",
       "      <td>ZN</td>\n",
       "      <td>0.0</td>\n",
       "      <td>0.000032</td>\n",
       "      <td>0.0</td>\n",
       "      <td>18.371795</td>\n",
       "      <td>0.000000</td>\n",
       "      <td>0.000000</td>\n",
       "      <td>11.373016</td>\n",
       "    </tr>\n",
       "    <tr>\n",
       "      <th>5</th>\n",
       "      <td>2.0</td>\n",
       "      <td>INDUS</td>\n",
       "      <td>0.0</td>\n",
       "      <td>0.0</td>\n",
       "      <td>0.0</td>\n",
       "      <td>6.462724</td>\n",
       "      <td>20.231111</td>\n",
       "      <td>18.100000</td>\n",
       "      <td>11.162361</td>\n",
       "    </tr>\n",
       "    <tr>\n",
       "      <th>2</th>\n",
       "      <td>3.0</td>\n",
       "      <td>CHAS</td>\n",
       "      <td>0.005605</td>\n",
       "      <td>0.0</td>\n",
       "      <td>0.112417</td>\n",
       "      <td>0.044872</td>\n",
       "      <td>0.253968</td>\n",
       "      <td>0.038760</td>\n",
       "      <td>0.069444</td>\n",
       "    </tr>\n",
       "    <tr>\n",
       "      <th>8</th>\n",
       "      <td>4.0</td>\n",
       "      <td>NOX</td>\n",
       "      <td>0.0</td>\n",
       "      <td>0.0</td>\n",
       "      <td>0.0</td>\n",
       "      <td>0.483717</td>\n",
       "      <td>0.666190</td>\n",
       "      <td>0.672705</td>\n",
       "      <td>0.554898</td>\n",
       "    </tr>\n",
       "    <tr>\n",
       "      <th>11</th>\n",
       "      <td>5.0</td>\n",
       "      <td>RM</td>\n",
       "      <td>0.0</td>\n",
       "      <td>0.000028</td>\n",
       "      <td>0.0</td>\n",
       "      <td>6.475776</td>\n",
       "      <td>5.938762</td>\n",
       "      <td>5.987946</td>\n",
       "      <td>6.283788</td>\n",
       "    </tr>\n",
       "    <tr>\n",
       "      <th>1</th>\n",
       "      <td>6.0</td>\n",
       "      <td>AGE</td>\n",
       "      <td>0.0</td>\n",
       "      <td>0.0</td>\n",
       "      <td>0.0</td>\n",
       "      <td>54.724359</td>\n",
       "      <td>93.709524</td>\n",
       "      <td>89.744961</td>\n",
       "      <td>68.561111</td>\n",
       "    </tr>\n",
       "    <tr>\n",
       "      <th>4</th>\n",
       "      <td>7.0</td>\n",
       "      <td>DIS</td>\n",
       "      <td>0.0</td>\n",
       "      <td>0.0</td>\n",
       "      <td>0.0</td>\n",
       "      <td>4.853085</td>\n",
       "      <td>2.054768</td>\n",
       "      <td>2.074587</td>\n",
       "      <td>3.792132</td>\n",
       "    </tr>\n",
       "    <tr>\n",
       "      <th>10</th>\n",
       "      <td>8.0</td>\n",
       "      <td>RAD</td>\n",
       "      <td>0.0</td>\n",
       "      <td>0.000025</td>\n",
       "      <td>0.0</td>\n",
       "      <td>4.487179</td>\n",
       "      <td>5.285714</td>\n",
       "      <td>24.000000</td>\n",
       "      <td>9.581349</td>\n",
       "    </tr>\n",
       "    <tr>\n",
       "      <th>12</th>\n",
       "      <td>9.0</td>\n",
       "      <td>TAX</td>\n",
       "      <td>0.0</td>\n",
       "      <td>0.871231</td>\n",
       "      <td>0.0</td>\n",
       "      <td>301.791667</td>\n",
       "      <td>412.015873</td>\n",
       "      <td>666.000000</td>\n",
       "      <td>408.789683</td>\n",
       "    </tr>\n",
       "    <tr>\n",
       "      <th>9</th>\n",
       "      <td>10.0</td>\n",
       "      <td>PTRATIO</td>\n",
       "      <td>0.0</td>\n",
       "      <td>0.003887</td>\n",
       "      <td>0.0</td>\n",
       "      <td>17.893269</td>\n",
       "      <td>17.728571</td>\n",
       "      <td>20.200000</td>\n",
       "      <td>18.463095</td>\n",
       "    </tr>\n",
       "    <tr>\n",
       "      <th>6</th>\n",
       "      <td>11.0</td>\n",
       "      <td>LSTAT</td>\n",
       "      <td>0.0</td>\n",
       "      <td>0.000001</td>\n",
       "      <td>0.0</td>\n",
       "      <td>9.258429</td>\n",
       "      <td>16.768254</td>\n",
       "      <td>18.940310</td>\n",
       "      <td>12.675258</td>\n",
       "    </tr>\n",
       "    <tr>\n",
       "      <th>7</th>\n",
       "      <td>12.0</td>\n",
       "      <td>MEDV</td>\n",
       "      <td>0.0</td>\n",
       "      <td>0.0081</td>\n",
       "      <td>0.0</td>\n",
       "      <td>25.877885</td>\n",
       "      <td>19.661905</td>\n",
       "      <td>15.840310</td>\n",
       "      <td>22.531746</td>\n",
       "    </tr>\n",
       "    <tr>\n",
       "      <th>0</th>\n",
       "      <td>NaN</td>\n",
       "      <td>Effectif</td>\n",
       "      <td>NaN</td>\n",
       "      <td>NaN</td>\n",
       "      <td>NaN</td>\n",
       "      <td>312.000000</td>\n",
       "      <td>63.000000</td>\n",
       "      <td>129.000000</td>\n",
       "      <td>504.000000</td>\n",
       "    </tr>\n",
       "  </tbody>\n",
       "</table>\n",
       "</div>"
      ],
      "text/plain": [
       "    index  VARIABLE p-value_0 p-value_1 p-value_2         y_0         y_1  \\\n",
       "3     0.0      CRIM       0.0  0.024306       0.0    0.241148    1.343297   \n",
       "13    1.0        ZN       0.0  0.000032       0.0   18.371795    0.000000   \n",
       "5     2.0     INDUS       0.0       0.0       0.0    6.462724   20.231111   \n",
       "2     3.0      CHAS  0.005605       0.0  0.112417    0.044872    0.253968   \n",
       "8     4.0       NOX       0.0       0.0       0.0    0.483717    0.666190   \n",
       "11    5.0        RM       0.0  0.000028       0.0    6.475776    5.938762   \n",
       "1     6.0       AGE       0.0       0.0       0.0   54.724359   93.709524   \n",
       "4     7.0       DIS       0.0       0.0       0.0    4.853085    2.054768   \n",
       "10    8.0       RAD       0.0  0.000025       0.0    4.487179    5.285714   \n",
       "12    9.0       TAX       0.0  0.871231       0.0  301.791667  412.015873   \n",
       "9    10.0   PTRATIO       0.0  0.003887       0.0   17.893269   17.728571   \n",
       "6    11.0     LSTAT       0.0  0.000001       0.0    9.258429   16.768254   \n",
       "7    12.0      MEDV       0.0    0.0081       0.0   25.877885   19.661905   \n",
       "0     NaN  Effectif       NaN       NaN       NaN  312.000000   63.000000   \n",
       "\n",
       "           y_2       y_All  \n",
       "3    12.934445    3.627796  \n",
       "13    0.000000   11.373016  \n",
       "5    18.100000   11.162361  \n",
       "2     0.038760    0.069444  \n",
       "8     0.672705    0.554898  \n",
       "11    5.987946    6.283788  \n",
       "1    89.744961   68.561111  \n",
       "4     2.074587    3.792132  \n",
       "10   24.000000    9.581349  \n",
       "12  666.000000  408.789683  \n",
       "9    20.200000   18.463095  \n",
       "6    18.940310   12.675258  \n",
       "7    15.840310   22.531746  \n",
       "0   129.000000  504.000000  "
      ]
     },
     "execution_count": 188,
     "metadata": {},
     "output_type": "execute_result"
    }
   ],
   "source": [
    "stats=portraits_robot_quanti(typologie, 'Typologie', [\"CRIM\",\"ZN\",\"INDUS\",\"CHAS\",\"NOX\",\"RM\",\"AGE\",\"DIS\",\"RAD\",\"TAX\", \"PTRATIO\",\"LSTAT\",\"MEDV\"])\n",
    "# Pour chaque variable on a la moyenne de la variable par classe de la typologie et la pvalue associée\n",
    "stats.sort_values('index')"
   ]
  },
  {
   "cell_type": "code",
   "execution_count": 189,
   "metadata": {},
   "outputs": [
    {
     "data": {
      "text/html": [
       "<div>\n",
       "<style scoped>\n",
       "    .dataframe tbody tr th:only-of-type {\n",
       "        vertical-align: middle;\n",
       "    }\n",
       "\n",
       "    .dataframe tbody tr th {\n",
       "        vertical-align: top;\n",
       "    }\n",
       "\n",
       "    .dataframe thead th {\n",
       "        text-align: right;\n",
       "    }\n",
       "</style>\n",
       "<table border=\"1\" class=\"dataframe\">\n",
       "  <thead>\n",
       "    <tr style=\"text-align: right;\">\n",
       "      <th></th>\n",
       "      <th>Variable</th>\n",
       "      <th>VB</th>\n",
       "      <th>VW</th>\n",
       "      <th>VT</th>\n",
       "      <th>Calinski</th>\n",
       "      <th>TxVarWithin</th>\n",
       "      <th>TxVarBetween</th>\n",
       "    </tr>\n",
       "  </thead>\n",
       "  <tbody>\n",
       "    <tr>\n",
       "      <th>8</th>\n",
       "      <td>RAD</td>\n",
       "      <td>3.607786e+04</td>\n",
       "      <td>2.078806e+03</td>\n",
       "      <td>3.815666e+04</td>\n",
       "      <td>4347.449565</td>\n",
       "      <td>5.45</td>\n",
       "      <td>94.55</td>\n",
       "    </tr>\n",
       "    <tr>\n",
       "      <th>9</th>\n",
       "      <td>TAX</td>\n",
       "      <td>1.210688e+07</td>\n",
       "      <td>2.197134e+06</td>\n",
       "      <td>1.430402e+07</td>\n",
       "      <td>1380.331672</td>\n",
       "      <td>15.36</td>\n",
       "      <td>84.64</td>\n",
       "    </tr>\n",
       "    <tr>\n",
       "      <th>3</th>\n",
       "      <td>INDUS</td>\n",
       "      <td>1.828115e+04</td>\n",
       "      <td>5.391610e+03</td>\n",
       "      <td>2.367276e+04</td>\n",
       "      <td>849.361944</td>\n",
       "      <td>22.78</td>\n",
       "      <td>77.22</td>\n",
       "    </tr>\n",
       "    <tr>\n",
       "      <th>4</th>\n",
       "      <td>NOX</td>\n",
       "      <td>4.151479e+00</td>\n",
       "      <td>2.621834e+00</td>\n",
       "      <td>6.773313e+00</td>\n",
       "      <td>396.648088</td>\n",
       "      <td>38.71</td>\n",
       "      <td>61.29</td>\n",
       "    </tr>\n",
       "    <tr>\n",
       "      <th>7</th>\n",
       "      <td>DIS</td>\n",
       "      <td>9.218999e+02</td>\n",
       "      <td>1.315813e+03</td>\n",
       "      <td>2.237713e+03</td>\n",
       "      <td>175.508188</td>\n",
       "      <td>58.80</td>\n",
       "      <td>41.20</td>\n",
       "    </tr>\n",
       "    <tr>\n",
       "      <th>1</th>\n",
       "      <td>CRIM</td>\n",
       "      <td>1.508041e+04</td>\n",
       "      <td>2.225684e+04</td>\n",
       "      <td>3.733725e+04</td>\n",
       "      <td>169.729537</td>\n",
       "      <td>59.61</td>\n",
       "      <td>40.39</td>\n",
       "    </tr>\n",
       "    <tr>\n",
       "      <th>6</th>\n",
       "      <td>AGE</td>\n",
       "      <td>1.574675e+05</td>\n",
       "      <td>2.425554e+05</td>\n",
       "      <td>4.000229e+05</td>\n",
       "      <td>162.625203</td>\n",
       "      <td>60.64</td>\n",
       "      <td>39.36</td>\n",
       "    </tr>\n",
       "    <tr>\n",
       "      <th>11</th>\n",
       "      <td>LSTAT</td>\n",
       "      <td>9.761290e+03</td>\n",
       "      <td>1.591960e+04</td>\n",
       "      <td>2.568089e+04</td>\n",
       "      <td>153.597037</td>\n",
       "      <td>61.99</td>\n",
       "      <td>38.01</td>\n",
       "    </tr>\n",
       "    <tr>\n",
       "      <th>12</th>\n",
       "      <td>MEDV</td>\n",
       "      <td>9.788236e+03</td>\n",
       "      <td>3.292504e+04</td>\n",
       "      <td>4.271327e+04</td>\n",
       "      <td>74.470777</td>\n",
       "      <td>77.08</td>\n",
       "      <td>22.92</td>\n",
       "    </tr>\n",
       "    <tr>\n",
       "      <th>10</th>\n",
       "      <td>PTRATIO</td>\n",
       "      <td>5.244691e+02</td>\n",
       "      <td>1.832044e+03</td>\n",
       "      <td>2.356514e+03</td>\n",
       "      <td>71.711971</td>\n",
       "      <td>77.74</td>\n",
       "      <td>22.26</td>\n",
       "    </tr>\n",
       "    <tr>\n",
       "      <th>2</th>\n",
       "      <td>ZN</td>\n",
       "      <td>4.011700e+04</td>\n",
       "      <td>2.343979e+05</td>\n",
       "      <td>2.745149e+05</td>\n",
       "      <td>42.872867</td>\n",
       "      <td>85.39</td>\n",
       "      <td>14.61</td>\n",
       "    </tr>\n",
       "    <tr>\n",
       "      <th>5</th>\n",
       "      <td>RM</td>\n",
       "      <td>3.029022e+01</td>\n",
       "      <td>2.189103e+02</td>\n",
       "      <td>2.492005e+02</td>\n",
       "      <td>34.661228</td>\n",
       "      <td>87.85</td>\n",
       "      <td>12.15</td>\n",
       "    </tr>\n",
       "    <tr>\n",
       "      <th>0</th>\n",
       "      <td>CHAS</td>\n",
       "      <td>2.454940e+00</td>\n",
       "      <td>3.011450e+01</td>\n",
       "      <td>3.256944e+01</td>\n",
       "      <td>20.420807</td>\n",
       "      <td>92.46</td>\n",
       "      <td>7.54</td>\n",
       "    </tr>\n",
       "  </tbody>\n",
       "</table>\n",
       "</div>"
      ],
      "text/plain": [
       "   Variable            VB            VW            VT     Calinski  \\\n",
       "8       RAD  3.607786e+04  2.078806e+03  3.815666e+04  4347.449565   \n",
       "9       TAX  1.210688e+07  2.197134e+06  1.430402e+07  1380.331672   \n",
       "3     INDUS  1.828115e+04  5.391610e+03  2.367276e+04   849.361944   \n",
       "4       NOX  4.151479e+00  2.621834e+00  6.773313e+00   396.648088   \n",
       "7       DIS  9.218999e+02  1.315813e+03  2.237713e+03   175.508188   \n",
       "1      CRIM  1.508041e+04  2.225684e+04  3.733725e+04   169.729537   \n",
       "6       AGE  1.574675e+05  2.425554e+05  4.000229e+05   162.625203   \n",
       "11    LSTAT  9.761290e+03  1.591960e+04  2.568089e+04   153.597037   \n",
       "12     MEDV  9.788236e+03  3.292504e+04  4.271327e+04    74.470777   \n",
       "10  PTRATIO  5.244691e+02  1.832044e+03  2.356514e+03    71.711971   \n",
       "2        ZN  4.011700e+04  2.343979e+05  2.745149e+05    42.872867   \n",
       "5        RM  3.029022e+01  2.189103e+02  2.492005e+02    34.661228   \n",
       "0      CHAS  2.454940e+00  3.011450e+01  3.256944e+01    20.420807   \n",
       "\n",
       "    TxVarWithin  TxVarBetween  \n",
       "8          5.45         94.55  \n",
       "9         15.36         84.64  \n",
       "3         22.78         77.22  \n",
       "4         38.71         61.29  \n",
       "7         58.80         41.20  \n",
       "1         59.61         40.39  \n",
       "6         60.64         39.36  \n",
       "11        61.99         38.01  \n",
       "12        77.08         22.92  \n",
       "10        77.74         22.26  \n",
       "2         85.39         14.61  \n",
       "5         87.85         12.15  \n",
       "0         92.46          7.54  "
      ]
     },
     "execution_count": 189,
     "metadata": {},
     "output_type": "execute_result"
    }
   ],
   "source": [
    "# Fonction qui calcule pour chaque variable numérique si la typologie explique bien leur variance\n",
    "# VB = Variance Between\n",
    "# VW = Variance Within\n",
    "# VT = Variance Totale\n",
    "# Tx* = Taux des variances par rapport à la variance Totale\n",
    "# Calinski = Statistique de Calinski-HaraBascz (Plus c'est élevée plus la variable joue en la faveur de la variance Between)\n",
    "\n",
    "pouvoirDiscrimant=pouvoir_discriminant(typologie, 'Typologie', [\"CHAS\",\"CRIM\",\"ZN\",\"INDUS\",\"NOX\",\"RM\",\"AGE\",\"DIS\",\"RAD\",\"TAX\", \"PTRATIO\",\"LSTAT\",\"MEDV\"])\n",
    "pouvoirDiscrimant"
   ]
  },
  {
   "cell_type": "markdown",
   "metadata": {},
   "source": [
    "## Réaffection - ***Optionnel***\n",
    "\n",
    "\n",
    "Dans cette section, il s’agit de proposer des techniques d’affectation à une segmentation pré-existante et dont nous possédons un échantillon : nous avons des observations sur des individus dont nous connaissons le segment. On est ici dans un cadre de classification supervisée.\n",
    "\n",
    "On commence par séparer notre base en deux : une partie pour apprendre le lien entre les variables explicatives et la cible (la classe d’appartenance du client : ici la classification mixte), et une autre sur laquelle on évalue la qualité de la méthode d’affectation - principe de ne pas être juge et partie.\n",
    "\n",
    "On choisit la taille respective des bases - ici 75% pour l’apprentissage - , puis on tire 75% des lignes au hasard que l’on affecte à la base train, le reste étant affecté à test.\n"
   ]
  },
  {
   "cell_type": "code",
   "execution_count": 190,
   "metadata": {},
   "outputs": [],
   "source": [
    "from sklearn.model_selection import train_test_split \n",
    "X_train, X_test, y_train, y_test = train_test_split(typologie[[\"CRIM\",\"ZN\",\"INDUS\",\"CHAS\",\"NOX\",\"RM\",\"AGE\",\"DIS\",\"RAD\",\"TAX\", \"PTRATIO\",\"LSTAT\"]],typologie['Typologie'],test_size = 0.25, random_state = 42)"
   ]
  },
  {
   "cell_type": "code",
   "execution_count": 191,
   "metadata": {},
   "outputs": [
    {
     "data": {
      "text/plain": [
       "KNeighborsClassifier(n_neighbors=8)"
      ]
     },
     "execution_count": 191,
     "metadata": {},
     "output_type": "execute_result"
    }
   ],
   "source": [
    "# Plus proches voisins (Nouvelles méthodes par exemple)\n",
    "\n",
    "# On cherche les plus proches voisins de chaque individu et on lui affecte la classe majoritaire parmi ses voisins. \n",
    "# Le paramètre de la méthode est le nombre K de voisins - ici K = 8.\n",
    "from sklearn.neighbors import KNeighborsClassifier\n",
    "\n",
    "knn = KNeighborsClassifier(n_neighbors = 8)\n",
    "knn.fit(X_train,y_train)"
   ]
  },
  {
   "cell_type": "code",
   "execution_count": 192,
   "metadata": {},
   "outputs": [],
   "source": [
    "y_pred_test = knn.predict(X_test)\n",
    "y_pred_train = knn.predict(X_train)"
   ]
  },
  {
   "cell_type": "code",
   "execution_count": 193,
   "metadata": {},
   "outputs": [
    {
     "name": "stdout",
     "output_type": "stream",
     "text": [
      "Typologie         0         1         2\n",
      "row_0                                  \n",
      "0          0.964706  0.035294  0.000000\n",
      "1          0.142857  0.857143  0.000000\n",
      "2          0.000000  0.058824  0.941176\n",
      "Typologie         0         1    2\n",
      "row_0                             \n",
      "0          0.987952  0.272727  0.0\n",
      "1          0.012048  0.545455  0.0\n",
      "2          0.000000  0.181818  1.0\n"
     ]
    }
   ],
   "source": [
    "\n",
    "#La qualité de la méthode se lit sur la matrice de confusion. Cette méthode est utilisée sur les variables quantitatives.\n",
    "print(pd.crosstab(y_pred_test, y_test,normalize='index'))\n",
    "print(pd.crosstab(y_pred_test, y_test,normalize='columns'))"
   ]
  },
  {
   "cell_type": "code",
   "execution_count": 194,
   "metadata": {},
   "outputs": [
    {
     "data": {
      "text/plain": [
       "(0.9682539682539683, 0.9523809523809523)"
      ]
     },
     "execution_count": 194,
     "metadata": {},
     "output_type": "execute_result"
    }
   ],
   "source": [
    "from sklearn.metrics import accuracy_score\n",
    "accuracy_score(y_train,y_pred_train),accuracy_score(y_test,y_pred_test)"
   ]
  },
  {
   "cell_type": "code",
   "execution_count": null,
   "metadata": {},
   "outputs": [],
   "source": []
  }
 ],
 "metadata": {
  "environment": {
   "name": "tf2-gpu.2-1.m46",
   "type": "gcloud",
   "uri": "gcr.io/deeplearning-platform-release/tf2-gpu.2-1:m46"
  },
  "kernelspec": {
   "display_name": "Python 3 (ipykernel)",
   "language": "python",
   "name": "python3"
  },
  "language_info": {
   "codemirror_mode": {
    "name": "ipython",
    "version": 3
   },
   "file_extension": ".py",
   "mimetype": "text/x-python",
   "name": "python",
   "nbconvert_exporter": "python",
   "pygments_lexer": "ipython3",
   "version": "3.7.12"
  }
 },
 "nbformat": 4,
 "nbformat_minor": 4
}
