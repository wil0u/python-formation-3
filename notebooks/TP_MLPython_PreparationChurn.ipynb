{
 "cells": [
  {
   "cell_type": "markdown",
   "metadata": {},
   "source": [
    "# Ce notebook permet de préparer la table et les variables pour réaliser un score de churn  "
   ]
  },
  {
   "cell_type": "code",
   "execution_count": 5,
   "metadata": {},
   "outputs": [],
   "source": [
    "import pandas as pd\n",
    "import numpy as np\n",
    "import os\n",
    "repertoire = \"/home/jupyter/python_ml/data/\"\n",
    "os.chdir(repertoire)"
   ]
  },
  {
   "cell_type": "markdown",
   "metadata": {},
   "source": [
    "## Data : score attrition Telco"
   ]
  },
  {
   "cell_type": "code",
   "execution_count": 6,
   "metadata": {},
   "outputs": [
    {
     "data": {
      "text/plain": [
       "State              object\n",
       "Account Length      int64\n",
       "Area Code           int64\n",
       "Phone              object\n",
       "Int'l Plan         object\n",
       "VMail Plan         object\n",
       "VMail Message       int64\n",
       "Day Mins          float64\n",
       "Day Calls           int64\n",
       "Day Charge        float64\n",
       "Eve Mins          float64\n",
       "Eve Calls           int64\n",
       "Eve Charge        float64\n",
       "Night Mins        float64\n",
       "Night Calls         int64\n",
       "Night Charge      float64\n",
       "Intl Mins         float64\n",
       "Intl Calls          int64\n",
       "Intl Charge       float64\n",
       "CustServ Calls      int64\n",
       "Churn?             object\n",
       "dtype: object"
      ]
     },
     "execution_count": 6,
     "metadata": {},
     "output_type": "execute_result"
    }
   ],
   "source": [
    "churn_df = pd.read_csv('churn.csv')\n",
    "churn_df.dtypes"
   ]
  },
  {
   "cell_type": "code",
   "execution_count": 9,
   "metadata": {},
   "outputs": [
    {
     "data": {
      "text/html": [
       "<div>\n",
       "<style scoped>\n",
       "    .dataframe tbody tr th:only-of-type {\n",
       "        vertical-align: middle;\n",
       "    }\n",
       "\n",
       "    .dataframe tbody tr th {\n",
       "        vertical-align: top;\n",
       "    }\n",
       "\n",
       "    .dataframe thead th {\n",
       "        text-align: right;\n",
       "    }\n",
       "</style>\n",
       "<table border=\"1\" class=\"dataframe\">\n",
       "  <thead>\n",
       "    <tr style=\"text-align: right;\">\n",
       "      <th></th>\n",
       "      <th>State</th>\n",
       "      <th>Account Length</th>\n",
       "      <th>Area Code</th>\n",
       "      <th>Phone</th>\n",
       "      <th>Int'l Plan</th>\n",
       "      <th>VMail Plan</th>\n",
       "      <th>VMail Message</th>\n",
       "      <th>Day Mins</th>\n",
       "      <th>Day Calls</th>\n",
       "      <th>Day Charge</th>\n",
       "      <th>...</th>\n",
       "      <th>Eve Calls</th>\n",
       "      <th>Eve Charge</th>\n",
       "      <th>Night Mins</th>\n",
       "      <th>Night Calls</th>\n",
       "      <th>Night Charge</th>\n",
       "      <th>Intl Mins</th>\n",
       "      <th>Intl Calls</th>\n",
       "      <th>Intl Charge</th>\n",
       "      <th>CustServ Calls</th>\n",
       "      <th>Churn?</th>\n",
       "    </tr>\n",
       "  </thead>\n",
       "  <tbody>\n",
       "    <tr>\n",
       "      <th>0</th>\n",
       "      <td>KS</td>\n",
       "      <td>128</td>\n",
       "      <td>415</td>\n",
       "      <td>382-4657</td>\n",
       "      <td>no</td>\n",
       "      <td>yes</td>\n",
       "      <td>25</td>\n",
       "      <td>265.1</td>\n",
       "      <td>110</td>\n",
       "      <td>45.07</td>\n",
       "      <td>...</td>\n",
       "      <td>99</td>\n",
       "      <td>16.78</td>\n",
       "      <td>244.7</td>\n",
       "      <td>91</td>\n",
       "      <td>11.01</td>\n",
       "      <td>10.0</td>\n",
       "      <td>3</td>\n",
       "      <td>2.70</td>\n",
       "      <td>1</td>\n",
       "      <td>False.</td>\n",
       "    </tr>\n",
       "    <tr>\n",
       "      <th>1</th>\n",
       "      <td>OH</td>\n",
       "      <td>107</td>\n",
       "      <td>415</td>\n",
       "      <td>371-7191</td>\n",
       "      <td>no</td>\n",
       "      <td>yes</td>\n",
       "      <td>26</td>\n",
       "      <td>161.6</td>\n",
       "      <td>123</td>\n",
       "      <td>27.47</td>\n",
       "      <td>...</td>\n",
       "      <td>103</td>\n",
       "      <td>16.62</td>\n",
       "      <td>254.4</td>\n",
       "      <td>103</td>\n",
       "      <td>11.45</td>\n",
       "      <td>13.7</td>\n",
       "      <td>3</td>\n",
       "      <td>3.70</td>\n",
       "      <td>1</td>\n",
       "      <td>False.</td>\n",
       "    </tr>\n",
       "    <tr>\n",
       "      <th>2</th>\n",
       "      <td>NJ</td>\n",
       "      <td>137</td>\n",
       "      <td>415</td>\n",
       "      <td>358-1921</td>\n",
       "      <td>no</td>\n",
       "      <td>no</td>\n",
       "      <td>0</td>\n",
       "      <td>243.4</td>\n",
       "      <td>114</td>\n",
       "      <td>41.38</td>\n",
       "      <td>...</td>\n",
       "      <td>110</td>\n",
       "      <td>10.30</td>\n",
       "      <td>162.6</td>\n",
       "      <td>104</td>\n",
       "      <td>7.32</td>\n",
       "      <td>12.2</td>\n",
       "      <td>5</td>\n",
       "      <td>3.29</td>\n",
       "      <td>0</td>\n",
       "      <td>False.</td>\n",
       "    </tr>\n",
       "    <tr>\n",
       "      <th>3</th>\n",
       "      <td>OH</td>\n",
       "      <td>84</td>\n",
       "      <td>408</td>\n",
       "      <td>375-9999</td>\n",
       "      <td>yes</td>\n",
       "      <td>no</td>\n",
       "      <td>0</td>\n",
       "      <td>299.4</td>\n",
       "      <td>71</td>\n",
       "      <td>50.90</td>\n",
       "      <td>...</td>\n",
       "      <td>88</td>\n",
       "      <td>5.26</td>\n",
       "      <td>196.9</td>\n",
       "      <td>89</td>\n",
       "      <td>8.86</td>\n",
       "      <td>6.6</td>\n",
       "      <td>7</td>\n",
       "      <td>1.78</td>\n",
       "      <td>2</td>\n",
       "      <td>False.</td>\n",
       "    </tr>\n",
       "    <tr>\n",
       "      <th>4</th>\n",
       "      <td>OK</td>\n",
       "      <td>75</td>\n",
       "      <td>415</td>\n",
       "      <td>330-6626</td>\n",
       "      <td>yes</td>\n",
       "      <td>no</td>\n",
       "      <td>0</td>\n",
       "      <td>166.7</td>\n",
       "      <td>113</td>\n",
       "      <td>28.34</td>\n",
       "      <td>...</td>\n",
       "      <td>122</td>\n",
       "      <td>12.61</td>\n",
       "      <td>186.9</td>\n",
       "      <td>121</td>\n",
       "      <td>8.41</td>\n",
       "      <td>10.1</td>\n",
       "      <td>3</td>\n",
       "      <td>2.73</td>\n",
       "      <td>3</td>\n",
       "      <td>False.</td>\n",
       "    </tr>\n",
       "  </tbody>\n",
       "</table>\n",
       "<p>5 rows × 21 columns</p>\n",
       "</div>"
      ],
      "text/plain": [
       "  State  Account Length  Area Code     Phone Int'l Plan VMail Plan  \\\n",
       "0    KS             128        415  382-4657         no        yes   \n",
       "1    OH             107        415  371-7191         no        yes   \n",
       "2    NJ             137        415  358-1921         no         no   \n",
       "3    OH              84        408  375-9999        yes         no   \n",
       "4    OK              75        415  330-6626        yes         no   \n",
       "\n",
       "   VMail Message  Day Mins  Day Calls  Day Charge  ...  Eve Calls  Eve Charge  \\\n",
       "0             25     265.1        110       45.07  ...         99       16.78   \n",
       "1             26     161.6        123       27.47  ...        103       16.62   \n",
       "2              0     243.4        114       41.38  ...        110       10.30   \n",
       "3              0     299.4         71       50.90  ...         88        5.26   \n",
       "4              0     166.7        113       28.34  ...        122       12.61   \n",
       "\n",
       "   Night Mins  Night Calls  Night Charge  Intl Mins  Intl Calls  Intl Charge  \\\n",
       "0       244.7           91         11.01       10.0           3         2.70   \n",
       "1       254.4          103         11.45       13.7           3         3.70   \n",
       "2       162.6          104          7.32       12.2           5         3.29   \n",
       "3       196.9           89          8.86        6.6           7         1.78   \n",
       "4       186.9          121          8.41       10.1           3         2.73   \n",
       "\n",
       "   CustServ Calls  Churn?  \n",
       "0               1  False.  \n",
       "1               1  False.  \n",
       "2               0  False.  \n",
       "3               2  False.  \n",
       "4               3  False.  \n",
       "\n",
       "[5 rows x 21 columns]"
      ]
     },
     "execution_count": 9,
     "metadata": {},
     "output_type": "execute_result"
    }
   ],
   "source": [
    "churn_df.head()"
   ]
  },
  {
   "cell_type": "code",
   "execution_count": 7,
   "metadata": {},
   "outputs": [
    {
     "data": {
      "text/plain": [
       "(3333, 21)"
      ]
     },
     "execution_count": 7,
     "metadata": {},
     "output_type": "execute_result"
    }
   ],
   "source": [
    "churn_df.shape\n"
   ]
  },
  {
   "cell_type": "code",
   "execution_count": 8,
   "metadata": {},
   "outputs": [],
   "source": [
    "churn_df['Area Code']=churn_df['Area Code'].astype(str)\n",
    "stats = churn_df.describe(include='all')"
   ]
  },
  {
   "cell_type": "code",
   "execution_count": 9,
   "metadata": {},
   "outputs": [
    {
     "name": "stdout",
     "output_type": "stream",
     "text": [
      "       State  Account Length Area Code     Phone Int'l Plan VMail Plan  \\\n",
      "count   3333     3333.000000      3333      3333       3333       3333   \n",
      "unique    51             NaN         3      3333          2          2   \n",
      "top       WV             NaN       415  409-4462         no         no   \n",
      "freq     106             NaN      1655         1       3010       2411   \n",
      "mean     NaN      101.064806       NaN       NaN        NaN        NaN   \n",
      "std      NaN       39.822106       NaN       NaN        NaN        NaN   \n",
      "min      NaN        1.000000       NaN       NaN        NaN        NaN   \n",
      "25%      NaN       74.000000       NaN       NaN        NaN        NaN   \n",
      "50%      NaN      101.000000       NaN       NaN        NaN        NaN   \n",
      "75%      NaN      127.000000       NaN       NaN        NaN        NaN   \n",
      "max      NaN      243.000000       NaN       NaN        NaN        NaN   \n",
      "\n",
      "        VMail Message     Day Mins    Day Calls   Day Charge  ...  \\\n",
      "count     3333.000000  3333.000000  3333.000000  3333.000000  ...   \n",
      "unique            NaN          NaN          NaN          NaN  ...   \n",
      "top               NaN          NaN          NaN          NaN  ...   \n",
      "freq              NaN          NaN          NaN          NaN  ...   \n",
      "mean         8.099010   179.775098   100.435644    30.562307  ...   \n",
      "std         13.688365    54.467389    20.069084     9.259435  ...   \n",
      "min          0.000000     0.000000     0.000000     0.000000  ...   \n",
      "25%          0.000000   143.700000    87.000000    24.430000  ...   \n",
      "50%          0.000000   179.400000   101.000000    30.500000  ...   \n",
      "75%         20.000000   216.400000   114.000000    36.790000  ...   \n",
      "max         51.000000   350.800000   165.000000    59.640000  ...   \n",
      "\n",
      "          Eve Calls   Eve Charge   Night Mins  Night Calls  Night Charge  \\\n",
      "count   3333.000000  3333.000000  3333.000000  3333.000000   3333.000000   \n",
      "unique          NaN          NaN          NaN          NaN           NaN   \n",
      "top             NaN          NaN          NaN          NaN           NaN   \n",
      "freq            NaN          NaN          NaN          NaN           NaN   \n",
      "mean     100.114311    17.083540   200.872037   100.107711      9.039325   \n",
      "std       19.922625     4.310668    50.573847    19.568609      2.275873   \n",
      "min        0.000000     0.000000    23.200000    33.000000      1.040000   \n",
      "25%       87.000000    14.160000   167.000000    87.000000      7.520000   \n",
      "50%      100.000000    17.120000   201.200000   100.000000      9.050000   \n",
      "75%      114.000000    20.000000   235.300000   113.000000     10.590000   \n",
      "max      170.000000    30.910000   395.000000   175.000000     17.770000   \n",
      "\n",
      "          Intl Mins   Intl Calls  Intl Charge  CustServ Calls  Churn?  \n",
      "count   3333.000000  3333.000000  3333.000000     3333.000000    3333  \n",
      "unique          NaN          NaN          NaN             NaN       2  \n",
      "top             NaN          NaN          NaN             NaN  False.  \n",
      "freq            NaN          NaN          NaN             NaN    2850  \n",
      "mean      10.237294     4.479448     2.764581        1.562856     NaN  \n",
      "std        2.791840     2.461214     0.753773        1.315491     NaN  \n",
      "min        0.000000     0.000000     0.000000        0.000000     NaN  \n",
      "25%        8.500000     3.000000     2.300000        1.000000     NaN  \n",
      "50%       10.300000     4.000000     2.780000        1.000000     NaN  \n",
      "75%       12.100000     6.000000     3.270000        2.000000     NaN  \n",
      "max       20.000000    20.000000     5.400000        9.000000     NaN  \n",
      "\n",
      "[11 rows x 21 columns]\n"
     ]
    }
   ],
   "source": [
    "print(stats)"
   ]
  },
  {
   "cell_type": "code",
   "execution_count": 10,
   "metadata": {},
   "outputs": [
    {
     "name": "stdout",
     "output_type": "stream",
     "text": [
      "Column names:\n",
      "['State', 'Account Length', 'Area Code', 'Phone', \"Int'l Plan\", 'VMail Plan', 'VMail Message', 'Day Mins', 'Day Calls', 'Day Charge', 'Eve Mins', 'Eve Calls', 'Eve Charge', 'Night Mins', 'Night Calls', 'Night Charge', 'Intl Mins', 'Intl Calls', 'Intl Charge', 'CustServ Calls', 'Churn?']\n"
     ]
    }
   ],
   "source": [
    "# On récupère les colonnes et on les stocke dans une liste\n",
    "col_names = churn_df.columns.tolist()\n",
    "print( \"Column names:\")\n",
    "print(col_names)"
   ]
  },
  {
   "cell_type": "code",
   "execution_count": 11,
   "metadata": {},
   "outputs": [
    {
     "name": "stdout",
     "output_type": "stream",
     "text": [
      "0.14491449144914492\n"
     ]
    }
   ],
   "source": [
    "# Création d'un vecteur y contenant la variable cible binarisée\n",
    "y = np.array((churn_df['Churn?'] == 'True.'))\n",
    "# ou\n",
    "#y = np.where(churn_df['Churn?'] == 'True.',1,0)\n",
    "print(y.mean())\n",
    "# 14.5% de churners\n"
   ]
  },
  {
   "cell_type": "code",
   "execution_count": 13,
   "metadata": {},
   "outputs": [
    {
     "data": {
      "text/html": [
       "<div>\n",
       "<style scoped>\n",
       "    .dataframe tbody tr th:only-of-type {\n",
       "        vertical-align: middle;\n",
       "    }\n",
       "\n",
       "    .dataframe tbody tr th {\n",
       "        vertical-align: top;\n",
       "    }\n",
       "\n",
       "    .dataframe thead th {\n",
       "        text-align: right;\n",
       "    }\n",
       "</style>\n",
       "<table border=\"1\" class=\"dataframe\">\n",
       "  <thead>\n",
       "    <tr style=\"text-align: right;\">\n",
       "      <th>col_0</th>\n",
       "      <th>count</th>\n",
       "    </tr>\n",
       "    <tr>\n",
       "      <th>row_0</th>\n",
       "      <th></th>\n",
       "    </tr>\n",
       "  </thead>\n",
       "  <tbody>\n",
       "    <tr>\n",
       "      <th>False</th>\n",
       "      <td>0.855086</td>\n",
       "    </tr>\n",
       "    <tr>\n",
       "      <th>True</th>\n",
       "      <td>0.144914</td>\n",
       "    </tr>\n",
       "  </tbody>\n",
       "</table>\n",
       "</div>"
      ],
      "text/plain": [
       "col_0     count\n",
       "row_0          \n",
       "False  0.855086\n",
       "True   0.144914"
      ]
     },
     "execution_count": 13,
     "metadata": {},
     "output_type": "execute_result"
    }
   ],
   "source": [
    "pd.crosstab(y, columns = 'count',normalize='all')"
   ]
  },
  {
   "cell_type": "code",
   "execution_count": 14,
   "metadata": {},
   "outputs": [
    {
     "name": "stdout",
     "output_type": "stream",
     "text": [
      "col_0     count\n",
      "row_0          \n",
      "False  0.855086\n",
      "True   0.144914\n",
      "col_0         False     True \n",
      "Area Code                    \n",
      "408        0.854415  0.145585\n",
      "415        0.857402  0.142598\n",
      "510        0.851190  0.148810\n"
     ]
    }
   ],
   "source": [
    "#\tEn %\n",
    "print(pd.crosstab(y, columns = 'count', normalize=True))\n",
    "# col area\n",
    "print(pd.crosstab(churn_df['Area Code'],y, normalize='index'))\n",
    "#print(pd.crosstab(churn_df['Area Code'],y).apply(lambda r: r/r.sum(), axis=1))\n",
    "# flat mais pour la pédagogie on va quand même l'encoder"
   ]
  },
  {
   "cell_type": "code",
   "execution_count": 15,
   "metadata": {},
   "outputs": [
    {
     "name": "stdout",
     "output_type": "stream",
     "text": [
      "col_0          False     True \n",
      "Int'l Plan                    \n",
      "no          0.885050  0.114950\n",
      "yes         0.575851  0.424149\n",
      "col_0          False     True \n",
      "VMail Plan                    \n",
      "no          0.832849  0.167151\n",
      "yes         0.913232  0.086768\n"
     ]
    }
   ],
   "source": [
    "\n",
    "# par contre les deux var qui indiquent si le client paie pour un service international ou VM sont très discriminantes\n",
    "print(pd.crosstab(churn_df[\"Int'l Plan\"],y, normalize='index'))\n",
    "print(pd.crosstab(churn_df[\"VMail Plan\"],y, normalize='index'))"
   ]
  },
  {
   "cell_type": "code",
   "execution_count": 16,
   "metadata": {},
   "outputs": [
    {
     "name": "stdout",
     "output_type": "stream",
     "text": [
      "      area__415  area__510\n",
      "0             1          0\n",
      "1             1          0\n",
      "2             1          0\n",
      "3             0          0\n",
      "4             1          0\n",
      "...         ...        ...\n",
      "3328          1          0\n",
      "3329          1          0\n",
      "3330          0          1\n",
      "3331          0          1\n",
      "3332          1          0\n",
      "\n",
      "[3333 rows x 2 columns]\n"
     ]
    }
   ],
   "source": [
    " #  les dummies\n",
    "print(pd.get_dummies(churn_df['Area Code'],prefix='area_', drop_first=True))\n",
    "# jointure selon l'index des lignes (par défaut )\n",
    "churn_df = pd.concat([churn_df,pd.get_dummies(churn_df['Area Code'],prefix='area_', drop_first=True)],axis=1)\n",
    "#  drop l'original\n",
    "churn_df.drop(['Area Code'],axis=1, inplace=True)"
   ]
  },
  {
   "cell_type": "code",
   "execution_count": 17,
   "metadata": {},
   "outputs": [],
   "source": [
    "del _churn_df , repertoire\n",
    "# ALTERNATIVE A GET_DUMMIES\n",
    "#from sklearn.preprocessing import OneHotEncoder\n",
    "#onehot_encoder = OneHotEncoder(sparse=False)\n",
    "#area_2d = np.array(churn_df['Area Code']).reshape(len(churn_df['Area Code']), 1)\n",
    "#area = onehot_encoder.fit_transform(area_2d)"
   ]
  },
  {
   "cell_type": "code",
   "execution_count": 18,
   "metadata": {},
   "outputs": [
    {
     "name": "stdout",
     "output_type": "stream",
     "text": [
      "col_0     False     True \n",
      "State                    \n",
      "AK     0.942308  0.057692\n",
      "AL     0.900000  0.100000\n",
      "AR     0.800000  0.200000\n",
      "AZ     0.937500  0.062500\n",
      "CA     0.735294  0.264706\n",
      "CO     0.863636  0.136364\n",
      "CT     0.837838  0.162162\n",
      "DC     0.907407  0.092593\n",
      "DE     0.852459  0.147541\n",
      "FL     0.873016  0.126984\n",
      "GA     0.851852  0.148148\n",
      "HI     0.943396  0.056604\n",
      "IA     0.931818  0.068182\n",
      "ID     0.876712  0.123288\n",
      "IL     0.913793  0.086207\n",
      "IN     0.873239  0.126761\n",
      "KS     0.814286  0.185714\n",
      "KY     0.864407  0.135593\n",
      "LA     0.921569  0.078431\n",
      "MA     0.830769  0.169231\n",
      "MD     0.757143  0.242857\n",
      "ME     0.790323  0.209677\n",
      "MI     0.780822  0.219178\n",
      "MN     0.821429  0.178571\n",
      "MO     0.888889  0.111111\n",
      "MS     0.784615  0.215385\n",
      "MT     0.794118  0.205882\n",
      "NC     0.838235  0.161765\n",
      "ND     0.903226  0.096774\n",
      "NE     0.918033  0.081967\n",
      "NH     0.839286  0.160714\n",
      "NJ     0.735294  0.264706\n",
      "NM     0.903226  0.096774\n",
      "NV     0.787879  0.212121\n",
      "NY     0.819277  0.180723\n",
      "OH     0.871795  0.128205\n",
      "OK     0.852459  0.147541\n",
      "OR     0.858974  0.141026\n",
      "PA     0.822222  0.177778\n",
      "RI     0.907692  0.092308\n",
      "SC     0.766667  0.233333\n",
      "SD     0.866667  0.133333\n",
      "TN     0.905660  0.094340\n",
      "TX     0.750000  0.250000\n",
      "UT     0.861111  0.138889\n",
      "VA     0.935065  0.064935\n",
      "VT     0.890411  0.109589\n",
      "WA     0.787879  0.212121\n",
      "WI     0.910256  0.089744\n",
      "WV     0.905660  0.094340\n",
      "WY     0.883117  0.116883\n"
     ]
    }
   ],
   "source": [
    "# étude du state\n",
    "#print(pd.crosstab(churn_df['State'],y))\n",
    "print(pd.crosstab(churn_df['State'],y,normalize='index'))\n",
    "#print(pd.crosstab(churn_df['State'],y).apply(lambda r: r/r.sum(), axis=1))"
   ]
  },
  {
   "cell_type": "code",
   "execution_count": 19,
   "metadata": {},
   "outputs": [
    {
     "data": {
      "text/plain": [
       "51"
      ]
     },
     "execution_count": 19,
     "metadata": {},
     "output_type": "execute_result"
    }
   ],
   "source": [
    "len(churn_df['State'].unique())\n",
    "# 51 valeurs\n",
    "# soit on garde et on crée des dummy\n",
    "# soit on fait une stratégie qui consiste à remplacer la modalité par le taux de 1\n",
    "# par contre il faut le faire sur l'ech dapp sinon on triche\n"
   ]
  },
  {
   "cell_type": "markdown",
   "metadata": {},
   "source": [
    "## Feature engineering sur la variable STATE"
   ]
  },
  {
   "cell_type": "code",
   "execution_count": 28,
   "metadata": {},
   "outputs": [],
   "source": [
    "# split Apprentissage Test\n",
    "from sklearn.model_selection import train_test_split \n",
    "state_train, state_test, y_train, y_test = train_test_split(churn_df['State'],y, test_size=0.4)"
   ]
  },
  {
   "cell_type": "code",
   "execution_count": 29,
   "metadata": {},
   "outputs": [],
   "source": [
    "taux_reponse_state_train=pd.crosstab(state_train,y_train).apply(lambda r: r/r.sum(), axis=1)[1]\n",
    "taux_reponse_state_test=pd.crosstab(state_test,y_test).apply(lambda r: r/r.sum(), axis=1)[1]\n",
    "del state_test,y_test,  taux_reponse_state_test\n",
    "del state_train"
   ]
  },
  {
   "cell_type": "code",
   "execution_count": 26,
   "metadata": {},
   "outputs": [
    {
     "name": "stdout",
     "output_type": "stream",
     "text": [
      "State\n",
      "AK    0.085714\n",
      "AL    0.088889\n",
      "AR    0.166667\n",
      "AZ    0.081081\n",
      "CA    0.150000\n",
      "CO    0.195652\n",
      "CT    0.148936\n",
      "DC    0.081081\n",
      "DE    0.184211\n",
      "FL    0.216216\n",
      "GA    0.096774\n",
      "HI    0.035714\n",
      "IA    0.041667\n",
      "ID    0.152174\n",
      "IL    0.103448\n",
      "IN    0.121951\n",
      "KS    0.204545\n",
      "KY    0.128205\n",
      "LA    0.088235\n",
      "MA    0.058824\n",
      "MD    0.272727\n",
      "ME    0.256410\n",
      "MI    0.162162\n",
      "MN    0.204545\n",
      "MO    0.081081\n",
      "MS    0.333333\n",
      "MT    0.214286\n",
      "NC    0.227273\n",
      "ND    0.054054\n",
      "NE    0.032258\n",
      "NH    0.212121\n",
      "NJ    0.232558\n",
      "NM    0.069767\n",
      "NV    0.263158\n",
      "NY    0.129630\n",
      "OH    0.104167\n",
      "OK    0.100000\n",
      "OR    0.200000\n",
      "PA    0.225806\n",
      "RI    0.102564\n",
      "SC    0.189189\n",
      "SD    0.138889\n",
      "TN    0.133333\n",
      "TX    0.255814\n",
      "UT    0.159091\n",
      "VA    0.057692\n",
      "VT    0.108696\n",
      "WA    0.195652\n",
      "WI    0.125000\n",
      "WV    0.132075\n",
      "WY    0.086957\n",
      "Name: True, dtype: float64\n",
      "State\n",
      "AK    0.000000\n",
      "AL    0.114286\n",
      "AR    0.263158\n",
      "AZ    0.037037\n",
      "CA    0.428571\n",
      "CO    0.000000\n",
      "CT    0.185185\n",
      "DC    0.117647\n",
      "DE    0.086957\n",
      "FL    0.000000\n",
      "GA    0.217391\n",
      "HI    0.080000\n",
      "IA    0.100000\n",
      "ID    0.074074\n",
      "IL    0.068966\n",
      "IN    0.133333\n",
      "KS    0.153846\n",
      "KY    0.150000\n",
      "LA    0.058824\n",
      "MA    0.290323\n",
      "MD    0.192308\n",
      "ME    0.130435\n",
      "MI    0.277778\n",
      "MN    0.150000\n",
      "MO    0.153846\n",
      "MS    0.068966\n",
      "MT    0.192308\n",
      "NC    0.041667\n",
      "ND    0.160000\n",
      "NE    0.133333\n",
      "NH    0.086957\n",
      "NJ    0.320000\n",
      "NM    0.157895\n",
      "NV    0.142857\n",
      "NY    0.275862\n",
      "OH    0.166667\n",
      "OK    0.193548\n",
      "OR    0.078947\n",
      "PA    0.071429\n",
      "RI    0.076923\n",
      "SC    0.304348\n",
      "SD    0.125000\n",
      "TN    0.043478\n",
      "TX    0.241379\n",
      "UT    0.107143\n",
      "VA    0.080000\n",
      "VT    0.111111\n",
      "WA    0.250000\n",
      "WI    0.033333\n",
      "WV    0.056604\n",
      "WY    0.161290\n",
      "Name: True, dtype: float64\n"
     ]
    }
   ],
   "source": [
    "print(taux_reponse_state_train)\n",
    "print(taux_reponse_state_test)"
   ]
  },
  {
   "cell_type": "code",
   "execution_count": 30,
   "metadata": {},
   "outputs": [
    {
     "name": "stdout",
     "output_type": "stream",
     "text": [
      "[0.0, 0.10416666666666667, 0.29411764705882354, 0.11428571428571428, 0.28, 0.16279069767441862, 0.10869565217391304, 0.05714285714285714, 0.16216216216216217, 0.1724137931034483, 0.18181818181818182, 0.06666666666666667, 0.03571428571428571, 0.12244897959183673, 0.1111111111111111, 0.15555555555555556, 0.12195121951219512, 0.14705882352941177, 0.05555555555555555, 0.2647058823529412, 0.18421052631578946, 0.23529411764705882, 0.17391304347826086, 0.1864406779661017, 0.05263157894736842, 0.13157894736842105, 0.20833333333333334, 0.13043478260869565, 0.14285714285714285, 0.0975609756097561, 0.16666666666666666, 0.2777777777777778, 0.04878048780487805, 0.23404255319148937, 0.11538461538461539, 0.1794871794871795, 0.1875, 0.1951219512195122, 0.20833333333333334, 0.11764705882352941, 0.23684210526315788, 0.13157894736842105, 0.1, 0.29545454545454547, 0.10638297872340426, 0.023255813953488372, 0.15, 0.22857142857142856, 0.10638297872340426, 0.05555555555555555, 0.11320754716981132]\n"
     ]
    }
   ],
   "source": [
    "# on remplace le state par le taux de reponse associé\n",
    "print(list(taux_reponse_state_train))\n",
    "# replace une liste par une liste\n",
    "churn_df['State'].replace(list(taux_reponse_state_train.index), list(taux_reponse_state_train), inplace=True)\n",
    "churn_df.rename(columns={\"State\": \"churnMoy_state\"},inplace=True)"
   ]
  },
  {
   "cell_type": "code",
   "execution_count": 31,
   "metadata": {},
   "outputs": [],
   "source": [
    "\n",
    "\n",
    "# X\n",
    "to_drop=['Phone','Churn?']\n",
    "churn_X = churn_df.drop(to_drop,axis=1)\n",
    "churn_X.describe()\n",
    "# 'yes'/'no' has to be converted to boolean values\n",
    "# NumPy converts these from boolean to 1. and 0. later\n",
    "yes_no_cols = [\"Int'l Plan\",\"VMail Plan\"]\n",
    "churn_X[yes_no_cols] = churn_X[yes_no_cols] == 'yes'\n"
   ]
  },
  {
   "cell_type": "code",
   "execution_count": 19,
   "metadata": {},
   "outputs": [],
   "source": [
    "# supprime les objets intermédiaires\n",
    "del to_drop,yes_no_cols"
   ]
  },
  {
   "cell_type": "code",
   "execution_count": 39,
   "metadata": {},
   "outputs": [
    {
     "data": {
      "text/plain": [
       "churnMoy_state    float64\n",
       "Account Length      int64\n",
       "Int'l Plan           bool\n",
       "VMail Plan           bool\n",
       "VMail Message       int64\n",
       "Day Mins          float64\n",
       "Day Calls           int64\n",
       "Day Charge        float64\n",
       "Eve Mins          float64\n",
       "Eve Calls           int64\n",
       "Eve Charge        float64\n",
       "Night Mins        float64\n",
       "Night Calls         int64\n",
       "Night Charge      float64\n",
       "Intl Mins         float64\n",
       "Intl Calls          int64\n",
       "Intl Charge       float64\n",
       "CustServ Calls      int64\n",
       "area__415           uint8\n",
       "area__510           uint8\n",
       "dtype: object"
      ]
     },
     "execution_count": 39,
     "metadata": {},
     "output_type": "execute_result"
    }
   ],
   "source": [
    "churn_X.dtypes"
   ]
  },
  {
   "cell_type": "code",
   "execution_count": 35,
   "metadata": {},
   "outputs": [
    {
     "data": {
      "text/plain": [
       "churnMoy_state    float64\n",
       "Account Length      int64\n",
       "Int'l Plan           bool\n",
       "VMail Plan           bool\n",
       "VMail Message       int64\n",
       "Day Mins          float64\n",
       "Day Calls           int64\n",
       "Day Charge        float64\n",
       "Eve Mins          float64\n",
       "Eve Calls           int64\n",
       "Eve Charge        float64\n",
       "Night Mins        float64\n",
       "Night Calls         int64\n",
       "Night Charge      float64\n",
       "Intl Mins         float64\n",
       "Intl Calls          int64\n",
       "Intl Charge       float64\n",
       "CustServ Calls      int64\n",
       "area__415           uint8\n",
       "area__510           uint8\n",
       "dtype: object"
      ]
     },
     "execution_count": 35,
     "metadata": {},
     "output_type": "execute_result"
    }
   ],
   "source": [
    "# Stocke les noms des X \n",
    "features = list(churn_X.columns)"
   ]
  },
  {
   "cell_type": "code",
   "execution_count": 37,
   "metadata": {},
   "outputs": [],
   "source": [
    "from sklearn.preprocessing import StandardScaler\n",
    "norm=StandardScaler().fit(churn_X) # modèle\n",
    "X = norm.transform(churn_X) # X données cr"
   ]
  },
  {
   "cell_type": "code",
   "execution_count": 21,
   "metadata": {},
   "outputs": [],
   "source": [
    "# Normalisation \n",
    "from sklearn.preprocessing import StandardScaler\n",
    "\n",
    "# centrer réduire (données doivent être float et pas int)\n",
    "norm=StandardScaler().fit(churn_X.astype(float))\n",
    "\n",
    "# on applique le centrage réduction\n",
    "X = norm.transform(churn_X.astype(float))\n",
    "\n",
    "# on aurait pu écrire : X=StandardScaler().fit_transform(churn_X.astype(float))"
   ]
  },
  {
   "cell_type": "code",
   "execution_count": 42,
   "metadata": {},
   "outputs": [
    {
     "name": "stdout",
     "output_type": "stream",
     "text": [
      "Feature space holds 3333 observations and 20 features\n",
      "Unique target labels: [False  True]\n"
     ]
    }
   ],
   "source": [
    "# X en dataframe\n",
    "X = pd.DataFrame(X)\n",
    "# on récupère les noms de col\n",
    "X.columns = churn_X.columns\n",
    "X.dtypes\n",
    "print (\"Feature space holds %d observations and %d features\" % X.shape)\n",
    "print ( \"Unique target labels:\", np.unique(y))\n",
    "\n",
    "del taux_reponse_state_train,churn_X,y_train"
   ]
  },
  {
   "cell_type": "markdown",
   "metadata": {},
   "source": [
    "## Partition Apprentissage Test"
   ]
  },
  {
   "cell_type": "code",
   "execution_count": 43,
   "metadata": {},
   "outputs": [],
   "source": [
    "# split Apprentissage Test\n",
    "from sklearn.model_selection import train_test_split \n",
    "X_train, X_test, y_train, y_test = train_test_split(X,y, test_size=0.4,random_state=123)"
   ]
  },
  {
   "cell_type": "markdown",
   "metadata": {},
   "source": [
    "## Analyse distribution des variables"
   ]
  },
  {
   "cell_type": "code",
   "execution_count": 26,
   "metadata": {},
   "outputs": [
    {
     "data": {
      "text/html": [
       "<div>\n",
       "<style scoped>\n",
       "    .dataframe tbody tr th:only-of-type {\n",
       "        vertical-align: middle;\n",
       "    }\n",
       "\n",
       "    .dataframe tbody tr th {\n",
       "        vertical-align: top;\n",
       "    }\n",
       "\n",
       "    .dataframe thead th {\n",
       "        text-align: right;\n",
       "    }\n",
       "</style>\n",
       "<table border=\"1\" class=\"dataframe\">\n",
       "  <thead>\n",
       "    <tr style=\"text-align: right;\">\n",
       "      <th></th>\n",
       "      <th>churnMoy_state</th>\n",
       "      <th>Account Length</th>\n",
       "      <th>Int'l Plan</th>\n",
       "      <th>VMail Plan</th>\n",
       "      <th>VMail Message</th>\n",
       "      <th>Day Mins</th>\n",
       "      <th>Day Calls</th>\n",
       "      <th>Day Charge</th>\n",
       "      <th>Eve Mins</th>\n",
       "      <th>Eve Calls</th>\n",
       "      <th>Eve Charge</th>\n",
       "      <th>Night Mins</th>\n",
       "      <th>Night Calls</th>\n",
       "      <th>Night Charge</th>\n",
       "      <th>Intl Mins</th>\n",
       "      <th>Intl Calls</th>\n",
       "      <th>Intl Charge</th>\n",
       "      <th>CustServ Calls</th>\n",
       "      <th>area__415</th>\n",
       "      <th>area__510</th>\n",
       "    </tr>\n",
       "  </thead>\n",
       "  <tbody>\n",
       "    <tr>\n",
       "      <th>count</th>\n",
       "      <td>3.333000e+03</td>\n",
       "      <td>3.333000e+03</td>\n",
       "      <td>3.333000e+03</td>\n",
       "      <td>3.333000e+03</td>\n",
       "      <td>3.333000e+03</td>\n",
       "      <td>3.333000e+03</td>\n",
       "      <td>3.333000e+03</td>\n",
       "      <td>3.333000e+03</td>\n",
       "      <td>3.333000e+03</td>\n",
       "      <td>3.333000e+03</td>\n",
       "      <td>3.333000e+03</td>\n",
       "      <td>3.333000e+03</td>\n",
       "      <td>3.333000e+03</td>\n",
       "      <td>3.333000e+03</td>\n",
       "      <td>3.333000e+03</td>\n",
       "      <td>3.333000e+03</td>\n",
       "      <td>3.333000e+03</td>\n",
       "      <td>3.333000e+03</td>\n",
       "      <td>3.333000e+03</td>\n",
       "      <td>3.333000e+03</td>\n",
       "    </tr>\n",
       "    <tr>\n",
       "      <th>mean</th>\n",
       "      <td>3.694415e-16</td>\n",
       "      <td>1.713134e-16</td>\n",
       "      <td>-1.021951e-16</td>\n",
       "      <td>6.921823e-17</td>\n",
       "      <td>3.832651e-16</td>\n",
       "      <td>7.081711e-16</td>\n",
       "      <td>-2.150828e-16</td>\n",
       "      <td>-3.226409e-16</td>\n",
       "      <td>-1.067919e-16</td>\n",
       "      <td>3.527531e-16</td>\n",
       "      <td>1.266447e-16</td>\n",
       "      <td>6.602046e-17</td>\n",
       "      <td>-7.041739e-17</td>\n",
       "      <td>-3.134473e-17</td>\n",
       "      <td>-3.274375e-16</td>\n",
       "      <td>-1.264615e-16</td>\n",
       "      <td>2.785384e-16</td>\n",
       "      <td>3.275708e-16</td>\n",
       "      <td>8.076348e-16</td>\n",
       "      <td>3.511209e-16</td>\n",
       "    </tr>\n",
       "    <tr>\n",
       "      <th>std</th>\n",
       "      <td>1.000150e+00</td>\n",
       "      <td>1.000150e+00</td>\n",
       "      <td>1.000150e+00</td>\n",
       "      <td>1.000150e+00</td>\n",
       "      <td>1.000150e+00</td>\n",
       "      <td>1.000150e+00</td>\n",
       "      <td>1.000150e+00</td>\n",
       "      <td>1.000150e+00</td>\n",
       "      <td>1.000150e+00</td>\n",
       "      <td>1.000150e+00</td>\n",
       "      <td>1.000150e+00</td>\n",
       "      <td>1.000150e+00</td>\n",
       "      <td>1.000150e+00</td>\n",
       "      <td>1.000150e+00</td>\n",
       "      <td>1.000150e+00</td>\n",
       "      <td>1.000150e+00</td>\n",
       "      <td>1.000150e+00</td>\n",
       "      <td>1.000150e+00</td>\n",
       "      <td>1.000150e+00</td>\n",
       "      <td>1.000150e+00</td>\n",
       "    </tr>\n",
       "    <tr>\n",
       "      <th>min</th>\n",
       "      <td>-1.882355e+00</td>\n",
       "      <td>-2.513172e+00</td>\n",
       "      <td>-3.275805e-01</td>\n",
       "      <td>-6.183963e-01</td>\n",
       "      <td>-5.917599e-01</td>\n",
       "      <td>-3.301096e+00</td>\n",
       "      <td>-5.005247e+00</td>\n",
       "      <td>-3.301162e+00</td>\n",
       "      <td>-3.963622e+00</td>\n",
       "      <td>-5.025911e+00</td>\n",
       "      <td>-3.963679e+00</td>\n",
       "      <td>-3.513648e+00</td>\n",
       "      <td>-3.429870e+00</td>\n",
       "      <td>-3.515366e+00</td>\n",
       "      <td>-3.667413e+00</td>\n",
       "      <td>-1.820289e+00</td>\n",
       "      <td>-3.668210e+00</td>\n",
       "      <td>-1.188218e+00</td>\n",
       "      <td>-9.931230e-01</td>\n",
       "      <td>-5.804683e-01</td>\n",
       "    </tr>\n",
       "    <tr>\n",
       "      <th>25%</th>\n",
       "      <td>-6.730589e-01</td>\n",
       "      <td>-6.797448e-01</td>\n",
       "      <td>-3.275805e-01</td>\n",
       "      <td>-6.183963e-01</td>\n",
       "      <td>-5.917599e-01</td>\n",
       "      <td>-6.624241e-01</td>\n",
       "      <td>-6.695701e-01</td>\n",
       "      <td>-6.623760e-01</td>\n",
       "      <td>-6.780300e-01</td>\n",
       "      <td>-6.583610e-01</td>\n",
       "      <td>-6.783123e-01</td>\n",
       "      <td>-6.698545e-01</td>\n",
       "      <td>-6.699340e-01</td>\n",
       "      <td>-6.676792e-01</td>\n",
       "      <td>-6.223690e-01</td>\n",
       "      <td>-6.011951e-01</td>\n",
       "      <td>-6.164341e-01</td>\n",
       "      <td>-4.279320e-01</td>\n",
       "      <td>-9.931230e-01</td>\n",
       "      <td>-5.804683e-01</td>\n",
       "    </tr>\n",
       "    <tr>\n",
       "      <th>50%</th>\n",
       "      <td>-2.627621e-01</td>\n",
       "      <td>-1.627644e-03</td>\n",
       "      <td>-3.275805e-01</td>\n",
       "      <td>-6.183963e-01</td>\n",
       "      <td>-5.917599e-01</td>\n",
       "      <td>-6.887677e-03</td>\n",
       "      <td>2.812491e-02</td>\n",
       "      <td>-6.730063e-03</td>\n",
       "      <td>8.276141e-03</td>\n",
       "      <td>-5.738630e-03</td>\n",
       "      <td>8.459274e-03</td>\n",
       "      <td>6.485803e-03</td>\n",
       "      <td>-5.505089e-03</td>\n",
       "      <td>4.691242e-03</td>\n",
       "      <td>2.246393e-02</td>\n",
       "      <td>-1.948306e-01</td>\n",
       "      <td>2.045823e-02</td>\n",
       "      <td>-4.279320e-01</td>\n",
       "      <td>-9.931230e-01</td>\n",
       "      <td>-5.804683e-01</td>\n",
       "    </tr>\n",
       "    <tr>\n",
       "      <th>75%</th>\n",
       "      <td>6.237517e-01</td>\n",
       "      <td>6.513740e-01</td>\n",
       "      <td>-3.275805e-01</td>\n",
       "      <td>1.617086e+00</td>\n",
       "      <td>8.695542e-01</td>\n",
       "      <td>6.725198e-01</td>\n",
       "      <td>6.759846e-01</td>\n",
       "      <td>6.726790e-01</td>\n",
       "      <td>6.768330e-01</td>\n",
       "      <td>6.970854e-01</td>\n",
       "      <td>6.766695e-01</td>\n",
       "      <td>6.808485e-01</td>\n",
       "      <td>6.589239e-01</td>\n",
       "      <td>6.814562e-01</td>\n",
       "      <td>6.672969e-01</td>\n",
       "      <td>6.178983e-01</td>\n",
       "      <td>6.706192e-01</td>\n",
       "      <td>3.323545e-01</td>\n",
       "      <td>1.006925e+00</td>\n",
       "      <td>1.722747e+00</td>\n",
       "    </tr>\n",
       "    <tr>\n",
       "      <th>max</th>\n",
       "      <td>3.064764e+00</td>\n",
       "      <td>3.564766e+00</td>\n",
       "      <td>3.052685e+00</td>\n",
       "      <td>1.617086e+00</td>\n",
       "      <td>3.134591e+00</td>\n",
       "      <td>3.140422e+00</td>\n",
       "      <td>3.217588e+00</td>\n",
       "      <td>3.140803e+00</td>\n",
       "      <td>3.209066e+00</td>\n",
       "      <td>3.508382e+00</td>\n",
       "      <td>3.207980e+00</td>\n",
       "      <td>3.839081e+00</td>\n",
       "      <td>3.827739e+00</td>\n",
       "      <td>3.836763e+00</td>\n",
       "      <td>3.497397e+00</td>\n",
       "      <td>6.307001e+00</td>\n",
       "      <td>3.496829e+00</td>\n",
       "      <td>5.654360e+00</td>\n",
       "      <td>1.006925e+00</td>\n",
       "      <td>1.722747e+00</td>\n",
       "    </tr>\n",
       "  </tbody>\n",
       "</table>\n",
       "</div>"
      ],
      "text/plain": [
       "       churnMoy_state  Account Length    Int'l Plan    VMail Plan  \\\n",
       "count    3.333000e+03    3.333000e+03  3.333000e+03  3.333000e+03   \n",
       "mean     3.694415e-16    1.713134e-16 -1.021951e-16  6.921823e-17   \n",
       "std      1.000150e+00    1.000150e+00  1.000150e+00  1.000150e+00   \n",
       "min     -1.882355e+00   -2.513172e+00 -3.275805e-01 -6.183963e-01   \n",
       "25%     -6.730589e-01   -6.797448e-01 -3.275805e-01 -6.183963e-01   \n",
       "50%     -2.627621e-01   -1.627644e-03 -3.275805e-01 -6.183963e-01   \n",
       "75%      6.237517e-01    6.513740e-01 -3.275805e-01  1.617086e+00   \n",
       "max      3.064764e+00    3.564766e+00  3.052685e+00  1.617086e+00   \n",
       "\n",
       "       VMail Message      Day Mins     Day Calls    Day Charge      Eve Mins  \\\n",
       "count   3.333000e+03  3.333000e+03  3.333000e+03  3.333000e+03  3.333000e+03   \n",
       "mean    3.832651e-16  7.081711e-16 -2.150828e-16 -3.226409e-16 -1.067919e-16   \n",
       "std     1.000150e+00  1.000150e+00  1.000150e+00  1.000150e+00  1.000150e+00   \n",
       "min    -5.917599e-01 -3.301096e+00 -5.005247e+00 -3.301162e+00 -3.963622e+00   \n",
       "25%    -5.917599e-01 -6.624241e-01 -6.695701e-01 -6.623760e-01 -6.780300e-01   \n",
       "50%    -5.917599e-01 -6.887677e-03  2.812491e-02 -6.730063e-03  8.276141e-03   \n",
       "75%     8.695542e-01  6.725198e-01  6.759846e-01  6.726790e-01  6.768330e-01   \n",
       "max     3.134591e+00  3.140422e+00  3.217588e+00  3.140803e+00  3.209066e+00   \n",
       "\n",
       "          Eve Calls    Eve Charge    Night Mins   Night Calls  Night Charge  \\\n",
       "count  3.333000e+03  3.333000e+03  3.333000e+03  3.333000e+03  3.333000e+03   \n",
       "mean   3.527531e-16  1.266447e-16  6.602046e-17 -7.041739e-17 -3.134473e-17   \n",
       "std    1.000150e+00  1.000150e+00  1.000150e+00  1.000150e+00  1.000150e+00   \n",
       "min   -5.025911e+00 -3.963679e+00 -3.513648e+00 -3.429870e+00 -3.515366e+00   \n",
       "25%   -6.583610e-01 -6.783123e-01 -6.698545e-01 -6.699340e-01 -6.676792e-01   \n",
       "50%   -5.738630e-03  8.459274e-03  6.485803e-03 -5.505089e-03  4.691242e-03   \n",
       "75%    6.970854e-01  6.766695e-01  6.808485e-01  6.589239e-01  6.814562e-01   \n",
       "max    3.508382e+00  3.207980e+00  3.839081e+00  3.827739e+00  3.836763e+00   \n",
       "\n",
       "          Intl Mins    Intl Calls   Intl Charge  CustServ Calls     area__415  \\\n",
       "count  3.333000e+03  3.333000e+03  3.333000e+03    3.333000e+03  3.333000e+03   \n",
       "mean  -3.274375e-16 -1.264615e-16  2.785384e-16    3.275708e-16  8.076348e-16   \n",
       "std    1.000150e+00  1.000150e+00  1.000150e+00    1.000150e+00  1.000150e+00   \n",
       "min   -3.667413e+00 -1.820289e+00 -3.668210e+00   -1.188218e+00 -9.931230e-01   \n",
       "25%   -6.223690e-01 -6.011951e-01 -6.164341e-01   -4.279320e-01 -9.931230e-01   \n",
       "50%    2.246393e-02 -1.948306e-01  2.045823e-02   -4.279320e-01 -9.931230e-01   \n",
       "75%    6.672969e-01  6.178983e-01  6.706192e-01    3.323545e-01  1.006925e+00   \n",
       "max    3.497397e+00  6.307001e+00  3.496829e+00    5.654360e+00  1.006925e+00   \n",
       "\n",
       "          area__510  \n",
       "count  3.333000e+03  \n",
       "mean   3.511209e-16  \n",
       "std    1.000150e+00  \n",
       "min   -5.804683e-01  \n",
       "25%   -5.804683e-01  \n",
       "50%   -5.804683e-01  \n",
       "75%    1.722747e+00  \n",
       "max    1.722747e+00  "
      ]
     },
     "execution_count": 26,
     "metadata": {},
     "output_type": "execute_result"
    }
   ],
   "source": [
    "# 14.4% de churners\n",
    "y.mean()\n",
    "X.describe()"
   ]
  },
  {
   "cell_type": "code",
   "execution_count": 44,
   "metadata": {},
   "outputs": [],
   "source": [
    "#concatenation X et y pour utiliser la fonction boxplot\n",
    "Xy = pd.concat([X,pd.DataFrame(y)], axis = 1)\n",
    "# noms des variables \n",
    "Xy.columns=features+['Churn?']\n"
   ]
  },
  {
   "cell_type": "code",
   "execution_count": 28,
   "metadata": {},
   "outputs": [],
   "source": [
    "import pickle\n",
    "file=open(\"churn_prepared.pydata\",\"wb\")\n",
    "pickle.dump(Xy,file)\n",
    "file.close()"
   ]
  },
  {
   "cell_type": "code",
   "execution_count": 45,
   "metadata": {},
   "outputs": [
    {
     "data": {
      "text/plain": [
       "array([[<matplotlib.axes._subplots.AxesSubplot object at 0x7ff964759e90>,\n",
       "        <matplotlib.axes._subplots.AxesSubplot object at 0x7ff96470bed0>,\n",
       "        <matplotlib.axes._subplots.AxesSubplot object at 0x7ff9646c5f50>],\n",
       "       [<matplotlib.axes._subplots.AxesSubplot object at 0x7ff96468b0d0>,\n",
       "        <matplotlib.axes._subplots.AxesSubplot object at 0x7ff964750250>,\n",
       "        <matplotlib.axes._subplots.AxesSubplot object at 0x7ff9645fe250>],\n",
       "       [<matplotlib.axes._subplots.AxesSubplot object at 0x7ff9646353d0>,\n",
       "        <matplotlib.axes._subplots.AxesSubplot object at 0x7ff9645ee410>,\n",
       "        <matplotlib.axes._subplots.AxesSubplot object at 0x7ff9645ee450>]],\n",
       "      dtype=object)"
      ]
     },
     "execution_count": 45,
     "metadata": {},
     "output_type": "execute_result"
    },
    {
     "data": {
      "image/png": "[encoded data removed]",
      "text/plain": [
       "<Figure size 432x288 with 6 Axes>"
      ]
     },
     "metadata": {
      "needs_background": "light"
     },
     "output_type": "display_data"
    },
    {
     "data": {
      "image/png": "[encoded data removed]",
      "text/plain": [
       "<Figure size 432x288 with 6 Axes>"
      ]
     },
     "metadata": {
      "needs_background": "light"
     },
     "output_type": "display_data"
    },
    {
     "data": {
      "image/png": "[encoded data removed]",
      "text/plain": [
       "<Figure size 432x288 with 9 Axes>"
      ]
     },
     "metadata": {
      "needs_background": "light"
     },
     "output_type": "display_data"
    }
   ],
   "source": [
    "#box plot\n",
    "#Xy.boxplot(column = ['Account Length'], by = 'Churn?')\n",
    "Xy.boxplot(column = features[0:6], by = 'Churn?')\n",
    "Xy.boxplot(column = features[6:12], by = 'Churn?')\n",
    "Xy.boxplot(column = features[12:], by = 'Churn?')"
   ]
  },
  {
   "cell_type": "code",
   "execution_count": 30,
   "metadata": {},
   "outputs": [
    {
     "name": "stdout",
     "output_type": "stream",
     "text": [
      "col_0       False  True \n",
      "Int'l Plan              \n",
      "-0.327580    2664    346\n",
      " 3.052685     186    137\n",
      "col_0          False     True \n",
      "Int'l Plan                    \n",
      "-0.327580   0.885050  0.114950\n",
      " 3.052685   0.575851  0.424149\n",
      "col_0       False  True \n",
      "VMail Plan              \n",
      "-0.618396    2008    403\n",
      " 1.617086     842     80\n",
      "col_0          False     True \n",
      "VMail Plan                    \n",
      "-0.618396   0.832849  0.167151\n",
      " 1.617086   0.913232  0.086768\n",
      "col_0      False  True \n",
      "area__415              \n",
      "-0.993123   1431    247\n",
      " 1.006925   1419    236\n",
      "col_0         False     True \n",
      "area__415                    \n",
      "-0.993123  0.852801  0.147199\n",
      " 1.006925  0.857402  0.142598\n",
      "col_0      False  True \n",
      "area__510              \n",
      "-0.580468   2135    358\n",
      " 1.722747    715    125\n",
      "col_0         False     True \n",
      "area__510                    \n",
      "-0.580468  0.856398  0.143602\n",
      " 1.722747  0.851190  0.148810\n"
     ]
    }
   ],
   "source": [
    "# tri croisé des var quali\n",
    "\n",
    "for i in (\"Int'l Plan\",\"VMail Plan\",\"area__415\",\"area__510\"):\n",
    "     print(pd.crosstab(X[\"\"+str(i)],y))\n",
    "     print(pd.crosstab(X[\"\"+str(i)],y).apply(lambda r: r/r.sum(), axis=1))"
   ]
  }
 ],
 "metadata": {
  "environment": {
   "name": "tf2-gpu.2-1.m46",
   "type": "gcloud",
   "uri": "gcr.io/deeplearning-platform-release/tf2-gpu.2-1:m46"
  },
  "kernelspec": {
   "display_name": "Python 3",
   "language": "python",
   "name": "python3"
  },
  "language_info": {
   "codemirror_mode": {
    "name": "ipython",
    "version": 3
   },
   "file_extension": ".py",
   "mimetype": "text/x-python",
   "name": "python",
   "nbconvert_exporter": "python",
   "pygments_lexer": "ipython3",
   "version": "3.7.6"
  }
 },
 "nbformat": 4,
 "nbformat_minor": 4
}
