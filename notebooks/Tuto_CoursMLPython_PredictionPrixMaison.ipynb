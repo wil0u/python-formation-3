{
 "cells": [
  {
   "cell_type": "markdown",
   "metadata": {},
   "source": [
    "## Prédire le prix de l'immobilier\n",
    "Le jeu de données décrit des biens avec des variables quantitatives et qualitatives ainsi que le prix de vente\n",
    "Introduction à la régression linéaire et aux variantes (rég. pénalisée comme lasso)\n",
    "Le prix de vente va etre modélisé par les autres variables"
   ]
  },
  {
   "cell_type": "code",
   "execution_count": 5,
   "metadata": {
    "collapsed": true
   },
   "outputs": [],
   "source": [
    "import pandas as pd\n",
    "import numpy as np\n",
    "import matplotlib.pyplot as plt\n",
    "%matplotlib inline\n",
    "\n",
    "import os\n",
    "repertoire = \"../data\"\n",
    "os.chdir(repertoire)\n",
    "\n",
    "#https://www.kaggle.com/code/michaelfumery/exercice-pr-diction-de-prix-de-maison/notebook"
   ]
  },
  {
   "cell_type": "markdown",
   "metadata": {},
   "source": [
    "### Chargement des données : apprentissage, appli, éch. de submission kaggle"
   ]
  },
  {
   "cell_type": "code",
   "execution_count": 6,
   "metadata": {},
   "outputs": [],
   "source": [
    "#sample_submission = pd.read_csv(\"prix_immo\\\\sample_submission.csv\")\n",
    "\n",
    "train = pd.read_csv(\"prix_immo/train.csv\") # jeu de données d'entrainement (avec le prix)\n",
    "appli = pd.read_csv(\"prix_immo/test.csv\") # jeu de données où le prix est inconnu (à prédire)\n",
    "#création d'une copie de chaque dataset\n",
    "appli_copy  = appli.copy()\n",
    "train_copy  = train.copy()"
   ]
  },
  {
   "cell_type": "code",
   "execution_count": 7,
   "metadata": {},
   "outputs": [
    {
     "data": {
      "application/vnd.microsoft.datawrangler.viewer.v0+json": {
       "columns": [
        {
         "name": "index",
         "rawType": "int64",
         "type": "integer"
        },
        {
         "name": "Id",
         "rawType": "int64",
         "type": "integer"
        },
        {
         "name": "MSSubClass",
         "rawType": "int64",
         "type": "integer"
        },
        {
         "name": "MSZoning",
         "rawType": "object",
         "type": "string"
        },
        {
         "name": "LotFrontage",
         "rawType": "float64",
         "type": "float"
        },
        {
         "name": "LotArea",
         "rawType": "int64",
         "type": "integer"
        },
        {
         "name": "Street",
         "rawType": "object",
         "type": "string"
        },
        {
         "name": "Alley",
         "rawType": "object",
         "type": "unknown"
        },
        {
         "name": "LotShape",
         "rawType": "object",
         "type": "string"
        },
        {
         "name": "LandContour",
         "rawType": "object",
         "type": "string"
        },
        {
         "name": "Utilities",
         "rawType": "object",
         "type": "string"
        },
        {
         "name": "LotConfig",
         "rawType": "object",
         "type": "string"
        },
        {
         "name": "LandSlope",
         "rawType": "object",
         "type": "string"
        },
        {
         "name": "Neighborhood",
         "rawType": "object",
         "type": "string"
        },
        {
         "name": "Condition1",
         "rawType": "object",
         "type": "string"
        },
        {
         "name": "Condition2",
         "rawType": "object",
         "type": "string"
        },
        {
         "name": "BldgType",
         "rawType": "object",
         "type": "string"
        },
        {
         "name": "HouseStyle",
         "rawType": "object",
         "type": "string"
        },
        {
         "name": "OverallQual",
         "rawType": "int64",
         "type": "integer"
        },
        {
         "name": "OverallCond",
         "rawType": "int64",
         "type": "integer"
        },
        {
         "name": "YearBuilt",
         "rawType": "int64",
         "type": "integer"
        },
        {
         "name": "YearRemodAdd",
         "rawType": "int64",
         "type": "integer"
        },
        {
         "name": "RoofStyle",
         "rawType": "object",
         "type": "string"
        },
        {
         "name": "RoofMatl",
         "rawType": "object",
         "type": "string"
        },
        {
         "name": "Exterior1st",
         "rawType": "object",
         "type": "string"
        },
        {
         "name": "Exterior2nd",
         "rawType": "object",
         "type": "string"
        },
        {
         "name": "MasVnrType",
         "rawType": "object",
         "type": "unknown"
        },
        {
         "name": "MasVnrArea",
         "rawType": "float64",
         "type": "float"
        },
        {
         "name": "ExterQual",
         "rawType": "object",
         "type": "string"
        },
        {
         "name": "ExterCond",
         "rawType": "object",
         "type": "string"
        },
        {
         "name": "Foundation",
         "rawType": "object",
         "type": "string"
        },
        {
         "name": "BsmtQual",
         "rawType": "object",
         "type": "string"
        },
        {
         "name": "BsmtCond",
         "rawType": "object",
         "type": "string"
        },
        {
         "name": "BsmtExposure",
         "rawType": "object",
         "type": "string"
        },
        {
         "name": "BsmtFinType1",
         "rawType": "object",
         "type": "string"
        },
        {
         "name": "BsmtFinSF1",
         "rawType": "int64",
         "type": "integer"
        },
        {
         "name": "BsmtFinType2",
         "rawType": "object",
         "type": "string"
        },
        {
         "name": "BsmtFinSF2",
         "rawType": "int64",
         "type": "integer"
        },
        {
         "name": "BsmtUnfSF",
         "rawType": "int64",
         "type": "integer"
        },
        {
         "name": "TotalBsmtSF",
         "rawType": "int64",
         "type": "integer"
        },
        {
         "name": "Heating",
         "rawType": "object",
         "type": "string"
        },
        {
         "name": "HeatingQC",
         "rawType": "object",
         "type": "string"
        },
        {
         "name": "CentralAir",
         "rawType": "object",
         "type": "string"
        },
        {
         "name": "Electrical",
         "rawType": "object",
         "type": "string"
        },
        {
         "name": "1stFlrSF",
         "rawType": "int64",
         "type": "integer"
        },
        {
         "name": "2ndFlrSF",
         "rawType": "int64",
         "type": "integer"
        },
        {
         "name": "LowQualFinSF",
         "rawType": "int64",
         "type": "integer"
        },
        {
         "name": "GrLivArea",
         "rawType": "int64",
         "type": "integer"
        },
        {
         "name": "BsmtFullBath",
         "rawType": "int64",
         "type": "integer"
        },
        {
         "name": "BsmtHalfBath",
         "rawType": "int64",
         "type": "integer"
        },
        {
         "name": "FullBath",
         "rawType": "int64",
         "type": "integer"
        },
        {
         "name": "HalfBath",
         "rawType": "int64",
         "type": "integer"
        },
        {
         "name": "BedroomAbvGr",
         "rawType": "int64",
         "type": "integer"
        },
        {
         "name": "KitchenAbvGr",
         "rawType": "int64",
         "type": "integer"
        },
        {
         "name": "KitchenQual",
         "rawType": "object",
         "type": "string"
        },
        {
         "name": "TotRmsAbvGrd",
         "rawType": "int64",
         "type": "integer"
        },
        {
         "name": "Functional",
         "rawType": "object",
         "type": "string"
        },
        {
         "name": "Fireplaces",
         "rawType": "int64",
         "type": "integer"
        },
        {
         "name": "FireplaceQu",
         "rawType": "object",
         "type": "unknown"
        },
        {
         "name": "GarageType",
         "rawType": "object",
         "type": "string"
        },
        {
         "name": "GarageYrBlt",
         "rawType": "float64",
         "type": "float"
        },
        {
         "name": "GarageFinish",
         "rawType": "object",
         "type": "string"
        },
        {
         "name": "GarageCars",
         "rawType": "int64",
         "type": "integer"
        },
        {
         "name": "GarageArea",
         "rawType": "int64",
         "type": "integer"
        },
        {
         "name": "GarageQual",
         "rawType": "object",
         "type": "string"
        },
        {
         "name": "GarageCond",
         "rawType": "object",
         "type": "string"
        },
        {
         "name": "PavedDrive",
         "rawType": "object",
         "type": "string"
        },
        {
         "name": "WoodDeckSF",
         "rawType": "int64",
         "type": "integer"
        },
        {
         "name": "OpenPorchSF",
         "rawType": "int64",
         "type": "integer"
        },
        {
         "name": "EnclosedPorch",
         "rawType": "int64",
         "type": "integer"
        },
        {
         "name": "3SsnPorch",
         "rawType": "int64",
         "type": "integer"
        },
        {
         "name": "ScreenPorch",
         "rawType": "int64",
         "type": "integer"
        },
        {
         "name": "PoolArea",
         "rawType": "int64",
         "type": "integer"
        },
        {
         "name": "PoolQC",
         "rawType": "object",
         "type": "unknown"
        },
        {
         "name": "Fence",
         "rawType": "object",
         "type": "unknown"
        },
        {
         "name": "MiscFeature",
         "rawType": "object",
         "type": "unknown"
        },
        {
         "name": "MiscVal",
         "rawType": "int64",
         "type": "integer"
        },
        {
         "name": "MoSold",
         "rawType": "int64",
         "type": "integer"
        },
        {
         "name": "YrSold",
         "rawType": "int64",
         "type": "integer"
        },
        {
         "name": "SaleType",
         "rawType": "object",
         "type": "string"
        },
        {
         "name": "SaleCondition",
         "rawType": "object",
         "type": "string"
        },
        {
         "name": "SalePrice",
         "rawType": "int64",
         "type": "integer"
        }
       ],
       "ref": "ff46464b-26fc-43ff-b0ec-2adf5ab1b9df",
       "rows": [
        [
         "0",
         "1",
         "60",
         "RL",
         "65.0",
         "8450",
         "Pave",
         null,
         "Reg",
         "Lvl",
         "AllPub",
         "Inside",
         "Gtl",
         "CollgCr",
         "Norm",
         "Norm",
         "1Fam",
         "2Story",
         "7",
         "5",
         "2003",
         "2003",
         "Gable",
         "CompShg",
         "VinylSd",
         "VinylSd",
         "BrkFace",
         "196.0",
         "Gd",
         "TA",
         "PConc",
         "Gd",
         "TA",
         "No",
         "GLQ",
         "706",
         "Unf",
         "0",
         "150",
         "856",
         "GasA",
         "Ex",
         "Y",
         "SBrkr",
         "856",
         "854",
         "0",
         "1710",
         "1",
         "0",
         "2",
         "1",
         "3",
         "1",
         "Gd",
         "8",
         "Typ",
         "0",
         null,
         "Attchd",
         "2003.0",
         "RFn",
         "2",
         "548",
         "TA",
         "TA",
         "Y",
         "0",
         "61",
         "0",
         "0",
         "0",
         "0",
         null,
         null,
         null,
         "0",
         "2",
         "2008",
         "WD",
         "Normal",
         "208500"
        ],
        [
         "1",
         "2",
         "20",
         "RL",
         "80.0",
         "9600",
         "Pave",
         null,
         "Reg",
         "Lvl",
         "AllPub",
         "FR2",
         "Gtl",
         "Veenker",
         "Feedr",
         "Norm",
         "1Fam",
         "1Story",
         "6",
         "8",
         "1976",
         "1976",
         "Gable",
         "CompShg",
         "MetalSd",
         "MetalSd",
         null,
         "0.0",
         "TA",
         "TA",
         "CBlock",
         "Gd",
         "TA",
         "Gd",
         "ALQ",
         "978",
         "Unf",
         "0",
         "284",
         "1262",
         "GasA",
         "Ex",
         "Y",
         "SBrkr",
         "1262",
         "0",
         "0",
         "1262",
         "0",
         "1",
         "2",
         "0",
         "3",
         "1",
         "TA",
         "6",
         "Typ",
         "1",
         "TA",
         "Attchd",
         "1976.0",
         "RFn",
         "2",
         "460",
         "TA",
         "TA",
         "Y",
         "298",
         "0",
         "0",
         "0",
         "0",
         "0",
         null,
         null,
         null,
         "0",
         "5",
         "2007",
         "WD",
         "Normal",
         "181500"
        ],
        [
         "2",
         "3",
         "60",
         "RL",
         "68.0",
         "11250",
         "Pave",
         null,
         "IR1",
         "Lvl",
         "AllPub",
         "Inside",
         "Gtl",
         "CollgCr",
         "Norm",
         "Norm",
         "1Fam",
         "2Story",
         "7",
         "5",
         "2001",
         "2002",
         "Gable",
         "CompShg",
         "VinylSd",
         "VinylSd",
         "BrkFace",
         "162.0",
         "Gd",
         "TA",
         "PConc",
         "Gd",
         "TA",
         "Mn",
         "GLQ",
         "486",
         "Unf",
         "0",
         "434",
         "920",
         "GasA",
         "Ex",
         "Y",
         "SBrkr",
         "920",
         "866",
         "0",
         "1786",
         "1",
         "0",
         "2",
         "1",
         "3",
         "1",
         "Gd",
         "6",
         "Typ",
         "1",
         "TA",
         "Attchd",
         "2001.0",
         "RFn",
         "2",
         "608",
         "TA",
         "TA",
         "Y",
         "0",
         "42",
         "0",
         "0",
         "0",
         "0",
         null,
         null,
         null,
         "0",
         "9",
         "2008",
         "WD",
         "Normal",
         "223500"
        ],
        [
         "3",
         "4",
         "70",
         "RL",
         "60.0",
         "9550",
         "Pave",
         null,
         "IR1",
         "Lvl",
         "AllPub",
         "Corner",
         "Gtl",
         "Crawfor",
         "Norm",
         "Norm",
         "1Fam",
         "2Story",
         "7",
         "5",
         "1915",
         "1970",
         "Gable",
         "CompShg",
         "Wd Sdng",
         "Wd Shng",
         null,
         "0.0",
         "TA",
         "TA",
         "BrkTil",
         "TA",
         "Gd",
         "No",
         "ALQ",
         "216",
         "Unf",
         "0",
         "540",
         "756",
         "GasA",
         "Gd",
         "Y",
         "SBrkr",
         "961",
         "756",
         "0",
         "1717",
         "1",
         "0",
         "1",
         "0",
         "3",
         "1",
         "Gd",
         "7",
         "Typ",
         "1",
         "Gd",
         "Detchd",
         "1998.0",
         "Unf",
         "3",
         "642",
         "TA",
         "TA",
         "Y",
         "0",
         "35",
         "272",
         "0",
         "0",
         "0",
         null,
         null,
         null,
         "0",
         "2",
         "2006",
         "WD",
         "Abnorml",
         "140000"
        ],
        [
         "4",
         "5",
         "60",
         "RL",
         "84.0",
         "14260",
         "Pave",
         null,
         "IR1",
         "Lvl",
         "AllPub",
         "FR2",
         "Gtl",
         "NoRidge",
         "Norm",
         "Norm",
         "1Fam",
         "2Story",
         "8",
         "5",
         "2000",
         "2000",
         "Gable",
         "CompShg",
         "VinylSd",
         "VinylSd",
         "BrkFace",
         "350.0",
         "Gd",
         "TA",
         "PConc",
         "Gd",
         "TA",
         "Av",
         "GLQ",
         "655",
         "Unf",
         "0",
         "490",
         "1145",
         "GasA",
         "Ex",
         "Y",
         "SBrkr",
         "1145",
         "1053",
         "0",
         "2198",
         "1",
         "0",
         "2",
         "1",
         "4",
         "1",
         "Gd",
         "9",
         "Typ",
         "1",
         "TA",
         "Attchd",
         "2000.0",
         "RFn",
         "3",
         "836",
         "TA",
         "TA",
         "Y",
         "192",
         "84",
         "0",
         "0",
         "0",
         "0",
         null,
         null,
         null,
         "0",
         "12",
         "2008",
         "WD",
         "Normal",
         "250000"
        ]
       ],
       "shape": {
        "columns": 81,
        "rows": 5
       }
      },
      "text/html": [
       "<div>\n",
       "<style scoped>\n",
       "    .dataframe tbody tr th:only-of-type {\n",
       "        vertical-align: middle;\n",
       "    }\n",
       "\n",
       "    .dataframe tbody tr th {\n",
       "        vertical-align: top;\n",
       "    }\n",
       "\n",
       "    .dataframe thead th {\n",
       "        text-align: right;\n",
       "    }\n",
       "</style>\n",
       "<table border=\"1\" class=\"dataframe\">\n",
       "  <thead>\n",
       "    <tr style=\"text-align: right;\">\n",
       "      <th></th>\n",
       "      <th>Id</th>\n",
       "      <th>MSSubClass</th>\n",
       "      <th>MSZoning</th>\n",
       "      <th>LotFrontage</th>\n",
       "      <th>LotArea</th>\n",
       "      <th>Street</th>\n",
       "      <th>Alley</th>\n",
       "      <th>LotShape</th>\n",
       "      <th>LandContour</th>\n",
       "      <th>Utilities</th>\n",
       "      <th>...</th>\n",
       "      <th>PoolArea</th>\n",
       "      <th>PoolQC</th>\n",
       "      <th>Fence</th>\n",
       "      <th>MiscFeature</th>\n",
       "      <th>MiscVal</th>\n",
       "      <th>MoSold</th>\n",
       "      <th>YrSold</th>\n",
       "      <th>SaleType</th>\n",
       "      <th>SaleCondition</th>\n",
       "      <th>SalePrice</th>\n",
       "    </tr>\n",
       "  </thead>\n",
       "  <tbody>\n",
       "    <tr>\n",
       "      <th>0</th>\n",
       "      <td>1</td>\n",
       "      <td>60</td>\n",
       "      <td>RL</td>\n",
       "      <td>65.0</td>\n",
       "      <td>8450</td>\n",
       "      <td>Pave</td>\n",
       "      <td>NaN</td>\n",
       "      <td>Reg</td>\n",
       "      <td>Lvl</td>\n",
       "      <td>AllPub</td>\n",
       "      <td>...</td>\n",
       "      <td>0</td>\n",
       "      <td>NaN</td>\n",
       "      <td>NaN</td>\n",
       "      <td>NaN</td>\n",
       "      <td>0</td>\n",
       "      <td>2</td>\n",
       "      <td>2008</td>\n",
       "      <td>WD</td>\n",
       "      <td>Normal</td>\n",
       "      <td>208500</td>\n",
       "    </tr>\n",
       "    <tr>\n",
       "      <th>1</th>\n",
       "      <td>2</td>\n",
       "      <td>20</td>\n",
       "      <td>RL</td>\n",
       "      <td>80.0</td>\n",
       "      <td>9600</td>\n",
       "      <td>Pave</td>\n",
       "      <td>NaN</td>\n",
       "      <td>Reg</td>\n",
       "      <td>Lvl</td>\n",
       "      <td>AllPub</td>\n",
       "      <td>...</td>\n",
       "      <td>0</td>\n",
       "      <td>NaN</td>\n",
       "      <td>NaN</td>\n",
       "      <td>NaN</td>\n",
       "      <td>0</td>\n",
       "      <td>5</td>\n",
       "      <td>2007</td>\n",
       "      <td>WD</td>\n",
       "      <td>Normal</td>\n",
       "      <td>181500</td>\n",
       "    </tr>\n",
       "    <tr>\n",
       "      <th>2</th>\n",
       "      <td>3</td>\n",
       "      <td>60</td>\n",
       "      <td>RL</td>\n",
       "      <td>68.0</td>\n",
       "      <td>11250</td>\n",
       "      <td>Pave</td>\n",
       "      <td>NaN</td>\n",
       "      <td>IR1</td>\n",
       "      <td>Lvl</td>\n",
       "      <td>AllPub</td>\n",
       "      <td>...</td>\n",
       "      <td>0</td>\n",
       "      <td>NaN</td>\n",
       "      <td>NaN</td>\n",
       "      <td>NaN</td>\n",
       "      <td>0</td>\n",
       "      <td>9</td>\n",
       "      <td>2008</td>\n",
       "      <td>WD</td>\n",
       "      <td>Normal</td>\n",
       "      <td>223500</td>\n",
       "    </tr>\n",
       "    <tr>\n",
       "      <th>3</th>\n",
       "      <td>4</td>\n",
       "      <td>70</td>\n",
       "      <td>RL</td>\n",
       "      <td>60.0</td>\n",
       "      <td>9550</td>\n",
       "      <td>Pave</td>\n",
       "      <td>NaN</td>\n",
       "      <td>IR1</td>\n",
       "      <td>Lvl</td>\n",
       "      <td>AllPub</td>\n",
       "      <td>...</td>\n",
       "      <td>0</td>\n",
       "      <td>NaN</td>\n",
       "      <td>NaN</td>\n",
       "      <td>NaN</td>\n",
       "      <td>0</td>\n",
       "      <td>2</td>\n",
       "      <td>2006</td>\n",
       "      <td>WD</td>\n",
       "      <td>Abnorml</td>\n",
       "      <td>140000</td>\n",
       "    </tr>\n",
       "    <tr>\n",
       "      <th>4</th>\n",
       "      <td>5</td>\n",
       "      <td>60</td>\n",
       "      <td>RL</td>\n",
       "      <td>84.0</td>\n",
       "      <td>14260</td>\n",
       "      <td>Pave</td>\n",
       "      <td>NaN</td>\n",
       "      <td>IR1</td>\n",
       "      <td>Lvl</td>\n",
       "      <td>AllPub</td>\n",
       "      <td>...</td>\n",
       "      <td>0</td>\n",
       "      <td>NaN</td>\n",
       "      <td>NaN</td>\n",
       "      <td>NaN</td>\n",
       "      <td>0</td>\n",
       "      <td>12</td>\n",
       "      <td>2008</td>\n",
       "      <td>WD</td>\n",
       "      <td>Normal</td>\n",
       "      <td>250000</td>\n",
       "    </tr>\n",
       "  </tbody>\n",
       "</table>\n",
       "<p>5 rows × 81 columns</p>\n",
       "</div>"
      ],
      "text/plain": [
       "   Id  MSSubClass MSZoning  LotFrontage  LotArea Street Alley LotShape  \\\n",
       "0   1          60       RL         65.0     8450   Pave   NaN      Reg   \n",
       "1   2          20       RL         80.0     9600   Pave   NaN      Reg   \n",
       "2   3          60       RL         68.0    11250   Pave   NaN      IR1   \n",
       "3   4          70       RL         60.0     9550   Pave   NaN      IR1   \n",
       "4   5          60       RL         84.0    14260   Pave   NaN      IR1   \n",
       "\n",
       "  LandContour Utilities  ... PoolArea PoolQC Fence MiscFeature MiscVal MoSold  \\\n",
       "0         Lvl    AllPub  ...        0    NaN   NaN         NaN       0      2   \n",
       "1         Lvl    AllPub  ...        0    NaN   NaN         NaN       0      5   \n",
       "2         Lvl    AllPub  ...        0    NaN   NaN         NaN       0      9   \n",
       "3         Lvl    AllPub  ...        0    NaN   NaN         NaN       0      2   \n",
       "4         Lvl    AllPub  ...        0    NaN   NaN         NaN       0     12   \n",
       "\n",
       "  YrSold  SaleType  SaleCondition  SalePrice  \n",
       "0   2008        WD         Normal     208500  \n",
       "1   2007        WD         Normal     181500  \n",
       "2   2008        WD         Normal     223500  \n",
       "3   2006        WD        Abnorml     140000  \n",
       "4   2008        WD         Normal     250000  \n",
       "\n",
       "[5 rows x 81 columns]"
      ]
     },
     "execution_count": 7,
     "metadata": {},
     "output_type": "execute_result"
    }
   ],
   "source": [
    "# visualiser premieres lignes\n",
    "train_copy.head()"
   ]
  },
  {
   "cell_type": "code",
   "execution_count": 8,
   "metadata": {},
   "outputs": [
    {
     "data": {
      "text/plain": [
       "81"
      ]
     },
     "execution_count": 8,
     "metadata": {},
     "output_type": "execute_result"
    }
   ],
   "source": [
    "len(train_copy.columns)"
   ]
  },
  {
   "cell_type": "markdown",
   "metadata": {},
   "source": [
    "il y a 81 colonnes dont 79 variables X (features), 1 colonne ID et la variable cible \"SalePrice\".\n",
    "La variable ID pourrait être supprimée\n",
    "Nous allons concaténer les 2 datasets train et appli afin de procéder aux memes transformations sur les deux jeux de données (une colonne est créée pours identifier Train vs appli)"
   ]
  },
  {
   "cell_type": "code",
   "execution_count": 9,
   "metadata": {},
   "outputs": [],
   "source": [
    "train_copy['train']  = 1\n",
    "appli_copy['train']  = 0\n",
    "data_full = pd.concat([train_copy, appli_copy], axis=0,sort=False)"
   ]
  },
  {
   "cell_type": "code",
   "execution_count": 10,
   "metadata": {},
   "outputs": [
    {
     "data": {
      "application/vnd.microsoft.datawrangler.viewer.v0+json": {
       "columns": [
        {
         "name": "index",
         "rawType": "object",
         "type": "string"
        },
        {
         "name": "Id",
         "rawType": "float64",
         "type": "float"
        },
        {
         "name": "MSSubClass",
         "rawType": "float64",
         "type": "float"
        },
        {
         "name": "MSZoning",
         "rawType": "object",
         "type": "unknown"
        },
        {
         "name": "LotFrontage",
         "rawType": "float64",
         "type": "float"
        },
        {
         "name": "LotArea",
         "rawType": "float64",
         "type": "float"
        },
        {
         "name": "Street",
         "rawType": "object",
         "type": "unknown"
        },
        {
         "name": "Alley",
         "rawType": "object",
         "type": "unknown"
        },
        {
         "name": "LotShape",
         "rawType": "object",
         "type": "unknown"
        },
        {
         "name": "LandContour",
         "rawType": "object",
         "type": "unknown"
        },
        {
         "name": "Utilities",
         "rawType": "object",
         "type": "unknown"
        },
        {
         "name": "LotConfig",
         "rawType": "object",
         "type": "unknown"
        },
        {
         "name": "LandSlope",
         "rawType": "object",
         "type": "unknown"
        },
        {
         "name": "Neighborhood",
         "rawType": "object",
         "type": "unknown"
        },
        {
         "name": "Condition1",
         "rawType": "object",
         "type": "unknown"
        },
        {
         "name": "Condition2",
         "rawType": "object",
         "type": "unknown"
        },
        {
         "name": "BldgType",
         "rawType": "object",
         "type": "unknown"
        },
        {
         "name": "HouseStyle",
         "rawType": "object",
         "type": "unknown"
        },
        {
         "name": "OverallQual",
         "rawType": "float64",
         "type": "float"
        },
        {
         "name": "OverallCond",
         "rawType": "float64",
         "type": "float"
        },
        {
         "name": "YearBuilt",
         "rawType": "float64",
         "type": "float"
        },
        {
         "name": "YearRemodAdd",
         "rawType": "float64",
         "type": "float"
        },
        {
         "name": "RoofStyle",
         "rawType": "object",
         "type": "unknown"
        },
        {
         "name": "RoofMatl",
         "rawType": "object",
         "type": "unknown"
        },
        {
         "name": "Exterior1st",
         "rawType": "object",
         "type": "unknown"
        },
        {
         "name": "Exterior2nd",
         "rawType": "object",
         "type": "unknown"
        },
        {
         "name": "MasVnrType",
         "rawType": "object",
         "type": "unknown"
        },
        {
         "name": "MasVnrArea",
         "rawType": "float64",
         "type": "float"
        },
        {
         "name": "ExterQual",
         "rawType": "object",
         "type": "unknown"
        },
        {
         "name": "ExterCond",
         "rawType": "object",
         "type": "unknown"
        },
        {
         "name": "Foundation",
         "rawType": "object",
         "type": "unknown"
        },
        {
         "name": "BsmtQual",
         "rawType": "object",
         "type": "unknown"
        },
        {
         "name": "BsmtCond",
         "rawType": "object",
         "type": "unknown"
        },
        {
         "name": "BsmtExposure",
         "rawType": "object",
         "type": "unknown"
        },
        {
         "name": "BsmtFinType1",
         "rawType": "object",
         "type": "unknown"
        },
        {
         "name": "BsmtFinSF1",
         "rawType": "float64",
         "type": "float"
        },
        {
         "name": "BsmtFinType2",
         "rawType": "object",
         "type": "unknown"
        },
        {
         "name": "BsmtFinSF2",
         "rawType": "float64",
         "type": "float"
        },
        {
         "name": "BsmtUnfSF",
         "rawType": "float64",
         "type": "float"
        },
        {
         "name": "TotalBsmtSF",
         "rawType": "float64",
         "type": "float"
        },
        {
         "name": "Heating",
         "rawType": "object",
         "type": "unknown"
        },
        {
         "name": "HeatingQC",
         "rawType": "object",
         "type": "unknown"
        },
        {
         "name": "CentralAir",
         "rawType": "object",
         "type": "unknown"
        },
        {
         "name": "Electrical",
         "rawType": "object",
         "type": "unknown"
        },
        {
         "name": "1stFlrSF",
         "rawType": "float64",
         "type": "float"
        },
        {
         "name": "2ndFlrSF",
         "rawType": "float64",
         "type": "float"
        },
        {
         "name": "LowQualFinSF",
         "rawType": "float64",
         "type": "float"
        },
        {
         "name": "GrLivArea",
         "rawType": "float64",
         "type": "float"
        },
        {
         "name": "BsmtFullBath",
         "rawType": "float64",
         "type": "float"
        },
        {
         "name": "BsmtHalfBath",
         "rawType": "float64",
         "type": "float"
        },
        {
         "name": "FullBath",
         "rawType": "float64",
         "type": "float"
        },
        {
         "name": "HalfBath",
         "rawType": "float64",
         "type": "float"
        },
        {
         "name": "BedroomAbvGr",
         "rawType": "float64",
         "type": "float"
        },
        {
         "name": "KitchenAbvGr",
         "rawType": "float64",
         "type": "float"
        },
        {
         "name": "KitchenQual",
         "rawType": "object",
         "type": "unknown"
        },
        {
         "name": "TotRmsAbvGrd",
         "rawType": "float64",
         "type": "float"
        },
        {
         "name": "Functional",
         "rawType": "object",
         "type": "unknown"
        },
        {
         "name": "Fireplaces",
         "rawType": "float64",
         "type": "float"
        },
        {
         "name": "FireplaceQu",
         "rawType": "object",
         "type": "unknown"
        },
        {
         "name": "GarageType",
         "rawType": "object",
         "type": "unknown"
        },
        {
         "name": "GarageYrBlt",
         "rawType": "float64",
         "type": "float"
        },
        {
         "name": "GarageFinish",
         "rawType": "object",
         "type": "unknown"
        },
        {
         "name": "GarageCars",
         "rawType": "float64",
         "type": "float"
        },
        {
         "name": "GarageArea",
         "rawType": "float64",
         "type": "float"
        },
        {
         "name": "GarageQual",
         "rawType": "object",
         "type": "unknown"
        },
        {
         "name": "GarageCond",
         "rawType": "object",
         "type": "unknown"
        },
        {
         "name": "PavedDrive",
         "rawType": "object",
         "type": "unknown"
        },
        {
         "name": "WoodDeckSF",
         "rawType": "float64",
         "type": "float"
        },
        {
         "name": "OpenPorchSF",
         "rawType": "float64",
         "type": "float"
        },
        {
         "name": "EnclosedPorch",
         "rawType": "float64",
         "type": "float"
        },
        {
         "name": "3SsnPorch",
         "rawType": "float64",
         "type": "float"
        },
        {
         "name": "ScreenPorch",
         "rawType": "float64",
         "type": "float"
        },
        {
         "name": "PoolArea",
         "rawType": "float64",
         "type": "float"
        },
        {
         "name": "PoolQC",
         "rawType": "object",
         "type": "unknown"
        },
        {
         "name": "Fence",
         "rawType": "object",
         "type": "unknown"
        },
        {
         "name": "MiscFeature",
         "rawType": "object",
         "type": "unknown"
        },
        {
         "name": "MiscVal",
         "rawType": "float64",
         "type": "float"
        },
        {
         "name": "MoSold",
         "rawType": "float64",
         "type": "float"
        },
        {
         "name": "YrSold",
         "rawType": "float64",
         "type": "float"
        },
        {
         "name": "SaleType",
         "rawType": "object",
         "type": "unknown"
        },
        {
         "name": "SaleCondition",
         "rawType": "object",
         "type": "unknown"
        },
        {
         "name": "SalePrice",
         "rawType": "float64",
         "type": "float"
        },
        {
         "name": "train",
         "rawType": "float64",
         "type": "float"
        }
       ],
       "ref": "cef14f71-096e-471b-91a3-62d5005e27bd",
       "rows": [
        [
         "count",
         "2919.0",
         "2919.0",
         "2915",
         "2433.0",
         "2919.0",
         "2919",
         "198",
         "2919",
         "2919",
         "2917",
         "2919",
         "2919",
         "2919",
         "2919",
         "2919",
         "2919",
         "2919",
         "2919.0",
         "2919.0",
         "2919.0",
         "2919.0",
         "2919",
         "2919",
         "2918",
         "2918",
         "1153",
         "2896.0",
         "2919",
         "2919",
         "2919",
         "2838",
         "2837",
         "2837",
         "2840",
         "2918.0",
         "2839",
         "2918.0",
         "2918.0",
         "2918.0",
         "2919",
         "2919",
         "2919",
         "2918",
         "2919.0",
         "2919.0",
         "2919.0",
         "2919.0",
         "2917.0",
         "2917.0",
         "2919.0",
         "2919.0",
         "2919.0",
         "2919.0",
         "2918",
         "2919.0",
         "2917",
         "2919.0",
         "1499",
         "2762",
         "2760.0",
         "2760",
         "2918.0",
         "2918.0",
         "2760",
         "2760",
         "2919",
         "2919.0",
         "2919.0",
         "2919.0",
         "2919.0",
         "2919.0",
         "2919.0",
         "10",
         "571",
         "105",
         "2919.0",
         "2919.0",
         "2919.0",
         "2918",
         "2919",
         "1460.0",
         "2919.0"
        ],
        [
         "unique",
         null,
         null,
         "5",
         null,
         null,
         "2",
         "2",
         "4",
         "4",
         "2",
         "5",
         "3",
         "25",
         "9",
         "8",
         "5",
         "8",
         null,
         null,
         null,
         null,
         "6",
         "8",
         "15",
         "16",
         "3",
         null,
         "4",
         "5",
         "6",
         "4",
         "4",
         "4",
         "6",
         null,
         "6",
         null,
         null,
         null,
         "6",
         "5",
         "2",
         "5",
         null,
         null,
         null,
         null,
         null,
         null,
         null,
         null,
         null,
         null,
         "4",
         null,
         "7",
         null,
         "5",
         "6",
         null,
         "3",
         null,
         null,
         "5",
         "5",
         "3",
         null,
         null,
         null,
         null,
         null,
         null,
         "3",
         "4",
         "4",
         null,
         null,
         null,
         "9",
         "6",
         null,
         null
        ],
        [
         "top",
         null,
         null,
         "RL",
         null,
         null,
         "Pave",
         "Grvl",
         "Reg",
         "Lvl",
         "AllPub",
         "Inside",
         "Gtl",
         "NAmes",
         "Norm",
         "Norm",
         "1Fam",
         "1Story",
         null,
         null,
         null,
         null,
         "Gable",
         "CompShg",
         "VinylSd",
         "VinylSd",
         "BrkFace",
         null,
         "TA",
         "TA",
         "PConc",
         "TA",
         "TA",
         "No",
         "Unf",
         null,
         "Unf",
         null,
         null,
         null,
         "GasA",
         "Ex",
         "Y",
         "SBrkr",
         null,
         null,
         null,
         null,
         null,
         null,
         null,
         null,
         null,
         null,
         "TA",
         null,
         "Typ",
         null,
         "Gd",
         "Attchd",
         null,
         "Unf",
         null,
         null,
         "TA",
         "TA",
         "Y",
         null,
         null,
         null,
         null,
         null,
         null,
         "Ex",
         "MnPrv",
         "Shed",
         null,
         null,
         null,
         "WD",
         "Normal",
         null,
         null
        ],
        [
         "freq",
         null,
         null,
         "2265",
         null,
         null,
         "2907",
         "120",
         "1859",
         "2622",
         "2916",
         "2133",
         "2778",
         "443",
         "2511",
         "2889",
         "2425",
         "1471",
         null,
         null,
         null,
         null,
         "2310",
         "2876",
         "1025",
         "1014",
         "879",
         null,
         "1798",
         "2538",
         "1308",
         "1283",
         "2606",
         "1904",
         "851",
         null,
         "2493",
         null,
         null,
         null,
         "2874",
         "1493",
         "2723",
         "2671",
         null,
         null,
         null,
         null,
         null,
         null,
         null,
         null,
         null,
         null,
         "1492",
         null,
         "2717",
         null,
         "744",
         "1723",
         null,
         "1230",
         null,
         null,
         "2604",
         "2654",
         "2641",
         null,
         null,
         null,
         null,
         null,
         null,
         "4",
         "329",
         "95",
         null,
         null,
         null,
         "2525",
         "2402",
         null,
         null
        ],
        [
         "mean",
         "1460.0",
         "57.1377183967112",
         null,
         "69.30579531442663",
         "10168.11408016444",
         null,
         null,
         null,
         null,
         null,
         null,
         null,
         null,
         null,
         null,
         null,
         null,
         "6.089071599862967",
         "5.564576909900651",
         "1971.3127783487496",
         "1984.2644741349777",
         null,
         null,
         null,
         null,
         null,
         "102.20131215469613",
         null,
         null,
         null,
         null,
         null,
         null,
         null,
         "441.4232350925291",
         null,
         "49.58224811514736",
         "560.7721041809458",
         "1051.7775873886224",
         null,
         null,
         null,
         null,
         "1159.5817060637205",
         "336.4837273038712",
         "4.694415895854744",
         "1500.7598492634463",
         "0.429893726431265",
         "0.06136441549537196",
         "1.568002740664611",
         "0.3802672147995889",
         "2.860226104830421",
         "1.0445357999314835",
         null,
         "6.451524494689962",
         null,
         "0.5971223021582733",
         null,
         null,
         "1978.1134057971014",
         null,
         "1.7666209732693625",
         "472.8745716244003",
         null,
         null,
         null,
         "93.70983213429257",
         "47.486810551558754",
         "23.098321342925658",
         "2.602261048304214",
         "16.062350119904078",
         "2.2517985611510793",
         null,
         null,
         null,
         "50.82596779719082",
         "6.213086673518328",
         "2007.7927372387803",
         null,
         null,
         "180921.19589041095",
         "0.5001712915381981"
        ],
        [
         "std",
         "842.7870430897713",
         "42.51762782915031",
         null,
         "23.344904706927394",
         "7886.996359105536",
         null,
         null,
         null,
         null,
         null,
         null,
         null,
         null,
         null,
         null,
         null,
         null,
         "1.4099472066146963",
         "1.1131307466377236",
         "30.291441534121084",
         "20.89434423384073",
         null,
         null,
         null,
         null,
         null,
         "179.33425303776386",
         null,
         null,
         null,
         null,
         null,
         null,
         null,
         "455.6108258702918",
         null,
         "169.2056110999799",
         "439.54365942343975",
         "440.7662581159383",
         null,
         null,
         null,
         null,
         "392.36207866658924",
         "428.7014555181113",
         "46.39682451650753",
         "506.0510451183403",
         "0.5247356336982464",
         "0.2456869164493273",
         "0.5529692595874467",
         "0.5028716002357516",
         "0.8226931006716115",
         "0.21446200122348583",
         null,
         "1.5693791436437485",
         null,
         "0.646129358956227",
         null,
         null,
         "25.57428472390508",
         null,
         "0.7616243225993495",
         "215.3948149935217",
         null,
         null,
         null,
         "126.52658931047681",
         "67.57549339168976",
         "64.24424559263247",
         "25.188169331162985",
         "56.18436511069398",
         "35.66394596548708",
         null,
         null,
         null,
         "567.4022105501805",
         "2.7147617741578953",
         "1.3149644889049008",
         null,
         null,
         "79442.50288288662",
         "0.5000856384351574"
        ],
        [
         "min",
         "1.0",
         "20.0",
         null,
         "21.0",
         "1300.0",
         null,
         null,
         null,
         null,
         null,
         null,
         null,
         null,
         null,
         null,
         null,
         null,
         "1.0",
         "1.0",
         "1872.0",
         "1950.0",
         null,
         null,
         null,
         null,
         null,
         "0.0",
         null,
         null,
         null,
         null,
         null,
         null,
         null,
         "0.0",
         null,
         "0.0",
         "0.0",
         "0.0",
         null,
         null,
         null,
         null,
         "334.0",
         "0.0",
         "0.0",
         "334.0",
         "0.0",
         "0.0",
         "0.0",
         "0.0",
         "0.0",
         "0.0",
         null,
         "2.0",
         null,
         "0.0",
         null,
         null,
         "1895.0",
         null,
         "0.0",
         "0.0",
         null,
         null,
         null,
         "0.0",
         "0.0",
         "0.0",
         "0.0",
         "0.0",
         "0.0",
         null,
         null,
         null,
         "0.0",
         "1.0",
         "2006.0",
         null,
         null,
         "34900.0",
         "0.0"
        ],
        [
         "25%",
         "730.5",
         "20.0",
         null,
         "59.0",
         "7478.0",
         null,
         null,
         null,
         null,
         null,
         null,
         null,
         null,
         null,
         null,
         null,
         null,
         "5.0",
         "5.0",
         "1953.5",
         "1965.0",
         null,
         null,
         null,
         null,
         null,
         "0.0",
         null,
         null,
         null,
         null,
         null,
         null,
         null,
         "0.0",
         null,
         "0.0",
         "220.0",
         "793.0",
         null,
         null,
         null,
         null,
         "876.0",
         "0.0",
         "0.0",
         "1126.0",
         "0.0",
         "0.0",
         "1.0",
         "0.0",
         "2.0",
         "1.0",
         null,
         "5.0",
         null,
         "0.0",
         null,
         null,
         "1960.0",
         null,
         "1.0",
         "320.0",
         null,
         null,
         null,
         "0.0",
         "0.0",
         "0.0",
         "0.0",
         "0.0",
         "0.0",
         null,
         null,
         null,
         "0.0",
         "4.0",
         "2007.0",
         null,
         null,
         "129975.0",
         "0.0"
        ],
        [
         "50%",
         "1460.0",
         "50.0",
         null,
         "68.0",
         "9453.0",
         null,
         null,
         null,
         null,
         null,
         null,
         null,
         null,
         null,
         null,
         null,
         null,
         "6.0",
         "5.0",
         "1973.0",
         "1993.0",
         null,
         null,
         null,
         null,
         null,
         "0.0",
         null,
         null,
         null,
         null,
         null,
         null,
         null,
         "368.5",
         null,
         "0.0",
         "467.0",
         "989.5",
         null,
         null,
         null,
         null,
         "1082.0",
         "0.0",
         "0.0",
         "1444.0",
         "0.0",
         "0.0",
         "2.0",
         "0.0",
         "3.0",
         "1.0",
         null,
         "6.0",
         null,
         "1.0",
         null,
         null,
         "1979.0",
         null,
         "2.0",
         "480.0",
         null,
         null,
         null,
         "0.0",
         "26.0",
         "0.0",
         "0.0",
         "0.0",
         "0.0",
         null,
         null,
         null,
         "0.0",
         "6.0",
         "2008.0",
         null,
         null,
         "163000.0",
         "1.0"
        ],
        [
         "75%",
         "2189.5",
         "70.0",
         null,
         "80.0",
         "11570.0",
         null,
         null,
         null,
         null,
         null,
         null,
         null,
         null,
         null,
         null,
         null,
         null,
         "7.0",
         "6.0",
         "2001.0",
         "2004.0",
         null,
         null,
         null,
         null,
         null,
         "164.0",
         null,
         null,
         null,
         null,
         null,
         null,
         null,
         "733.0",
         null,
         "0.0",
         "805.5",
         "1302.0",
         null,
         null,
         null,
         null,
         "1387.5",
         "704.0",
         "0.0",
         "1743.5",
         "1.0",
         "0.0",
         "2.0",
         "1.0",
         "3.0",
         "1.0",
         null,
         "7.0",
         null,
         "1.0",
         null,
         null,
         "2002.0",
         null,
         "2.0",
         "576.0",
         null,
         null,
         null,
         "168.0",
         "70.0",
         "0.0",
         "0.0",
         "0.0",
         "0.0",
         null,
         null,
         null,
         "0.0",
         "8.0",
         "2009.0",
         null,
         null,
         "214000.0",
         "1.0"
        ],
        [
         "max",
         "2919.0",
         "190.0",
         null,
         "313.0",
         "215245.0",
         null,
         null,
         null,
         null,
         null,
         null,
         null,
         null,
         null,
         null,
         null,
         null,
         "10.0",
         "9.0",
         "2010.0",
         "2010.0",
         null,
         null,
         null,
         null,
         null,
         "1600.0",
         null,
         null,
         null,
         null,
         null,
         null,
         null,
         "5644.0",
         null,
         "1526.0",
         "2336.0",
         "6110.0",
         null,
         null,
         null,
         null,
         "5095.0",
         "2065.0",
         "1064.0",
         "5642.0",
         "3.0",
         "2.0",
         "4.0",
         "2.0",
         "8.0",
         "3.0",
         null,
         "15.0",
         null,
         "4.0",
         null,
         null,
         "2207.0",
         null,
         "5.0",
         "1488.0",
         null,
         null,
         null,
         "1424.0",
         "742.0",
         "1012.0",
         "508.0",
         "576.0",
         "800.0",
         null,
         null,
         null,
         "17000.0",
         "12.0",
         "2010.0",
         null,
         null,
         "755000.0",
         "1.0"
        ]
       ],
       "shape": {
        "columns": 82,
        "rows": 11
       }
      },
      "text/html": [
       "<div>\n",
       "<style scoped>\n",
       "    .dataframe tbody tr th:only-of-type {\n",
       "        vertical-align: middle;\n",
       "    }\n",
       "\n",
       "    .dataframe tbody tr th {\n",
       "        vertical-align: top;\n",
       "    }\n",
       "\n",
       "    .dataframe thead th {\n",
       "        text-align: right;\n",
       "    }\n",
       "</style>\n",
       "<table border=\"1\" class=\"dataframe\">\n",
       "  <thead>\n",
       "    <tr style=\"text-align: right;\">\n",
       "      <th></th>\n",
       "      <th>Id</th>\n",
       "      <th>MSSubClass</th>\n",
       "      <th>MSZoning</th>\n",
       "      <th>LotFrontage</th>\n",
       "      <th>LotArea</th>\n",
       "      <th>Street</th>\n",
       "      <th>Alley</th>\n",
       "      <th>LotShape</th>\n",
       "      <th>LandContour</th>\n",
       "      <th>Utilities</th>\n",
       "      <th>...</th>\n",
       "      <th>PoolQC</th>\n",
       "      <th>Fence</th>\n",
       "      <th>MiscFeature</th>\n",
       "      <th>MiscVal</th>\n",
       "      <th>MoSold</th>\n",
       "      <th>YrSold</th>\n",
       "      <th>SaleType</th>\n",
       "      <th>SaleCondition</th>\n",
       "      <th>SalePrice</th>\n",
       "      <th>train</th>\n",
       "    </tr>\n",
       "  </thead>\n",
       "  <tbody>\n",
       "    <tr>\n",
       "      <th>count</th>\n",
       "      <td>2919.000000</td>\n",
       "      <td>2919.000000</td>\n",
       "      <td>2915</td>\n",
       "      <td>2433.000000</td>\n",
       "      <td>2919.000000</td>\n",
       "      <td>2919</td>\n",
       "      <td>198</td>\n",
       "      <td>2919</td>\n",
       "      <td>2919</td>\n",
       "      <td>2917</td>\n",
       "      <td>...</td>\n",
       "      <td>10</td>\n",
       "      <td>571</td>\n",
       "      <td>105</td>\n",
       "      <td>2919.000000</td>\n",
       "      <td>2919.000000</td>\n",
       "      <td>2919.000000</td>\n",
       "      <td>2918</td>\n",
       "      <td>2919</td>\n",
       "      <td>1460.000000</td>\n",
       "      <td>2919.000000</td>\n",
       "    </tr>\n",
       "    <tr>\n",
       "      <th>unique</th>\n",
       "      <td>NaN</td>\n",
       "      <td>NaN</td>\n",
       "      <td>5</td>\n",
       "      <td>NaN</td>\n",
       "      <td>NaN</td>\n",
       "      <td>2</td>\n",
       "      <td>2</td>\n",
       "      <td>4</td>\n",
       "      <td>4</td>\n",
       "      <td>2</td>\n",
       "      <td>...</td>\n",
       "      <td>3</td>\n",
       "      <td>4</td>\n",
       "      <td>4</td>\n",
       "      <td>NaN</td>\n",
       "      <td>NaN</td>\n",
       "      <td>NaN</td>\n",
       "      <td>9</td>\n",
       "      <td>6</td>\n",
       "      <td>NaN</td>\n",
       "      <td>NaN</td>\n",
       "    </tr>\n",
       "    <tr>\n",
       "      <th>top</th>\n",
       "      <td>NaN</td>\n",
       "      <td>NaN</td>\n",
       "      <td>RL</td>\n",
       "      <td>NaN</td>\n",
       "      <td>NaN</td>\n",
       "      <td>Pave</td>\n",
       "      <td>Grvl</td>\n",
       "      <td>Reg</td>\n",
       "      <td>Lvl</td>\n",
       "      <td>AllPub</td>\n",
       "      <td>...</td>\n",
       "      <td>Ex</td>\n",
       "      <td>MnPrv</td>\n",
       "      <td>Shed</td>\n",
       "      <td>NaN</td>\n",
       "      <td>NaN</td>\n",
       "      <td>NaN</td>\n",
       "      <td>WD</td>\n",
       "      <td>Normal</td>\n",
       "      <td>NaN</td>\n",
       "      <td>NaN</td>\n",
       "    </tr>\n",
       "    <tr>\n",
       "      <th>freq</th>\n",
       "      <td>NaN</td>\n",
       "      <td>NaN</td>\n",
       "      <td>2265</td>\n",
       "      <td>NaN</td>\n",
       "      <td>NaN</td>\n",
       "      <td>2907</td>\n",
       "      <td>120</td>\n",
       "      <td>1859</td>\n",
       "      <td>2622</td>\n",
       "      <td>2916</td>\n",
       "      <td>...</td>\n",
       "      <td>4</td>\n",
       "      <td>329</td>\n",
       "      <td>95</td>\n",
       "      <td>NaN</td>\n",
       "      <td>NaN</td>\n",
       "      <td>NaN</td>\n",
       "      <td>2525</td>\n",
       "      <td>2402</td>\n",
       "      <td>NaN</td>\n",
       "      <td>NaN</td>\n",
       "    </tr>\n",
       "    <tr>\n",
       "      <th>mean</th>\n",
       "      <td>1460.000000</td>\n",
       "      <td>57.137718</td>\n",
       "      <td>NaN</td>\n",
       "      <td>69.305795</td>\n",
       "      <td>10168.114080</td>\n",
       "      <td>NaN</td>\n",
       "      <td>NaN</td>\n",
       "      <td>NaN</td>\n",
       "      <td>NaN</td>\n",
       "      <td>NaN</td>\n",
       "      <td>...</td>\n",
       "      <td>NaN</td>\n",
       "      <td>NaN</td>\n",
       "      <td>NaN</td>\n",
       "      <td>50.825968</td>\n",
       "      <td>6.213087</td>\n",
       "      <td>2007.792737</td>\n",
       "      <td>NaN</td>\n",
       "      <td>NaN</td>\n",
       "      <td>180921.195890</td>\n",
       "      <td>0.500171</td>\n",
       "    </tr>\n",
       "    <tr>\n",
       "      <th>std</th>\n",
       "      <td>842.787043</td>\n",
       "      <td>42.517628</td>\n",
       "      <td>NaN</td>\n",
       "      <td>23.344905</td>\n",
       "      <td>7886.996359</td>\n",
       "      <td>NaN</td>\n",
       "      <td>NaN</td>\n",
       "      <td>NaN</td>\n",
       "      <td>NaN</td>\n",
       "      <td>NaN</td>\n",
       "      <td>...</td>\n",
       "      <td>NaN</td>\n",
       "      <td>NaN</td>\n",
       "      <td>NaN</td>\n",
       "      <td>567.402211</td>\n",
       "      <td>2.714762</td>\n",
       "      <td>1.314964</td>\n",
       "      <td>NaN</td>\n",
       "      <td>NaN</td>\n",
       "      <td>79442.502883</td>\n",
       "      <td>0.500086</td>\n",
       "    </tr>\n",
       "    <tr>\n",
       "      <th>min</th>\n",
       "      <td>1.000000</td>\n",
       "      <td>20.000000</td>\n",
       "      <td>NaN</td>\n",
       "      <td>21.000000</td>\n",
       "      <td>1300.000000</td>\n",
       "      <td>NaN</td>\n",
       "      <td>NaN</td>\n",
       "      <td>NaN</td>\n",
       "      <td>NaN</td>\n",
       "      <td>NaN</td>\n",
       "      <td>...</td>\n",
       "      <td>NaN</td>\n",
       "      <td>NaN</td>\n",
       "      <td>NaN</td>\n",
       "      <td>0.000000</td>\n",
       "      <td>1.000000</td>\n",
       "      <td>2006.000000</td>\n",
       "      <td>NaN</td>\n",
       "      <td>NaN</td>\n",
       "      <td>34900.000000</td>\n",
       "      <td>0.000000</td>\n",
       "    </tr>\n",
       "    <tr>\n",
       "      <th>25%</th>\n",
       "      <td>730.500000</td>\n",
       "      <td>20.000000</td>\n",
       "      <td>NaN</td>\n",
       "      <td>59.000000</td>\n",
       "      <td>7478.000000</td>\n",
       "      <td>NaN</td>\n",
       "      <td>NaN</td>\n",
       "      <td>NaN</td>\n",
       "      <td>NaN</td>\n",
       "      <td>NaN</td>\n",
       "      <td>...</td>\n",
       "      <td>NaN</td>\n",
       "      <td>NaN</td>\n",
       "      <td>NaN</td>\n",
       "      <td>0.000000</td>\n",
       "      <td>4.000000</td>\n",
       "      <td>2007.000000</td>\n",
       "      <td>NaN</td>\n",
       "      <td>NaN</td>\n",
       "      <td>129975.000000</td>\n",
       "      <td>0.000000</td>\n",
       "    </tr>\n",
       "    <tr>\n",
       "      <th>50%</th>\n",
       "      <td>1460.000000</td>\n",
       "      <td>50.000000</td>\n",
       "      <td>NaN</td>\n",
       "      <td>68.000000</td>\n",
       "      <td>9453.000000</td>\n",
       "      <td>NaN</td>\n",
       "      <td>NaN</td>\n",
       "      <td>NaN</td>\n",
       "      <td>NaN</td>\n",
       "      <td>NaN</td>\n",
       "      <td>...</td>\n",
       "      <td>NaN</td>\n",
       "      <td>NaN</td>\n",
       "      <td>NaN</td>\n",
       "      <td>0.000000</td>\n",
       "      <td>6.000000</td>\n",
       "      <td>2008.000000</td>\n",
       "      <td>NaN</td>\n",
       "      <td>NaN</td>\n",
       "      <td>163000.000000</td>\n",
       "      <td>1.000000</td>\n",
       "    </tr>\n",
       "    <tr>\n",
       "      <th>75%</th>\n",
       "      <td>2189.500000</td>\n",
       "      <td>70.000000</td>\n",
       "      <td>NaN</td>\n",
       "      <td>80.000000</td>\n",
       "      <td>11570.000000</td>\n",
       "      <td>NaN</td>\n",
       "      <td>NaN</td>\n",
       "      <td>NaN</td>\n",
       "      <td>NaN</td>\n",
       "      <td>NaN</td>\n",
       "      <td>...</td>\n",
       "      <td>NaN</td>\n",
       "      <td>NaN</td>\n",
       "      <td>NaN</td>\n",
       "      <td>0.000000</td>\n",
       "      <td>8.000000</td>\n",
       "      <td>2009.000000</td>\n",
       "      <td>NaN</td>\n",
       "      <td>NaN</td>\n",
       "      <td>214000.000000</td>\n",
       "      <td>1.000000</td>\n",
       "    </tr>\n",
       "    <tr>\n",
       "      <th>max</th>\n",
       "      <td>2919.000000</td>\n",
       "      <td>190.000000</td>\n",
       "      <td>NaN</td>\n",
       "      <td>313.000000</td>\n",
       "      <td>215245.000000</td>\n",
       "      <td>NaN</td>\n",
       "      <td>NaN</td>\n",
       "      <td>NaN</td>\n",
       "      <td>NaN</td>\n",
       "      <td>NaN</td>\n",
       "      <td>...</td>\n",
       "      <td>NaN</td>\n",
       "      <td>NaN</td>\n",
       "      <td>NaN</td>\n",
       "      <td>17000.000000</td>\n",
       "      <td>12.000000</td>\n",
       "      <td>2010.000000</td>\n",
       "      <td>NaN</td>\n",
       "      <td>NaN</td>\n",
       "      <td>755000.000000</td>\n",
       "      <td>1.000000</td>\n",
       "    </tr>\n",
       "  </tbody>\n",
       "</table>\n",
       "<p>11 rows × 82 columns</p>\n",
       "</div>"
      ],
      "text/plain": [
       "                 Id   MSSubClass MSZoning  LotFrontage        LotArea Street  \\\n",
       "count   2919.000000  2919.000000     2915  2433.000000    2919.000000   2919   \n",
       "unique          NaN          NaN        5          NaN            NaN      2   \n",
       "top             NaN          NaN       RL          NaN            NaN   Pave   \n",
       "freq            NaN          NaN     2265          NaN            NaN   2907   \n",
       "mean    1460.000000    57.137718      NaN    69.305795   10168.114080    NaN   \n",
       "std      842.787043    42.517628      NaN    23.344905    7886.996359    NaN   \n",
       "min        1.000000    20.000000      NaN    21.000000    1300.000000    NaN   \n",
       "25%      730.500000    20.000000      NaN    59.000000    7478.000000    NaN   \n",
       "50%     1460.000000    50.000000      NaN    68.000000    9453.000000    NaN   \n",
       "75%     2189.500000    70.000000      NaN    80.000000   11570.000000    NaN   \n",
       "max     2919.000000   190.000000      NaN   313.000000  215245.000000    NaN   \n",
       "\n",
       "       Alley LotShape LandContour Utilities  ... PoolQC  Fence MiscFeature  \\\n",
       "count    198     2919        2919      2917  ...     10    571         105   \n",
       "unique     2        4           4         2  ...      3      4           4   \n",
       "top     Grvl      Reg         Lvl    AllPub  ...     Ex  MnPrv        Shed   \n",
       "freq     120     1859        2622      2916  ...      4    329          95   \n",
       "mean     NaN      NaN         NaN       NaN  ...    NaN    NaN         NaN   \n",
       "std      NaN      NaN         NaN       NaN  ...    NaN    NaN         NaN   \n",
       "min      NaN      NaN         NaN       NaN  ...    NaN    NaN         NaN   \n",
       "25%      NaN      NaN         NaN       NaN  ...    NaN    NaN         NaN   \n",
       "50%      NaN      NaN         NaN       NaN  ...    NaN    NaN         NaN   \n",
       "75%      NaN      NaN         NaN       NaN  ...    NaN    NaN         NaN   \n",
       "max      NaN      NaN         NaN       NaN  ...    NaN    NaN         NaN   \n",
       "\n",
       "             MiscVal       MoSold       YrSold SaleType  SaleCondition  \\\n",
       "count    2919.000000  2919.000000  2919.000000     2918           2919   \n",
       "unique           NaN          NaN          NaN        9              6   \n",
       "top              NaN          NaN          NaN       WD         Normal   \n",
       "freq             NaN          NaN          NaN     2525           2402   \n",
       "mean       50.825968     6.213087  2007.792737      NaN            NaN   \n",
       "std       567.402211     2.714762     1.314964      NaN            NaN   \n",
       "min         0.000000     1.000000  2006.000000      NaN            NaN   \n",
       "25%         0.000000     4.000000  2007.000000      NaN            NaN   \n",
       "50%         0.000000     6.000000  2008.000000      NaN            NaN   \n",
       "75%         0.000000     8.000000  2009.000000      NaN            NaN   \n",
       "max     17000.000000    12.000000  2010.000000      NaN            NaN   \n",
       "\n",
       "            SalePrice        train  \n",
       "count     1460.000000  2919.000000  \n",
       "unique            NaN          NaN  \n",
       "top               NaN          NaN  \n",
       "freq              NaN          NaN  \n",
       "mean    180921.195890     0.500171  \n",
       "std      79442.502883     0.500086  \n",
       "min      34900.000000     0.000000  \n",
       "25%     129975.000000     0.000000  \n",
       "50%     163000.000000     1.000000  \n",
       "75%     214000.000000     1.000000  \n",
       "max     755000.000000     1.000000  \n",
       "\n",
       "[11 rows x 82 columns]"
      ]
     },
     "execution_count": 10,
     "metadata": {},
     "output_type": "execute_result"
    }
   ],
   "source": [
    "data_full.describe(include='all')"
   ]
  },
  {
   "cell_type": "code",
   "execution_count": 11,
   "metadata": {},
   "outputs": [
    {
     "name": "stdout",
     "output_type": "stream",
     "text": [
      "<class 'pandas.core.frame.DataFrame'>\n",
      "Index: 2919 entries, 0 to 1458\n",
      "Data columns (total 82 columns):\n",
      " #   Column         Non-Null Count  Dtype  \n",
      "---  ------         --------------  -----  \n",
      " 0   Id             2919 non-null   int64  \n",
      " 1   MSSubClass     2919 non-null   int64  \n",
      " 2   MSZoning       2915 non-null   object \n",
      " 3   LotFrontage    2433 non-null   float64\n",
      " 4   LotArea        2919 non-null   int64  \n",
      " 5   Street         2919 non-null   object \n",
      " 6   Alley          198 non-null    object \n",
      " 7   LotShape       2919 non-null   object \n",
      " 8   LandContour    2919 non-null   object \n",
      " 9   Utilities      2917 non-null   object \n",
      " 10  LotConfig      2919 non-null   object \n",
      " 11  LandSlope      2919 non-null   object \n",
      " 12  Neighborhood   2919 non-null   object \n",
      " 13  Condition1     2919 non-null   object \n",
      " 14  Condition2     2919 non-null   object \n",
      " 15  BldgType       2919 non-null   object \n",
      " 16  HouseStyle     2919 non-null   object \n",
      " 17  OverallQual    2919 non-null   int64  \n",
      " 18  OverallCond    2919 non-null   int64  \n",
      " 19  YearBuilt      2919 non-null   int64  \n",
      " 20  YearRemodAdd   2919 non-null   int64  \n",
      " 21  RoofStyle      2919 non-null   object \n",
      " 22  RoofMatl       2919 non-null   object \n",
      " 23  Exterior1st    2918 non-null   object \n",
      " 24  Exterior2nd    2918 non-null   object \n",
      " 25  MasVnrType     1153 non-null   object \n",
      " 26  MasVnrArea     2896 non-null   float64\n",
      " 27  ExterQual      2919 non-null   object \n",
      " 28  ExterCond      2919 non-null   object \n",
      " 29  Foundation     2919 non-null   object \n",
      " 30  BsmtQual       2838 non-null   object \n",
      " 31  BsmtCond       2837 non-null   object \n",
      " 32  BsmtExposure   2837 non-null   object \n",
      " 33  BsmtFinType1   2840 non-null   object \n",
      " 34  BsmtFinSF1     2918 non-null   float64\n",
      " 35  BsmtFinType2   2839 non-null   object \n",
      " 36  BsmtFinSF2     2918 non-null   float64\n",
      " 37  BsmtUnfSF      2918 non-null   float64\n",
      " 38  TotalBsmtSF    2918 non-null   float64\n",
      " 39  Heating        2919 non-null   object \n",
      " 40  HeatingQC      2919 non-null   object \n",
      " 41  CentralAir     2919 non-null   object \n",
      " 42  Electrical     2918 non-null   object \n",
      " 43  1stFlrSF       2919 non-null   int64  \n",
      " 44  2ndFlrSF       2919 non-null   int64  \n",
      " 45  LowQualFinSF   2919 non-null   int64  \n",
      " 46  GrLivArea      2919 non-null   int64  \n",
      " 47  BsmtFullBath   2917 non-null   float64\n",
      " 48  BsmtHalfBath   2917 non-null   float64\n",
      " 49  FullBath       2919 non-null   int64  \n",
      " 50  HalfBath       2919 non-null   int64  \n",
      " 51  BedroomAbvGr   2919 non-null   int64  \n",
      " 52  KitchenAbvGr   2919 non-null   int64  \n",
      " 53  KitchenQual    2918 non-null   object \n",
      " 54  TotRmsAbvGrd   2919 non-null   int64  \n",
      " 55  Functional     2917 non-null   object \n",
      " 56  Fireplaces     2919 non-null   int64  \n",
      " 57  FireplaceQu    1499 non-null   object \n",
      " 58  GarageType     2762 non-null   object \n",
      " 59  GarageYrBlt    2760 non-null   float64\n",
      " 60  GarageFinish   2760 non-null   object \n",
      " 61  GarageCars     2918 non-null   float64\n",
      " 62  GarageArea     2918 non-null   float64\n",
      " 63  GarageQual     2760 non-null   object \n",
      " 64  GarageCond     2760 non-null   object \n",
      " 65  PavedDrive     2919 non-null   object \n",
      " 66  WoodDeckSF     2919 non-null   int64  \n",
      " 67  OpenPorchSF    2919 non-null   int64  \n",
      " 68  EnclosedPorch  2919 non-null   int64  \n",
      " 69  3SsnPorch      2919 non-null   int64  \n",
      " 70  ScreenPorch    2919 non-null   int64  \n",
      " 71  PoolArea       2919 non-null   int64  \n",
      " 72  PoolQC         10 non-null     object \n",
      " 73  Fence          571 non-null    object \n",
      " 74  MiscFeature    105 non-null    object \n",
      " 75  MiscVal        2919 non-null   int64  \n",
      " 76  MoSold         2919 non-null   int64  \n",
      " 77  YrSold         2919 non-null   int64  \n",
      " 78  SaleType       2918 non-null   object \n",
      " 79  SaleCondition  2919 non-null   object \n",
      " 80  SalePrice      1460 non-null   float64\n",
      " 81  train          2919 non-null   int64  \n",
      "dtypes: float64(12), int64(27), object(43)\n",
      "memory usage: 1.8+ MB\n"
     ]
    }
   ],
   "source": [
    "data_full.info()"
   ]
  },
  {
   "cell_type": "markdown",
   "metadata": {},
   "source": [
    "Nous allons calculer le pourcentage de valeurs manquantes pour chaque variable. On voit ci dessus que certaines var. ont un nombre non null faible. (MiscFeature)"
   ]
  },
  {
   "cell_type": "code",
   "execution_count": 12,
   "metadata": {},
   "outputs": [
    {
     "data": {
      "application/vnd.microsoft.datawrangler.viewer.v0+json": {
       "columns": [
        {
         "name": "index",
         "rawType": "int64",
         "type": "integer"
        },
        {
         "name": "Colonne",
         "rawType": "object",
         "type": "string"
        },
        {
         "name": "Taux de NULL",
         "rawType": "float64",
         "type": "float"
        }
       ],
       "ref": "b12b3bac-f434-4610-a552-7175a81214a2",
       "rows": [
        [
         "72",
         "PoolQC",
         "99.65741692360398"
        ],
        [
         "74",
         "MiscFeature",
         "96.40287769784173"
        ],
        [
         "6",
         "Alley",
         "93.21685508735868"
        ],
        [
         "73",
         "Fence",
         "80.4385063377869"
        ],
        [
         "25",
         "MasVnrType",
         "60.500171291538194"
        ],
        [
         "80",
         "SalePrice",
         "49.9828708461802"
        ],
        [
         "57",
         "FireplaceQu",
         "48.646796848235695"
        ],
        [
         "3",
         "LotFrontage",
         "16.649537512846866"
        ],
        [
         "60",
         "GarageFinish",
         "5.4470709146968135"
        ],
        [
         "64",
         "GarageCond",
         "5.4470709146968135"
        ],
        [
         "63",
         "GarageQual",
         "5.4470709146968135"
        ],
        [
         "59",
         "GarageYrBlt",
         "5.4470709146968135"
        ],
        [
         "58",
         "GarageType",
         "5.378554299417608"
        ],
        [
         "32",
         "BsmtExposure",
         "2.8091812264474134"
        ],
        [
         "31",
         "BsmtCond",
         "2.8091812264474134"
        ],
        [
         "30",
         "BsmtQual",
         "2.774922918807811"
        ],
        [
         "35",
         "BsmtFinType2",
         "2.7406646111682083"
        ],
        [
         "33",
         "BsmtFinType1",
         "2.7064063035286057"
        ],
        [
         "26",
         "MasVnrArea",
         "0.7879410757108599"
        ],
        [
         "2",
         "MSZoning",
         "0.1370332305584104"
        ],
        [
         "47",
         "BsmtFullBath",
         "0.0685166152792052"
        ],
        [
         "55",
         "Functional",
         "0.0685166152792052"
        ],
        [
         "9",
         "Utilities",
         "0.0685166152792052"
        ],
        [
         "48",
         "BsmtHalfBath",
         "0.0685166152792052"
        ],
        [
         "78",
         "SaleType",
         "0.0342583076396026"
        ],
        [
         "53",
         "KitchenQual",
         "0.0342583076396026"
        ],
        [
         "34",
         "BsmtFinSF1",
         "0.0342583076396026"
        ],
        [
         "37",
         "BsmtUnfSF",
         "0.0342583076396026"
        ],
        [
         "42",
         "Electrical",
         "0.0342583076396026"
        ],
        [
         "38",
         "TotalBsmtSF",
         "0.0342583076396026"
        ],
        [
         "24",
         "Exterior2nd",
         "0.0342583076396026"
        ],
        [
         "36",
         "BsmtFinSF2",
         "0.0342583076396026"
        ],
        [
         "61",
         "GarageCars",
         "0.0342583076396026"
        ],
        [
         "62",
         "GarageArea",
         "0.0342583076396026"
        ],
        [
         "23",
         "Exterior1st",
         "0.0342583076396026"
        ],
        [
         "16",
         "HouseStyle",
         "0.0"
        ],
        [
         "17",
         "OverallQual",
         "0.0"
        ],
        [
         "14",
         "Condition2",
         "0.0"
        ],
        [
         "13",
         "Condition1",
         "0.0"
        ],
        [
         "12",
         "Neighborhood",
         "0.0"
        ],
        [
         "15",
         "BldgType",
         "0.0"
        ],
        [
         "10",
         "LotConfig",
         "0.0"
        ],
        [
         "8",
         "LandContour",
         "0.0"
        ],
        [
         "7",
         "LotShape",
         "0.0"
        ],
        [
         "4",
         "LotArea",
         "0.0"
        ],
        [
         "5",
         "Street",
         "0.0"
        ],
        [
         "0",
         "Id",
         "0.0"
        ],
        [
         "1",
         "MSSubClass",
         "0.0"
        ],
        [
         "11",
         "LandSlope",
         "0.0"
        ],
        [
         "28",
         "ExterCond",
         "0.0"
        ]
       ],
       "shape": {
        "columns": 2,
        "rows": 82
       }
      },
      "text/html": [
       "<div>\n",
       "<style scoped>\n",
       "    .dataframe tbody tr th:only-of-type {\n",
       "        vertical-align: middle;\n",
       "    }\n",
       "\n",
       "    .dataframe tbody tr th {\n",
       "        vertical-align: top;\n",
       "    }\n",
       "\n",
       "    .dataframe thead th {\n",
       "        text-align: right;\n",
       "    }\n",
       "</style>\n",
       "<table border=\"1\" class=\"dataframe\">\n",
       "  <thead>\n",
       "    <tr style=\"text-align: right;\">\n",
       "      <th></th>\n",
       "      <th>Colonne</th>\n",
       "      <th>Taux de NULL</th>\n",
       "    </tr>\n",
       "  </thead>\n",
       "  <tbody>\n",
       "    <tr>\n",
       "      <th>72</th>\n",
       "      <td>PoolQC</td>\n",
       "      <td>99.657417</td>\n",
       "    </tr>\n",
       "    <tr>\n",
       "      <th>74</th>\n",
       "      <td>MiscFeature</td>\n",
       "      <td>96.402878</td>\n",
       "    </tr>\n",
       "    <tr>\n",
       "      <th>6</th>\n",
       "      <td>Alley</td>\n",
       "      <td>93.216855</td>\n",
       "    </tr>\n",
       "    <tr>\n",
       "      <th>73</th>\n",
       "      <td>Fence</td>\n",
       "      <td>80.438506</td>\n",
       "    </tr>\n",
       "    <tr>\n",
       "      <th>25</th>\n",
       "      <td>MasVnrType</td>\n",
       "      <td>60.500171</td>\n",
       "    </tr>\n",
       "    <tr>\n",
       "      <th>...</th>\n",
       "      <td>...</td>\n",
       "      <td>...</td>\n",
       "    </tr>\n",
       "    <tr>\n",
       "      <th>75</th>\n",
       "      <td>MiscVal</td>\n",
       "      <td>0.000000</td>\n",
       "    </tr>\n",
       "    <tr>\n",
       "      <th>77</th>\n",
       "      <td>YrSold</td>\n",
       "      <td>0.000000</td>\n",
       "    </tr>\n",
       "    <tr>\n",
       "      <th>76</th>\n",
       "      <td>MoSold</td>\n",
       "      <td>0.000000</td>\n",
       "    </tr>\n",
       "    <tr>\n",
       "      <th>79</th>\n",
       "      <td>SaleCondition</td>\n",
       "      <td>0.000000</td>\n",
       "    </tr>\n",
       "    <tr>\n",
       "      <th>81</th>\n",
       "      <td>train</td>\n",
       "      <td>0.000000</td>\n",
       "    </tr>\n",
       "  </tbody>\n",
       "</table>\n",
       "<p>82 rows × 2 columns</p>\n",
       "</div>"
      ],
      "text/plain": [
       "          Colonne  Taux de NULL\n",
       "72         PoolQC     99.657417\n",
       "74    MiscFeature     96.402878\n",
       "6           Alley     93.216855\n",
       "73          Fence     80.438506\n",
       "25     MasVnrType     60.500171\n",
       "..            ...           ...\n",
       "75        MiscVal      0.000000\n",
       "77         YrSold      0.000000\n",
       "76         MoSold      0.000000\n",
       "79  SaleCondition      0.000000\n",
       "81          train      0.000000\n",
       "\n",
       "[82 rows x 2 columns]"
      ]
     },
     "execution_count": 12,
     "metadata": {},
     "output_type": "execute_result"
    }
   ],
   "source": [
    "df_NULL = [(c, data_full[c].isna().mean()*100) for c in data_full]\n",
    "df_NULL = pd.DataFrame(df_NULL, columns=[\"Colonne\", \"Taux de NULL\"])\n",
    "df_NULL.sort_values(\"Taux de NULL\", ascending=False)"
   ]
  },
  {
   "cell_type": "code",
   "execution_count": 13,
   "metadata": {
    "collapsed": true
   },
   "outputs": [
    {
     "data": {
      "application/vnd.microsoft.datawrangler.viewer.v0+json": {
       "columns": [
        {
         "name": "index",
         "rawType": "int64",
         "type": "integer"
        },
        {
         "name": "Colonne",
         "rawType": "object",
         "type": "string"
        },
        {
         "name": "Taux de NULL",
         "rawType": "float64",
         "type": "float"
        }
       ],
       "ref": "4a9f8679-a02c-40d7-98c7-2ad7172461cd",
       "rows": [
        [
         "72",
         "PoolQC",
         "99.65741692360398"
        ],
        [
         "74",
         "MiscFeature",
         "96.40287769784173"
        ],
        [
         "6",
         "Alley",
         "93.21685508735868"
        ],
        [
         "73",
         "Fence",
         "80.4385063377869"
        ],
        [
         "25",
         "MasVnrType",
         "60.500171291538194"
        ],
        [
         "57",
         "FireplaceQu",
         "48.646796848235695"
        ],
        [
         "3",
         "LotFrontage",
         "16.649537512846866"
        ]
       ],
       "shape": {
        "columns": 2,
        "rows": 7
       }
      },
      "text/html": [
       "<div>\n",
       "<style scoped>\n",
       "    .dataframe tbody tr th:only-of-type {\n",
       "        vertical-align: middle;\n",
       "    }\n",
       "\n",
       "    .dataframe tbody tr th {\n",
       "        vertical-align: top;\n",
       "    }\n",
       "\n",
       "    .dataframe thead th {\n",
       "        text-align: right;\n",
       "    }\n",
       "</style>\n",
       "<table border=\"1\" class=\"dataframe\">\n",
       "  <thead>\n",
       "    <tr style=\"text-align: right;\">\n",
       "      <th></th>\n",
       "      <th>Colonne</th>\n",
       "      <th>Taux de NULL</th>\n",
       "    </tr>\n",
       "  </thead>\n",
       "  <tbody>\n",
       "    <tr>\n",
       "      <th>72</th>\n",
       "      <td>PoolQC</td>\n",
       "      <td>99.657417</td>\n",
       "    </tr>\n",
       "    <tr>\n",
       "      <th>74</th>\n",
       "      <td>MiscFeature</td>\n",
       "      <td>96.402878</td>\n",
       "    </tr>\n",
       "    <tr>\n",
       "      <th>6</th>\n",
       "      <td>Alley</td>\n",
       "      <td>93.216855</td>\n",
       "    </tr>\n",
       "    <tr>\n",
       "      <th>73</th>\n",
       "      <td>Fence</td>\n",
       "      <td>80.438506</td>\n",
       "    </tr>\n",
       "    <tr>\n",
       "      <th>25</th>\n",
       "      <td>MasVnrType</td>\n",
       "      <td>60.500171</td>\n",
       "    </tr>\n",
       "    <tr>\n",
       "      <th>57</th>\n",
       "      <td>FireplaceQu</td>\n",
       "      <td>48.646797</td>\n",
       "    </tr>\n",
       "    <tr>\n",
       "      <th>3</th>\n",
       "      <td>LotFrontage</td>\n",
       "      <td>16.649538</td>\n",
       "    </tr>\n",
       "  </tbody>\n",
       "</table>\n",
       "</div>"
      ],
      "text/plain": [
       "        Colonne  Taux de NULL\n",
       "72       PoolQC     99.657417\n",
       "74  MiscFeature     96.402878\n",
       "6         Alley     93.216855\n",
       "73        Fence     80.438506\n",
       "25   MasVnrType     60.500171\n",
       "57  FireplaceQu     48.646797\n",
       "3   LotFrontage     16.649538"
      ]
     },
     "execution_count": 13,
     "metadata": {},
     "output_type": "execute_result"
    }
   ],
   "source": [
    "# Variables avec plus de 10% de NULL : suppression\n",
    "\n",
    "#df_NULL = df_NULL.drop(['SalePrice'],axis=0)\n",
    "\n",
    "df_NULL = df_NULL[df_NULL[\"Taux de NULL\"] > 10]\n",
    "\n",
    "df_NULL = df_NULL[df_NULL[\"Colonne\"] != 'SalePrice'] # on ne supprime pas la cible\n",
    "\n",
    "df_NULL.sort_values(\"Taux de NULL\", ascending=False)"
   ]
  },
  {
   "cell_type": "code",
   "execution_count": 14,
   "metadata": {},
   "outputs": [],
   "source": [
    "list_NULL_features = df_NULL[\"Colonne\"].values"
   ]
  },
  {
   "cell_type": "code",
   "execution_count": 15,
   "metadata": {},
   "outputs": [
    {
     "data": {
      "text/plain": [
       "(2919, 75)"
      ]
     },
     "execution_count": 15,
     "metadata": {},
     "output_type": "execute_result"
    }
   ],
   "source": [
    "#list_NULL_features = list(df_NULL.Colonne)\n",
    "\n",
    "data_full = data_full.drop(list_NULL_features,axis=1)\n",
    "data_full.shape"
   ]
  },
  {
   "cell_type": "code",
   "execution_count": 16,
   "metadata": {},
   "outputs": [
    {
     "data": {
      "application/vnd.microsoft.datawrangler.viewer.v0+json": {
       "columns": [
        {
         "name": "index",
         "rawType": "int64",
         "type": "integer"
        },
        {
         "name": "Colonne",
         "rawType": "object",
         "type": "string"
        },
        {
         "name": "Taux de NULL",
         "rawType": "float64",
         "type": "float"
        }
       ],
       "ref": "29066097-d3e4-4dc0-bc42-7b4237884c65",
       "rows": [
        [
         "73",
         "SalePrice",
         "49.9828708461802"
        ],
        [
         "56",
         "GarageFinish",
         "5.4470709146968135"
        ],
        [
         "55",
         "GarageYrBlt",
         "5.4470709146968135"
        ],
        [
         "59",
         "GarageQual",
         "5.4470709146968135"
        ],
        [
         "60",
         "GarageCond",
         "5.4470709146968135"
        ],
        [
         "54",
         "GarageType",
         "5.378554299417608"
        ],
        [
         "29",
         "BsmtExposure",
         "2.8091812264474134"
        ],
        [
         "28",
         "BsmtCond",
         "2.8091812264474134"
        ],
        [
         "27",
         "BsmtQual",
         "2.774922918807811"
        ],
        [
         "32",
         "BsmtFinType2",
         "2.7406646111682083"
        ],
        [
         "30",
         "BsmtFinType1",
         "2.7064063035286057"
        ],
        [
         "23",
         "MasVnrArea",
         "0.7879410757108599"
        ],
        [
         "2",
         "MSZoning",
         "0.1370332305584104"
        ],
        [
         "44",
         "BsmtFullBath",
         "0.0685166152792052"
        ],
        [
         "7",
         "Utilities",
         "0.0685166152792052"
        ],
        [
         "45",
         "BsmtHalfBath",
         "0.0685166152792052"
        ],
        [
         "52",
         "Functional",
         "0.0685166152792052"
        ],
        [
         "34",
         "BsmtUnfSF",
         "0.0342583076396026"
        ],
        [
         "22",
         "Exterior2nd",
         "0.0342583076396026"
        ],
        [
         "39",
         "Electrical",
         "0.0342583076396026"
        ],
        [
         "33",
         "BsmtFinSF2",
         "0.0342583076396026"
        ],
        [
         "31",
         "BsmtFinSF1",
         "0.0342583076396026"
        ],
        [
         "71",
         "SaleType",
         "0.0342583076396026"
        ],
        [
         "57",
         "GarageCars",
         "0.0342583076396026"
        ],
        [
         "50",
         "KitchenQual",
         "0.0342583076396026"
        ],
        [
         "58",
         "GarageArea",
         "0.0342583076396026"
        ],
        [
         "21",
         "Exterior1st",
         "0.0342583076396026"
        ],
        [
         "35",
         "TotalBsmtSF",
         "0.0342583076396026"
        ],
        [
         "10",
         "Neighborhood",
         "0.0"
        ],
        [
         "8",
         "LotConfig",
         "0.0"
        ],
        [
         "6",
         "LandContour",
         "0.0"
        ],
        [
         "4",
         "Street",
         "0.0"
        ],
        [
         "5",
         "LotShape",
         "0.0"
        ],
        [
         "3",
         "LotArea",
         "0.0"
        ],
        [
         "1",
         "MSSubClass",
         "0.0"
        ],
        [
         "0",
         "Id",
         "0.0"
        ],
        [
         "9",
         "LandSlope",
         "0.0"
        ],
        [
         "24",
         "ExterQual",
         "0.0"
        ],
        [
         "25",
         "ExterCond",
         "0.0"
        ],
        [
         "26",
         "Foundation",
         "0.0"
        ],
        [
         "12",
         "Condition2",
         "0.0"
        ],
        [
         "15",
         "OverallQual",
         "0.0"
        ],
        [
         "11",
         "Condition1",
         "0.0"
        ],
        [
         "42",
         "LowQualFinSF",
         "0.0"
        ],
        [
         "41",
         "2ndFlrSF",
         "0.0"
        ],
        [
         "40",
         "1stFlrSF",
         "0.0"
        ],
        [
         "38",
         "CentralAir",
         "0.0"
        ],
        [
         "36",
         "Heating",
         "0.0"
        ],
        [
         "37",
         "HeatingQC",
         "0.0"
        ],
        [
         "13",
         "BldgType",
         "0.0"
        ]
       ],
       "shape": {
        "columns": 2,
        "rows": 75
       }
      },
      "text/html": [
       "<div>\n",
       "<style scoped>\n",
       "    .dataframe tbody tr th:only-of-type {\n",
       "        vertical-align: middle;\n",
       "    }\n",
       "\n",
       "    .dataframe tbody tr th {\n",
       "        vertical-align: top;\n",
       "    }\n",
       "\n",
       "    .dataframe thead th {\n",
       "        text-align: right;\n",
       "    }\n",
       "</style>\n",
       "<table border=\"1\" class=\"dataframe\">\n",
       "  <thead>\n",
       "    <tr style=\"text-align: right;\">\n",
       "      <th></th>\n",
       "      <th>Colonne</th>\n",
       "      <th>Taux de NULL</th>\n",
       "    </tr>\n",
       "  </thead>\n",
       "  <tbody>\n",
       "    <tr>\n",
       "      <th>73</th>\n",
       "      <td>SalePrice</td>\n",
       "      <td>49.982871</td>\n",
       "    </tr>\n",
       "    <tr>\n",
       "      <th>56</th>\n",
       "      <td>GarageFinish</td>\n",
       "      <td>5.447071</td>\n",
       "    </tr>\n",
       "    <tr>\n",
       "      <th>55</th>\n",
       "      <td>GarageYrBlt</td>\n",
       "      <td>5.447071</td>\n",
       "    </tr>\n",
       "    <tr>\n",
       "      <th>59</th>\n",
       "      <td>GarageQual</td>\n",
       "      <td>5.447071</td>\n",
       "    </tr>\n",
       "    <tr>\n",
       "      <th>60</th>\n",
       "      <td>GarageCond</td>\n",
       "      <td>5.447071</td>\n",
       "    </tr>\n",
       "    <tr>\n",
       "      <th>...</th>\n",
       "      <td>...</td>\n",
       "      <td>...</td>\n",
       "    </tr>\n",
       "    <tr>\n",
       "      <th>68</th>\n",
       "      <td>MiscVal</td>\n",
       "      <td>0.000000</td>\n",
       "    </tr>\n",
       "    <tr>\n",
       "      <th>70</th>\n",
       "      <td>YrSold</td>\n",
       "      <td>0.000000</td>\n",
       "    </tr>\n",
       "    <tr>\n",
       "      <th>69</th>\n",
       "      <td>MoSold</td>\n",
       "      <td>0.000000</td>\n",
       "    </tr>\n",
       "    <tr>\n",
       "      <th>72</th>\n",
       "      <td>SaleCondition</td>\n",
       "      <td>0.000000</td>\n",
       "    </tr>\n",
       "    <tr>\n",
       "      <th>74</th>\n",
       "      <td>train</td>\n",
       "      <td>0.000000</td>\n",
       "    </tr>\n",
       "  </tbody>\n",
       "</table>\n",
       "<p>75 rows × 2 columns</p>\n",
       "</div>"
      ],
      "text/plain": [
       "          Colonne  Taux de NULL\n",
       "73      SalePrice     49.982871\n",
       "56   GarageFinish      5.447071\n",
       "55    GarageYrBlt      5.447071\n",
       "59     GarageQual      5.447071\n",
       "60     GarageCond      5.447071\n",
       "..            ...           ...\n",
       "68        MiscVal      0.000000\n",
       "70         YrSold      0.000000\n",
       "69         MoSold      0.000000\n",
       "72  SaleCondition      0.000000\n",
       "74          train      0.000000\n",
       "\n",
       "[75 rows x 2 columns]"
      ]
     },
     "execution_count": 16,
     "metadata": {},
     "output_type": "execute_result"
    }
   ],
   "source": [
    "df_NULL = [(c, data_full[c].isna().mean()*100) for c in data_full]\n",
    "df_NULL = pd.DataFrame(df_NULL, columns=[\"Colonne\", \"Taux de NULL\"])\n",
    "df_NULL.sort_values(\"Taux de NULL\", ascending=False)"
   ]
  },
  {
   "cell_type": "markdown",
   "metadata": {},
   "source": [
    "### Feature Engineering : préparation des données pour la modélisation\n",
    "On va traiter les val. manquantes\n",
    "On traite differemment les var. numeriques (quantitatives) et les categorielles (qualitatives)"
   ]
  },
  {
   "cell_type": "code",
   "execution_count": 17,
   "metadata": {},
   "outputs": [],
   "source": [
    "categorical_features = data_full.select_dtypes(include=['object'])\n",
    "numerical_features = data_full.select_dtypes(exclude=['object'])"
   ]
  },
  {
   "cell_type": "code",
   "execution_count": 18,
   "metadata": {},
   "outputs": [
    {
     "name": "stdout",
     "output_type": "stream",
     "text": [
      "Nombre de variables  : 37\n",
      "\n",
      "Nombre de valeurs nulles :\n",
      " MSZoning           4\n",
      "Street             0\n",
      "LotShape           0\n",
      "LandContour        0\n",
      "Utilities          2\n",
      "LotConfig          0\n",
      "LandSlope          0\n",
      "Neighborhood       0\n",
      "Condition1         0\n",
      "Condition2         0\n",
      "BldgType           0\n",
      "HouseStyle         0\n",
      "RoofStyle          0\n",
      "RoofMatl           0\n",
      "Exterior1st        1\n",
      "Exterior2nd        1\n",
      "ExterQual          0\n",
      "ExterCond          0\n",
      "Foundation         0\n",
      "BsmtQual          81\n",
      "BsmtCond          82\n",
      "BsmtExposure      82\n",
      "BsmtFinType1      79\n",
      "BsmtFinType2      80\n",
      "Heating            0\n",
      "HeatingQC          0\n",
      "CentralAir         0\n",
      "Electrical         1\n",
      "KitchenQual        1\n",
      "Functional         2\n",
      "GarageType       157\n",
      "GarageFinish     159\n",
      "GarageQual       159\n",
      "GarageCond       159\n",
      "PavedDrive         0\n",
      "SaleType           1\n",
      "SaleCondition      0\n",
      "dtype: int64\n"
     ]
    }
   ],
   "source": [
    "# Variables catégorielles :\n",
    "print(\"Nombre de variables  :\",categorical_features.shape[1])\n",
    "print(\"\\nNombre de valeurs nulles :\\n\",categorical_features.isnull().sum())"
   ]
  },
  {
   "cell_type": "markdown",
   "metadata": {},
   "source": [
    "Après consultation de la description des fichiers de données, nous allons compléter les valeurs nulles des categoricla features ainsi :\n",
    "\n",
    "    BsmtQual, BsmtCond, BsmtExposure, BsmtFinType1, BsmtFinType2, GarageType, GarageFinish, GarageQual, FireplaceQu, GarageCond seront complétés avec la valeur \"None\",\n",
    "    les autres variables avec leur propre valeur la plus fréquente."
   ]
  },
  {
   "cell_type": "code",
   "execution_count": 19,
   "metadata": {},
   "outputs": [],
   "source": [
    "fill_None = ['BsmtQual', 'BsmtCond', 'BsmtExposure', 'BsmtFinType1','BsmtFinType2', 'GarageType', 'GarageFinish', 'GarageQual','GarageCond']\n",
    "categorical_features[fill_None]= categorical_features[fill_None].fillna('None')\n",
    "fill_other = ['MSZoning','Utilities','Exterior1st','Exterior2nd','Electrical','KitchenQual','Functional','SaleType']\n",
    "categorical_features[fill_other] = categorical_features[fill_other].fillna(categorical_features.mode().iloc[0])"
   ]
  },
  {
   "cell_type": "code",
   "execution_count": 20,
   "metadata": {},
   "outputs": [
    {
     "name": "stdout",
     "output_type": "stream",
     "text": [
      "<class 'pandas.core.frame.DataFrame'>\n",
      "Index: 2919 entries, 0 to 1458\n",
      "Data columns (total 37 columns):\n",
      " #   Column         Non-Null Count  Dtype \n",
      "---  ------         --------------  ----- \n",
      " 0   MSZoning       2919 non-null   object\n",
      " 1   Street         2919 non-null   object\n",
      " 2   LotShape       2919 non-null   object\n",
      " 3   LandContour    2919 non-null   object\n",
      " 4   Utilities      2919 non-null   object\n",
      " 5   LotConfig      2919 non-null   object\n",
      " 6   LandSlope      2919 non-null   object\n",
      " 7   Neighborhood   2919 non-null   object\n",
      " 8   Condition1     2919 non-null   object\n",
      " 9   Condition2     2919 non-null   object\n",
      " 10  BldgType       2919 non-null   object\n",
      " 11  HouseStyle     2919 non-null   object\n",
      " 12  RoofStyle      2919 non-null   object\n",
      " 13  RoofMatl       2919 non-null   object\n",
      " 14  Exterior1st    2919 non-null   object\n",
      " 15  Exterior2nd    2919 non-null   object\n",
      " 16  ExterQual      2919 non-null   object\n",
      " 17  ExterCond      2919 non-null   object\n",
      " 18  Foundation     2919 non-null   object\n",
      " 19  BsmtQual       2919 non-null   object\n",
      " 20  BsmtCond       2919 non-null   object\n",
      " 21  BsmtExposure   2919 non-null   object\n",
      " 22  BsmtFinType1   2919 non-null   object\n",
      " 23  BsmtFinType2   2919 non-null   object\n",
      " 24  Heating        2919 non-null   object\n",
      " 25  HeatingQC      2919 non-null   object\n",
      " 26  CentralAir     2919 non-null   object\n",
      " 27  Electrical     2919 non-null   object\n",
      " 28  KitchenQual    2919 non-null   object\n",
      " 29  Functional     2919 non-null   object\n",
      " 30  GarageType     2919 non-null   object\n",
      " 31  GarageFinish   2919 non-null   object\n",
      " 32  GarageQual     2919 non-null   object\n",
      " 33  GarageCond     2919 non-null   object\n",
      " 34  PavedDrive     2919 non-null   object\n",
      " 35  SaleType       2919 non-null   object\n",
      " 36  SaleCondition  2919 non-null   object\n",
      "dtypes: object(37)\n",
      "memory usage: 866.6+ KB\n"
     ]
    }
   ],
   "source": [
    "categorical_features.info()\n",
    "# LEs var. catégorielles sont traitées : 2919 val. non nulles\n"
   ]
  },
  {
   "cell_type": "markdown",
   "metadata": {},
   "source": [
    "nous allons pouvoir gérer les manquants sur les var. quantitatives:\n",
    "\n",
    "Les numerical features (hors SalePrice) avec le plus grand nombre de NULL sont les suivantes :\n",
    "    LotFrontage\n",
    "    GarageYrBlt\n",
    "\n",
    "Nous allons utiliser la médiane de ces variables pour compléter les valeurs nulles. Pour les autres variables, les valeurs nulles seront complétées à 0."
   ]
  },
  {
   "cell_type": "code",
   "execution_count": 21,
   "metadata": {},
   "outputs": [],
   "source": [
    "numerical_features['GarageYrBlt'] = numerical_features['GarageYrBlt'].fillna(numerical_features['GarageYrBlt'].median())\n",
    "#numerical_features['LotFrontage'] = numerical_features['LotFrontage'].fillna(numerical_features['LotFrontage'].median())\n",
    "numerical_features['MasVnrArea'] = numerical_features['MasVnrArea'].fillna(numerical_features['MasVnrArea'].median())\n",
    "numerical_features = numerical_features.fillna(0)\n"
   ]
  },
  {
   "cell_type": "markdown",
   "metadata": {},
   "source": [
    "### Feature engineering : variables enrichies"
   ]
  },
  {
   "cell_type": "code",
   "execution_count": 22,
   "metadata": {},
   "outputs": [],
   "source": [
    "\n",
    "# Age de la maison\n",
    "numerical_features['HouseAge'] = numerical_features['YrSold'] - numerical_features['YearBuilt']\n",
    "# Age depuis la dernière rénovation    \n",
    "numerical_features['RemodAge'] = numerical_features['YrSold'] - numerical_features['YearRemodAdd']\n",
    "\n",
    "\n",
    "# Surface habitable totale\n",
    "numerical_features['TotalSF'] = numerical_features['TotalBsmtSF']+ numerical_features['GrLivArea']+ numerical_features['GarageArea']\n",
    "# Surface habitable au sol\n",
    "numerical_features['1st2ndFlrSF'] = numerical_features['1stFlrSF'] + numerical_features['2ndFlrSF']   \n",
    "\n",
    "# Lot Utilization: Ratio of total square footage to lot area\n",
    "numerical_features['LotRatio'] = numerical_features['TotalSF'] / numerical_features['LotArea']\n"
   ]
  },
  {
   "cell_type": "code",
   "execution_count": 23,
   "metadata": {},
   "outputs": [],
   "source": [
    "# Garage Score: Quality * Condition of garage (numeric mapping)\n",
    "qual_map = {'Ex': 5, 'Gd': 4, 'TA': 3, 'Fa': 2, 'Po': 1, 'None': 0}\n",
    "numerical_features['GarageScore'] = (categorical_features['GarageQual'].map(qual_map, na_action='ignore').fillna(0) * categorical_features['GarageCond'].map(qual_map, na_action='ignore').fillna(0))\n",
    "\n",
    "categorical_features=categorical_features.drop(['GarageQual','GarageCond'], axis=1)"
   ]
  },
  {
   "cell_type": "markdown",
   "metadata": {},
   "source": [
    "### Feature engineering : encoder les variables catégorielles\n",
    "En effet, la modélisation suppose que les variables soient représentées par des nombres"
   ]
  },
  {
   "cell_type": "code",
   "execution_count": 24,
   "metadata": {},
   "outputs": [
    {
     "data": {
      "application/vnd.microsoft.datawrangler.viewer.v0+json": {
       "columns": [
        {
         "name": "index",
         "rawType": "int64",
         "type": "integer"
        },
        {
         "name": "MSZoning_FV",
         "rawType": "bool",
         "type": "boolean"
        },
        {
         "name": "MSZoning_RH",
         "rawType": "bool",
         "type": "boolean"
        },
        {
         "name": "MSZoning_RL",
         "rawType": "bool",
         "type": "boolean"
        },
        {
         "name": "MSZoning_RM",
         "rawType": "bool",
         "type": "boolean"
        },
        {
         "name": "Street_Pave",
         "rawType": "bool",
         "type": "boolean"
        },
        {
         "name": "LotShape_IR2",
         "rawType": "bool",
         "type": "boolean"
        },
        {
         "name": "LotShape_IR3",
         "rawType": "bool",
         "type": "boolean"
        },
        {
         "name": "LotShape_Reg",
         "rawType": "bool",
         "type": "boolean"
        },
        {
         "name": "LandContour_HLS",
         "rawType": "bool",
         "type": "boolean"
        },
        {
         "name": "LandContour_Low",
         "rawType": "bool",
         "type": "boolean"
        },
        {
         "name": "LandContour_Lvl",
         "rawType": "bool",
         "type": "boolean"
        },
        {
         "name": "Utilities_NoSeWa",
         "rawType": "bool",
         "type": "boolean"
        },
        {
         "name": "LotConfig_CulDSac",
         "rawType": "bool",
         "type": "boolean"
        },
        {
         "name": "LotConfig_FR2",
         "rawType": "bool",
         "type": "boolean"
        },
        {
         "name": "LotConfig_FR3",
         "rawType": "bool",
         "type": "boolean"
        },
        {
         "name": "LotConfig_Inside",
         "rawType": "bool",
         "type": "boolean"
        },
        {
         "name": "LandSlope_Mod",
         "rawType": "bool",
         "type": "boolean"
        },
        {
         "name": "LandSlope_Sev",
         "rawType": "bool",
         "type": "boolean"
        },
        {
         "name": "Neighborhood_Blueste",
         "rawType": "bool",
         "type": "boolean"
        },
        {
         "name": "Neighborhood_BrDale",
         "rawType": "bool",
         "type": "boolean"
        },
        {
         "name": "Neighborhood_BrkSide",
         "rawType": "bool",
         "type": "boolean"
        },
        {
         "name": "Neighborhood_ClearCr",
         "rawType": "bool",
         "type": "boolean"
        },
        {
         "name": "Neighborhood_CollgCr",
         "rawType": "bool",
         "type": "boolean"
        },
        {
         "name": "Neighborhood_Crawfor",
         "rawType": "bool",
         "type": "boolean"
        },
        {
         "name": "Neighborhood_Edwards",
         "rawType": "bool",
         "type": "boolean"
        },
        {
         "name": "Neighborhood_Gilbert",
         "rawType": "bool",
         "type": "boolean"
        },
        {
         "name": "Neighborhood_IDOTRR",
         "rawType": "bool",
         "type": "boolean"
        },
        {
         "name": "Neighborhood_MeadowV",
         "rawType": "bool",
         "type": "boolean"
        },
        {
         "name": "Neighborhood_Mitchel",
         "rawType": "bool",
         "type": "boolean"
        },
        {
         "name": "Neighborhood_NAmes",
         "rawType": "bool",
         "type": "boolean"
        },
        {
         "name": "Neighborhood_NPkVill",
         "rawType": "bool",
         "type": "boolean"
        },
        {
         "name": "Neighborhood_NWAmes",
         "rawType": "bool",
         "type": "boolean"
        },
        {
         "name": "Neighborhood_NoRidge",
         "rawType": "bool",
         "type": "boolean"
        },
        {
         "name": "Neighborhood_NridgHt",
         "rawType": "bool",
         "type": "boolean"
        },
        {
         "name": "Neighborhood_OldTown",
         "rawType": "bool",
         "type": "boolean"
        },
        {
         "name": "Neighborhood_SWISU",
         "rawType": "bool",
         "type": "boolean"
        },
        {
         "name": "Neighborhood_Sawyer",
         "rawType": "bool",
         "type": "boolean"
        },
        {
         "name": "Neighborhood_SawyerW",
         "rawType": "bool",
         "type": "boolean"
        },
        {
         "name": "Neighborhood_Somerst",
         "rawType": "bool",
         "type": "boolean"
        },
        {
         "name": "Neighborhood_StoneBr",
         "rawType": "bool",
         "type": "boolean"
        },
        {
         "name": "Neighborhood_Timber",
         "rawType": "bool",
         "type": "boolean"
        },
        {
         "name": "Neighborhood_Veenker",
         "rawType": "bool",
         "type": "boolean"
        },
        {
         "name": "Condition1_Feedr",
         "rawType": "bool",
         "type": "boolean"
        },
        {
         "name": "Condition1_Norm",
         "rawType": "bool",
         "type": "boolean"
        },
        {
         "name": "Condition1_PosA",
         "rawType": "bool",
         "type": "boolean"
        },
        {
         "name": "Condition1_PosN",
         "rawType": "bool",
         "type": "boolean"
        },
        {
         "name": "Condition1_RRAe",
         "rawType": "bool",
         "type": "boolean"
        },
        {
         "name": "Condition1_RRAn",
         "rawType": "bool",
         "type": "boolean"
        },
        {
         "name": "Condition1_RRNe",
         "rawType": "bool",
         "type": "boolean"
        },
        {
         "name": "Condition1_RRNn",
         "rawType": "bool",
         "type": "boolean"
        },
        {
         "name": "Condition2_Feedr",
         "rawType": "bool",
         "type": "boolean"
        },
        {
         "name": "Condition2_Norm",
         "rawType": "bool",
         "type": "boolean"
        },
        {
         "name": "Condition2_PosA",
         "rawType": "bool",
         "type": "boolean"
        },
        {
         "name": "Condition2_PosN",
         "rawType": "bool",
         "type": "boolean"
        },
        {
         "name": "Condition2_RRAe",
         "rawType": "bool",
         "type": "boolean"
        },
        {
         "name": "Condition2_RRAn",
         "rawType": "bool",
         "type": "boolean"
        },
        {
         "name": "Condition2_RRNn",
         "rawType": "bool",
         "type": "boolean"
        },
        {
         "name": "BldgType_2fmCon",
         "rawType": "bool",
         "type": "boolean"
        },
        {
         "name": "BldgType_Duplex",
         "rawType": "bool",
         "type": "boolean"
        },
        {
         "name": "BldgType_Twnhs",
         "rawType": "bool",
         "type": "boolean"
        },
        {
         "name": "BldgType_TwnhsE",
         "rawType": "bool",
         "type": "boolean"
        },
        {
         "name": "HouseStyle_1.5Unf",
         "rawType": "bool",
         "type": "boolean"
        },
        {
         "name": "HouseStyle_1Story",
         "rawType": "bool",
         "type": "boolean"
        },
        {
         "name": "HouseStyle_2.5Fin",
         "rawType": "bool",
         "type": "boolean"
        },
        {
         "name": "HouseStyle_2.5Unf",
         "rawType": "bool",
         "type": "boolean"
        },
        {
         "name": "HouseStyle_2Story",
         "rawType": "bool",
         "type": "boolean"
        },
        {
         "name": "HouseStyle_SFoyer",
         "rawType": "bool",
         "type": "boolean"
        },
        {
         "name": "HouseStyle_SLvl",
         "rawType": "bool",
         "type": "boolean"
        },
        {
         "name": "RoofStyle_Gable",
         "rawType": "bool",
         "type": "boolean"
        },
        {
         "name": "RoofStyle_Gambrel",
         "rawType": "bool",
         "type": "boolean"
        },
        {
         "name": "RoofStyle_Hip",
         "rawType": "bool",
         "type": "boolean"
        },
        {
         "name": "RoofStyle_Mansard",
         "rawType": "bool",
         "type": "boolean"
        },
        {
         "name": "RoofStyle_Shed",
         "rawType": "bool",
         "type": "boolean"
        },
        {
         "name": "RoofMatl_CompShg",
         "rawType": "bool",
         "type": "boolean"
        },
        {
         "name": "RoofMatl_Membran",
         "rawType": "bool",
         "type": "boolean"
        },
        {
         "name": "RoofMatl_Metal",
         "rawType": "bool",
         "type": "boolean"
        },
        {
         "name": "RoofMatl_Roll",
         "rawType": "bool",
         "type": "boolean"
        },
        {
         "name": "RoofMatl_Tar&Grv",
         "rawType": "bool",
         "type": "boolean"
        },
        {
         "name": "RoofMatl_WdShake",
         "rawType": "bool",
         "type": "boolean"
        },
        {
         "name": "RoofMatl_WdShngl",
         "rawType": "bool",
         "type": "boolean"
        },
        {
         "name": "Exterior1st_AsphShn",
         "rawType": "bool",
         "type": "boolean"
        },
        {
         "name": "Exterior1st_BrkComm",
         "rawType": "bool",
         "type": "boolean"
        },
        {
         "name": "Exterior1st_BrkFace",
         "rawType": "bool",
         "type": "boolean"
        },
        {
         "name": "Exterior1st_CBlock",
         "rawType": "bool",
         "type": "boolean"
        },
        {
         "name": "Exterior1st_CemntBd",
         "rawType": "bool",
         "type": "boolean"
        },
        {
         "name": "Exterior1st_HdBoard",
         "rawType": "bool",
         "type": "boolean"
        },
        {
         "name": "Exterior1st_ImStucc",
         "rawType": "bool",
         "type": "boolean"
        },
        {
         "name": "Exterior1st_MetalSd",
         "rawType": "bool",
         "type": "boolean"
        },
        {
         "name": "Exterior1st_Plywood",
         "rawType": "bool",
         "type": "boolean"
        },
        {
         "name": "Exterior1st_Stone",
         "rawType": "bool",
         "type": "boolean"
        },
        {
         "name": "Exterior1st_Stucco",
         "rawType": "bool",
         "type": "boolean"
        },
        {
         "name": "Exterior1st_VinylSd",
         "rawType": "bool",
         "type": "boolean"
        },
        {
         "name": "Exterior1st_Wd Sdng",
         "rawType": "bool",
         "type": "boolean"
        },
        {
         "name": "Exterior1st_WdShing",
         "rawType": "bool",
         "type": "boolean"
        },
        {
         "name": "Exterior2nd_AsphShn",
         "rawType": "bool",
         "type": "boolean"
        },
        {
         "name": "Exterior2nd_Brk Cmn",
         "rawType": "bool",
         "type": "boolean"
        },
        {
         "name": "Exterior2nd_BrkFace",
         "rawType": "bool",
         "type": "boolean"
        },
        {
         "name": "Exterior2nd_CBlock",
         "rawType": "bool",
         "type": "boolean"
        },
        {
         "name": "Exterior2nd_CmentBd",
         "rawType": "bool",
         "type": "boolean"
        },
        {
         "name": "Exterior2nd_HdBoard",
         "rawType": "bool",
         "type": "boolean"
        },
        {
         "name": "Exterior2nd_ImStucc",
         "rawType": "bool",
         "type": "boolean"
        },
        {
         "name": "Exterior2nd_MetalSd",
         "rawType": "bool",
         "type": "boolean"
        },
        {
         "name": "Exterior2nd_Other",
         "rawType": "bool",
         "type": "boolean"
        },
        {
         "name": "Exterior2nd_Plywood",
         "rawType": "bool",
         "type": "boolean"
        },
        {
         "name": "Exterior2nd_Stone",
         "rawType": "bool",
         "type": "boolean"
        },
        {
         "name": "Exterior2nd_Stucco",
         "rawType": "bool",
         "type": "boolean"
        },
        {
         "name": "Exterior2nd_VinylSd",
         "rawType": "bool",
         "type": "boolean"
        },
        {
         "name": "Exterior2nd_Wd Sdng",
         "rawType": "bool",
         "type": "boolean"
        },
        {
         "name": "Exterior2nd_Wd Shng",
         "rawType": "bool",
         "type": "boolean"
        },
        {
         "name": "ExterQual_Fa",
         "rawType": "bool",
         "type": "boolean"
        },
        {
         "name": "ExterQual_Gd",
         "rawType": "bool",
         "type": "boolean"
        },
        {
         "name": "ExterQual_TA",
         "rawType": "bool",
         "type": "boolean"
        },
        {
         "name": "ExterCond_Fa",
         "rawType": "bool",
         "type": "boolean"
        },
        {
         "name": "ExterCond_Gd",
         "rawType": "bool",
         "type": "boolean"
        },
        {
         "name": "ExterCond_Po",
         "rawType": "bool",
         "type": "boolean"
        },
        {
         "name": "ExterCond_TA",
         "rawType": "bool",
         "type": "boolean"
        },
        {
         "name": "Foundation_CBlock",
         "rawType": "bool",
         "type": "boolean"
        },
        {
         "name": "Foundation_PConc",
         "rawType": "bool",
         "type": "boolean"
        },
        {
         "name": "Foundation_Slab",
         "rawType": "bool",
         "type": "boolean"
        },
        {
         "name": "Foundation_Stone",
         "rawType": "bool",
         "type": "boolean"
        },
        {
         "name": "Foundation_Wood",
         "rawType": "bool",
         "type": "boolean"
        },
        {
         "name": "BsmtQual_Fa",
         "rawType": "bool",
         "type": "boolean"
        },
        {
         "name": "BsmtQual_Gd",
         "rawType": "bool",
         "type": "boolean"
        },
        {
         "name": "BsmtQual_None",
         "rawType": "bool",
         "type": "boolean"
        },
        {
         "name": "BsmtQual_TA",
         "rawType": "bool",
         "type": "boolean"
        },
        {
         "name": "BsmtCond_Gd",
         "rawType": "bool",
         "type": "boolean"
        },
        {
         "name": "BsmtCond_None",
         "rawType": "bool",
         "type": "boolean"
        },
        {
         "name": "BsmtCond_Po",
         "rawType": "bool",
         "type": "boolean"
        },
        {
         "name": "BsmtCond_TA",
         "rawType": "bool",
         "type": "boolean"
        },
        {
         "name": "BsmtExposure_Gd",
         "rawType": "bool",
         "type": "boolean"
        },
        {
         "name": "BsmtExposure_Mn",
         "rawType": "bool",
         "type": "boolean"
        },
        {
         "name": "BsmtExposure_No",
         "rawType": "bool",
         "type": "boolean"
        },
        {
         "name": "BsmtExposure_None",
         "rawType": "bool",
         "type": "boolean"
        },
        {
         "name": "BsmtFinType1_BLQ",
         "rawType": "bool",
         "type": "boolean"
        },
        {
         "name": "BsmtFinType1_GLQ",
         "rawType": "bool",
         "type": "boolean"
        },
        {
         "name": "BsmtFinType1_LwQ",
         "rawType": "bool",
         "type": "boolean"
        },
        {
         "name": "BsmtFinType1_None",
         "rawType": "bool",
         "type": "boolean"
        },
        {
         "name": "BsmtFinType1_Rec",
         "rawType": "bool",
         "type": "boolean"
        },
        {
         "name": "BsmtFinType1_Unf",
         "rawType": "bool",
         "type": "boolean"
        },
        {
         "name": "BsmtFinType2_BLQ",
         "rawType": "bool",
         "type": "boolean"
        },
        {
         "name": "BsmtFinType2_GLQ",
         "rawType": "bool",
         "type": "boolean"
        },
        {
         "name": "BsmtFinType2_LwQ",
         "rawType": "bool",
         "type": "boolean"
        },
        {
         "name": "BsmtFinType2_None",
         "rawType": "bool",
         "type": "boolean"
        },
        {
         "name": "BsmtFinType2_Rec",
         "rawType": "bool",
         "type": "boolean"
        },
        {
         "name": "BsmtFinType2_Unf",
         "rawType": "bool",
         "type": "boolean"
        },
        {
         "name": "Heating_GasA",
         "rawType": "bool",
         "type": "boolean"
        },
        {
         "name": "Heating_GasW",
         "rawType": "bool",
         "type": "boolean"
        },
        {
         "name": "Heating_Grav",
         "rawType": "bool",
         "type": "boolean"
        },
        {
         "name": "Heating_OthW",
         "rawType": "bool",
         "type": "boolean"
        },
        {
         "name": "Heating_Wall",
         "rawType": "bool",
         "type": "boolean"
        },
        {
         "name": "HeatingQC_Fa",
         "rawType": "bool",
         "type": "boolean"
        },
        {
         "name": "HeatingQC_Gd",
         "rawType": "bool",
         "type": "boolean"
        },
        {
         "name": "HeatingQC_Po",
         "rawType": "bool",
         "type": "boolean"
        },
        {
         "name": "HeatingQC_TA",
         "rawType": "bool",
         "type": "boolean"
        },
        {
         "name": "CentralAir_Y",
         "rawType": "bool",
         "type": "boolean"
        },
        {
         "name": "Electrical_FuseF",
         "rawType": "bool",
         "type": "boolean"
        },
        {
         "name": "Electrical_FuseP",
         "rawType": "bool",
         "type": "boolean"
        },
        {
         "name": "Electrical_Mix",
         "rawType": "bool",
         "type": "boolean"
        },
        {
         "name": "Electrical_SBrkr",
         "rawType": "bool",
         "type": "boolean"
        },
        {
         "name": "KitchenQual_Fa",
         "rawType": "bool",
         "type": "boolean"
        },
        {
         "name": "KitchenQual_Gd",
         "rawType": "bool",
         "type": "boolean"
        },
        {
         "name": "KitchenQual_TA",
         "rawType": "bool",
         "type": "boolean"
        },
        {
         "name": "Functional_Maj2",
         "rawType": "bool",
         "type": "boolean"
        },
        {
         "name": "Functional_Min1",
         "rawType": "bool",
         "type": "boolean"
        },
        {
         "name": "Functional_Min2",
         "rawType": "bool",
         "type": "boolean"
        },
        {
         "name": "Functional_Mod",
         "rawType": "bool",
         "type": "boolean"
        },
        {
         "name": "Functional_Sev",
         "rawType": "bool",
         "type": "boolean"
        },
        {
         "name": "Functional_Typ",
         "rawType": "bool",
         "type": "boolean"
        },
        {
         "name": "GarageType_Attchd",
         "rawType": "bool",
         "type": "boolean"
        },
        {
         "name": "GarageType_Basment",
         "rawType": "bool",
         "type": "boolean"
        },
        {
         "name": "GarageType_BuiltIn",
         "rawType": "bool",
         "type": "boolean"
        },
        {
         "name": "GarageType_CarPort",
         "rawType": "bool",
         "type": "boolean"
        },
        {
         "name": "GarageType_Detchd",
         "rawType": "bool",
         "type": "boolean"
        },
        {
         "name": "GarageType_None",
         "rawType": "bool",
         "type": "boolean"
        },
        {
         "name": "GarageFinish_None",
         "rawType": "bool",
         "type": "boolean"
        },
        {
         "name": "GarageFinish_RFn",
         "rawType": "bool",
         "type": "boolean"
        },
        {
         "name": "GarageFinish_Unf",
         "rawType": "bool",
         "type": "boolean"
        },
        {
         "name": "PavedDrive_P",
         "rawType": "bool",
         "type": "boolean"
        },
        {
         "name": "PavedDrive_Y",
         "rawType": "bool",
         "type": "boolean"
        },
        {
         "name": "SaleType_CWD",
         "rawType": "bool",
         "type": "boolean"
        },
        {
         "name": "SaleType_Con",
         "rawType": "bool",
         "type": "boolean"
        },
        {
         "name": "SaleType_ConLD",
         "rawType": "bool",
         "type": "boolean"
        },
        {
         "name": "SaleType_ConLI",
         "rawType": "bool",
         "type": "boolean"
        },
        {
         "name": "SaleType_ConLw",
         "rawType": "bool",
         "type": "boolean"
        },
        {
         "name": "SaleType_New",
         "rawType": "bool",
         "type": "boolean"
        },
        {
         "name": "SaleType_Oth",
         "rawType": "bool",
         "type": "boolean"
        },
        {
         "name": "SaleType_WD",
         "rawType": "bool",
         "type": "boolean"
        },
        {
         "name": "SaleCondition_AdjLand",
         "rawType": "bool",
         "type": "boolean"
        },
        {
         "name": "SaleCondition_Alloca",
         "rawType": "bool",
         "type": "boolean"
        },
        {
         "name": "SaleCondition_Family",
         "rawType": "bool",
         "type": "boolean"
        },
        {
         "name": "SaleCondition_Normal",
         "rawType": "bool",
         "type": "boolean"
        },
        {
         "name": "SaleCondition_Partial",
         "rawType": "bool",
         "type": "boolean"
        }
       ],
       "ref": "410dbc88-af19-4121-bc46-45e9f3d56d0f",
       "rows": [
        [
         "0",
         "False",
         "False",
         "True",
         "False",
         "True",
         "False",
         "False",
         "True",
         "False",
         "False",
         "True",
         "False",
         "False",
         "False",
         "False",
         "True",
         "False",
         "False",
         "False",
         "False",
         "False",
         "False",
         "True",
         "False",
         "False",
         "False",
         "False",
         "False",
         "False",
         "False",
         "False",
         "False",
         "False",
         "False",
         "False",
         "False",
         "False",
         "False",
         "False",
         "False",
         "False",
         "False",
         "False",
         "True",
         "False",
         "False",
         "False",
         "False",
         "False",
         "False",
         "False",
         "True",
         "False",
         "False",
         "False",
         "False",
         "False",
         "False",
         "False",
         "False",
         "False",
         "False",
         "False",
         "False",
         "False",
         "True",
         "False",
         "False",
         "True",
         "False",
         "False",
         "False",
         "False",
         "True",
         "False",
         "False",
         "False",
         "False",
         "False",
         "False",
         "False",
         "False",
         "False",
         "False",
         "False",
         "False",
         "False",
         "False",
         "False",
         "False",
         "False",
         "True",
         "False",
         "False",
         "False",
         "False",
         "False",
         "False",
         "False",
         "False",
         "False",
         "False",
         "False",
         "False",
         "False",
         "False",
         "True",
         "False",
         "False",
         "False",
         "True",
         "False",
         "False",
         "False",
         "False",
         "True",
         "False",
         "True",
         "False",
         "False",
         "False",
         "False",
         "True",
         "False",
         "False",
         "False",
         "False",
         "False",
         "True",
         "False",
         "False",
         "True",
         "False",
         "False",
         "True",
         "False",
         "False",
         "False",
         "False",
         "False",
         "False",
         "False",
         "False",
         "False",
         "True",
         "True",
         "False",
         "False",
         "False",
         "False",
         "False",
         "False",
         "False",
         "False",
         "True",
         "False",
         "False",
         "False",
         "True",
         "False",
         "True",
         "False",
         "False",
         "False",
         "False",
         "False",
         "False",
         "True",
         "True",
         "False",
         "False",
         "False",
         "False",
         "False",
         "False",
         "True",
         "False",
         "False",
         "True",
         "False",
         "False",
         "False",
         "False",
         "False",
         "False",
         "False",
         "True",
         "False",
         "False",
         "False",
         "True",
         "False"
        ],
        [
         "1",
         "False",
         "False",
         "True",
         "False",
         "True",
         "False",
         "False",
         "True",
         "False",
         "False",
         "True",
         "False",
         "False",
         "True",
         "False",
         "False",
         "False",
         "False",
         "False",
         "False",
         "False",
         "False",
         "False",
         "False",
         "False",
         "False",
         "False",
         "False",
         "False",
         "False",
         "False",
         "False",
         "False",
         "False",
         "False",
         "False",
         "False",
         "False",
         "False",
         "False",
         "False",
         "True",
         "True",
         "False",
         "False",
         "False",
         "False",
         "False",
         "False",
         "False",
         "False",
         "True",
         "False",
         "False",
         "False",
         "False",
         "False",
         "False",
         "False",
         "False",
         "False",
         "False",
         "True",
         "False",
         "False",
         "False",
         "False",
         "False",
         "True",
         "False",
         "False",
         "False",
         "False",
         "True",
         "False",
         "False",
         "False",
         "False",
         "False",
         "False",
         "False",
         "False",
         "False",
         "False",
         "False",
         "False",
         "False",
         "True",
         "False",
         "False",
         "False",
         "False",
         "False",
         "False",
         "False",
         "False",
         "False",
         "False",
         "False",
         "False",
         "False",
         "True",
         "False",
         "False",
         "False",
         "False",
         "False",
         "False",
         "False",
         "False",
         "False",
         "True",
         "False",
         "False",
         "False",
         "True",
         "True",
         "False",
         "False",
         "False",
         "False",
         "False",
         "True",
         "False",
         "False",
         "False",
         "False",
         "False",
         "True",
         "True",
         "False",
         "False",
         "False",
         "False",
         "False",
         "False",
         "False",
         "False",
         "False",
         "False",
         "False",
         "False",
         "False",
         "False",
         "True",
         "True",
         "False",
         "False",
         "False",
         "False",
         "False",
         "False",
         "False",
         "False",
         "True",
         "False",
         "False",
         "False",
         "True",
         "False",
         "False",
         "True",
         "False",
         "False",
         "False",
         "False",
         "False",
         "True",
         "True",
         "False",
         "False",
         "False",
         "False",
         "False",
         "False",
         "True",
         "False",
         "False",
         "True",
         "False",
         "False",
         "False",
         "False",
         "False",
         "False",
         "False",
         "True",
         "False",
         "False",
         "False",
         "True",
         "False"
        ],
        [
         "2",
         "False",
         "False",
         "True",
         "False",
         "True",
         "False",
         "False",
         "False",
         "False",
         "False",
         "True",
         "False",
         "False",
         "False",
         "False",
         "True",
         "False",
         "False",
         "False",
         "False",
         "False",
         "False",
         "True",
         "False",
         "False",
         "False",
         "False",
         "False",
         "False",
         "False",
         "False",
         "False",
         "False",
         "False",
         "False",
         "False",
         "False",
         "False",
         "False",
         "False",
         "False",
         "False",
         "False",
         "True",
         "False",
         "False",
         "False",
         "False",
         "False",
         "False",
         "False",
         "True",
         "False",
         "False",
         "False",
         "False",
         "False",
         "False",
         "False",
         "False",
         "False",
         "False",
         "False",
         "False",
         "False",
         "True",
         "False",
         "False",
         "True",
         "False",
         "False",
         "False",
         "False",
         "True",
         "False",
         "False",
         "False",
         "False",
         "False",
         "False",
         "False",
         "False",
         "False",
         "False",
         "False",
         "False",
         "False",
         "False",
         "False",
         "False",
         "False",
         "True",
         "False",
         "False",
         "False",
         "False",
         "False",
         "False",
         "False",
         "False",
         "False",
         "False",
         "False",
         "False",
         "False",
         "False",
         "True",
         "False",
         "False",
         "False",
         "True",
         "False",
         "False",
         "False",
         "False",
         "True",
         "False",
         "True",
         "False",
         "False",
         "False",
         "False",
         "True",
         "False",
         "False",
         "False",
         "False",
         "False",
         "True",
         "False",
         "True",
         "False",
         "False",
         "False",
         "True",
         "False",
         "False",
         "False",
         "False",
         "False",
         "False",
         "False",
         "False",
         "False",
         "True",
         "True",
         "False",
         "False",
         "False",
         "False",
         "False",
         "False",
         "False",
         "False",
         "True",
         "False",
         "False",
         "False",
         "True",
         "False",
         "True",
         "False",
         "False",
         "False",
         "False",
         "False",
         "False",
         "True",
         "True",
         "False",
         "False",
         "False",
         "False",
         "False",
         "False",
         "True",
         "False",
         "False",
         "True",
         "False",
         "False",
         "False",
         "False",
         "False",
         "False",
         "False",
         "True",
         "False",
         "False",
         "False",
         "True",
         "False"
        ],
        [
         "3",
         "False",
         "False",
         "True",
         "False",
         "True",
         "False",
         "False",
         "False",
         "False",
         "False",
         "True",
         "False",
         "False",
         "False",
         "False",
         "False",
         "False",
         "False",
         "False",
         "False",
         "False",
         "False",
         "False",
         "True",
         "False",
         "False",
         "False",
         "False",
         "False",
         "False",
         "False",
         "False",
         "False",
         "False",
         "False",
         "False",
         "False",
         "False",
         "False",
         "False",
         "False",
         "False",
         "False",
         "True",
         "False",
         "False",
         "False",
         "False",
         "False",
         "False",
         "False",
         "True",
         "False",
         "False",
         "False",
         "False",
         "False",
         "False",
         "False",
         "False",
         "False",
         "False",
         "False",
         "False",
         "False",
         "True",
         "False",
         "False",
         "True",
         "False",
         "False",
         "False",
         "False",
         "True",
         "False",
         "False",
         "False",
         "False",
         "False",
         "False",
         "False",
         "False",
         "False",
         "False",
         "False",
         "False",
         "False",
         "False",
         "False",
         "False",
         "False",
         "False",
         "True",
         "False",
         "False",
         "False",
         "False",
         "False",
         "False",
         "False",
         "False",
         "False",
         "False",
         "False",
         "False",
         "False",
         "False",
         "False",
         "True",
         "False",
         "False",
         "True",
         "False",
         "False",
         "False",
         "True",
         "False",
         "False",
         "False",
         "False",
         "False",
         "False",
         "False",
         "False",
         "True",
         "True",
         "False",
         "False",
         "False",
         "False",
         "False",
         "True",
         "False",
         "False",
         "False",
         "False",
         "False",
         "False",
         "False",
         "False",
         "False",
         "False",
         "False",
         "False",
         "True",
         "True",
         "False",
         "False",
         "False",
         "False",
         "False",
         "True",
         "False",
         "False",
         "True",
         "False",
         "False",
         "False",
         "True",
         "False",
         "True",
         "False",
         "False",
         "False",
         "False",
         "False",
         "False",
         "True",
         "False",
         "False",
         "False",
         "False",
         "True",
         "False",
         "False",
         "False",
         "True",
         "False",
         "True",
         "False",
         "False",
         "False",
         "False",
         "False",
         "False",
         "False",
         "True",
         "False",
         "False",
         "False",
         "False",
         "False"
        ],
        [
         "4",
         "False",
         "False",
         "True",
         "False",
         "True",
         "False",
         "False",
         "False",
         "False",
         "False",
         "True",
         "False",
         "False",
         "True",
         "False",
         "False",
         "False",
         "False",
         "False",
         "False",
         "False",
         "False",
         "False",
         "False",
         "False",
         "False",
         "False",
         "False",
         "False",
         "False",
         "False",
         "False",
         "True",
         "False",
         "False",
         "False",
         "False",
         "False",
         "False",
         "False",
         "False",
         "False",
         "False",
         "True",
         "False",
         "False",
         "False",
         "False",
         "False",
         "False",
         "False",
         "True",
         "False",
         "False",
         "False",
         "False",
         "False",
         "False",
         "False",
         "False",
         "False",
         "False",
         "False",
         "False",
         "False",
         "True",
         "False",
         "False",
         "True",
         "False",
         "False",
         "False",
         "False",
         "True",
         "False",
         "False",
         "False",
         "False",
         "False",
         "False",
         "False",
         "False",
         "False",
         "False",
         "False",
         "False",
         "False",
         "False",
         "False",
         "False",
         "False",
         "True",
         "False",
         "False",
         "False",
         "False",
         "False",
         "False",
         "False",
         "False",
         "False",
         "False",
         "False",
         "False",
         "False",
         "False",
         "True",
         "False",
         "False",
         "False",
         "True",
         "False",
         "False",
         "False",
         "False",
         "True",
         "False",
         "True",
         "False",
         "False",
         "False",
         "False",
         "True",
         "False",
         "False",
         "False",
         "False",
         "False",
         "True",
         "False",
         "False",
         "False",
         "False",
         "False",
         "True",
         "False",
         "False",
         "False",
         "False",
         "False",
         "False",
         "False",
         "False",
         "False",
         "True",
         "True",
         "False",
         "False",
         "False",
         "False",
         "False",
         "False",
         "False",
         "False",
         "True",
         "False",
         "False",
         "False",
         "True",
         "False",
         "True",
         "False",
         "False",
         "False",
         "False",
         "False",
         "False",
         "True",
         "True",
         "False",
         "False",
         "False",
         "False",
         "False",
         "False",
         "True",
         "False",
         "False",
         "True",
         "False",
         "False",
         "False",
         "False",
         "False",
         "False",
         "False",
         "True",
         "False",
         "False",
         "False",
         "True",
         "False"
        ]
       ],
       "shape": {
        "columns": 192,
        "rows": 5
       }
      },
      "text/html": [
       "<div>\n",
       "<style scoped>\n",
       "    .dataframe tbody tr th:only-of-type {\n",
       "        vertical-align: middle;\n",
       "    }\n",
       "\n",
       "    .dataframe tbody tr th {\n",
       "        vertical-align: top;\n",
       "    }\n",
       "\n",
       "    .dataframe thead th {\n",
       "        text-align: right;\n",
       "    }\n",
       "</style>\n",
       "<table border=\"1\" class=\"dataframe\">\n",
       "  <thead>\n",
       "    <tr style=\"text-align: right;\">\n",
       "      <th></th>\n",
       "      <th>MSZoning_FV</th>\n",
       "      <th>MSZoning_RH</th>\n",
       "      <th>MSZoning_RL</th>\n",
       "      <th>MSZoning_RM</th>\n",
       "      <th>Street_Pave</th>\n",
       "      <th>LotShape_IR2</th>\n",
       "      <th>LotShape_IR3</th>\n",
       "      <th>LotShape_Reg</th>\n",
       "      <th>LandContour_HLS</th>\n",
       "      <th>LandContour_Low</th>\n",
       "      <th>...</th>\n",
       "      <th>SaleType_ConLI</th>\n",
       "      <th>SaleType_ConLw</th>\n",
       "      <th>SaleType_New</th>\n",
       "      <th>SaleType_Oth</th>\n",
       "      <th>SaleType_WD</th>\n",
       "      <th>SaleCondition_AdjLand</th>\n",
       "      <th>SaleCondition_Alloca</th>\n",
       "      <th>SaleCondition_Family</th>\n",
       "      <th>SaleCondition_Normal</th>\n",
       "      <th>SaleCondition_Partial</th>\n",
       "    </tr>\n",
       "  </thead>\n",
       "  <tbody>\n",
       "    <tr>\n",
       "      <th>0</th>\n",
       "      <td>False</td>\n",
       "      <td>False</td>\n",
       "      <td>True</td>\n",
       "      <td>False</td>\n",
       "      <td>True</td>\n",
       "      <td>False</td>\n",
       "      <td>False</td>\n",
       "      <td>True</td>\n",
       "      <td>False</td>\n",
       "      <td>False</td>\n",
       "      <td>...</td>\n",
       "      <td>False</td>\n",
       "      <td>False</td>\n",
       "      <td>False</td>\n",
       "      <td>False</td>\n",
       "      <td>True</td>\n",
       "      <td>False</td>\n",
       "      <td>False</td>\n",
       "      <td>False</td>\n",
       "      <td>True</td>\n",
       "      <td>False</td>\n",
       "    </tr>\n",
       "    <tr>\n",
       "      <th>1</th>\n",
       "      <td>False</td>\n",
       "      <td>False</td>\n",
       "      <td>True</td>\n",
       "      <td>False</td>\n",
       "      <td>True</td>\n",
       "      <td>False</td>\n",
       "      <td>False</td>\n",
       "      <td>True</td>\n",
       "      <td>False</td>\n",
       "      <td>False</td>\n",
       "      <td>...</td>\n",
       "      <td>False</td>\n",
       "      <td>False</td>\n",
       "      <td>False</td>\n",
       "      <td>False</td>\n",
       "      <td>True</td>\n",
       "      <td>False</td>\n",
       "      <td>False</td>\n",
       "      <td>False</td>\n",
       "      <td>True</td>\n",
       "      <td>False</td>\n",
       "    </tr>\n",
       "    <tr>\n",
       "      <th>2</th>\n",
       "      <td>False</td>\n",
       "      <td>False</td>\n",
       "      <td>True</td>\n",
       "      <td>False</td>\n",
       "      <td>True</td>\n",
       "      <td>False</td>\n",
       "      <td>False</td>\n",
       "      <td>False</td>\n",
       "      <td>False</td>\n",
       "      <td>False</td>\n",
       "      <td>...</td>\n",
       "      <td>False</td>\n",
       "      <td>False</td>\n",
       "      <td>False</td>\n",
       "      <td>False</td>\n",
       "      <td>True</td>\n",
       "      <td>False</td>\n",
       "      <td>False</td>\n",
       "      <td>False</td>\n",
       "      <td>True</td>\n",
       "      <td>False</td>\n",
       "    </tr>\n",
       "    <tr>\n",
       "      <th>3</th>\n",
       "      <td>False</td>\n",
       "      <td>False</td>\n",
       "      <td>True</td>\n",
       "      <td>False</td>\n",
       "      <td>True</td>\n",
       "      <td>False</td>\n",
       "      <td>False</td>\n",
       "      <td>False</td>\n",
       "      <td>False</td>\n",
       "      <td>False</td>\n",
       "      <td>...</td>\n",
       "      <td>False</td>\n",
       "      <td>False</td>\n",
       "      <td>False</td>\n",
       "      <td>False</td>\n",
       "      <td>True</td>\n",
       "      <td>False</td>\n",
       "      <td>False</td>\n",
       "      <td>False</td>\n",
       "      <td>False</td>\n",
       "      <td>False</td>\n",
       "    </tr>\n",
       "    <tr>\n",
       "      <th>4</th>\n",
       "      <td>False</td>\n",
       "      <td>False</td>\n",
       "      <td>True</td>\n",
       "      <td>False</td>\n",
       "      <td>True</td>\n",
       "      <td>False</td>\n",
       "      <td>False</td>\n",
       "      <td>False</td>\n",
       "      <td>False</td>\n",
       "      <td>False</td>\n",
       "      <td>...</td>\n",
       "      <td>False</td>\n",
       "      <td>False</td>\n",
       "      <td>False</td>\n",
       "      <td>False</td>\n",
       "      <td>True</td>\n",
       "      <td>False</td>\n",
       "      <td>False</td>\n",
       "      <td>False</td>\n",
       "      <td>True</td>\n",
       "      <td>False</td>\n",
       "    </tr>\n",
       "  </tbody>\n",
       "</table>\n",
       "<p>5 rows × 192 columns</p>\n",
       "</div>"
      ],
      "text/plain": [
       "   MSZoning_FV  MSZoning_RH  MSZoning_RL  MSZoning_RM  Street_Pave  \\\n",
       "0        False        False         True        False         True   \n",
       "1        False        False         True        False         True   \n",
       "2        False        False         True        False         True   \n",
       "3        False        False         True        False         True   \n",
       "4        False        False         True        False         True   \n",
       "\n",
       "   LotShape_IR2  LotShape_IR3  LotShape_Reg  LandContour_HLS  LandContour_Low  \\\n",
       "0         False         False          True            False            False   \n",
       "1         False         False          True            False            False   \n",
       "2         False         False         False            False            False   \n",
       "3         False         False         False            False            False   \n",
       "4         False         False         False            False            False   \n",
       "\n",
       "   ...  SaleType_ConLI  SaleType_ConLw  SaleType_New  SaleType_Oth  \\\n",
       "0  ...           False           False         False         False   \n",
       "1  ...           False           False         False         False   \n",
       "2  ...           False           False         False         False   \n",
       "3  ...           False           False         False         False   \n",
       "4  ...           False           False         False         False   \n",
       "\n",
       "   SaleType_WD  SaleCondition_AdjLand  SaleCondition_Alloca  \\\n",
       "0         True                  False                 False   \n",
       "1         True                  False                 False   \n",
       "2         True                  False                 False   \n",
       "3         True                  False                 False   \n",
       "4         True                  False                 False   \n",
       "\n",
       "   SaleCondition_Family  SaleCondition_Normal  SaleCondition_Partial  \n",
       "0                 False                  True                  False  \n",
       "1                 False                  True                  False  \n",
       "2                 False                  True                  False  \n",
       "3                 False                 False                  False  \n",
       "4                 False                  True                  False  \n",
       "\n",
       "[5 rows x 192 columns]"
      ]
     },
     "execution_count": 24,
     "metadata": {},
     "output_type": "execute_result"
    }
   ],
   "source": [
    "\n",
    "# pandas get dummies crée des variables binaires pour chaque modalité d'une variable catégorielle\n",
    "\n",
    "categorical_features = pd.get_dummies(categorical_features, drop_first=True)\n",
    "\n",
    "categorical_features.head()"
   ]
  },
  {
   "cell_type": "markdown",
   "metadata": {},
   "source": [
    "### TABLE POUR L'APPRENTISSAGE (X, Y )\n",
    "L'usage est de séparer les données en un jeu X contenant les features et un vecteur col y contenant juste la cible\n",
    "Il est obligatoire en ML de séparer en un ech de train et de appli, le appli n'est pas utilisé dans l'apprentissage."
   ]
  },
  {
   "cell_type": "code",
   "execution_count": 25,
   "metadata": {},
   "outputs": [],
   "source": [
    "df_final = pd.concat([numerical_features,categorical_features], axis=1,sort=False)\n",
    "# Les va. manquantes sur le prix de vente ne peuvent pas etre imputées, il faut les supprimer\n",
    "df_final = df_final[df_final['SalePrice'] >0 ]\n",
    "df_final.shape\n",
    "\n",
    "X = df_final.drop(['SalePrice','train','Id'], axis=1)\n",
    "y = df_final['SalePrice']\n"
   ]
  },
  {
   "cell_type": "code",
   "execution_count": 26,
   "metadata": {},
   "outputs": [],
   "source": [
    "# Séparation en un jeu d'entrainement et un jeu d'application (test)\n",
    "from sklearn.model_selection import train_test_split\n",
    "\n",
    "X_train, X_valid, y_train, y_valid = train_test_split(X,y, train_size=0.75, test_size=0.25, random_state=123)"
   ]
  },
  {
   "cell_type": "markdown",
   "metadata": {},
   "source": [
    "### Modele naif : prédire le prix par la moyenne des prix sur l'apprentissage"
   ]
  },
  {
   "cell_type": "code",
   "execution_count": 27,
   "metadata": {},
   "outputs": [
    {
     "data": {
      "text/plain": [
       "np.float64(180201.98812785387)"
      ]
     },
     "execution_count": 27,
     "metadata": {},
     "output_type": "execute_result"
    }
   ],
   "source": [
    "m1_prix_mean = np.mean(y_train)\n",
    "m1_prix_mean"
   ]
  },
  {
   "cell_type": "markdown",
   "metadata": {},
   "source": [
    "$$ RMSE = \\sqrt{ \\frac {\\sum (obs - pred)^2 }{n} } $$"
   ]
  },
  {
   "cell_type": "code",
   "execution_count": 28,
   "metadata": {},
   "outputs": [
    {
     "name": "stdout",
     "output_type": "stream",
     "text": [
      "79980.12778054655 77709.46442514208\n"
     ]
    }
   ],
   "source": [
    "RMSE_m1_train = np.sqrt(np.sum((y_train - m1_prix_mean)**2) / X_train.shape[0])\n",
    "RMSE_m1_valid = np.sqrt(np.sum((y_valid - m1_prix_mean)**2) / X_valid.shape[0])\n",
    "\n",
    "print(RMSE_m1_train,RMSE_m1_valid)\n",
    "# le RMSE du modèle \"naïf\" qui prédit toujours la moyenne est de 80 k $ et 77 k $ sur le jeu de validation"
   ]
  },
  {
   "cell_type": "code",
   "execution_count": 29,
   "metadata": {},
   "outputs": [],
   "source": [
    "#Fonction de calculs des metriques importantes MAE, MSE, MAPE, RMSE\n",
    "def metrics_regression(y_true, y_pred):\n",
    "    y_true, y_pred = np.array(y_true), np.array(y_pred)\n",
    "    diff = y_true - y_pred\n",
    "    mae = np.mean(abs(diff))\n",
    "    mse = np.mean(diff**2)\n",
    "    rmse = np.sqrt(mse)\n",
    "    mape = np.mean(np.abs(diff / y_true)) * 100\n",
    "    dict_metrics = {\"Métrique\":[\"MAE\", \"MSE\", \"RMSE\", \"MAPE\"], \"Résultats\":[mae, mse, rmse, mape]}\n",
    "    df_metrics = pd.DataFrame(dict_metrics)\n",
    "    return df_metrics"
   ]
  },
  {
   "cell_type": "code",
   "execution_count": 30,
   "metadata": {},
   "outputs": [
    {
     "data": {
      "application/vnd.microsoft.datawrangler.viewer.v0+json": {
       "columns": [
        {
         "name": "index",
         "rawType": "int64",
         "type": "integer"
        },
        {
         "name": "Métrique",
         "rawType": "object",
         "type": "string"
        },
        {
         "name": "Résultats",
         "rawType": "float64",
         "type": "float"
        }
       ],
       "ref": "7af196c9-7d05-4225-a201-312483b0da60",
       "rows": [
        [
         "0",
         "MAE",
         "55937.507019453304"
        ],
        [
         "1",
         "MSE",
         "6038760861.242423"
        ],
        [
         "2",
         "RMSE",
         "77709.46442514208"
        ],
        [
         "3",
         "MAPE",
         "33.8849588816199"
        ]
       ],
       "shape": {
        "columns": 2,
        "rows": 4
       }
      },
      "text/html": [
       "<div>\n",
       "<style scoped>\n",
       "    .dataframe tbody tr th:only-of-type {\n",
       "        vertical-align: middle;\n",
       "    }\n",
       "\n",
       "    .dataframe tbody tr th {\n",
       "        vertical-align: top;\n",
       "    }\n",
       "\n",
       "    .dataframe thead th {\n",
       "        text-align: right;\n",
       "    }\n",
       "</style>\n",
       "<table border=\"1\" class=\"dataframe\">\n",
       "  <thead>\n",
       "    <tr style=\"text-align: right;\">\n",
       "      <th></th>\n",
       "      <th>Métrique</th>\n",
       "      <th>Résultats</th>\n",
       "    </tr>\n",
       "  </thead>\n",
       "  <tbody>\n",
       "    <tr>\n",
       "      <th>0</th>\n",
       "      <td>MAE</td>\n",
       "      <td>5.593751e+04</td>\n",
       "    </tr>\n",
       "    <tr>\n",
       "      <th>1</th>\n",
       "      <td>MSE</td>\n",
       "      <td>6.038761e+09</td>\n",
       "    </tr>\n",
       "    <tr>\n",
       "      <th>2</th>\n",
       "      <td>RMSE</td>\n",
       "      <td>7.770946e+04</td>\n",
       "    </tr>\n",
       "    <tr>\n",
       "      <th>3</th>\n",
       "      <td>MAPE</td>\n",
       "      <td>3.388496e+01</td>\n",
       "    </tr>\n",
       "  </tbody>\n",
       "</table>\n",
       "</div>"
      ],
      "text/plain": [
       "  Métrique     Résultats\n",
       "0      MAE  5.593751e+04\n",
       "1      MSE  6.038761e+09\n",
       "2     RMSE  7.770946e+04\n",
       "3     MAPE  3.388496e+01"
      ]
     },
     "execution_count": 30,
     "metadata": {},
     "output_type": "execute_result"
    }
   ],
   "source": [
    "# metrique sur l'échantillon de train validation\n",
    "metrics_regression(y_train, m1_prix_mean)\n",
    "metrics_regression(y_valid, m1_prix_mean)"
   ]
  },
  {
   "cell_type": "markdown",
   "metadata": {},
   "source": [
    "### Modele de reg lineaire : selection de variables puis régression"
   ]
  },
  {
   "cell_type": "code",
   "execution_count": 31,
   "metadata": {},
   "outputs": [],
   "source": [
    "from sklearn.feature_selection import RFE\n",
    "from sklearn.linear_model import LinearRegression\n",
    "\n",
    "regressor = LinearRegression()\n",
    "m2_reglin = RFE(regressor, n_features_to_select=25, step=1) # step=1 means removing one feature at each iteration\n",
    "m2_reglin = m2_reglin.fit(X_train, y_train)\n",
    "\n"
   ]
  },
  {
   "cell_type": "code",
   "execution_count": 32,
   "metadata": {},
   "outputs": [
    {
     "name": "stdout",
     "output_type": "stream",
     "text": [
      "[198 205  17 110 177 182 193 199 200 186 185 203 188 196 197  31 190   2\n",
      " 103 134  28  83  46 202  42 195 191 201 192 187 189 176 204 174 172 184\n",
      " 183 194 179 118 167  39  37  36  38  26  16  61 157  75 168  74  43  49\n",
      "  89 102 131  58  79 140 109  72 116  77   1 161 114 165 162 125 163 135\n",
      " 148   1   1 178  73 164  76  35   1 136  60  91  69  33 101 128  92  86\n",
      "   9  67 132   1   1  70  68 130  85  84   1   5 173 159  64  45 104  30\n",
      "  51 146  47 169  13   7   1   1 206   1   1   1   1 207 158  10 108   1\n",
      "  98 208  62  97   4  20 166 144 143  93 105  90 111   1 107   3  63  59\n",
      " 106  18  21  99  96  19  94  41  40 120  24 145  23  65  66 155  29 113\n",
      "   1   1   1   1 180   1  22 115   1 129  88  87 152 100 153  32 181  71\n",
      " 127 138 141  44 142 139 171  34 123  14 170 124 121   6 122 112 119  95\n",
      " 154 160   1   1   1   8  82  81  78 209  80  54  57  52  55  56  48  53\n",
      " 117 175 147 137  50   1  27 126 149  11 133 150 156  25  15 151  12]\n"
     ]
    }
   ],
   "source": [
    "# The feature ranking, such that ranking_[i] corresponds to the ranking position of the i-th feature. Selected (i.e., estimated best) features are assigned rank 1.\n",
    "ranking = m2_reglin.ranking_\n",
    "print(ranking)"
   ]
  },
  {
   "cell_type": "code",
   "execution_count": 33,
   "metadata": {},
   "outputs": [
    {
     "data": {
      "text/plain": [
       "233"
      ]
     },
     "execution_count": 33,
     "metadata": {},
     "output_type": "execute_result"
    }
   ],
   "source": [
    "len(m2_reglin.support_)"
   ]
  },
  {
   "cell_type": "code",
   "execution_count": 34,
   "metadata": {},
   "outputs": [],
   "source": [
    "# # Variables selectionnees\n",
    "# mask = m2_reglin.support_ == True\n",
    "\n",
    "# # Apply the mask\n",
    "# X_train_df = X_train[mask]\n"
   ]
  },
  {
   "cell_type": "code",
   "execution_count": 35,
   "metadata": {},
   "outputs": [
    {
     "name": "stdout",
     "output_type": "stream",
     "text": [
      "42875.07673176725 44466.768805676205\n"
     ]
    }
   ],
   "source": [
    "y_train_chap = m2_reglin.predict(X_train)\n",
    "y_valid_chap = m2_reglin.predict(X_valid)\n",
    "\n",
    "RMSE_m2_train = np.sqrt(np.sum((y_train - y_train_chap)**2) / X_train.shape[0])\n",
    "RMSE_m2_valid = np.sqrt(np.sum((y_valid - y_valid_chap)**2) / X_valid.shape[0])\n",
    "\n",
    "print(RMSE_m2_train,RMSE_m2_valid)"
   ]
  },
  {
   "cell_type": "code",
   "execution_count": 36,
   "metadata": {},
   "outputs": [
    {
     "data": {
      "application/vnd.microsoft.datawrangler.viewer.v0+json": {
       "columns": [
        {
         "name": "index",
         "rawType": "int64",
         "type": "integer"
        },
        {
         "name": "Métrique",
         "rawType": "object",
         "type": "string"
        },
        {
         "name": "Résultats",
         "rawType": "float64",
         "type": "float"
        }
       ],
       "ref": "8db2e166-7b95-473a-96bd-2f07e3c757de",
       "rows": [
        [
         "0",
         "MAE",
         "32522.676224427796"
        ],
        [
         "1",
         "MSE",
         "1977293528.0174587"
        ],
        [
         "2",
         "RMSE",
         "44466.768805676205"
        ],
        [
         "3",
         "MAPE",
         "19.049834619402013"
        ]
       ],
       "shape": {
        "columns": 2,
        "rows": 4
       }
      },
      "text/html": [
       "<div>\n",
       "<style scoped>\n",
       "    .dataframe tbody tr th:only-of-type {\n",
       "        vertical-align: middle;\n",
       "    }\n",
       "\n",
       "    .dataframe tbody tr th {\n",
       "        vertical-align: top;\n",
       "    }\n",
       "\n",
       "    .dataframe thead th {\n",
       "        text-align: right;\n",
       "    }\n",
       "</style>\n",
       "<table border=\"1\" class=\"dataframe\">\n",
       "  <thead>\n",
       "    <tr style=\"text-align: right;\">\n",
       "      <th></th>\n",
       "      <th>Métrique</th>\n",
       "      <th>Résultats</th>\n",
       "    </tr>\n",
       "  </thead>\n",
       "  <tbody>\n",
       "    <tr>\n",
       "      <th>0</th>\n",
       "      <td>MAE</td>\n",
       "      <td>3.252268e+04</td>\n",
       "    </tr>\n",
       "    <tr>\n",
       "      <th>1</th>\n",
       "      <td>MSE</td>\n",
       "      <td>1.977294e+09</td>\n",
       "    </tr>\n",
       "    <tr>\n",
       "      <th>2</th>\n",
       "      <td>RMSE</td>\n",
       "      <td>4.446677e+04</td>\n",
       "    </tr>\n",
       "    <tr>\n",
       "      <th>3</th>\n",
       "      <td>MAPE</td>\n",
       "      <td>1.904983e+01</td>\n",
       "    </tr>\n",
       "  </tbody>\n",
       "</table>\n",
       "</div>"
      ],
      "text/plain": [
       "  Métrique     Résultats\n",
       "0      MAE  3.252268e+04\n",
       "1      MSE  1.977294e+09\n",
       "2     RMSE  4.446677e+04\n",
       "3     MAPE  1.904983e+01"
      ]
     },
     "execution_count": 36,
     "metadata": {},
     "output_type": "execute_result"
    }
   ],
   "source": [
    "# metrique sur l'échantillon de train validation\n",
    "metrics_regression(y_valid, y_valid_chap)\n",
    "# le MAPE est de 19 % sur le jeu de validation"
   ]
  },
  {
   "cell_type": "code",
   "execution_count": 37,
   "metadata": {},
   "outputs": [],
   "source": [
    "# Graphique des prédictions en fonction des valeurs réelles, échantillon de validation\n",
    "df_graph=pd.concat([pd.Series(y_valid),pd.Series(y_valid_chap)], axis=1,sort=False)\n",
    "df_graph.columns=['SalePrice','predictions']"
   ]
  },
  {
   "cell_type": "code",
   "execution_count": 38,
   "metadata": {},
   "outputs": [
    {
     "data": {
      "image/png": "[encoded data removed]",
      "text/plain": [
       "<Figure size 640x480 with 1 Axes>"
      ]
     },
     "metadata": {},
     "output_type": "display_data"
    }
   ],
   "source": [
    "df_graph.plot.scatter(x='SalePrice', y='predictions');"
   ]
  },
  {
   "cell_type": "code",
   "execution_count": 39,
   "metadata": {},
   "outputs": [
    {
     "data": {
      "image/png": "[encoded data removed]",
      "text/plain": [
       "<Figure size 1200x800 with 1 Axes>"
      ]
     },
     "metadata": {},
     "output_type": "display_data"
    }
   ],
   "source": [
    "fig = plt.figure(figsize=(12,8))\n",
    "ax = fig.add_subplot(1, 1, 1)\n",
    "ax.scatter(df_graph.SalePrice, df_graph.predictions)\n",
    "ax.plot([df_graph.predictions.min(), df_graph.predictions.max()], [df_graph.predictions.min(), df_graph.predictions.max()], color='r')\n",
    "ax.set(xlabel='SalePrice', ylabel='Prédictions')\n",
    "plt.title(\"Projection des prédictions en fonction des valeurs réelles\", fontsize=20)\n",
    "plt.show()"
   ]
  },
  {
   "cell_type": "markdown",
   "metadata": {},
   "source": [
    "### Modele de reg lineaire lasso\n",
    "Il s'agit d'une reg lin pénalisée : la fonction de cout est pénalisée afin de pouvoir traiter les var corrélée, le LASSO supprime des variables en les mettant à 0\n",
    "Une régression pénalisée de type ridge (L2) permet de contraindre l'espace des coef estimés pour ne pas qu'ils prennent des valeurs contradictoires et très élevées,\n",
    "Si la régression est de type lasso (L1) alors certains coefficients vont être annulés.\n",
    "Le paramètre alpha contrôle cela : \n",
    "C = regularization strength; must be a positive float = higher values specify stronger regularization.\n",
    "\n",
    "A noter que dans certaines classes, le paramètre est C=1/alpha \n",
    "\n",
    "Tester plusieurs valeurs de alpha 10,25,100 .. et regardez l'impact sur les coefficients"
   ]
  },
  {
   "cell_type": "code",
   "execution_count": 40,
   "metadata": {},
   "outputs": [],
   "source": [
    "from sklearn.preprocessing import StandardScaler\n",
    "scaler = StandardScaler()\n",
    "scaler.fit(X_train)  # normalise l’éch d’apprentissage\n",
    "X_train_norm = scaler.transform(X_train)\n",
    "X_valid_norm= scaler.transform(X_valid)  # applique à l’éch test"
   ]
  },
  {
   "cell_type": "code",
   "execution_count": 41,
   "metadata": {
    "collapsed": true
   },
   "outputs": [],
   "source": [
    "### Modele de reg lineaire lasso avec pénalisation 1/1000\n",
    "\n",
    "from sklearn.linear_model import Lasso\n",
    "from sklearn import linear_model\n",
    "m3_reglinlasso1000=Lasso(alpha = 1000)\n",
    "m3_reglinlasso1000 = m3_reglinlasso1000.fit(X_train_norm, y_train)\n"
   ]
  },
  {
   "cell_type": "code",
   "execution_count": 42,
   "metadata": {},
   "outputs": [
    {
     "data": {
      "application/vnd.microsoft.datawrangler.viewer.v0+json": {
       "columns": [
        {
         "name": "index",
         "rawType": "object",
         "type": "string"
        },
        {
         "name": "Coefficients",
         "rawType": "float64",
         "type": "float"
        }
       ],
       "ref": "0318ddec-f5ff-4297-b028-4a5e5e7f01a1",
       "rows": [
        [
         "MSSubClass",
         "-7319.213473932124"
        ],
        [
         "LotArea",
         "3036.1264639894857"
        ],
        [
         "OverallQual",
         "16739.733528833054"
        ],
        [
         "OverallCond",
         "4060.858606716351"
        ],
        [
         "YearBuilt",
         "1688.8339301571102"
        ],
        [
         "YearRemodAdd",
         "194.0199481883863"
        ],
        [
         "MasVnrArea",
         "720.4921566258627"
        ],
        [
         "BsmtFinSF1",
         "2927.2441699578058"
        ],
        [
         "BsmtFinSF2",
         "0.0"
        ],
        [
         "BsmtUnfSF",
         "-0.0"
        ],
        [
         "TotalBsmtSF",
         "0.0"
        ],
        [
         "1stFlrSF",
         "0.0"
        ],
        [
         "2ndFlrSF",
         "0.0"
        ],
        [
         "LowQualFinSF",
         "-0.0"
        ],
        [
         "GrLivArea",
         "0.0"
        ],
        [
         "BsmtFullBath",
         "2440.7362984465803"
        ],
        [
         "BsmtHalfBath",
         "0.0"
        ],
        [
         "FullBath",
         "1136.4531278696936"
        ],
        [
         "HalfBath",
         "0.0"
        ],
        [
         "BedroomAbvGr",
         "-77.66531574047451"
        ],
        [
         "KitchenAbvGr",
         "-413.0468932245694"
        ],
        [
         "TotRmsAbvGrd",
         "1298.126716414113"
        ],
        [
         "Fireplaces",
         "2495.290419734688"
        ],
        [
         "GarageYrBlt",
         "0.0"
        ],
        [
         "GarageCars",
         "7437.896421771381"
        ],
        [
         "GarageArea",
         "0.0"
        ],
        [
         "WoodDeckSF",
         "1757.9328073681204"
        ],
        [
         "OpenPorchSF",
         "0.0"
        ],
        [
         "EnclosedPorch",
         "-0.0"
        ],
        [
         "3SsnPorch",
         "0.0"
        ],
        [
         "ScreenPorch",
         "978.6816886140926"
        ],
        [
         "PoolArea",
         "0.0"
        ],
        [
         "MiscVal",
         "0.0"
        ],
        [
         "MoSold",
         "-0.0"
        ],
        [
         "YrSold",
         "0.0"
        ],
        [
         "HouseAge",
         "-3439.5983861492005"
        ],
        [
         "RemodAge",
         "-2465.5535097603447"
        ],
        [
         "TotalSF",
         "3240.701847543572"
        ],
        [
         "1st2ndFlrSF",
         "23369.156472319613"
        ],
        [
         "LotRatio",
         "-408.58770220078225"
        ],
        [
         "GarageScore",
         "-0.0"
        ],
        [
         "MSZoning_FV",
         "0.0"
        ],
        [
         "MSZoning_RH",
         "-0.0"
        ],
        [
         "MSZoning_RL",
         "1152.0121985869134"
        ],
        [
         "MSZoning_RM",
         "-0.0"
        ],
        [
         "Street_Pave",
         "993.472311446709"
        ],
        [
         "LotShape_IR2",
         "1277.011936465517"
        ],
        [
         "LotShape_IR3",
         "-2636.272986339133"
        ],
        [
         "LotShape_Reg",
         "-0.0"
        ],
        [
         "LandContour_HLS",
         "2006.61866904177"
        ]
       ],
       "shape": {
        "columns": 1,
        "rows": 233
       }
      },
      "text/html": [
       "<div>\n",
       "<style scoped>\n",
       "    .dataframe tbody tr th:only-of-type {\n",
       "        vertical-align: middle;\n",
       "    }\n",
       "\n",
       "    .dataframe tbody tr th {\n",
       "        vertical-align: top;\n",
       "    }\n",
       "\n",
       "    .dataframe thead th {\n",
       "        text-align: right;\n",
       "    }\n",
       "</style>\n",
       "<table border=\"1\" class=\"dataframe\">\n",
       "  <thead>\n",
       "    <tr style=\"text-align: right;\">\n",
       "      <th></th>\n",
       "      <th>Coefficients</th>\n",
       "    </tr>\n",
       "  </thead>\n",
       "  <tbody>\n",
       "    <tr>\n",
       "      <th>MSSubClass</th>\n",
       "      <td>-7319.213474</td>\n",
       "    </tr>\n",
       "    <tr>\n",
       "      <th>LotArea</th>\n",
       "      <td>3036.126464</td>\n",
       "    </tr>\n",
       "    <tr>\n",
       "      <th>OverallQual</th>\n",
       "      <td>16739.733529</td>\n",
       "    </tr>\n",
       "    <tr>\n",
       "      <th>OverallCond</th>\n",
       "      <td>4060.858607</td>\n",
       "    </tr>\n",
       "    <tr>\n",
       "      <th>YearBuilt</th>\n",
       "      <td>1688.833930</td>\n",
       "    </tr>\n",
       "    <tr>\n",
       "      <th>...</th>\n",
       "      <td>...</td>\n",
       "    </tr>\n",
       "    <tr>\n",
       "      <th>SaleCondition_AdjLand</th>\n",
       "      <td>0.000000</td>\n",
       "    </tr>\n",
       "    <tr>\n",
       "      <th>SaleCondition_Alloca</th>\n",
       "      <td>-0.000000</td>\n",
       "    </tr>\n",
       "    <tr>\n",
       "      <th>SaleCondition_Family</th>\n",
       "      <td>-884.950097</td>\n",
       "    </tr>\n",
       "    <tr>\n",
       "      <th>SaleCondition_Normal</th>\n",
       "      <td>0.000000</td>\n",
       "    </tr>\n",
       "    <tr>\n",
       "      <th>SaleCondition_Partial</th>\n",
       "      <td>0.000000</td>\n",
       "    </tr>\n",
       "  </tbody>\n",
       "</table>\n",
       "<p>233 rows × 1 columns</p>\n",
       "</div>"
      ],
      "text/plain": [
       "                       Coefficients\n",
       "MSSubClass             -7319.213474\n",
       "LotArea                 3036.126464\n",
       "OverallQual            16739.733529\n",
       "OverallCond             4060.858607\n",
       "YearBuilt               1688.833930\n",
       "...                             ...\n",
       "SaleCondition_AdjLand      0.000000\n",
       "SaleCondition_Alloca      -0.000000\n",
       "SaleCondition_Family    -884.950097\n",
       "SaleCondition_Normal       0.000000\n",
       "SaleCondition_Partial      0.000000\n",
       "\n",
       "[233 rows x 1 columns]"
      ]
     },
     "execution_count": 42,
     "metadata": {},
     "output_type": "execute_result"
    }
   ],
   "source": [
    "# Coefficients du modèle\n",
    "pd.DataFrame({'Coefficients': list(m3_reglinlasso1000.coef_)}, list(X_train.columns.values))"
   ]
  },
  {
   "cell_type": "code",
   "execution_count": 43,
   "metadata": {
    "collapsed": true
   },
   "outputs": [
    {
     "name": "stdout",
     "output_type": "stream",
     "text": [
      "Coef nuls 145\n",
      "% de coef nuls 62.231759656652365\n"
     ]
    }
   ],
   "source": [
    "# Combien sont nuls sur 233\n",
    "coef=list(m3_reglinlasso1000.coef_)\n",
    "\n",
    "# combien d'élemnts non nuls ?\n",
    "feature_0_1000= list(map(lambda x: x==0.0, coef))\n",
    "feature_non0_1000= list(map(lambda x: x!=0.0, coef))\n",
    "print(\"Coef nuls\",feature_0_1000.count(True)) \n",
    "print(\"% de coef nuls\",feature_0_1000.count(True)/len(coef)*100) "
   ]
  },
  {
   "cell_type": "code",
   "execution_count": 44,
   "metadata": {},
   "outputs": [],
   "source": [
    "### Modele de reg lineaire lasso avec pénalisation 1/1000\n",
    "m3_reglinlasso5000=Lasso(alpha = 5000)\n",
    "m3_reglinlasso5000 = m3_reglinlasso5000.fit(X_train_norm, y_train)"
   ]
  },
  {
   "cell_type": "code",
   "execution_count": 45,
   "metadata": {
    "collapsed": true
   },
   "outputs": [
    {
     "name": "stdout",
     "output_type": "stream",
     "text": [
      "Coef nuls 208\n",
      "% de coef nuls 89.27038626609442\n"
     ]
    }
   ],
   "source": [
    "# Combien sont nuls sur 233\n",
    "coef=list(m3_reglinlasso5000.coef_)\n",
    "\n",
    "# combien d'élemnts non nuls ?\n",
    "feature_0= list(map(lambda x: x==0.0, coef))\n",
    "print(\"Coef nuls\",feature_0.count(True)) \n",
    "print(\"% de coef nuls\",feature_0.count(True)/len(coef)*100) \n",
    "\n",
    "del feature_0"
   ]
  },
  {
   "cell_type": "code",
   "execution_count": 46,
   "metadata": {
    "collapsed": true
   },
   "outputs": [
    {
     "name": "stdout",
     "output_type": "stream",
     "text": [
      "RMSE Lasso 5000\n"
     ]
    },
    {
     "data": {
      "application/vnd.microsoft.datawrangler.viewer.v0+json": {
       "columns": [
        {
         "name": "index",
         "rawType": "int64",
         "type": "integer"
        },
        {
         "name": "Métrique",
         "rawType": "object",
         "type": "string"
        },
        {
         "name": "Résultats",
         "rawType": "float64",
         "type": "float"
        }
       ],
       "ref": "de065317-9f89-41a7-bd25-e2d000613924",
       "rows": [
        [
         "0",
         "MAE",
         "20542.478137254573"
        ],
        [
         "1",
         "MSE",
         "1144773568.9595158"
        ],
        [
         "2",
         "RMSE",
         "33834.50264093616"
        ],
        [
         "3",
         "MAPE",
         "11.64872502570896"
        ]
       ],
       "shape": {
        "columns": 2,
        "rows": 4
       }
      },
      "text/html": [
       "<div>\n",
       "<style scoped>\n",
       "    .dataframe tbody tr th:only-of-type {\n",
       "        vertical-align: middle;\n",
       "    }\n",
       "\n",
       "    .dataframe tbody tr th {\n",
       "        vertical-align: top;\n",
       "    }\n",
       "\n",
       "    .dataframe thead th {\n",
       "        text-align: right;\n",
       "    }\n",
       "</style>\n",
       "<table border=\"1\" class=\"dataframe\">\n",
       "  <thead>\n",
       "    <tr style=\"text-align: right;\">\n",
       "      <th></th>\n",
       "      <th>Métrique</th>\n",
       "      <th>Résultats</th>\n",
       "    </tr>\n",
       "  </thead>\n",
       "  <tbody>\n",
       "    <tr>\n",
       "      <th>0</th>\n",
       "      <td>MAE</td>\n",
       "      <td>2.054248e+04</td>\n",
       "    </tr>\n",
       "    <tr>\n",
       "      <th>1</th>\n",
       "      <td>MSE</td>\n",
       "      <td>1.144774e+09</td>\n",
       "    </tr>\n",
       "    <tr>\n",
       "      <th>2</th>\n",
       "      <td>RMSE</td>\n",
       "      <td>3.383450e+04</td>\n",
       "    </tr>\n",
       "    <tr>\n",
       "      <th>3</th>\n",
       "      <td>MAPE</td>\n",
       "      <td>1.164873e+01</td>\n",
       "    </tr>\n",
       "  </tbody>\n",
       "</table>\n",
       "</div>"
      ],
      "text/plain": [
       "  Métrique     Résultats\n",
       "0      MAE  2.054248e+04\n",
       "1      MSE  1.144774e+09\n",
       "2     RMSE  3.383450e+04\n",
       "3     MAPE  1.164873e+01"
      ]
     },
     "execution_count": 46,
     "metadata": {},
     "output_type": "execute_result"
    }
   ],
   "source": [
    "y_train_chap = m3_reglinlasso5000.predict(X_train_norm)\n",
    "y_valid_chap = m3_reglinlasso5000.predict(X_valid_norm)\n",
    "\n",
    "\n",
    "print(\"RMSE Lasso 5000\")\n",
    "\n",
    "# metrique sur l'échantillon de train validation\n",
    "metrics_regression(y_valid, y_valid_chap)"
   ]
  },
  {
   "cell_type": "code",
   "execution_count": 47,
   "metadata": {},
   "outputs": [
    {
     "name": "stdout",
     "output_type": "stream",
     "text": [
      "RMSE Lasso 1000\n"
     ]
    },
    {
     "data": {
      "application/vnd.microsoft.datawrangler.viewer.v0+json": {
       "columns": [
        {
         "name": "index",
         "rawType": "int64",
         "type": "integer"
        },
        {
         "name": "Métrique",
         "rawType": "object",
         "type": "string"
        },
        {
         "name": "Résultats",
         "rawType": "float64",
         "type": "float"
        }
       ],
       "ref": "427e348a-6557-4ef0-b7ff-e9bdcd4c3860",
       "rows": [
        [
         "0",
         "MAE",
         "18025.41070838673"
        ],
        [
         "1",
         "MSE",
         "829177876.0371255"
        ],
        [
         "2",
         "RMSE",
         "28795.448877159834"
        ],
        [
         "3",
         "MAPE",
         "10.2064175831533"
        ]
       ],
       "shape": {
        "columns": 2,
        "rows": 4
       }
      },
      "text/html": [
       "<div>\n",
       "<style scoped>\n",
       "    .dataframe tbody tr th:only-of-type {\n",
       "        vertical-align: middle;\n",
       "    }\n",
       "\n",
       "    .dataframe tbody tr th {\n",
       "        vertical-align: top;\n",
       "    }\n",
       "\n",
       "    .dataframe thead th {\n",
       "        text-align: right;\n",
       "    }\n",
       "</style>\n",
       "<table border=\"1\" class=\"dataframe\">\n",
       "  <thead>\n",
       "    <tr style=\"text-align: right;\">\n",
       "      <th></th>\n",
       "      <th>Métrique</th>\n",
       "      <th>Résultats</th>\n",
       "    </tr>\n",
       "  </thead>\n",
       "  <tbody>\n",
       "    <tr>\n",
       "      <th>0</th>\n",
       "      <td>MAE</td>\n",
       "      <td>1.802541e+04</td>\n",
       "    </tr>\n",
       "    <tr>\n",
       "      <th>1</th>\n",
       "      <td>MSE</td>\n",
       "      <td>8.291779e+08</td>\n",
       "    </tr>\n",
       "    <tr>\n",
       "      <th>2</th>\n",
       "      <td>RMSE</td>\n",
       "      <td>2.879545e+04</td>\n",
       "    </tr>\n",
       "    <tr>\n",
       "      <th>3</th>\n",
       "      <td>MAPE</td>\n",
       "      <td>1.020642e+01</td>\n",
       "    </tr>\n",
       "  </tbody>\n",
       "</table>\n",
       "</div>"
      ],
      "text/plain": [
       "  Métrique     Résultats\n",
       "0      MAE  1.802541e+04\n",
       "1      MSE  8.291779e+08\n",
       "2     RMSE  2.879545e+04\n",
       "3     MAPE  1.020642e+01"
      ]
     },
     "execution_count": 47,
     "metadata": {},
     "output_type": "execute_result"
    }
   ],
   "source": [
    "\n",
    "y_train_chap = m3_reglinlasso1000.predict(X_train_norm)\n",
    "y_valid_chap = m3_reglinlasso1000.predict(X_valid_norm)\n",
    "\n",
    "\n",
    "print(\"RMSE Lasso 1000\")\n",
    "\n",
    "\n",
    "# metrique sur l'échantillon de train validation\n",
    "metrics_regression(y_valid, y_valid_chap)\n",
    "# le MAPE est de 10 % sur le jeu de validation pour la pénalisation 1000"
   ]
  },
  {
   "cell_type": "code",
   "execution_count": 48,
   "metadata": {},
   "outputs": [
    {
     "data": {
      "image/png": "[encoded data removed]",
      "text/plain": [
       "<Figure size 1200x800 with 1 Axes>"
      ]
     },
     "metadata": {},
     "output_type": "display_data"
    }
   ],
   "source": [
    "fig = plt.figure(figsize=(12,8))\n",
    "ax = fig.add_subplot(1, 1, 1)\n",
    "ax.scatter(y_valid, y_valid_chap)\n",
    "ax.plot([y_valid_chap.min(), y_valid_chap.max()], [y_valid_chap.min(), y_valid_chap.max()], color='r')\n",
    "ax.set(xlabel='SalePrice', ylabel='Prédictions')\n",
    "plt.title(\"Projection des prédictions en fonction des valeurs réelles\", fontsize=20)\n",
    "plt.show()"
   ]
  },
  {
   "cell_type": "markdown",
   "metadata": {},
   "source": [
    "## Faites une prédiction pour une nouvelle maison"
   ]
  },
  {
   "cell_type": "code",
   "execution_count": 49,
   "metadata": {},
   "outputs": [
    {
     "data": {
      "application/vnd.microsoft.datawrangler.viewer.v0+json": {
       "columns": [
        {
         "name": "index",
         "rawType": "int64",
         "type": "integer"
        },
        {
         "name": "MSSubClass",
         "rawType": "int64",
         "type": "integer"
        },
        {
         "name": "LotArea",
         "rawType": "int64",
         "type": "integer"
        },
        {
         "name": "OverallQual",
         "rawType": "int64",
         "type": "integer"
        },
        {
         "name": "OverallCond",
         "rawType": "int64",
         "type": "integer"
        },
        {
         "name": "YearBuilt",
         "rawType": "int64",
         "type": "integer"
        },
        {
         "name": "YearRemodAdd",
         "rawType": "int64",
         "type": "integer"
        },
        {
         "name": "MasVnrArea",
         "rawType": "float64",
         "type": "float"
        },
        {
         "name": "BsmtFinSF1",
         "rawType": "float64",
         "type": "float"
        },
        {
         "name": "BsmtFinSF2",
         "rawType": "float64",
         "type": "float"
        },
        {
         "name": "BsmtUnfSF",
         "rawType": "float64",
         "type": "float"
        },
        {
         "name": "TotalBsmtSF",
         "rawType": "float64",
         "type": "float"
        },
        {
         "name": "1stFlrSF",
         "rawType": "int64",
         "type": "integer"
        },
        {
         "name": "2ndFlrSF",
         "rawType": "int64",
         "type": "integer"
        },
        {
         "name": "LowQualFinSF",
         "rawType": "int64",
         "type": "integer"
        },
        {
         "name": "GrLivArea",
         "rawType": "int64",
         "type": "integer"
        },
        {
         "name": "BsmtFullBath",
         "rawType": "float64",
         "type": "float"
        },
        {
         "name": "BsmtHalfBath",
         "rawType": "float64",
         "type": "float"
        },
        {
         "name": "FullBath",
         "rawType": "int64",
         "type": "integer"
        },
        {
         "name": "HalfBath",
         "rawType": "int64",
         "type": "integer"
        },
        {
         "name": "BedroomAbvGr",
         "rawType": "int64",
         "type": "integer"
        },
        {
         "name": "KitchenAbvGr",
         "rawType": "int64",
         "type": "integer"
        },
        {
         "name": "TotRmsAbvGrd",
         "rawType": "int64",
         "type": "integer"
        },
        {
         "name": "Fireplaces",
         "rawType": "int64",
         "type": "integer"
        },
        {
         "name": "GarageYrBlt",
         "rawType": "float64",
         "type": "float"
        },
        {
         "name": "GarageCars",
         "rawType": "float64",
         "type": "float"
        },
        {
         "name": "GarageArea",
         "rawType": "float64",
         "type": "float"
        },
        {
         "name": "WoodDeckSF",
         "rawType": "int64",
         "type": "integer"
        },
        {
         "name": "OpenPorchSF",
         "rawType": "int64",
         "type": "integer"
        },
        {
         "name": "EnclosedPorch",
         "rawType": "int64",
         "type": "integer"
        },
        {
         "name": "3SsnPorch",
         "rawType": "int64",
         "type": "integer"
        },
        {
         "name": "ScreenPorch",
         "rawType": "int64",
         "type": "integer"
        },
        {
         "name": "PoolArea",
         "rawType": "int64",
         "type": "integer"
        },
        {
         "name": "MiscVal",
         "rawType": "int64",
         "type": "integer"
        },
        {
         "name": "MoSold",
         "rawType": "int64",
         "type": "integer"
        },
        {
         "name": "YrSold",
         "rawType": "int64",
         "type": "integer"
        },
        {
         "name": "HouseAge",
         "rawType": "int64",
         "type": "integer"
        },
        {
         "name": "RemodAge",
         "rawType": "int64",
         "type": "integer"
        },
        {
         "name": "TotalSF",
         "rawType": "float64",
         "type": "float"
        },
        {
         "name": "1st2ndFlrSF",
         "rawType": "int64",
         "type": "integer"
        },
        {
         "name": "LotRatio",
         "rawType": "float64",
         "type": "float"
        },
        {
         "name": "GarageScore",
         "rawType": "int64",
         "type": "integer"
        },
        {
         "name": "MSZoning_FV",
         "rawType": "bool",
         "type": "boolean"
        },
        {
         "name": "MSZoning_RH",
         "rawType": "bool",
         "type": "boolean"
        },
        {
         "name": "MSZoning_RL",
         "rawType": "bool",
         "type": "boolean"
        },
        {
         "name": "MSZoning_RM",
         "rawType": "bool",
         "type": "boolean"
        },
        {
         "name": "Street_Pave",
         "rawType": "bool",
         "type": "boolean"
        },
        {
         "name": "LotShape_IR2",
         "rawType": "bool",
         "type": "boolean"
        },
        {
         "name": "LotShape_IR3",
         "rawType": "bool",
         "type": "boolean"
        },
        {
         "name": "LotShape_Reg",
         "rawType": "bool",
         "type": "boolean"
        },
        {
         "name": "LandContour_HLS",
         "rawType": "bool",
         "type": "boolean"
        },
        {
         "name": "LandContour_Low",
         "rawType": "bool",
         "type": "boolean"
        },
        {
         "name": "LandContour_Lvl",
         "rawType": "bool",
         "type": "boolean"
        },
        {
         "name": "Utilities_NoSeWa",
         "rawType": "bool",
         "type": "boolean"
        },
        {
         "name": "LotConfig_CulDSac",
         "rawType": "bool",
         "type": "boolean"
        },
        {
         "name": "LotConfig_FR2",
         "rawType": "bool",
         "type": "boolean"
        },
        {
         "name": "LotConfig_FR3",
         "rawType": "bool",
         "type": "boolean"
        },
        {
         "name": "LotConfig_Inside",
         "rawType": "bool",
         "type": "boolean"
        },
        {
         "name": "LandSlope_Mod",
         "rawType": "bool",
         "type": "boolean"
        },
        {
         "name": "LandSlope_Sev",
         "rawType": "bool",
         "type": "boolean"
        },
        {
         "name": "Neighborhood_Blueste",
         "rawType": "bool",
         "type": "boolean"
        },
        {
         "name": "Neighborhood_BrDale",
         "rawType": "bool",
         "type": "boolean"
        },
        {
         "name": "Neighborhood_BrkSide",
         "rawType": "bool",
         "type": "boolean"
        },
        {
         "name": "Neighborhood_ClearCr",
         "rawType": "bool",
         "type": "boolean"
        },
        {
         "name": "Neighborhood_CollgCr",
         "rawType": "bool",
         "type": "boolean"
        },
        {
         "name": "Neighborhood_Crawfor",
         "rawType": "bool",
         "type": "boolean"
        },
        {
         "name": "Neighborhood_Edwards",
         "rawType": "bool",
         "type": "boolean"
        },
        {
         "name": "Neighborhood_Gilbert",
         "rawType": "bool",
         "type": "boolean"
        },
        {
         "name": "Neighborhood_IDOTRR",
         "rawType": "bool",
         "type": "boolean"
        },
        {
         "name": "Neighborhood_MeadowV",
         "rawType": "bool",
         "type": "boolean"
        },
        {
         "name": "Neighborhood_Mitchel",
         "rawType": "bool",
         "type": "boolean"
        },
        {
         "name": "Neighborhood_NAmes",
         "rawType": "bool",
         "type": "boolean"
        },
        {
         "name": "Neighborhood_NPkVill",
         "rawType": "bool",
         "type": "boolean"
        },
        {
         "name": "Neighborhood_NWAmes",
         "rawType": "bool",
         "type": "boolean"
        },
        {
         "name": "Neighborhood_NoRidge",
         "rawType": "bool",
         "type": "boolean"
        },
        {
         "name": "Neighborhood_NridgHt",
         "rawType": "bool",
         "type": "boolean"
        },
        {
         "name": "Neighborhood_OldTown",
         "rawType": "bool",
         "type": "boolean"
        },
        {
         "name": "Neighborhood_SWISU",
         "rawType": "bool",
         "type": "boolean"
        },
        {
         "name": "Neighborhood_Sawyer",
         "rawType": "bool",
         "type": "boolean"
        },
        {
         "name": "Neighborhood_SawyerW",
         "rawType": "bool",
         "type": "boolean"
        },
        {
         "name": "Neighborhood_Somerst",
         "rawType": "bool",
         "type": "boolean"
        },
        {
         "name": "Neighborhood_StoneBr",
         "rawType": "bool",
         "type": "boolean"
        },
        {
         "name": "Neighborhood_Timber",
         "rawType": "bool",
         "type": "boolean"
        },
        {
         "name": "Neighborhood_Veenker",
         "rawType": "bool",
         "type": "boolean"
        },
        {
         "name": "Condition1_Feedr",
         "rawType": "bool",
         "type": "boolean"
        },
        {
         "name": "Condition1_Norm",
         "rawType": "bool",
         "type": "boolean"
        },
        {
         "name": "Condition1_PosA",
         "rawType": "bool",
         "type": "boolean"
        },
        {
         "name": "Condition1_PosN",
         "rawType": "bool",
         "type": "boolean"
        },
        {
         "name": "Condition1_RRAe",
         "rawType": "bool",
         "type": "boolean"
        },
        {
         "name": "Condition1_RRAn",
         "rawType": "bool",
         "type": "boolean"
        },
        {
         "name": "Condition1_RRNe",
         "rawType": "bool",
         "type": "boolean"
        },
        {
         "name": "Condition1_RRNn",
         "rawType": "bool",
         "type": "boolean"
        },
        {
         "name": "Condition2_Feedr",
         "rawType": "bool",
         "type": "boolean"
        },
        {
         "name": "Condition2_Norm",
         "rawType": "bool",
         "type": "boolean"
        },
        {
         "name": "Condition2_PosA",
         "rawType": "bool",
         "type": "boolean"
        },
        {
         "name": "Condition2_PosN",
         "rawType": "bool",
         "type": "boolean"
        },
        {
         "name": "Condition2_RRAe",
         "rawType": "bool",
         "type": "boolean"
        },
        {
         "name": "Condition2_RRAn",
         "rawType": "bool",
         "type": "boolean"
        },
        {
         "name": "Condition2_RRNn",
         "rawType": "bool",
         "type": "boolean"
        },
        {
         "name": "BldgType_2fmCon",
         "rawType": "bool",
         "type": "boolean"
        },
        {
         "name": "BldgType_Duplex",
         "rawType": "bool",
         "type": "boolean"
        },
        {
         "name": "BldgType_Twnhs",
         "rawType": "bool",
         "type": "boolean"
        },
        {
         "name": "BldgType_TwnhsE",
         "rawType": "bool",
         "type": "boolean"
        },
        {
         "name": "HouseStyle_1.5Unf",
         "rawType": "bool",
         "type": "boolean"
        },
        {
         "name": "HouseStyle_1Story",
         "rawType": "bool",
         "type": "boolean"
        },
        {
         "name": "HouseStyle_2.5Fin",
         "rawType": "bool",
         "type": "boolean"
        },
        {
         "name": "HouseStyle_2.5Unf",
         "rawType": "bool",
         "type": "boolean"
        },
        {
         "name": "HouseStyle_2Story",
         "rawType": "bool",
         "type": "boolean"
        },
        {
         "name": "HouseStyle_SFoyer",
         "rawType": "bool",
         "type": "boolean"
        },
        {
         "name": "HouseStyle_SLvl",
         "rawType": "bool",
         "type": "boolean"
        },
        {
         "name": "RoofStyle_Gable",
         "rawType": "bool",
         "type": "boolean"
        },
        {
         "name": "RoofStyle_Gambrel",
         "rawType": "bool",
         "type": "boolean"
        },
        {
         "name": "RoofStyle_Hip",
         "rawType": "bool",
         "type": "boolean"
        },
        {
         "name": "RoofStyle_Mansard",
         "rawType": "bool",
         "type": "boolean"
        },
        {
         "name": "RoofStyle_Shed",
         "rawType": "bool",
         "type": "boolean"
        },
        {
         "name": "RoofMatl_CompShg",
         "rawType": "bool",
         "type": "boolean"
        },
        {
         "name": "RoofMatl_Membran",
         "rawType": "bool",
         "type": "boolean"
        },
        {
         "name": "RoofMatl_Metal",
         "rawType": "bool",
         "type": "boolean"
        },
        {
         "name": "RoofMatl_Roll",
         "rawType": "bool",
         "type": "boolean"
        },
        {
         "name": "RoofMatl_Tar&Grv",
         "rawType": "bool",
         "type": "boolean"
        },
        {
         "name": "RoofMatl_WdShake",
         "rawType": "bool",
         "type": "boolean"
        },
        {
         "name": "RoofMatl_WdShngl",
         "rawType": "bool",
         "type": "boolean"
        },
        {
         "name": "Exterior1st_AsphShn",
         "rawType": "bool",
         "type": "boolean"
        },
        {
         "name": "Exterior1st_BrkComm",
         "rawType": "bool",
         "type": "boolean"
        },
        {
         "name": "Exterior1st_BrkFace",
         "rawType": "bool",
         "type": "boolean"
        },
        {
         "name": "Exterior1st_CBlock",
         "rawType": "bool",
         "type": "boolean"
        },
        {
         "name": "Exterior1st_CemntBd",
         "rawType": "bool",
         "type": "boolean"
        },
        {
         "name": "Exterior1st_HdBoard",
         "rawType": "bool",
         "type": "boolean"
        },
        {
         "name": "Exterior1st_ImStucc",
         "rawType": "bool",
         "type": "boolean"
        },
        {
         "name": "Exterior1st_MetalSd",
         "rawType": "bool",
         "type": "boolean"
        },
        {
         "name": "Exterior1st_Plywood",
         "rawType": "bool",
         "type": "boolean"
        },
        {
         "name": "Exterior1st_Stone",
         "rawType": "bool",
         "type": "boolean"
        },
        {
         "name": "Exterior1st_Stucco",
         "rawType": "bool",
         "type": "boolean"
        },
        {
         "name": "Exterior1st_VinylSd",
         "rawType": "bool",
         "type": "boolean"
        },
        {
         "name": "Exterior1st_Wd Sdng",
         "rawType": "bool",
         "type": "boolean"
        },
        {
         "name": "Exterior1st_WdShing",
         "rawType": "bool",
         "type": "boolean"
        },
        {
         "name": "Exterior2nd_AsphShn",
         "rawType": "bool",
         "type": "boolean"
        },
        {
         "name": "Exterior2nd_Brk Cmn",
         "rawType": "bool",
         "type": "boolean"
        },
        {
         "name": "Exterior2nd_BrkFace",
         "rawType": "bool",
         "type": "boolean"
        },
        {
         "name": "Exterior2nd_CBlock",
         "rawType": "bool",
         "type": "boolean"
        },
        {
         "name": "Exterior2nd_CmentBd",
         "rawType": "bool",
         "type": "boolean"
        },
        {
         "name": "Exterior2nd_HdBoard",
         "rawType": "bool",
         "type": "boolean"
        },
        {
         "name": "Exterior2nd_ImStucc",
         "rawType": "bool",
         "type": "boolean"
        },
        {
         "name": "Exterior2nd_MetalSd",
         "rawType": "bool",
         "type": "boolean"
        },
        {
         "name": "Exterior2nd_Other",
         "rawType": "bool",
         "type": "boolean"
        },
        {
         "name": "Exterior2nd_Plywood",
         "rawType": "bool",
         "type": "boolean"
        },
        {
         "name": "Exterior2nd_Stone",
         "rawType": "bool",
         "type": "boolean"
        },
        {
         "name": "Exterior2nd_Stucco",
         "rawType": "bool",
         "type": "boolean"
        },
        {
         "name": "Exterior2nd_VinylSd",
         "rawType": "bool",
         "type": "boolean"
        },
        {
         "name": "Exterior2nd_Wd Sdng",
         "rawType": "bool",
         "type": "boolean"
        },
        {
         "name": "Exterior2nd_Wd Shng",
         "rawType": "bool",
         "type": "boolean"
        },
        {
         "name": "ExterQual_Fa",
         "rawType": "bool",
         "type": "boolean"
        },
        {
         "name": "ExterQual_Gd",
         "rawType": "bool",
         "type": "boolean"
        },
        {
         "name": "ExterQual_TA",
         "rawType": "bool",
         "type": "boolean"
        },
        {
         "name": "ExterCond_Fa",
         "rawType": "bool",
         "type": "boolean"
        },
        {
         "name": "ExterCond_Gd",
         "rawType": "bool",
         "type": "boolean"
        },
        {
         "name": "ExterCond_Po",
         "rawType": "bool",
         "type": "boolean"
        },
        {
         "name": "ExterCond_TA",
         "rawType": "bool",
         "type": "boolean"
        },
        {
         "name": "Foundation_CBlock",
         "rawType": "bool",
         "type": "boolean"
        },
        {
         "name": "Foundation_PConc",
         "rawType": "bool",
         "type": "boolean"
        },
        {
         "name": "Foundation_Slab",
         "rawType": "bool",
         "type": "boolean"
        },
        {
         "name": "Foundation_Stone",
         "rawType": "bool",
         "type": "boolean"
        },
        {
         "name": "Foundation_Wood",
         "rawType": "bool",
         "type": "boolean"
        },
        {
         "name": "BsmtQual_Fa",
         "rawType": "bool",
         "type": "boolean"
        },
        {
         "name": "BsmtQual_Gd",
         "rawType": "bool",
         "type": "boolean"
        },
        {
         "name": "BsmtQual_None",
         "rawType": "bool",
         "type": "boolean"
        },
        {
         "name": "BsmtQual_TA",
         "rawType": "bool",
         "type": "boolean"
        },
        {
         "name": "BsmtCond_Gd",
         "rawType": "bool",
         "type": "boolean"
        },
        {
         "name": "BsmtCond_None",
         "rawType": "bool",
         "type": "boolean"
        },
        {
         "name": "BsmtCond_Po",
         "rawType": "bool",
         "type": "boolean"
        },
        {
         "name": "BsmtCond_TA",
         "rawType": "bool",
         "type": "boolean"
        },
        {
         "name": "BsmtExposure_Gd",
         "rawType": "bool",
         "type": "boolean"
        },
        {
         "name": "BsmtExposure_Mn",
         "rawType": "bool",
         "type": "boolean"
        },
        {
         "name": "BsmtExposure_No",
         "rawType": "bool",
         "type": "boolean"
        },
        {
         "name": "BsmtExposure_None",
         "rawType": "bool",
         "type": "boolean"
        },
        {
         "name": "BsmtFinType1_BLQ",
         "rawType": "bool",
         "type": "boolean"
        },
        {
         "name": "BsmtFinType1_GLQ",
         "rawType": "bool",
         "type": "boolean"
        },
        {
         "name": "BsmtFinType1_LwQ",
         "rawType": "bool",
         "type": "boolean"
        },
        {
         "name": "BsmtFinType1_None",
         "rawType": "bool",
         "type": "boolean"
        },
        {
         "name": "BsmtFinType1_Rec",
         "rawType": "bool",
         "type": "boolean"
        },
        {
         "name": "BsmtFinType1_Unf",
         "rawType": "bool",
         "type": "boolean"
        },
        {
         "name": "BsmtFinType2_BLQ",
         "rawType": "bool",
         "type": "boolean"
        },
        {
         "name": "BsmtFinType2_GLQ",
         "rawType": "bool",
         "type": "boolean"
        },
        {
         "name": "BsmtFinType2_LwQ",
         "rawType": "bool",
         "type": "boolean"
        },
        {
         "name": "BsmtFinType2_None",
         "rawType": "bool",
         "type": "boolean"
        },
        {
         "name": "BsmtFinType2_Rec",
         "rawType": "bool",
         "type": "boolean"
        },
        {
         "name": "BsmtFinType2_Unf",
         "rawType": "bool",
         "type": "boolean"
        },
        {
         "name": "Heating_GasA",
         "rawType": "bool",
         "type": "boolean"
        },
        {
         "name": "Heating_GasW",
         "rawType": "bool",
         "type": "boolean"
        },
        {
         "name": "Heating_Grav",
         "rawType": "bool",
         "type": "boolean"
        },
        {
         "name": "Heating_OthW",
         "rawType": "bool",
         "type": "boolean"
        },
        {
         "name": "Heating_Wall",
         "rawType": "bool",
         "type": "boolean"
        },
        {
         "name": "HeatingQC_Fa",
         "rawType": "bool",
         "type": "boolean"
        },
        {
         "name": "HeatingQC_Gd",
         "rawType": "bool",
         "type": "boolean"
        },
        {
         "name": "HeatingQC_Po",
         "rawType": "bool",
         "type": "boolean"
        },
        {
         "name": "HeatingQC_TA",
         "rawType": "bool",
         "type": "boolean"
        },
        {
         "name": "CentralAir_Y",
         "rawType": "bool",
         "type": "boolean"
        },
        {
         "name": "Electrical_FuseF",
         "rawType": "bool",
         "type": "boolean"
        },
        {
         "name": "Electrical_FuseP",
         "rawType": "bool",
         "type": "boolean"
        },
        {
         "name": "Electrical_Mix",
         "rawType": "bool",
         "type": "boolean"
        },
        {
         "name": "Electrical_SBrkr",
         "rawType": "bool",
         "type": "boolean"
        },
        {
         "name": "KitchenQual_Fa",
         "rawType": "bool",
         "type": "boolean"
        },
        {
         "name": "KitchenQual_Gd",
         "rawType": "bool",
         "type": "boolean"
        },
        {
         "name": "KitchenQual_TA",
         "rawType": "bool",
         "type": "boolean"
        },
        {
         "name": "Functional_Maj2",
         "rawType": "bool",
         "type": "boolean"
        },
        {
         "name": "Functional_Min1",
         "rawType": "bool",
         "type": "boolean"
        },
        {
         "name": "Functional_Min2",
         "rawType": "bool",
         "type": "boolean"
        },
        {
         "name": "Functional_Mod",
         "rawType": "bool",
         "type": "boolean"
        },
        {
         "name": "Functional_Sev",
         "rawType": "bool",
         "type": "boolean"
        },
        {
         "name": "Functional_Typ",
         "rawType": "bool",
         "type": "boolean"
        },
        {
         "name": "GarageType_Attchd",
         "rawType": "bool",
         "type": "boolean"
        },
        {
         "name": "GarageType_Basment",
         "rawType": "bool",
         "type": "boolean"
        },
        {
         "name": "GarageType_BuiltIn",
         "rawType": "bool",
         "type": "boolean"
        },
        {
         "name": "GarageType_CarPort",
         "rawType": "bool",
         "type": "boolean"
        },
        {
         "name": "GarageType_Detchd",
         "rawType": "bool",
         "type": "boolean"
        },
        {
         "name": "GarageType_None",
         "rawType": "bool",
         "type": "boolean"
        },
        {
         "name": "GarageFinish_None",
         "rawType": "bool",
         "type": "boolean"
        },
        {
         "name": "GarageFinish_RFn",
         "rawType": "bool",
         "type": "boolean"
        },
        {
         "name": "GarageFinish_Unf",
         "rawType": "bool",
         "type": "boolean"
        },
        {
         "name": "PavedDrive_P",
         "rawType": "bool",
         "type": "boolean"
        },
        {
         "name": "PavedDrive_Y",
         "rawType": "bool",
         "type": "boolean"
        },
        {
         "name": "SaleType_CWD",
         "rawType": "bool",
         "type": "boolean"
        },
        {
         "name": "SaleType_Con",
         "rawType": "bool",
         "type": "boolean"
        },
        {
         "name": "SaleType_ConLD",
         "rawType": "bool",
         "type": "boolean"
        },
        {
         "name": "SaleType_ConLI",
         "rawType": "bool",
         "type": "boolean"
        },
        {
         "name": "SaleType_ConLw",
         "rawType": "bool",
         "type": "boolean"
        },
        {
         "name": "SaleType_New",
         "rawType": "bool",
         "type": "boolean"
        },
        {
         "name": "SaleType_Oth",
         "rawType": "bool",
         "type": "boolean"
        },
        {
         "name": "SaleType_WD",
         "rawType": "bool",
         "type": "boolean"
        },
        {
         "name": "SaleCondition_AdjLand",
         "rawType": "bool",
         "type": "boolean"
        },
        {
         "name": "SaleCondition_Alloca",
         "rawType": "bool",
         "type": "boolean"
        },
        {
         "name": "SaleCondition_Family",
         "rawType": "bool",
         "type": "boolean"
        },
        {
         "name": "SaleCondition_Normal",
         "rawType": "bool",
         "type": "boolean"
        },
        {
         "name": "SaleCondition_Partial",
         "rawType": "bool",
         "type": "boolean"
        }
       ],
       "ref": "003e7341-2495-4463-a26a-cd6966b718f5",
       "rows": [
        [
         "0",
         "20",
         "11622",
         "5",
         "6",
         "1961",
         "1961",
         "0.0",
         "468.0",
         "144.0",
         "270.0",
         "882.0",
         "896",
         "0",
         "0",
         "896",
         "0.0",
         "0.0",
         "1",
         "0",
         "2",
         "1",
         "5",
         "0",
         "1961.0",
         "1.0",
         "730.0",
         "140",
         "0",
         "0",
         "0",
         "120",
         "0",
         "0",
         "6",
         "2010",
         "49",
         "49",
         "2508.0",
         "896",
         "0.21579762519359835",
         "9",
         "False",
         "True",
         "False",
         "False",
         "True",
         "False",
         "False",
         "True",
         "False",
         "False",
         "True",
         "False",
         "False",
         "False",
         "False",
         "True",
         "False",
         "False",
         "False",
         "False",
         "False",
         "False",
         "False",
         "False",
         "False",
         "False",
         "False",
         "False",
         "False",
         "True",
         "False",
         "False",
         "False",
         "False",
         "False",
         "False",
         "False",
         "False",
         "False",
         "False",
         "False",
         "False",
         "True",
         "False",
         "False",
         "False",
         "False",
         "False",
         "False",
         "False",
         "False",
         "True",
         "False",
         "False",
         "False",
         "False",
         "False",
         "False",
         "False",
         "False",
         "False",
         "False",
         "True",
         "False",
         "False",
         "False",
         "False",
         "False",
         "True",
         "False",
         "False",
         "False",
         "False",
         "True",
         "False",
         "False",
         "False",
         "False",
         "False",
         "False",
         "False",
         "False",
         "False",
         "False",
         "False",
         "False",
         "False",
         "False",
         "False",
         "False",
         "False",
         "True",
         "False",
         "False",
         "False",
         "False",
         "False",
         "False",
         "False",
         "False",
         "False",
         "False",
         "False",
         "False",
         "False",
         "False",
         "True",
         "False",
         "False",
         "False",
         "False",
         "True",
         "False",
         "False",
         "False",
         "True",
         "True",
         "False",
         "False",
         "False",
         "False",
         "False",
         "False",
         "False",
         "True",
         "False",
         "False",
         "False",
         "True",
         "False",
         "False",
         "True",
         "False",
         "False",
         "False",
         "False",
         "False",
         "True",
         "False",
         "False",
         "False",
         "True",
         "False",
         "False",
         "False",
         "True",
         "False",
         "False",
         "False",
         "False",
         "False",
         "False",
         "False",
         "True",
         "True",
         "False",
         "False",
         "False",
         "True",
         "False",
         "False",
         "True",
         "False",
         "False",
         "False",
         "False",
         "False",
         "True",
         "True",
         "False",
         "False",
         "False",
         "False",
         "False",
         "False",
         "False",
         "True",
         "False",
         "True",
         "False",
         "False",
         "False",
         "False",
         "False",
         "False",
         "False",
         "True",
         "False",
         "False",
         "False",
         "True",
         "False"
        ]
       ],
       "shape": {
        "columns": 233,
        "rows": 1
       }
      },
      "text/html": [
       "<div>\n",
       "<style scoped>\n",
       "    .dataframe tbody tr th:only-of-type {\n",
       "        vertical-align: middle;\n",
       "    }\n",
       "\n",
       "    .dataframe tbody tr th {\n",
       "        vertical-align: top;\n",
       "    }\n",
       "\n",
       "    .dataframe thead th {\n",
       "        text-align: right;\n",
       "    }\n",
       "</style>\n",
       "<table border=\"1\" class=\"dataframe\">\n",
       "  <thead>\n",
       "    <tr style=\"text-align: right;\">\n",
       "      <th></th>\n",
       "      <th>MSSubClass</th>\n",
       "      <th>LotArea</th>\n",
       "      <th>OverallQual</th>\n",
       "      <th>OverallCond</th>\n",
       "      <th>YearBuilt</th>\n",
       "      <th>YearRemodAdd</th>\n",
       "      <th>MasVnrArea</th>\n",
       "      <th>BsmtFinSF1</th>\n",
       "      <th>BsmtFinSF2</th>\n",
       "      <th>BsmtUnfSF</th>\n",
       "      <th>...</th>\n",
       "      <th>SaleType_ConLI</th>\n",
       "      <th>SaleType_ConLw</th>\n",
       "      <th>SaleType_New</th>\n",
       "      <th>SaleType_Oth</th>\n",
       "      <th>SaleType_WD</th>\n",
       "      <th>SaleCondition_AdjLand</th>\n",
       "      <th>SaleCondition_Alloca</th>\n",
       "      <th>SaleCondition_Family</th>\n",
       "      <th>SaleCondition_Normal</th>\n",
       "      <th>SaleCondition_Partial</th>\n",
       "    </tr>\n",
       "  </thead>\n",
       "  <tbody>\n",
       "    <tr>\n",
       "      <th>0</th>\n",
       "      <td>20</td>\n",
       "      <td>11622</td>\n",
       "      <td>5</td>\n",
       "      <td>6</td>\n",
       "      <td>1961</td>\n",
       "      <td>1961</td>\n",
       "      <td>0.0</td>\n",
       "      <td>468.0</td>\n",
       "      <td>144.0</td>\n",
       "      <td>270.0</td>\n",
       "      <td>...</td>\n",
       "      <td>False</td>\n",
       "      <td>False</td>\n",
       "      <td>False</td>\n",
       "      <td>False</td>\n",
       "      <td>True</td>\n",
       "      <td>False</td>\n",
       "      <td>False</td>\n",
       "      <td>False</td>\n",
       "      <td>True</td>\n",
       "      <td>False</td>\n",
       "    </tr>\n",
       "  </tbody>\n",
       "</table>\n",
       "<p>1 rows × 233 columns</p>\n",
       "</div>"
      ],
      "text/plain": [
       "   MSSubClass  LotArea  OverallQual  OverallCond  YearBuilt  YearRemodAdd  \\\n",
       "0          20    11622            5            6       1961          1961   \n",
       "\n",
       "   MasVnrArea  BsmtFinSF1  BsmtFinSF2  BsmtUnfSF  ...  SaleType_ConLI  \\\n",
       "0         0.0       468.0       144.0      270.0  ...           False   \n",
       "\n",
       "   SaleType_ConLw  SaleType_New  SaleType_Oth  SaleType_WD  \\\n",
       "0           False         False         False         True   \n",
       "\n",
       "   SaleCondition_AdjLand  SaleCondition_Alloca  SaleCondition_Family  \\\n",
       "0                  False                 False                 False   \n",
       "\n",
       "   SaleCondition_Normal  SaleCondition_Partial  \n",
       "0                  True                  False  \n",
       "\n",
       "[1 rows x 233 columns]"
      ]
     },
     "execution_count": 49,
     "metadata": {},
     "output_type": "execute_result"
    }
   ],
   "source": [
    "df_final = pd.concat([numerical_features,categorical_features], axis=1,sort=False)\n",
    "new_house = df_final[df_final['SalePrice'] ==0 ]\n",
    "new_house = new_house.drop(['SalePrice','train','Id'], axis=1).head(1)\n",
    "new_house\n"
   ]
  },
  {
   "cell_type": "code",
   "execution_count": 50,
   "metadata": {},
   "outputs": [
    {
     "name": "stdout",
     "output_type": "stream",
     "text": [
      "\n",
      " La valeur prévue pour la maison est: 103,675\n"
     ]
    }
   ],
   "source": [
    "new_house_norm= scaler.transform(new_house)\n",
    "\n",
    "prediction = m3_reglinlasso1000.predict(new_house_norm)\n",
    "features = new_house.columns\n",
    "print(\"\\n La valeur prévue pour la maison est: {:,}\".format(round(prediction[0])))"
   ]
  },
  {
   "cell_type": "code",
   "execution_count": 51,
   "metadata": {},
   "outputs": [
    {
     "data": {
      "text/plain": [
       "array([[20, 11622, 5, 6, 1961, 1961, 0.0, 468.0, 144.0, 270.0, 882.0,\n",
       "        896, 0, 0, 896, 0.0, 0.0, 1, 0, 2, 1, 5, 0, 1961.0, 1.0, 730.0,\n",
       "        140, 0, 0, 0, 120, 0, 0, 6, 2010, 49, 49, 2508.0, 896,\n",
       "        0.21579762519359835, 9, False, True, False, False, True, False,\n",
       "        False, True, False, False, True, False, False, False, False,\n",
       "        True, False, False, False, False, False, False, False, False,\n",
       "        False, False, False, False, False, True, False, False, False,\n",
       "        False, False, False, False, False, False, False, False, False,\n",
       "        True, False, False, False, False, False, False, False, False,\n",
       "        True, False, False, False, False, False, False, False, False,\n",
       "        False, False, True, False, False, False, False, False, True,\n",
       "        False, False, False, False, True, False, False, False, False,\n",
       "        False, False, False, False, False, False, False, False, False,\n",
       "        False, False, False, False, True, False, False, False, False,\n",
       "        False, False, False, False, False, False, False, False, False,\n",
       "        False, True, False, False, False, False, True, False, False,\n",
       "        False, True, True, False, False, False, False, False, False,\n",
       "        False, True, False, False, False, True, False, False, True,\n",
       "        False, False, False, False, False, True, False, False, False,\n",
       "        True, False, False, False, True, False, False, False, False,\n",
       "        False, False, False, True, True, False, False, False, True,\n",
       "        False, False, True, False, False, False, False, False, True,\n",
       "        True, False, False, False, False, False, False, False, True,\n",
       "        False, True, False, False, False, False, False, False, False,\n",
       "        True, False, False, False, True, False]], dtype=object)"
      ]
     },
     "execution_count": 51,
     "metadata": {},
     "output_type": "execute_result"
    }
   ],
   "source": [
    "np.array(new_house)"
   ]
  },
  {
   "cell_type": "markdown",
   "metadata": {},
   "source": [
    "# D'autres models"
   ]
  },
  {
   "cell_type": "code",
   "execution_count": 52,
   "metadata": {},
   "outputs": [
    {
     "name": "stdout",
     "output_type": "stream",
     "text": [
      "RMSE Decision Tree Default\n"
     ]
    },
    {
     "data": {
      "application/vnd.microsoft.datawrangler.viewer.v0+json": {
       "columns": [
        {
         "name": "index",
         "rawType": "int64",
         "type": "integer"
        },
        {
         "name": "Métrique",
         "rawType": "object",
         "type": "string"
        },
        {
         "name": "Résultats",
         "rawType": "float64",
         "type": "float"
        }
       ],
       "ref": "b369d27e-d6e4-4173-84bb-0efa4412b1cb",
       "rows": [
        [
         "0",
         "MAE",
         "24052.120203729097"
        ],
        [
         "1",
         "MSE",
         "1413409788.0690048"
        ],
        [
         "2",
         "RMSE",
         "37595.34263800511"
        ],
        [
         "3",
         "MAPE",
         "13.777959248352056"
        ]
       ],
       "shape": {
        "columns": 2,
        "rows": 4
       }
      },
      "text/html": [
       "<div>\n",
       "<style scoped>\n",
       "    .dataframe tbody tr th:only-of-type {\n",
       "        vertical-align: middle;\n",
       "    }\n",
       "\n",
       "    .dataframe tbody tr th {\n",
       "        vertical-align: top;\n",
       "    }\n",
       "\n",
       "    .dataframe thead th {\n",
       "        text-align: right;\n",
       "    }\n",
       "</style>\n",
       "<table border=\"1\" class=\"dataframe\">\n",
       "  <thead>\n",
       "    <tr style=\"text-align: right;\">\n",
       "      <th></th>\n",
       "      <th>Métrique</th>\n",
       "      <th>Résultats</th>\n",
       "    </tr>\n",
       "  </thead>\n",
       "  <tbody>\n",
       "    <tr>\n",
       "      <th>0</th>\n",
       "      <td>MAE</td>\n",
       "      <td>2.405212e+04</td>\n",
       "    </tr>\n",
       "    <tr>\n",
       "      <th>1</th>\n",
       "      <td>MSE</td>\n",
       "      <td>1.413410e+09</td>\n",
       "    </tr>\n",
       "    <tr>\n",
       "      <th>2</th>\n",
       "      <td>RMSE</td>\n",
       "      <td>3.759534e+04</td>\n",
       "    </tr>\n",
       "    <tr>\n",
       "      <th>3</th>\n",
       "      <td>MAPE</td>\n",
       "      <td>1.377796e+01</td>\n",
       "    </tr>\n",
       "  </tbody>\n",
       "</table>\n",
       "</div>"
      ],
      "text/plain": [
       "  Métrique     Résultats\n",
       "0      MAE  2.405212e+04\n",
       "1      MSE  1.413410e+09\n",
       "2     RMSE  3.759534e+04\n",
       "3     MAPE  1.377796e+01"
      ]
     },
     "execution_count": 52,
     "metadata": {},
     "output_type": "execute_result"
    }
   ],
   "source": [
    "from sklearn.tree import DecisionTreeRegressor\n",
    "modele_arbre=DecisionTreeRegressor(random_state = 42, max_depth = 5, min_samples_leaf = 30)\n",
    "modele_arbre.fit(X_train_norm, y_train)\n",
    "y_train_chap = modele_arbre.predict(X_train_norm)\n",
    "y_valid_chap = modele_arbre.predict(X_valid_norm)\n",
    "\n",
    "\n",
    "print(\"RMSE Decision Tree Default\")\n",
    "\n",
    "# metrique sur l'échantillon de train validation\n",
    "metrics_regression(y_valid, y_valid_chap)\n"
   ]
  },
  {
   "cell_type": "code",
   "execution_count": 53,
   "metadata": {},
   "outputs": [
    {
     "name": "stdout",
     "output_type": "stream",
     "text": [
      "RMSE Random Forest Default\n"
     ]
    },
    {
     "data": {
      "application/vnd.microsoft.datawrangler.viewer.v0+json": {
       "columns": [
        {
         "name": "index",
         "rawType": "int64",
         "type": "integer"
        },
        {
         "name": "Métrique",
         "rawType": "object",
         "type": "string"
        },
        {
         "name": "Résultats",
         "rawType": "float64",
         "type": "float"
        }
       ],
       "ref": "cbfb830f-d36a-430f-86a6-79b7fd7d538d",
       "rows": [
        [
         "0",
         "MAE",
         "16540.97104109589"
        ],
        [
         "1",
         "MSE",
         "740268412.1254146"
        ],
        [
         "2",
         "RMSE",
         "27207.874083165974"
        ],
        [
         "3",
         "MAPE",
         "9.512902050842793"
        ]
       ],
       "shape": {
        "columns": 2,
        "rows": 4
       }
      },
      "text/html": [
       "<div>\n",
       "<style scoped>\n",
       "    .dataframe tbody tr th:only-of-type {\n",
       "        vertical-align: middle;\n",
       "    }\n",
       "\n",
       "    .dataframe tbody tr th {\n",
       "        vertical-align: top;\n",
       "    }\n",
       "\n",
       "    .dataframe thead th {\n",
       "        text-align: right;\n",
       "    }\n",
       "</style>\n",
       "<table border=\"1\" class=\"dataframe\">\n",
       "  <thead>\n",
       "    <tr style=\"text-align: right;\">\n",
       "      <th></th>\n",
       "      <th>Métrique</th>\n",
       "      <th>Résultats</th>\n",
       "    </tr>\n",
       "  </thead>\n",
       "  <tbody>\n",
       "    <tr>\n",
       "      <th>0</th>\n",
       "      <td>MAE</td>\n",
       "      <td>1.654097e+04</td>\n",
       "    </tr>\n",
       "    <tr>\n",
       "      <th>1</th>\n",
       "      <td>MSE</td>\n",
       "      <td>7.402684e+08</td>\n",
       "    </tr>\n",
       "    <tr>\n",
       "      <th>2</th>\n",
       "      <td>RMSE</td>\n",
       "      <td>2.720787e+04</td>\n",
       "    </tr>\n",
       "    <tr>\n",
       "      <th>3</th>\n",
       "      <td>MAPE</td>\n",
       "      <td>9.512902e+00</td>\n",
       "    </tr>\n",
       "  </tbody>\n",
       "</table>\n",
       "</div>"
      ],
      "text/plain": [
       "  Métrique     Résultats\n",
       "0      MAE  1.654097e+04\n",
       "1      MSE  7.402684e+08\n",
       "2     RMSE  2.720787e+04\n",
       "3     MAPE  9.512902e+00"
      ]
     },
     "execution_count": 53,
     "metadata": {},
     "output_type": "execute_result"
    }
   ],
   "source": [
    "from sklearn.ensemble import RandomForestRegressor\n",
    "\n",
    "modele_random_forest=RandomForestRegressor(random_state = 42)\n",
    "modele_random_forest.fit(X_train_norm, y_train)\n",
    "y_train_chap = modele_random_forest.predict(X_train_norm)\n",
    "y_valid_chap = modele_random_forest.predict(X_valid_norm)\n",
    "\n",
    "\n",
    "print(\"RMSE Random Forest Default\")\n",
    "\n",
    "# metrique sur l'échantillon de train validation\n",
    "metrics_regression(y_valid, y_valid_chap)\n"
   ]
  },
  {
   "cell_type": "code",
   "execution_count": 55,
   "metadata": {},
   "outputs": [
    {
     "name": "stdout",
     "output_type": "stream",
     "text": [
      "RMSE Gradient Boosting Default\n"
     ]
    },
    {
     "data": {
      "application/vnd.microsoft.datawrangler.viewer.v0+json": {
       "columns": [
        {
         "name": "index",
         "rawType": "int64",
         "type": "integer"
        },
        {
         "name": "Métrique",
         "rawType": "object",
         "type": "string"
        },
        {
         "name": "Résultats",
         "rawType": "float64",
         "type": "float"
        }
       ],
       "ref": "1e813a40-0ebc-4857-8c36-ca5d02417661",
       "rows": [
        [
         "0",
         "MAE",
         "15488.649780362995"
        ],
        [
         "1",
         "MSE",
         "602102324.7441481"
        ],
        [
         "2",
         "RMSE",
         "24537.77342678321"
        ],
        [
         "3",
         "MAPE",
         "8.669970973691573"
        ]
       ],
       "shape": {
        "columns": 2,
        "rows": 4
       }
      },
      "text/html": [
       "<div>\n",
       "<style scoped>\n",
       "    .dataframe tbody tr th:only-of-type {\n",
       "        vertical-align: middle;\n",
       "    }\n",
       "\n",
       "    .dataframe tbody tr th {\n",
       "        vertical-align: top;\n",
       "    }\n",
       "\n",
       "    .dataframe thead th {\n",
       "        text-align: right;\n",
       "    }\n",
       "</style>\n",
       "<table border=\"1\" class=\"dataframe\">\n",
       "  <thead>\n",
       "    <tr style=\"text-align: right;\">\n",
       "      <th></th>\n",
       "      <th>Métrique</th>\n",
       "      <th>Résultats</th>\n",
       "    </tr>\n",
       "  </thead>\n",
       "  <tbody>\n",
       "    <tr>\n",
       "      <th>0</th>\n",
       "      <td>MAE</td>\n",
       "      <td>1.548865e+04</td>\n",
       "    </tr>\n",
       "    <tr>\n",
       "      <th>1</th>\n",
       "      <td>MSE</td>\n",
       "      <td>6.021023e+08</td>\n",
       "    </tr>\n",
       "    <tr>\n",
       "      <th>2</th>\n",
       "      <td>RMSE</td>\n",
       "      <td>2.453777e+04</td>\n",
       "    </tr>\n",
       "    <tr>\n",
       "      <th>3</th>\n",
       "      <td>MAPE</td>\n",
       "      <td>8.669971e+00</td>\n",
       "    </tr>\n",
       "  </tbody>\n",
       "</table>\n",
       "</div>"
      ],
      "text/plain": [
       "  Métrique     Résultats\n",
       "0      MAE  1.548865e+04\n",
       "1      MSE  6.021023e+08\n",
       "2     RMSE  2.453777e+04\n",
       "3     MAPE  8.669971e+00"
      ]
     },
     "execution_count": 55,
     "metadata": {},
     "output_type": "execute_result"
    }
   ],
   "source": [
    "from sklearn.ensemble import GradientBoostingRegressor\n",
    "\n",
    "modele_gradient_boosting = GradientBoostingRegressor(random_state = 42)\n",
    "modele_gradient_boosting.fit(X_train_norm, y_train)\n",
    "y_train_chap = modele_gradient_boosting.predict(X_train_norm)\n",
    "y_valid_chap = modele_gradient_boosting.predict(X_valid_norm)\n",
    "\n",
    "\n",
    "print(\"RMSE Gradient Boosting Default\")\n",
    "\n",
    "# metrique sur l'échantillon de train validation\n",
    "metrics_regression(y_valid, y_valid_chap)"
   ]
  }
 ],
 "metadata": {
  "kernelspec": {
   "display_name": ".venv",
   "language": "python",
   "name": "python3"
  },
  "language_info": {
   "codemirror_mode": {
    "name": "ipython",
    "version": 3
   },
   "file_extension": ".py",
   "mimetype": "text/x-python",
   "name": "python",
   "nbconvert_exporter": "python",
   "pygments_lexer": "ipython3",
   "version": "3.11.9"
  },
  "name": "Python_Regression_exemple",
  "notebookId": 1320569712343397
 },
 "nbformat": 4,
 "nbformat_minor": 1
}
