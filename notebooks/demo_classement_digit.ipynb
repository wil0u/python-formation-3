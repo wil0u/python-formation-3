{
 "cells": [
  {
   "cell_type": "markdown",
   "metadata": {},
   "source": [
    "# Classification d'images manuscrit de chiffres"
   ]
  },
  {
   "cell_type": "code",
   "execution_count": 1,
   "metadata": {},
   "outputs": [
    {
     "name": "stderr",
     "output_type": "stream",
     "text": [
      "Using TensorFlow backend.\n"
     ]
    }
   ],
   "source": [
    "#Import libraries et modules\n",
    "import numpy as np\n",
    "np.random.seed(123)  # pour la reproductibilité\n",
    "import pandas as pd\n",
    "import keras\n",
    "from keras.models import Sequential\n",
    "from keras.layers import Dense, Dropout, Activation, Flatten\n",
    "from keras.layers import Convolution2D,Conv2D, MaxPooling2D\n",
    "from keras.utils import np_utils\n",
    "from keras.datasets import mnist \n",
    "import matplotlib.pyplot as plt"
   ]
  },
  {
   "cell_type": "markdown",
   "metadata": {},
   "source": [
    "## On charge des données images = 70k images NB correspondant à des digits"
   ]
  },
  {
   "cell_type": "code",
   "execution_count": 2,
   "metadata": {},
   "outputs": [
    {
     "name": "stdout",
     "output_type": "stream",
     "text": [
      "Downloading data from https://s3.amazonaws.com/img-datasets/mnist.npz\n",
      "11493376/11490434 [==============================] - 1s 0us/step\n",
      "(60000, 28, 28)\n",
      "(10000, 28, 28)\n"
     ]
    }
   ],
   "source": [
    "#chargement des données mnist dans un train et test set\n",
    "(X_train, y_train), (X_test, y_test) = mnist.load_data()\n",
    "#Downloading data from https://s3.amazonaws.com/img-datasets/mnist.pkl.gz\n",
    "\n",
    "print (X_train.shape)\n",
    "print (X_test.shape)\n",
    "#echantillons train de 60000 images de taille 28*28\n",
    "#echantillons train de 10000 images de taille 28*28\n"
   ]
  },
  {
   "cell_type": "code",
   "execution_count": 3,
   "metadata": {},
   "outputs": [
    {
     "data": {
      "text/plain": [
       "<matplotlib.image.AxesImage at 0x7f7e39267bd0>"
      ]
     },
     "execution_count": 3,
     "metadata": {},
     "output_type": "execute_result"
    },
    {
     "data": {
      "image/png": "[encoded data removed]",
      "text/plain": [
       "<Figure size 432x288 with 1 Axes>"
      ]
     },
     "metadata": {
      "needs_background": "light"
     },
     "output_type": "display_data"
    }
   ],
   "source": [
    "%matplotlib inline\n",
    "\n",
    "plt.imshow(X_train[2220])"
   ]
  },
  {
   "cell_type": "code",
   "execution_count": 4,
   "metadata": {},
   "outputs": [
    {
     "data": {
      "text/plain": [
       "<matplotlib.image.AxesImage at 0x7f7e39199f90>"
      ]
     },
     "execution_count": 4,
     "metadata": {},
     "output_type": "execute_result"
    },
    {
     "data": {
      "image/png": "[encoded data removed]",
      "text/plain": [
       "<Figure size 432x288 with 1 Axes>"
      ]
     },
     "metadata": {
      "needs_background": "light"
     },
     "output_type": "display_data"
    }
   ],
   "source": [
    "plt.imshow(X_train[59999])\n"
   ]
  },
  {
   "cell_type": "code",
   "execution_count": 5,
   "metadata": {},
   "outputs": [
    {
     "data": {
      "text/plain": [
       "<matplotlib.image.AxesImage at 0x7f7e39117190>"
      ]
     },
     "execution_count": 5,
     "metadata": {},
     "output_type": "execute_result"
    },
    {
     "data": {
      "image/png": "[encoded data removed]",
      "text/plain": [
       "<Figure size 432x288 with 1 Axes>"
      ]
     },
     "metadata": {
      "needs_background": "light"
     },
     "output_type": "display_data"
    }
   ],
   "source": [
    "plt.imshow(X_train[0])"
   ]
  },
  {
   "cell_type": "markdown",
   "metadata": {},
   "source": [
    "## pré-traitement des données : reshape et normalisation\n",
    "\n",
    "Notre jeu de données MNIST a une profondeur de 1 et de taille 28 x 28 pixels\n",
    "une image vaut entre 0 et 255 sur chaque pixel\n",
    "Le but est de transformer notre jeu de données afin de lui ajouter une profondeur (profondeur*longueur*largeur)"
   ]
  },
  {
   "cell_type": "code",
   "execution_count": 6,
   "metadata": {},
   "outputs": [],
   "source": [
    "# input image dimensions\n",
    "img_rows, img_cols = 28, 28\n",
    "\n",
    "\n",
    "X_train = X_train.reshape(X_train.shape[0], img_rows, img_cols, 1)\n",
    "X_test = X_test.reshape(X_test.shape[0], img_rows, img_cols, 1)\n",
    "input_shape = (img_rows, img_cols, 1)\n",
    "X_train = X_train.astype('float32')\n",
    "X_test = X_test.astype('float32')\n",
    "#Niveaux de gris des pixels vont de 0 à 255\n",
    "#Normalisation pour avoir des valeurs entre 0 et 1 car une image prend des valeurs entre 0 et 255\n",
    "X_train /= 255\n",
    "X_test /= 255\n"
   ]
  },
  {
   "cell_type": "code",
   "execution_count": 7,
   "metadata": {},
   "outputs": [
    {
     "name": "stdout",
     "output_type": "stream",
     "text": [
      "x_train shape: (60000, 28, 28, 1)\n",
      "60000 train samples\n",
      "10000 test samples\n"
     ]
    }
   ],
   "source": [
    "print('x_train shape:', X_train.shape)\n",
    "print(X_train.shape[0], 'train samples')\n",
    "print(X_test.shape[0], 'test samples')"
   ]
  },
  {
   "cell_type": "markdown",
   "metadata": {},
   "source": [
    "## Pré traitement des labels \n",
    "On veut transformer nos labels en 10 classes. On veut que chaque classe soit codée sur un vecteur binaire de taille 10\n",
    "Par exemple, le label du chiffre 1 sera codé de cette manière [0 1 0 0 0 0 0 0 0 0]\n",
    "le chiffre 2 de cette manière [0 0 1 0 0 0 0 0 0 0] etc.."
   ]
  },
  {
   "cell_type": "code",
   "execution_count": 8,
   "metadata": {},
   "outputs": [],
   "source": [
    "# convert class vectors to binary class matrices\n",
    "\n",
    "num_classes = 10\n",
    "y_train = keras.utils.to_categorical(y_train, num_classes)\n",
    "y_test = keras.utils.to_categorical(y_test, num_classes)"
   ]
  },
  {
   "cell_type": "code",
   "execution_count": 9,
   "metadata": {},
   "outputs": [
    {
     "name": "stdout",
     "output_type": "stream",
     "text": [
      "(60000, 10)\n"
     ]
    }
   ],
   "source": [
    "print (y_train.shape)"
   ]
  },
  {
   "cell_type": "markdown",
   "metadata": {},
   "source": [
    "\n",
    "##  Architecture de réseau profond de type CNN\n",
    " Entrée : 1 image \n",
    " Couche 1 : 32 filtres => 32 images filtrées (feature map)\n",
    " Couche 2 : 32 filtres => 32 images filtrées (feature map)\n",
    " Couche 3 : pooling des 32 filtres  => 32 images filtrées (feature map) réduites\n",
    "Couche 4 : flatten, chaque image est transformée en un vecteur 32 x taille image\n",
    " Couche 5 : fully connected de 128 neurones\n",
    "Couche 6 : fully connected de 10 neurones\n",
    "\n"
   ]
  },
  {
   "cell_type": "markdown",
   "metadata": {},
   "source": [
    "## principe de la convolution\n",
    "chaque filter est différent et porte une info de type nuance, courbe, droite...\n",
    "chaque filtre convolve autour de l'image input et lorsque il y a correspondance entre une portion de l'image\n",
    "et le filtre alors il produit une valeur forte\n",
    "chaque filtre revele ainsi des détails précis de l'image initial\n",
    "chaque filtre revele des détails différents => se spécialise\n",
    "pendant lapprentissage chaque filtre est appris indépendanmment\n",
    "à la fin de la convolution, on peut ainsi avoir des filtres spécifiques à certains patterns de certains images\n",
    "ils vont donc ensuite etre retenus comme des features importants pour tel type dimage\n",
    "\n",
    "différence entre les filtres bas et filtre haut\n",
    "les filtres bas détectent des low level features such as edges and curves.\n",
    "mais pour prédire un objet, on doit détecter à un plus haut niveau les features comme une main, une oreille..\n",
    "en sortie du premier conv, on voit localisés certains  low level features \n"
   ]
  },
  {
   "cell_type": "markdown",
   "metadata": {},
   "source": [
    "## On définit l'architecture du modèle\n",
    "modele initialisé à vide"
   ]
  },
  {
   "cell_type": "code",
   "execution_count": 10,
   "metadata": {},
   "outputs": [],
   "source": [
    "model = Sequential()"
   ]
  },
  {
   "cell_type": "markdown",
   "metadata": {},
   "source": [
    "## ajout de traitement à notre séquence\n",
    "Les 3 premiers arguments de la fonction Convolution2D correspondent au nombre de filtres utilisés sur chaque image\n",
    "soit 32 et la taille du filtre soit 3*3\n",
    "relu est la fonction d'activation appliquée à chaque filtre obtenu, d'autre fonction existe comme tanh ou sigmoid\n",
    "En pratique relu présente les meilleurs perf.\n",
    "Option border_mode à same pour du padding \n",
    "\n",
    "le premier param 32 est le nb de filtres, en sortie il y aura donc 32 features map de chaque image\n",
    "input shape : image en NB ce que voit l'ordinateur est une matrice de 28 x 28 avec des chiffres"
   ]
  },
  {
   "cell_type": "code",
   "execution_count": 11,
   "metadata": {},
   "outputs": [],
   "source": [
    "input_shape = (img_rows, img_cols, 1)\n",
    "model.add(Conv2D(32, kernel_size=(3, 3),activation='relu',input_shape=input_shape))\n",
    "# en sortie On a donc 32 représentations de l'image selon 32 filtres entrainés par le modele\n",
    "\n",
    "\n",
    "model.add(Conv2D(64, (3, 3), activation='relu'))\n",
    "# en sortie On a donc 64 représentations de l'image selon 64 filtres entrainés par le modele\n",
    "\n",
    "#MaxPooling va segmenter les features map obtenu à l'étape précédente en bloc de 2*2 puis selectionner la valeur max \n",
    "#de chaque bloc\n",
    "# en sortie ici on a une image deux fois moins grande\n",
    "#le pooling permet de compresser limage en faisant ressortir que ce qui est important\n",
    "model.add(MaxPooling2D(pool_size=(2,2)))\n",
    "#le dropout annule certains coefficient il permet en général d'éviter de sur-apprendre\n",
    "model.add(Dropout(0.25))\n",
    "model.add(Flatten())\n",
    "# le flatten consiste à créer une matrice contenant tous les features\n",
    "# on voit qu'il y a 4608 parametres  car il y a 32 features map filtrées en entrée (32 représentations de l'image de 12 x 12)\n",
    "# 32 x 12 x 12 = 4608\n",
    "model.add(Dense(128, activation='relu'))\n",
    "# nb de param = 128 biais + 128 x 4608 = 589952\n",
    "# on ajoute une couche caché de fcc qui va etre reliee au flatten\n",
    "model.add(Dropout(0.5))\n",
    "model.add(Dense(num_classes, activation='softmax'))\n",
    "# on ajoute une couche qui relie la couche de 128 à une couche de 10 correspondant au nb de sorties\n",
    "# cette couche prend en input et produit un vecteur à N dimensions,  N nb de classes à prédire\n",
    "# chaque nb dans ce vecteur représente la proba de chaque classe"
   ]
  },
  {
   "cell_type": "code",
   "execution_count": 12,
   "metadata": {},
   "outputs": [
    {
     "name": "stdout",
     "output_type": "stream",
     "text": [
      "Model: \"sequential_1\"\n",
      "_________________________________________________________________\n",
      "Layer (type)                 Output Shape              Param #   \n",
      "=================================================================\n",
      "conv2d_1 (Conv2D)            (None, 26, 26, 32)        320       \n",
      "_________________________________________________________________\n",
      "conv2d_2 (Conv2D)            (None, 24, 24, 64)        18496     \n",
      "_________________________________________________________________\n",
      "max_pooling2d_1 (MaxPooling2 (None, 12, 12, 64)        0         \n",
      "_________________________________________________________________\n",
      "dropout_1 (Dropout)          (None, 12, 12, 64)        0         \n",
      "_________________________________________________________________\n",
      "flatten_1 (Flatten)          (None, 9216)              0         \n",
      "_________________________________________________________________\n",
      "dense_1 (Dense)              (None, 128)               1179776   \n",
      "_________________________________________________________________\n",
      "dropout_2 (Dropout)          (None, 128)               0         \n",
      "_________________________________________________________________\n",
      "dense_2 (Dense)              (None, 10)                1290      \n",
      "=================================================================\n",
      "Total params: 1,199,882\n",
      "Trainable params: 1,199,882\n",
      "Non-trainable params: 0\n",
      "_________________________________________________________________\n"
     ]
    }
   ],
   "source": [
    "model.summary()"
   ]
  },
  {
   "cell_type": "code",
   "execution_count": 13,
   "metadata": {},
   "outputs": [
    {
     "data": {
      "text/plain": [
       "(None, 26, 26, 32)"
      ]
     },
     "execution_count": 13,
     "metadata": {},
     "output_type": "execute_result"
    }
   ],
   "source": [
    "list_of_layers = model.layers\n",
    "#print(list_of_layers[5]) # donne la 6e couche\n",
    "list_of_layers[0].output_shape"
   ]
  },
  {
   "cell_type": "code",
   "execution_count": 14,
   "metadata": {},
   "outputs": [
    {
     "name": "stdout",
     "output_type": "stream",
     "text": [
      "<keras.layers.core.Flatten object at 0x7f7e3c0cb950>\n"
     ]
    }
   ],
   "source": [
    "# couche flatten\n",
    "print(list_of_layers[4])"
   ]
  },
  {
   "cell_type": "markdown",
   "metadata": {},
   "source": [
    "## Il y a 1 199 k paramètres\n",
    "\n",
    "\n",
    "* pour une couche  convnets  le nb de parametres = output_channels * (input_channels * window_size + 1) == number_parameters dans le premier, inputchanel = 1 car une image, output channel = 32, window size=3x3=9\n",
    "* le flatten cree pour chaque image un vecteur de features, sa taille est 9216 soit le nb de pixel (12x12) x nb de filtres (64)\n",
    "* pour une couche dense, le nb de parametres = output_size * (input_size + 1)\n",
    "* première couche dense connecte donc les 9216 au 128 ce qui fait 1 179 648 + 128 =1 179 776\n",
    "* dernière couche connecte les 128 neurones aux 10 = 128 x 10 + 10 = 1290"
   ]
  },
  {
   "cell_type": "markdown",
   "metadata": {},
   "source": [
    "## Paramètres pour l'optimisation du réseau profond"
   ]
  },
  {
   "cell_type": "code",
   "execution_count": 15,
   "metadata": {},
   "outputs": [],
   "source": [
    "model.compile(loss='categorical_crossentropy',optimizer=keras.optimizers.Adadelta(),metrics=['accuracy'])"
   ]
  },
  {
   "cell_type": "markdown",
   "metadata": {},
   "source": [
    "## entrainement du modele\n",
    "* batch size = 64 correspond la taille des lots de records qu'on utilise à chaque update du gradient (itération)\n",
    "* epoch est le nombre de fois où l'algorithme voit tous les individus"
   ]
  },
  {
   "cell_type": "code",
   "execution_count": 16,
   "metadata": {},
   "outputs": [
    {
     "name": "stdout",
     "output_type": "stream",
     "text": [
      "Epoch 1/5\n",
      "60000/60000 [==============================] - 83s 1ms/step - loss: 0.2104 - accuracy: 0.9346\n",
      "Epoch 2/5\n",
      "60000/60000 [==============================] - 83s 1ms/step - loss: 0.0784 - accuracy: 0.9769\n",
      "Epoch 3/5\n",
      "60000/60000 [==============================] - 80s 1ms/step - loss: 0.0609 - accuracy: 0.9822\n",
      "Epoch 4/5\n",
      "60000/60000 [==============================] - 80s 1ms/step - loss: 0.0513 - accuracy: 0.9848\n",
      "Epoch 5/5\n",
      "60000/60000 [==============================] - 78s 1ms/step - loss: 0.0436 - accuracy: 0.9874\n"
     ]
    },
    {
     "data": {
      "text/plain": [
       "<keras.callbacks.callbacks.History at 0x7f7e3b379b90>"
      ]
     },
     "execution_count": 16,
     "metadata": {},
     "output_type": "execute_result"
    }
   ],
   "source": [
    "batch_size=64\n",
    "epochs = 5\n",
    "\n",
    "model.fit(X_train, y_train, batch_size=batch_size, epochs=epochs, verbose=1)"
   ]
  },
  {
   "cell_type": "code",
   "execution_count": 17,
   "metadata": {},
   "outputs": [
    {
     "name": "stdout",
     "output_type": "stream",
     "text": [
      "Epoch 1/1\n",
      "60000/60000 [==============================] - 79s 1ms/step - loss: 0.0417 - accuracy: 0.9874\n"
     ]
    },
    {
     "data": {
      "text/plain": [
       "<keras.callbacks.callbacks.History at 0x7f7e39148e10>"
      ]
     },
     "execution_count": 17,
     "metadata": {},
     "output_type": "execute_result"
    }
   ],
   "source": [
    "batch_size=64\n",
    "epochs = 1\n",
    "\n",
    "model.fit(X_train, y_train, batch_size=batch_size, epochs=epochs, verbose=1)"
   ]
  },
  {
   "attachments": {
    "image.png": {
     "image/png": "[encoded data removed]"
    }
   },
   "cell_type": "markdown",
   "metadata": {},
   "source": [
    "#  Occupation de la VM pendant l'apprentissage\n",
    "![image.png](attachment:image.png)"
   ]
  },
  {
   "cell_type": "markdown",
   "metadata": {},
   "source": [
    "## Métrique accuracy sur l'échantillon test = taux de bien classés"
   ]
  },
  {
   "cell_type": "code",
   "execution_count": 19,
   "metadata": {},
   "outputs": [
    {
     "name": "stdout",
     "output_type": "stream",
     "text": [
      "Test loss: 0.03261256824613738\n",
      "Test accuracy: 0.9902999997138977\n"
     ]
    }
   ],
   "source": [
    "# Loss et bien classés sur l'échantillon test avec 5 epoch\n",
    "score = model.evaluate(X_test, y_test, verbose=0)\n",
    "print('Test loss:', score[0])\n",
    "print('Test accuracy:', score[1])"
   ]
  },
  {
   "cell_type": "code",
   "execution_count": 29,
   "metadata": {},
   "outputs": [
    {
     "data": {
      "text/plain": [
       "(10000,)"
      ]
     },
     "execution_count": 29,
     "metadata": {},
     "output_type": "execute_result"
    }
   ],
   "source": [
    "Y_pred = model.predict(X_test)\n",
    "# Convert one-hot to index\n",
    "Y_pred = np.argmax(Y_pred, axis=1)\n",
    "Y_pred.shape"
   ]
  },
  {
   "cell_type": "code",
   "execution_count": 36,
   "metadata": {},
   "outputs": [
    {
     "data": {
      "text/plain": [
       "{0, 1, 2, 3, 4, 5, 6, 7, 8, 9}"
      ]
     },
     "execution_count": 36,
     "metadata": {},
     "output_type": "execute_result"
    }
   ],
   "source": [
    "set(Y_pred)"
   ]
  },
  {
   "cell_type": "code",
   "execution_count": 32,
   "metadata": {},
   "outputs": [],
   "source": [
    "y_test_onevalue = np.argmax(y_test, axis=1)"
   ]
  },
  {
   "cell_type": "code",
   "execution_count": 33,
   "metadata": {},
   "outputs": [
    {
     "name": "stdout",
     "output_type": "stream",
     "text": [
      "              precision    recall  f1-score   support\n",
      "\n",
      "           0       0.98      1.00      0.99       980\n",
      "           1       1.00      1.00      1.00      1135\n",
      "           2       0.99      0.99      0.99      1032\n",
      "           3       0.99      0.99      0.99      1010\n",
      "           4       0.99      0.99      0.99       982\n",
      "           5       1.00      0.98      0.99       892\n",
      "           6       1.00      0.98      0.99       958\n",
      "           7       0.99      0.99      0.99      1028\n",
      "           8       0.99      0.99      0.99       974\n",
      "           9       0.99      0.98      0.98      1009\n",
      "\n",
      "    accuracy                           0.99     10000\n",
      "   macro avg       0.99      0.99      0.99     10000\n",
      "weighted avg       0.99      0.99      0.99     10000\n",
      "\n"
     ]
    }
   ],
   "source": [
    "from sklearn.metrics import classification_report\n",
    "print(classification_report(y_test_onevalue, Y_pred))"
   ]
  },
  {
   "cell_type": "markdown",
   "metadata": {},
   "source": [
    "## SAUVEGARDE DU MODELE"
   ]
  },
  {
   "cell_type": "code",
   "execution_count": 43,
   "metadata": {},
   "outputs": [],
   "source": [
    "from keras.models import load_model\n",
    "\n",
    "model.save('my_model.h5')  # creates a HDF5 file 'my_model.h5'\n",
    "del model  # deletes the existing model\n",
    "\n",
    "# returns a compiled model\n",
    "# identical to the previous one\n",
    "model = load_model('my_model.h5')"
   ]
  }
 ],
 "metadata": {
  "environment": {
   "name": "tf2-gpu.2-1.m46",
   "type": "gcloud",
   "uri": "gcr.io/deeplearning-platform-release/tf2-gpu.2-1:m46"
  },
  "kernelspec": {
   "display_name": "Python 3",
   "language": "python",
   "name": "python3"
  },
  "language_info": {
   "codemirror_mode": {
    "name": "ipython",
    "version": 3
   },
   "file_extension": ".py",
   "mimetype": "text/x-python",
   "name": "python",
   "nbconvert_exporter": "python",
   "pygments_lexer": "ipython3",
   "version": "3.7.6"
  }
 },
 "nbformat": 4,
 "nbformat_minor": 4
}
