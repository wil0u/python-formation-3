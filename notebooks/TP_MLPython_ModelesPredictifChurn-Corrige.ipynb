{
 "cells": [
  {
   "cell_type": "markdown",
   "metadata": {},
   "source": [
    "# TP MODELISATION DU CHURN"
   ]
  },
  {
   "cell_type": "markdown",
   "metadata": {},
   "source": [
    "# Sommaire\n",
    "\n",
    "1. [Import de la table préparée et Séparation Train / Test](#sect1)\n",
    "2. [Standardisation des variables](#sect2)\n",
    "3. [Modélisation](#sectmodel)\n",
    "  - [Régression pénalisée](#sect41)\n",
    "  - [Régression pénalisée (Elastic Net)](#sect42)\n",
    "  - [Random Forest](#sect43)\n",
    "  - [GBM (Gradient Boosting Machine)](#sect44)"
   ]
  },
  {
   "cell_type": "code",
   "execution_count": 1,
   "metadata": {},
   "outputs": [],
   "source": [
    "import pandas as pd\n",
    "import os\n",
    "import numpy as np\n",
    "import pickle\n",
    "from sklearn.ensemble import RandomForestClassifier\n",
    "\n",
    "from sklearn.metrics import roc_auc_score\n",
    "from sklearn.model_selection import GridSearchCV\n",
    "from sklearn.linear_model import LogisticRegression\n",
    "\n",
    "from sklearn.metrics import classification_report,confusion_matrix,accuracy_score,f1_score,roc_auc_score,roc_curve,auc\n",
    "\n",
    "import matplotlib.pyplot as plt"
   ]
  },
  {
   "cell_type": "markdown",
   "metadata": {},
   "source": [
    "# 1 Chargement des données préparées <a name=\"sect1\" ></a>"
   ]
  },
  {
   "cell_type": "code",
   "execution_count": 2,
   "metadata": {},
   "outputs": [],
   "source": [
    "repertoire = \"/home/jupyter/python_ml/data\"\n",
    "os.chdir(repertoire)\n",
    "file=open(\"churn_prepared.pydata\",\"rb\")\n",
    "data=pickle.load(file)\n",
    "file.close()"
   ]
  },
  {
   "cell_type": "code",
   "execution_count": 3,
   "metadata": {},
   "outputs": [
    {
     "data": {
      "text/plain": [
       "(3333, 21)"
      ]
     },
     "execution_count": 3,
     "metadata": {},
     "output_type": "execute_result"
    }
   ],
   "source": [
    "data.shape"
   ]
  },
  {
   "cell_type": "code",
   "execution_count": 4,
   "metadata": {},
   "outputs": [
    {
     "data": {
      "text/html": [
       "<div>\n",
       "<style scoped>\n",
       "    .dataframe tbody tr th:only-of-type {\n",
       "        vertical-align: middle;\n",
       "    }\n",
       "\n",
       "    .dataframe tbody tr th {\n",
       "        vertical-align: top;\n",
       "    }\n",
       "\n",
       "    .dataframe thead th {\n",
       "        text-align: right;\n",
       "    }\n",
       "</style>\n",
       "<table border=\"1\" class=\"dataframe\">\n",
       "  <thead>\n",
       "    <tr style=\"text-align: right;\">\n",
       "      <th></th>\n",
       "      <th>churnMoy_state</th>\n",
       "      <th>Account Length</th>\n",
       "      <th>VMail Message</th>\n",
       "      <th>Day Mins</th>\n",
       "      <th>Day Calls</th>\n",
       "      <th>Day Charge</th>\n",
       "      <th>Eve Mins</th>\n",
       "      <th>Eve Calls</th>\n",
       "      <th>Eve Charge</th>\n",
       "      <th>Night Mins</th>\n",
       "      <th>Night Calls</th>\n",
       "      <th>Night Charge</th>\n",
       "      <th>Intl Mins</th>\n",
       "      <th>Intl Calls</th>\n",
       "      <th>Intl Charge</th>\n",
       "      <th>CustServ Calls</th>\n",
       "      <th>Area Code_415</th>\n",
       "      <th>Area Code_510</th>\n",
       "    </tr>\n",
       "  </thead>\n",
       "  <tbody>\n",
       "    <tr>\n",
       "      <th>count</th>\n",
       "      <td>3333.000000</td>\n",
       "      <td>3333.000000</td>\n",
       "      <td>3333.000000</td>\n",
       "      <td>3333.000000</td>\n",
       "      <td>3333.000000</td>\n",
       "      <td>3333.000000</td>\n",
       "      <td>3333.000000</td>\n",
       "      <td>3333.000000</td>\n",
       "      <td>3333.000000</td>\n",
       "      <td>3333.000000</td>\n",
       "      <td>3333.000000</td>\n",
       "      <td>3333.000000</td>\n",
       "      <td>3333.000000</td>\n",
       "      <td>3333.000000</td>\n",
       "      <td>3333.000000</td>\n",
       "      <td>3333.000000</td>\n",
       "      <td>3333.000000</td>\n",
       "      <td>3333.000000</td>\n",
       "    </tr>\n",
       "    <tr>\n",
       "      <th>mean</th>\n",
       "      <td>0.145772</td>\n",
       "      <td>101.064806</td>\n",
       "      <td>8.099010</td>\n",
       "      <td>179.775098</td>\n",
       "      <td>100.435644</td>\n",
       "      <td>30.562307</td>\n",
       "      <td>200.980348</td>\n",
       "      <td>100.114311</td>\n",
       "      <td>17.083540</td>\n",
       "      <td>200.872037</td>\n",
       "      <td>100.107711</td>\n",
       "      <td>9.039325</td>\n",
       "      <td>10.237294</td>\n",
       "      <td>4.479448</td>\n",
       "      <td>2.764581</td>\n",
       "      <td>1.562856</td>\n",
       "      <td>0.496550</td>\n",
       "      <td>0.252025</td>\n",
       "    </tr>\n",
       "    <tr>\n",
       "      <th>std</th>\n",
       "      <td>0.061771</td>\n",
       "      <td>39.822106</td>\n",
       "      <td>13.688365</td>\n",
       "      <td>54.467389</td>\n",
       "      <td>20.069084</td>\n",
       "      <td>9.259435</td>\n",
       "      <td>50.713844</td>\n",
       "      <td>19.922625</td>\n",
       "      <td>4.310668</td>\n",
       "      <td>50.573847</td>\n",
       "      <td>19.568609</td>\n",
       "      <td>2.275873</td>\n",
       "      <td>2.791840</td>\n",
       "      <td>2.461214</td>\n",
       "      <td>0.753773</td>\n",
       "      <td>1.315491</td>\n",
       "      <td>0.500063</td>\n",
       "      <td>0.434241</td>\n",
       "    </tr>\n",
       "    <tr>\n",
       "      <th>min</th>\n",
       "      <td>0.035714</td>\n",
       "      <td>1.000000</td>\n",
       "      <td>0.000000</td>\n",
       "      <td>0.000000</td>\n",
       "      <td>0.000000</td>\n",
       "      <td>0.000000</td>\n",
       "      <td>0.000000</td>\n",
       "      <td>0.000000</td>\n",
       "      <td>0.000000</td>\n",
       "      <td>23.200000</td>\n",
       "      <td>33.000000</td>\n",
       "      <td>1.040000</td>\n",
       "      <td>0.000000</td>\n",
       "      <td>0.000000</td>\n",
       "      <td>0.000000</td>\n",
       "      <td>0.000000</td>\n",
       "      <td>0.000000</td>\n",
       "      <td>0.000000</td>\n",
       "    </tr>\n",
       "    <tr>\n",
       "      <th>25%</th>\n",
       "      <td>0.095238</td>\n",
       "      <td>74.000000</td>\n",
       "      <td>0.000000</td>\n",
       "      <td>143.700000</td>\n",
       "      <td>87.000000</td>\n",
       "      <td>24.430000</td>\n",
       "      <td>166.600000</td>\n",
       "      <td>87.000000</td>\n",
       "      <td>14.160000</td>\n",
       "      <td>167.000000</td>\n",
       "      <td>87.000000</td>\n",
       "      <td>7.520000</td>\n",
       "      <td>8.500000</td>\n",
       "      <td>3.000000</td>\n",
       "      <td>2.300000</td>\n",
       "      <td>1.000000</td>\n",
       "      <td>0.000000</td>\n",
       "      <td>0.000000</td>\n",
       "    </tr>\n",
       "    <tr>\n",
       "      <th>50%</th>\n",
       "      <td>0.130435</td>\n",
       "      <td>101.000000</td>\n",
       "      <td>0.000000</td>\n",
       "      <td>179.400000</td>\n",
       "      <td>101.000000</td>\n",
       "      <td>30.500000</td>\n",
       "      <td>201.400000</td>\n",
       "      <td>100.000000</td>\n",
       "      <td>17.120000</td>\n",
       "      <td>201.200000</td>\n",
       "      <td>100.000000</td>\n",
       "      <td>9.050000</td>\n",
       "      <td>10.300000</td>\n",
       "      <td>4.000000</td>\n",
       "      <td>2.780000</td>\n",
       "      <td>1.000000</td>\n",
       "      <td>0.000000</td>\n",
       "      <td>0.000000</td>\n",
       "    </tr>\n",
       "    <tr>\n",
       "      <th>75%</th>\n",
       "      <td>0.193548</td>\n",
       "      <td>127.000000</td>\n",
       "      <td>20.000000</td>\n",
       "      <td>216.400000</td>\n",
       "      <td>114.000000</td>\n",
       "      <td>36.790000</td>\n",
       "      <td>235.300000</td>\n",
       "      <td>114.000000</td>\n",
       "      <td>20.000000</td>\n",
       "      <td>235.300000</td>\n",
       "      <td>113.000000</td>\n",
       "      <td>10.590000</td>\n",
       "      <td>12.100000</td>\n",
       "      <td>6.000000</td>\n",
       "      <td>3.270000</td>\n",
       "      <td>2.000000</td>\n",
       "      <td>1.000000</td>\n",
       "      <td>1.000000</td>\n",
       "    </tr>\n",
       "    <tr>\n",
       "      <th>max</th>\n",
       "      <td>0.289474</td>\n",
       "      <td>243.000000</td>\n",
       "      <td>51.000000</td>\n",
       "      <td>350.800000</td>\n",
       "      <td>165.000000</td>\n",
       "      <td>59.640000</td>\n",
       "      <td>363.700000</td>\n",
       "      <td>170.000000</td>\n",
       "      <td>30.910000</td>\n",
       "      <td>395.000000</td>\n",
       "      <td>175.000000</td>\n",
       "      <td>17.770000</td>\n",
       "      <td>20.000000</td>\n",
       "      <td>20.000000</td>\n",
       "      <td>5.400000</td>\n",
       "      <td>9.000000</td>\n",
       "      <td>1.000000</td>\n",
       "      <td>1.000000</td>\n",
       "    </tr>\n",
       "  </tbody>\n",
       "</table>\n",
       "</div>"
      ],
      "text/plain": [
       "       churnMoy_state  Account Length  VMail Message     Day Mins  \\\n",
       "count     3333.000000     3333.000000    3333.000000  3333.000000   \n",
       "mean         0.145772      101.064806       8.099010   179.775098   \n",
       "std          0.061771       39.822106      13.688365    54.467389   \n",
       "min          0.035714        1.000000       0.000000     0.000000   \n",
       "25%          0.095238       74.000000       0.000000   143.700000   \n",
       "50%          0.130435      101.000000       0.000000   179.400000   \n",
       "75%          0.193548      127.000000      20.000000   216.400000   \n",
       "max          0.289474      243.000000      51.000000   350.800000   \n",
       "\n",
       "         Day Calls   Day Charge     Eve Mins    Eve Calls   Eve Charge  \\\n",
       "count  3333.000000  3333.000000  3333.000000  3333.000000  3333.000000   \n",
       "mean    100.435644    30.562307   200.980348   100.114311    17.083540   \n",
       "std      20.069084     9.259435    50.713844    19.922625     4.310668   \n",
       "min       0.000000     0.000000     0.000000     0.000000     0.000000   \n",
       "25%      87.000000    24.430000   166.600000    87.000000    14.160000   \n",
       "50%     101.000000    30.500000   201.400000   100.000000    17.120000   \n",
       "75%     114.000000    36.790000   235.300000   114.000000    20.000000   \n",
       "max     165.000000    59.640000   363.700000   170.000000    30.910000   \n",
       "\n",
       "        Night Mins  Night Calls  Night Charge    Intl Mins   Intl Calls  \\\n",
       "count  3333.000000  3333.000000   3333.000000  3333.000000  3333.000000   \n",
       "mean    200.872037   100.107711      9.039325    10.237294     4.479448   \n",
       "std      50.573847    19.568609      2.275873     2.791840     2.461214   \n",
       "min      23.200000    33.000000      1.040000     0.000000     0.000000   \n",
       "25%     167.000000    87.000000      7.520000     8.500000     3.000000   \n",
       "50%     201.200000   100.000000      9.050000    10.300000     4.000000   \n",
       "75%     235.300000   113.000000     10.590000    12.100000     6.000000   \n",
       "max     395.000000   175.000000     17.770000    20.000000    20.000000   \n",
       "\n",
       "       Intl Charge  CustServ Calls  Area Code_415  Area Code_510  \n",
       "count  3333.000000     3333.000000    3333.000000    3333.000000  \n",
       "mean      2.764581        1.562856       0.496550       0.252025  \n",
       "std       0.753773        1.315491       0.500063       0.434241  \n",
       "min       0.000000        0.000000       0.000000       0.000000  \n",
       "25%       2.300000        1.000000       0.000000       0.000000  \n",
       "50%       2.780000        1.000000       0.000000       0.000000  \n",
       "75%       3.270000        2.000000       1.000000       1.000000  \n",
       "max       5.400000        9.000000       1.000000       1.000000  "
      ]
     },
     "execution_count": 4,
     "metadata": {},
     "output_type": "execute_result"
    }
   ],
   "source": [
    "data.describe()\n"
   ]
  },
  {
   "cell_type": "code",
   "execution_count": 5,
   "metadata": {},
   "outputs": [
    {
     "data": {
      "text/plain": [
       "churnMoy_state    float64\n",
       "Account Length      int64\n",
       "Int'l Plan           bool\n",
       "VMail Plan           bool\n",
       "VMail Message       int64\n",
       "Day Mins          float64\n",
       "Day Calls           int64\n",
       "Day Charge        float64\n",
       "Eve Mins          float64\n",
       "Eve Calls           int64\n",
       "Eve Charge        float64\n",
       "Night Mins        float64\n",
       "Night Calls         int64\n",
       "Night Charge      float64\n",
       "Intl Mins         float64\n",
       "Intl Calls          int64\n",
       "Intl Charge       float64\n",
       "CustServ Calls      int64\n",
       "Churn?             object\n",
       "Area Code_415       uint8\n",
       "Area Code_510       uint8\n",
       "dtype: object"
      ]
     },
     "execution_count": 5,
     "metadata": {},
     "output_type": "execute_result"
    }
   ],
   "source": [
    "data.dtypes"
   ]
  },
  {
   "cell_type": "code",
   "execution_count": 6,
   "metadata": {},
   "outputs": [],
   "source": [
    "X= data.drop('Churn?',axis=1)\n",
    "y=data['Churn?'].astype(int)"
   ]
  },
  {
   "cell_type": "code",
   "execution_count": 7,
   "metadata": {},
   "outputs": [
    {
     "data": {
      "text/plain": [
       "0    0.855086\n",
       "1    0.144914\n",
       "Name: Churn?, dtype: float64"
      ]
     },
     "execution_count": 7,
     "metadata": {},
     "output_type": "execute_result"
    }
   ],
   "source": [
    "y.value_counts(normalize=True)"
   ]
  },
  {
   "cell_type": "code",
   "execution_count": 8,
   "metadata": {},
   "outputs": [],
   "source": [
    "# split Apprentissage Test\n",
    "from sklearn.model_selection import train_test_split \n",
    "X_train, X_test, y_train, y_test = train_test_split(X,y, stratify=y, test_size=0.3,random_state=42)"
   ]
  },
  {
   "cell_type": "code",
   "execution_count": 9,
   "metadata": {},
   "outputs": [
    {
     "data": {
      "text/plain": [
       "((2333, 20), (1000, 20))"
      ]
     },
     "execution_count": 9,
     "metadata": {},
     "output_type": "execute_result"
    }
   ],
   "source": [
    "X_train.shape, X_test.shape"
   ]
  },
  {
   "cell_type": "code",
   "execution_count": 10,
   "metadata": {},
   "outputs": [
    {
     "data": {
      "text/plain": [
       "(338, 145)"
      ]
     },
     "execution_count": 10,
     "metadata": {},
     "output_type": "execute_result"
    }
   ],
   "source": [
    "y_train.sum(), y_test.sum()"
   ]
  },
  {
   "cell_type": "code",
   "execution_count": 11,
   "metadata": {},
   "outputs": [
    {
     "data": {
      "text/plain": [
       "(0.14487783969138449, 0.145)"
      ]
     },
     "execution_count": 11,
     "metadata": {},
     "output_type": "execute_result"
    }
   ],
   "source": [
    "y_train.mean(), y_test.mean()"
   ]
  },
  {
   "cell_type": "markdown",
   "metadata": {},
   "source": [
    "# 2. Standardisation des variables <a name=\"sect2\" ></a>"
   ]
  },
  {
   "cell_type": "code",
   "execution_count": 12,
   "metadata": {},
   "outputs": [],
   "source": [
    "from sklearn.preprocessing import StandardScaler\n",
    "norm=StandardScaler().fit(X_train) \n",
    "X_train = pd.DataFrame(norm.transform(X_train), columns=X.columns)\n",
    "X_test = pd.DataFrame(norm.transform(X_test), columns=X.columns)"
   ]
  },
  {
   "cell_type": "code",
   "execution_count": 13,
   "metadata": {},
   "outputs": [
    {
     "data": {
      "text/html": [
       "<div>\n",
       "<style scoped>\n",
       "    .dataframe tbody tr th:only-of-type {\n",
       "        vertical-align: middle;\n",
       "    }\n",
       "\n",
       "    .dataframe tbody tr th {\n",
       "        vertical-align: top;\n",
       "    }\n",
       "\n",
       "    .dataframe thead th {\n",
       "        text-align: right;\n",
       "    }\n",
       "</style>\n",
       "<table border=\"1\" class=\"dataframe\">\n",
       "  <thead>\n",
       "    <tr style=\"text-align: right;\">\n",
       "      <th></th>\n",
       "      <th>churnMoy_state</th>\n",
       "      <th>Account Length</th>\n",
       "      <th>Int'l Plan</th>\n",
       "      <th>VMail Plan</th>\n",
       "      <th>VMail Message</th>\n",
       "      <th>Day Mins</th>\n",
       "      <th>Day Calls</th>\n",
       "      <th>Day Charge</th>\n",
       "      <th>Eve Mins</th>\n",
       "      <th>Eve Calls</th>\n",
       "      <th>Eve Charge</th>\n",
       "      <th>Night Mins</th>\n",
       "      <th>Night Calls</th>\n",
       "      <th>Night Charge</th>\n",
       "      <th>Intl Mins</th>\n",
       "      <th>Intl Calls</th>\n",
       "      <th>Intl Charge</th>\n",
       "      <th>CustServ Calls</th>\n",
       "      <th>Area Code_415</th>\n",
       "      <th>Area Code_510</th>\n",
       "    </tr>\n",
       "  </thead>\n",
       "  <tbody>\n",
       "    <tr>\n",
       "      <th>count</th>\n",
       "      <td>2.333000e+03</td>\n",
       "      <td>2.333000e+03</td>\n",
       "      <td>2.333000e+03</td>\n",
       "      <td>2.333000e+03</td>\n",
       "      <td>2.333000e+03</td>\n",
       "      <td>2.333000e+03</td>\n",
       "      <td>2.333000e+03</td>\n",
       "      <td>2.333000e+03</td>\n",
       "      <td>2.333000e+03</td>\n",
       "      <td>2.333000e+03</td>\n",
       "      <td>2.333000e+03</td>\n",
       "      <td>2.333000e+03</td>\n",
       "      <td>2.333000e+03</td>\n",
       "      <td>2.333000e+03</td>\n",
       "      <td>2.333000e+03</td>\n",
       "      <td>2.333000e+03</td>\n",
       "      <td>2.333000e+03</td>\n",
       "      <td>2.333000e+03</td>\n",
       "      <td>2.333000e+03</td>\n",
       "      <td>2.333000e+03</td>\n",
       "    </tr>\n",
       "    <tr>\n",
       "      <th>mean</th>\n",
       "      <td>-1.903511e-16</td>\n",
       "      <td>-1.614178e-16</td>\n",
       "      <td>3.350180e-17</td>\n",
       "      <td>3.350180e-17</td>\n",
       "      <td>8.527731e-17</td>\n",
       "      <td>-2.664916e-16</td>\n",
       "      <td>-2.215687e-16</td>\n",
       "      <td>-5.710534e-16</td>\n",
       "      <td>1.964424e-16</td>\n",
       "      <td>3.220741e-16</td>\n",
       "      <td>-3.136987e-16</td>\n",
       "      <td>-9.593697e-17</td>\n",
       "      <td>-7.614046e-18</td>\n",
       "      <td>7.279028e-16</td>\n",
       "      <td>-2.010108e-16</td>\n",
       "      <td>-9.136855e-17</td>\n",
       "      <td>3.959304e-16</td>\n",
       "      <td>-5.482113e-17</td>\n",
       "      <td>4.187725e-18</td>\n",
       "      <td>-2.131933e-17</td>\n",
       "    </tr>\n",
       "    <tr>\n",
       "      <th>std</th>\n",
       "      <td>1.000214e+00</td>\n",
       "      <td>1.000214e+00</td>\n",
       "      <td>1.000214e+00</td>\n",
       "      <td>1.000214e+00</td>\n",
       "      <td>1.000214e+00</td>\n",
       "      <td>1.000214e+00</td>\n",
       "      <td>1.000214e+00</td>\n",
       "      <td>1.000214e+00</td>\n",
       "      <td>1.000214e+00</td>\n",
       "      <td>1.000214e+00</td>\n",
       "      <td>1.000214e+00</td>\n",
       "      <td>1.000214e+00</td>\n",
       "      <td>1.000214e+00</td>\n",
       "      <td>1.000214e+00</td>\n",
       "      <td>1.000214e+00</td>\n",
       "      <td>1.000214e+00</td>\n",
       "      <td>1.000214e+00</td>\n",
       "      <td>1.000214e+00</td>\n",
       "      <td>1.000214e+00</td>\n",
       "      <td>1.000214e+00</td>\n",
       "    </tr>\n",
       "    <tr>\n",
       "      <th>min</th>\n",
       "      <td>-1.784019e+00</td>\n",
       "      <td>-2.487259e+00</td>\n",
       "      <td>-3.186077e-01</td>\n",
       "      <td>-6.287567e-01</td>\n",
       "      <td>-6.014372e-01</td>\n",
       "      <td>-3.331687e+00</td>\n",
       "      <td>-5.004624e+00</td>\n",
       "      <td>-3.331755e+00</td>\n",
       "      <td>-3.942555e+00</td>\n",
       "      <td>-4.997841e+00</td>\n",
       "      <td>-3.942646e+00</td>\n",
       "      <td>-3.557234e+00</td>\n",
       "      <td>-3.436090e+00</td>\n",
       "      <td>-3.558946e+00</td>\n",
       "      <td>-3.601369e+00</td>\n",
       "      <td>-1.856517e+00</td>\n",
       "      <td>-3.601979e+00</td>\n",
       "      <td>-1.202826e+00</td>\n",
       "      <td>-1.006450e+00</td>\n",
       "      <td>-5.679457e-01</td>\n",
       "    </tr>\n",
       "    <tr>\n",
       "      <th>25%</th>\n",
       "      <td>-8.153774e-01</td>\n",
       "      <td>-6.634062e-01</td>\n",
       "      <td>-3.186077e-01</td>\n",
       "      <td>-6.287567e-01</td>\n",
       "      <td>-6.014372e-01</td>\n",
       "      <td>-6.710391e-01</td>\n",
       "      <td>-6.624940e-01</td>\n",
       "      <td>-6.705548e-01</td>\n",
       "      <td>-6.949818e-01</td>\n",
       "      <td>-6.613366e-01</td>\n",
       "      <td>-6.953804e-01</td>\n",
       "      <td>-6.760070e-01</td>\n",
       "      <td>-6.688108e-01</td>\n",
       "      <td>-6.742155e-01</td>\n",
       "      <td>-6.451014e-01</td>\n",
       "      <td>-6.183081e-01</td>\n",
       "      <td>-6.431349e-01</td>\n",
       "      <td>-4.329515e-01</td>\n",
       "      <td>-1.006450e+00</td>\n",
       "      <td>-5.679457e-01</td>\n",
       "    </tr>\n",
       "    <tr>\n",
       "      <th>50%</th>\n",
       "      <td>-2.426155e-01</td>\n",
       "      <td>-1.381472e-02</td>\n",
       "      <td>-3.186077e-01</td>\n",
       "      <td>-6.287567e-01</td>\n",
       "      <td>-6.014372e-01</td>\n",
       "      <td>-7.267824e-03</td>\n",
       "      <td>3.623950e-02</td>\n",
       "      <td>-7.435909e-03</td>\n",
       "      <td>1.952346e-02</td>\n",
       "      <td>-1.335321e-02</td>\n",
       "      <td>1.855747e-02</td>\n",
       "      <td>-7.867457e-03</td>\n",
       "      <td>-2.613915e-03</td>\n",
       "      <td>-9.880450e-03</td>\n",
       "      <td>2.357809e-02</td>\n",
       "      <td>-2.055720e-01</td>\n",
       "      <td>2.162742e-02</td>\n",
       "      <td>-4.329515e-01</td>\n",
       "      <td>9.935910e-01</td>\n",
       "      <td>-5.679457e-01</td>\n",
       "    </tr>\n",
       "    <tr>\n",
       "      <th>75%</th>\n",
       "      <td>7.844434e-01</td>\n",
       "      <td>6.607610e-01</td>\n",
       "      <td>-3.186077e-01</td>\n",
       "      <td>1.590440e+00</td>\n",
       "      <td>8.570659e-01</td>\n",
       "      <td>6.713363e-01</td>\n",
       "      <td>6.850635e-01</td>\n",
       "      <td>6.709521e-01</td>\n",
       "      <td>6.576843e-01</td>\n",
       "      <td>6.844750e-01</td>\n",
       "      <td>6.587986e-01</td>\n",
       "      <td>6.662914e-01</td>\n",
       "      <td>6.635829e-01</td>\n",
       "      <td>6.678305e-01</td>\n",
       "      <td>6.570640e-01</td>\n",
       "      <td>6.199004e-01</td>\n",
       "      <td>6.603206e-01</td>\n",
       "      <td>3.369234e-01</td>\n",
       "      <td>9.935910e-01</td>\n",
       "      <td>-5.679457e-01</td>\n",
       "    </tr>\n",
       "    <tr>\n",
       "      <th>max</th>\n",
       "      <td>2.345453e+00</td>\n",
       "      <td>3.558938e+00</td>\n",
       "      <td>3.138656e+00</td>\n",
       "      <td>1.590440e+00</td>\n",
       "      <td>3.117746e+00</td>\n",
       "      <td>3.172530e+00</td>\n",
       "      <td>3.230450e+00</td>\n",
       "      <td>3.172917e+00</td>\n",
       "      <td>3.177049e+00</td>\n",
       "      <td>3.475788e+00</td>\n",
       "      <td>3.176005e+00</td>\n",
       "      <td>3.902655e+00</td>\n",
       "      <td>3.840829e+00</td>\n",
       "      <td>3.900333e+00</td>\n",
       "      <td>3.437363e+00</td>\n",
       "      <td>5.572734e+00</td>\n",
       "      <td>3.436681e+00</td>\n",
       "      <td>5.726047e+00</td>\n",
       "      <td>9.935910e-01</td>\n",
       "      <td>1.760732e+00</td>\n",
       "    </tr>\n",
       "  </tbody>\n",
       "</table>\n",
       "</div>"
      ],
      "text/plain": [
       "       churnMoy_state  Account Length    Int'l Plan    VMail Plan  \\\n",
       "count    2.333000e+03    2.333000e+03  2.333000e+03  2.333000e+03   \n",
       "mean    -1.903511e-16   -1.614178e-16  3.350180e-17  3.350180e-17   \n",
       "std      1.000214e+00    1.000214e+00  1.000214e+00  1.000214e+00   \n",
       "min     -1.784019e+00   -2.487259e+00 -3.186077e-01 -6.287567e-01   \n",
       "25%     -8.153774e-01   -6.634062e-01 -3.186077e-01 -6.287567e-01   \n",
       "50%     -2.426155e-01   -1.381472e-02 -3.186077e-01 -6.287567e-01   \n",
       "75%      7.844434e-01    6.607610e-01 -3.186077e-01  1.590440e+00   \n",
       "max      2.345453e+00    3.558938e+00  3.138656e+00  1.590440e+00   \n",
       "\n",
       "       VMail Message      Day Mins     Day Calls    Day Charge      Eve Mins  \\\n",
       "count   2.333000e+03  2.333000e+03  2.333000e+03  2.333000e+03  2.333000e+03   \n",
       "mean    8.527731e-17 -2.664916e-16 -2.215687e-16 -5.710534e-16  1.964424e-16   \n",
       "std     1.000214e+00  1.000214e+00  1.000214e+00  1.000214e+00  1.000214e+00   \n",
       "min    -6.014372e-01 -3.331687e+00 -5.004624e+00 -3.331755e+00 -3.942555e+00   \n",
       "25%    -6.014372e-01 -6.710391e-01 -6.624940e-01 -6.705548e-01 -6.949818e-01   \n",
       "50%    -6.014372e-01 -7.267824e-03  3.623950e-02 -7.435909e-03  1.952346e-02   \n",
       "75%     8.570659e-01  6.713363e-01  6.850635e-01  6.709521e-01  6.576843e-01   \n",
       "max     3.117746e+00  3.172530e+00  3.230450e+00  3.172917e+00  3.177049e+00   \n",
       "\n",
       "          Eve Calls    Eve Charge    Night Mins   Night Calls  Night Charge  \\\n",
       "count  2.333000e+03  2.333000e+03  2.333000e+03  2.333000e+03  2.333000e+03   \n",
       "mean   3.220741e-16 -3.136987e-16 -9.593697e-17 -7.614046e-18  7.279028e-16   \n",
       "std    1.000214e+00  1.000214e+00  1.000214e+00  1.000214e+00  1.000214e+00   \n",
       "min   -4.997841e+00 -3.942646e+00 -3.557234e+00 -3.436090e+00 -3.558946e+00   \n",
       "25%   -6.613366e-01 -6.953804e-01 -6.760070e-01 -6.688108e-01 -6.742155e-01   \n",
       "50%   -1.335321e-02  1.855747e-02 -7.867457e-03 -2.613915e-03 -9.880450e-03   \n",
       "75%    6.844750e-01  6.587986e-01  6.662914e-01  6.635829e-01  6.678305e-01   \n",
       "max    3.475788e+00  3.176005e+00  3.902655e+00  3.840829e+00  3.900333e+00   \n",
       "\n",
       "          Intl Mins    Intl Calls   Intl Charge  CustServ Calls  \\\n",
       "count  2.333000e+03  2.333000e+03  2.333000e+03    2.333000e+03   \n",
       "mean  -2.010108e-16 -9.136855e-17  3.959304e-16   -5.482113e-17   \n",
       "std    1.000214e+00  1.000214e+00  1.000214e+00    1.000214e+00   \n",
       "min   -3.601369e+00 -1.856517e+00 -3.601979e+00   -1.202826e+00   \n",
       "25%   -6.451014e-01 -6.183081e-01 -6.431349e-01   -4.329515e-01   \n",
       "50%    2.357809e-02 -2.055720e-01  2.162742e-02   -4.329515e-01   \n",
       "75%    6.570640e-01  6.199004e-01  6.603206e-01    3.369234e-01   \n",
       "max    3.437363e+00  5.572734e+00  3.436681e+00    5.726047e+00   \n",
       "\n",
       "       Area Code_415  Area Code_510  \n",
       "count   2.333000e+03   2.333000e+03  \n",
       "mean    4.187725e-18  -2.131933e-17  \n",
       "std     1.000214e+00   1.000214e+00  \n",
       "min    -1.006450e+00  -5.679457e-01  \n",
       "25%    -1.006450e+00  -5.679457e-01  \n",
       "50%     9.935910e-01  -5.679457e-01  \n",
       "75%     9.935910e-01  -5.679457e-01  \n",
       "max     9.935910e-01   1.760732e+00  "
      ]
     },
     "execution_count": 13,
     "metadata": {},
     "output_type": "execute_result"
    }
   ],
   "source": [
    "X_train.describe()"
   ]
  },
  {
   "cell_type": "code",
   "execution_count": 14,
   "metadata": {},
   "outputs": [
    {
     "data": {
      "text/html": [
       "<div>\n",
       "<style scoped>\n",
       "    .dataframe tbody tr th:only-of-type {\n",
       "        vertical-align: middle;\n",
       "    }\n",
       "\n",
       "    .dataframe tbody tr th {\n",
       "        vertical-align: top;\n",
       "    }\n",
       "\n",
       "    .dataframe thead th {\n",
       "        text-align: right;\n",
       "    }\n",
       "</style>\n",
       "<table border=\"1\" class=\"dataframe\">\n",
       "  <thead>\n",
       "    <tr style=\"text-align: right;\">\n",
       "      <th></th>\n",
       "      <th>churnMoy_state</th>\n",
       "      <th>Account Length</th>\n",
       "      <th>Int'l Plan</th>\n",
       "      <th>VMail Plan</th>\n",
       "      <th>VMail Message</th>\n",
       "      <th>Day Mins</th>\n",
       "      <th>Day Calls</th>\n",
       "      <th>Day Charge</th>\n",
       "      <th>Eve Mins</th>\n",
       "      <th>Eve Calls</th>\n",
       "      <th>Eve Charge</th>\n",
       "      <th>Night Mins</th>\n",
       "      <th>Night Calls</th>\n",
       "      <th>Night Charge</th>\n",
       "      <th>Intl Mins</th>\n",
       "      <th>Intl Calls</th>\n",
       "      <th>Intl Charge</th>\n",
       "      <th>CustServ Calls</th>\n",
       "      <th>Area Code_415</th>\n",
       "      <th>Area Code_510</th>\n",
       "    </tr>\n",
       "  </thead>\n",
       "  <tbody>\n",
       "    <tr>\n",
       "      <th>count</th>\n",
       "      <td>1000.000000</td>\n",
       "      <td>1000.000000</td>\n",
       "      <td>1000.000000</td>\n",
       "      <td>1000.000000</td>\n",
       "      <td>1000.000000</td>\n",
       "      <td>1000.000000</td>\n",
       "      <td>1000.000000</td>\n",
       "      <td>1000.000000</td>\n",
       "      <td>1000.000000</td>\n",
       "      <td>1000.000000</td>\n",
       "      <td>1000.000000</td>\n",
       "      <td>1000.000000</td>\n",
       "      <td>1000.000000</td>\n",
       "      <td>1000.000000</td>\n",
       "      <td>1000.000000</td>\n",
       "      <td>1000.000000</td>\n",
       "      <td>1000.000000</td>\n",
       "      <td>1000.000000</td>\n",
       "      <td>1000.000000</td>\n",
       "      <td>1000.000000</td>\n",
       "    </tr>\n",
       "    <tr>\n",
       "      <th>mean</th>\n",
       "      <td>0.023222</td>\n",
       "      <td>0.042625</td>\n",
       "      <td>0.054777</td>\n",
       "      <td>-0.049546</td>\n",
       "      <td>-0.036048</td>\n",
       "      <td>0.005136</td>\n",
       "      <td>0.026906</td>\n",
       "      <td>0.005136</td>\n",
       "      <td>-0.027554</td>\n",
       "      <td>-0.025515</td>\n",
       "      <td>-0.027542</td>\n",
       "      <td>0.025407</td>\n",
       "      <td>0.009685</td>\n",
       "      <td>0.025508</td>\n",
       "      <td>0.005031</td>\n",
       "      <td>-0.025619</td>\n",
       "      <td>0.005100</td>\n",
       "      <td>0.001258</td>\n",
       "      <td>-0.044430</td>\n",
       "      <td>0.063126</td>\n",
       "    </tr>\n",
       "    <tr>\n",
       "      <th>std</th>\n",
       "      <td>1.017102</td>\n",
       "      <td>0.982330</td>\n",
       "      <td>1.073604</td>\n",
       "      <td>0.975114</td>\n",
       "      <td>0.993613</td>\n",
       "      <td>1.032593</td>\n",
       "      <td>1.005203</td>\n",
       "      <td>1.032595</td>\n",
       "      <td>0.975330</td>\n",
       "      <td>0.976362</td>\n",
       "      <td>0.975363</td>\n",
       "      <td>1.048096</td>\n",
       "      <td>1.009313</td>\n",
       "      <td>1.048094</td>\n",
       "      <td>0.940531</td>\n",
       "      <td>1.051659</td>\n",
       "      <td>0.940386</td>\n",
       "      <td>1.041961</td>\n",
       "      <td>0.999798</td>\n",
       "      <td>1.035559</td>\n",
       "    </tr>\n",
       "    <tr>\n",
       "      <th>min</th>\n",
       "      <td>-1.784019</td>\n",
       "      <td>-2.487259</td>\n",
       "      <td>-0.318608</td>\n",
       "      <td>-0.628757</td>\n",
       "      <td>-0.601437</td>\n",
       "      <td>-3.331687</td>\n",
       "      <td>-5.004624</td>\n",
       "      <td>-3.331755</td>\n",
       "      <td>-3.000974</td>\n",
       "      <td>-2.854511</td>\n",
       "      <td>-3.000709</td>\n",
       "      <td>-3.145916</td>\n",
       "      <td>-3.179860</td>\n",
       "      <td>-3.144294</td>\n",
       "      <td>-3.601369</td>\n",
       "      <td>-1.856517</td>\n",
       "      <td>-3.601979</td>\n",
       "      <td>-1.202826</td>\n",
       "      <td>-1.006450</td>\n",
       "      <td>-0.567946</td>\n",
       "    </tr>\n",
       "    <tr>\n",
       "      <th>25%</th>\n",
       "      <td>-0.885824</td>\n",
       "      <td>-0.638422</td>\n",
       "      <td>-0.318608</td>\n",
       "      <td>-0.628757</td>\n",
       "      <td>-0.601437</td>\n",
       "      <td>-0.652498</td>\n",
       "      <td>-0.612584</td>\n",
       "      <td>-0.652832</td>\n",
       "      <td>-0.669534</td>\n",
       "      <td>-0.661337</td>\n",
       "      <td>-0.670047</td>\n",
       "      <td>-0.647415</td>\n",
       "      <td>-0.668811</td>\n",
       "      <td>-0.648578</td>\n",
       "      <td>-0.574714</td>\n",
       "      <td>-0.618308</td>\n",
       "      <td>-0.577962</td>\n",
       "      <td>-0.432951</td>\n",
       "      <td>-1.006450</td>\n",
       "      <td>-0.567946</td>\n",
       "    </tr>\n",
       "    <tr>\n",
       "      <th>50%</th>\n",
       "      <td>-0.120628</td>\n",
       "      <td>0.011170</td>\n",
       "      <td>-0.318608</td>\n",
       "      <td>-0.628757</td>\n",
       "      <td>-0.601437</td>\n",
       "      <td>0.012200</td>\n",
       "      <td>0.036240</td>\n",
       "      <td>0.012196</td>\n",
       "      <td>-0.033330</td>\n",
       "      <td>-0.013353</td>\n",
       "      <td>-0.034412</td>\n",
       "      <td>0.060351</td>\n",
       "      <td>-0.002614</td>\n",
       "      <td>0.061458</td>\n",
       "      <td>0.058772</td>\n",
       "      <td>-0.205572</td>\n",
       "      <td>0.060731</td>\n",
       "      <td>-0.432951</td>\n",
       "      <td>-1.006450</td>\n",
       "      <td>-0.567946</td>\n",
       "    </tr>\n",
       "    <tr>\n",
       "      <th>75%</th>\n",
       "      <td>0.810050</td>\n",
       "      <td>0.685745</td>\n",
       "      <td>-0.318608</td>\n",
       "      <td>1.590440</td>\n",
       "      <td>0.565365</td>\n",
       "      <td>0.720470</td>\n",
       "      <td>0.685063</td>\n",
       "      <td>0.720850</td>\n",
       "      <td>0.679707</td>\n",
       "      <td>0.634630</td>\n",
       "      <td>0.680102</td>\n",
       "      <td>0.793699</td>\n",
       "      <td>0.714829</td>\n",
       "      <td>0.793787</td>\n",
       "      <td>0.657064</td>\n",
       "      <td>0.619900</td>\n",
       "      <td>0.660321</td>\n",
       "      <td>0.336923</td>\n",
       "      <td>0.993591</td>\n",
       "      <td>1.760732</td>\n",
       "    </tr>\n",
       "    <tr>\n",
       "      <th>max</th>\n",
       "      <td>2.345453</td>\n",
       "      <td>3.084237</td>\n",
       "      <td>3.138656</td>\n",
       "      <td>1.590440</td>\n",
       "      <td>3.044821</td>\n",
       "      <td>3.098366</td>\n",
       "      <td>3.130631</td>\n",
       "      <td>3.098752</td>\n",
       "      <td>3.139856</td>\n",
       "      <td>3.176719</td>\n",
       "      <td>3.139157</td>\n",
       "      <td>3.639814</td>\n",
       "      <td>3.277124</td>\n",
       "      <td>3.641733</td>\n",
       "      <td>2.733490</td>\n",
       "      <td>6.398207</td>\n",
       "      <td>2.732815</td>\n",
       "      <td>5.726047</td>\n",
       "      <td>0.993591</td>\n",
       "      <td>1.760732</td>\n",
       "    </tr>\n",
       "  </tbody>\n",
       "</table>\n",
       "</div>"
      ],
      "text/plain": [
       "       churnMoy_state  Account Length   Int'l Plan   VMail Plan  \\\n",
       "count     1000.000000     1000.000000  1000.000000  1000.000000   \n",
       "mean         0.023222        0.042625     0.054777    -0.049546   \n",
       "std          1.017102        0.982330     1.073604     0.975114   \n",
       "min         -1.784019       -2.487259    -0.318608    -0.628757   \n",
       "25%         -0.885824       -0.638422    -0.318608    -0.628757   \n",
       "50%         -0.120628        0.011170    -0.318608    -0.628757   \n",
       "75%          0.810050        0.685745    -0.318608     1.590440   \n",
       "max          2.345453        3.084237     3.138656     1.590440   \n",
       "\n",
       "       VMail Message     Day Mins    Day Calls   Day Charge     Eve Mins  \\\n",
       "count    1000.000000  1000.000000  1000.000000  1000.000000  1000.000000   \n",
       "mean       -0.036048     0.005136     0.026906     0.005136    -0.027554   \n",
       "std         0.993613     1.032593     1.005203     1.032595     0.975330   \n",
       "min        -0.601437    -3.331687    -5.004624    -3.331755    -3.000974   \n",
       "25%        -0.601437    -0.652498    -0.612584    -0.652832    -0.669534   \n",
       "50%        -0.601437     0.012200     0.036240     0.012196    -0.033330   \n",
       "75%         0.565365     0.720470     0.685063     0.720850     0.679707   \n",
       "max         3.044821     3.098366     3.130631     3.098752     3.139856   \n",
       "\n",
       "         Eve Calls   Eve Charge   Night Mins  Night Calls  Night Charge  \\\n",
       "count  1000.000000  1000.000000  1000.000000  1000.000000   1000.000000   \n",
       "mean     -0.025515    -0.027542     0.025407     0.009685      0.025508   \n",
       "std       0.976362     0.975363     1.048096     1.009313      1.048094   \n",
       "min      -2.854511    -3.000709    -3.145916    -3.179860     -3.144294   \n",
       "25%      -0.661337    -0.670047    -0.647415    -0.668811     -0.648578   \n",
       "50%      -0.013353    -0.034412     0.060351    -0.002614      0.061458   \n",
       "75%       0.634630     0.680102     0.793699     0.714829      0.793787   \n",
       "max       3.176719     3.139157     3.639814     3.277124      3.641733   \n",
       "\n",
       "         Intl Mins   Intl Calls  Intl Charge  CustServ Calls  Area Code_415  \\\n",
       "count  1000.000000  1000.000000  1000.000000     1000.000000    1000.000000   \n",
       "mean      0.005031    -0.025619     0.005100        0.001258      -0.044430   \n",
       "std       0.940531     1.051659     0.940386        1.041961       0.999798   \n",
       "min      -3.601369    -1.856517    -3.601979       -1.202826      -1.006450   \n",
       "25%      -0.574714    -0.618308    -0.577962       -0.432951      -1.006450   \n",
       "50%       0.058772    -0.205572     0.060731       -0.432951      -1.006450   \n",
       "75%       0.657064     0.619900     0.660321        0.336923       0.993591   \n",
       "max       2.733490     6.398207     2.732815        5.726047       0.993591   \n",
       "\n",
       "       Area Code_510  \n",
       "count    1000.000000  \n",
       "mean        0.063126  \n",
       "std         1.035559  \n",
       "min        -0.567946  \n",
       "25%        -0.567946  \n",
       "50%        -0.567946  \n",
       "75%         1.760732  \n",
       "max         1.760732  "
      ]
     },
     "execution_count": 14,
     "metadata": {},
     "output_type": "execute_result"
    }
   ],
   "source": [
    "X_test.describe()"
   ]
  },
  {
   "cell_type": "markdown",
   "metadata": {},
   "source": [
    "# 3. Modélisation <a name=\"sectmodel\" ></a>"
   ]
  },
  {
   "cell_type": "code",
   "execution_count": 15,
   "metadata": {},
   "outputs": [],
   "source": [
    "# Import de la fonction de lift à utiliser\n",
    "os.chdir('/home/jupyter/python_ml/modules/')\n",
    "from fonctions_metrics import lift"
   ]
  },
  {
   "cell_type": "markdown",
   "metadata": {},
   "source": [
    "## 3.1 PARAMETRER LE MODELE REG PENALISEE <a name=\"sect41\" ></a>\n",
    "Choisir ridge (L2) ou lasso (L1) ou elasticnet, avec la classe LogisticRegression\n",
    "Définir une grille d'hyper param pour C\n",
    "et utliser GridSearchCV pour la balayer"
   ]
  },
  {
   "cell_type": "code",
   "execution_count": 16,
   "metadata": {},
   "outputs": [],
   "source": [
    "## Regression logistique avec pénalité lasso et grid search\n",
    "#### on cherche par CV le meilleur C (1/alpha) le coef de regularisation"
   ]
  },
  {
   "cell_type": "code",
   "execution_count": 17,
   "metadata": {},
   "outputs": [
    {
     "data": {
      "text/plain": [
       "{'C': 0.05}"
      ]
     },
     "execution_count": 17,
     "metadata": {},
     "output_type": "execute_result"
    }
   ],
   "source": [
    "param = [{\"C\":[0.001,0.005,0.01,0.025,0.05,0.075,0.1]}]\n",
    "# Instancie le modele LASSO : construction classe\n",
    "lr=LogisticRegression(penalty='l1',solver='liblinear')\n",
    "# Grid Search : on indique le modele et la grille de param\n",
    "modeleLassoCV = GridSearchCV (lr,param,cv = 4,n_jobs=-1,scoring='roc_auc')\n",
    "modeleLassoCV = modeleLassoCV.fit(X_train,y_train)\n",
    "modeleLassoCV.best_params_"
   ]
  },
  {
   "cell_type": "code",
   "execution_count": 18,
   "metadata": {},
   "outputs": [
    {
     "data": {
      "text/plain": [
       "0.05"
      ]
     },
     "execution_count": 18,
     "metadata": {},
     "output_type": "execute_result"
    }
   ],
   "source": [
    "modeleLassoCV.best_params_['C']"
   ]
  },
  {
   "cell_type": "code",
   "execution_count": 19,
   "metadata": {},
   "outputs": [
    {
     "data": {
      "text/plain": [
       "LogisticRegression(C=0.05, penalty='l1', solver='liblinear')"
      ]
     },
     "execution_count": 19,
     "metadata": {},
     "output_type": "execute_result"
    }
   ],
   "source": [
    "# Je constate que le meilleur modeles est 0.05 donc je le reinstancie \n",
    "model_LogitL1 =LogisticRegression(penalty='l1',solver='liblinear',C=0.05)\n",
    "# appliquer la méthode fit() : apprend sur les données de TRAIN\n",
    "model_LogitL1.fit(X_train,y_train)"
   ]
  },
  {
   "cell_type": "code",
   "execution_count": 20,
   "metadata": {},
   "outputs": [
    {
     "data": {
      "text/plain": [
       "[0.286577275284608,\n",
       " 0.0,\n",
       " 0.49576901216541763,\n",
       " -0.2735126596493761,\n",
       " 0.0,\n",
       " 0.3408723689451755,\n",
       " 0.0,\n",
       " 0.13429157619638904,\n",
       " 0.15378988069446722,\n",
       " 0.0,\n",
       " 0.06690506298856014,\n",
       " 0.012872838080499995,\n",
       " 0.0,\n",
       " 0.02114889367470661,\n",
       " 0.0,\n",
       " -0.20700900028615293,\n",
       " 0.12621555345818297,\n",
       " 0.5361471627824336,\n",
       " 0.0,\n",
       " 0.0]"
      ]
     },
     "execution_count": 20,
     "metadata": {},
     "output_type": "execute_result"
    }
   ],
   "source": [
    "# récupérer les coef\n",
    "coef=list(model_LogitL1.coef_[0]) # c un array2d, \n",
    "len(coef) # il y a 20 \n",
    "coef"
   ]
  },
  {
   "cell_type": "code",
   "execution_count": 21,
   "metadata": {},
   "outputs": [
    {
     "data": {
      "text/html": [
       "<div>\n",
       "<style scoped>\n",
       "    .dataframe tbody tr th:only-of-type {\n",
       "        vertical-align: middle;\n",
       "    }\n",
       "\n",
       "    .dataframe tbody tr th {\n",
       "        vertical-align: top;\n",
       "    }\n",
       "\n",
       "    .dataframe thead th {\n",
       "        text-align: right;\n",
       "    }\n",
       "</style>\n",
       "<table border=\"1\" class=\"dataframe\">\n",
       "  <thead>\n",
       "    <tr style=\"text-align: right;\">\n",
       "      <th></th>\n",
       "      <th>Coefficients</th>\n",
       "    </tr>\n",
       "  </thead>\n",
       "  <tbody>\n",
       "    <tr>\n",
       "      <th>CustServ Calls</th>\n",
       "      <td>0.536147</td>\n",
       "    </tr>\n",
       "    <tr>\n",
       "      <th>Int'l Plan</th>\n",
       "      <td>0.495769</td>\n",
       "    </tr>\n",
       "    <tr>\n",
       "      <th>Day Mins</th>\n",
       "      <td>0.340872</td>\n",
       "    </tr>\n",
       "    <tr>\n",
       "      <th>churnMoy_state</th>\n",
       "      <td>0.286577</td>\n",
       "    </tr>\n",
       "    <tr>\n",
       "      <th>Eve Mins</th>\n",
       "      <td>0.153790</td>\n",
       "    </tr>\n",
       "    <tr>\n",
       "      <th>Day Charge</th>\n",
       "      <td>0.134292</td>\n",
       "    </tr>\n",
       "    <tr>\n",
       "      <th>Intl Charge</th>\n",
       "      <td>0.126216</td>\n",
       "    </tr>\n",
       "    <tr>\n",
       "      <th>Eve Charge</th>\n",
       "      <td>0.066905</td>\n",
       "    </tr>\n",
       "    <tr>\n",
       "      <th>Night Charge</th>\n",
       "      <td>0.021149</td>\n",
       "    </tr>\n",
       "    <tr>\n",
       "      <th>Night Mins</th>\n",
       "      <td>0.012873</td>\n",
       "    </tr>\n",
       "    <tr>\n",
       "      <th>Day Calls</th>\n",
       "      <td>0.000000</td>\n",
       "    </tr>\n",
       "    <tr>\n",
       "      <th>Eve Calls</th>\n",
       "      <td>0.000000</td>\n",
       "    </tr>\n",
       "    <tr>\n",
       "      <th>Account Length</th>\n",
       "      <td>0.000000</td>\n",
       "    </tr>\n",
       "    <tr>\n",
       "      <th>Night Calls</th>\n",
       "      <td>0.000000</td>\n",
       "    </tr>\n",
       "    <tr>\n",
       "      <th>Intl Mins</th>\n",
       "      <td>0.000000</td>\n",
       "    </tr>\n",
       "    <tr>\n",
       "      <th>VMail Message</th>\n",
       "      <td>0.000000</td>\n",
       "    </tr>\n",
       "    <tr>\n",
       "      <th>Area Code_415</th>\n",
       "      <td>0.000000</td>\n",
       "    </tr>\n",
       "    <tr>\n",
       "      <th>Area Code_510</th>\n",
       "      <td>0.000000</td>\n",
       "    </tr>\n",
       "    <tr>\n",
       "      <th>Intl Calls</th>\n",
       "      <td>-0.207009</td>\n",
       "    </tr>\n",
       "    <tr>\n",
       "      <th>VMail Plan</th>\n",
       "      <td>-0.273513</td>\n",
       "    </tr>\n",
       "  </tbody>\n",
       "</table>\n",
       "</div>"
      ],
      "text/plain": [
       "                Coefficients\n",
       "CustServ Calls      0.536147\n",
       "Int'l Plan          0.495769\n",
       "Day Mins            0.340872\n",
       "churnMoy_state      0.286577\n",
       "Eve Mins            0.153790\n",
       "Day Charge          0.134292\n",
       "Intl Charge         0.126216\n",
       "Eve Charge          0.066905\n",
       "Night Charge        0.021149\n",
       "Night Mins          0.012873\n",
       "Day Calls           0.000000\n",
       "Eve Calls           0.000000\n",
       "Account Length      0.000000\n",
       "Night Calls         0.000000\n",
       "Intl Mins           0.000000\n",
       "VMail Message       0.000000\n",
       "Area Code_415       0.000000\n",
       "Area Code_510       0.000000\n",
       "Intl Calls         -0.207009\n",
       "VMail Plan         -0.273513"
      ]
     },
     "execution_count": 21,
     "metadata": {},
     "output_type": "execute_result"
    }
   ],
   "source": [
    "# Visualisation des coefficients estimées pour chaque variable\n",
    "coef=list(model_LogitL1.coef_[0])\n",
    "coef_df = pd.DataFrame({'Coefficients': list(coef)}, list(X_train.columns.values))\n",
    "coef_df.sort_values(['Coefficients'], ascending=False)"
   ]
  },
  {
   "cell_type": "code",
   "execution_count": 22,
   "metadata": {},
   "outputs": [
    {
     "name": "stdout",
     "output_type": "stream",
     "text": [
      "8\n"
     ]
    }
   ],
   "source": [
    "# combien d'élemnts non nuls ?\n",
    "feature_0= [i for i in coef if i==0] #print(feature_0)\n",
    "print(len(feature_0))\n",
    "# PLus on baisse C, plus de colonnes s'annulent (0)"
   ]
  },
  {
   "cell_type": "markdown",
   "metadata": {},
   "source": [
    "### Analyser les résultats et les performances "
   ]
  },
  {
   "cell_type": "code",
   "execution_count": 23,
   "metadata": {},
   "outputs": [],
   "source": [
    "# Prediction des probabilités de 1 avec \n",
    "# Colonne 1 signifie la seconde modalité du vecteur soit la proba Churn=1\n",
    "probas_test = modeleLassoCV.predict_proba(X_test)[:,1]\n",
    "probas_train = modeleLassoCV.predict_proba(X_train)[:,1]"
   ]
  },
  {
   "cell_type": "code",
   "execution_count": 24,
   "metadata": {},
   "outputs": [
    {
     "name": "stdout",
     "output_type": "stream",
     "text": [
      "0.867\n",
      "0.8611230175739392\n"
     ]
    }
   ],
   "source": [
    "# score: accuracy taux de bien classé global au cutoff de 0.5\n",
    "print(model_LogitL1.score(X_test, y_test))\n",
    "print(model_LogitL1.score(X_train,y_train))"
   ]
  },
  {
   "cell_type": "code",
   "execution_count": 25,
   "metadata": {},
   "outputs": [
    {
     "name": "stdout",
     "output_type": "stream",
     "text": [
      "0.8303169165517343\n",
      "0.8212623512805\n"
     ]
    }
   ],
   "source": [
    "#AUC\n",
    "print(roc_auc_score(y_train,probas_train))\n",
    "print(roc_auc_score(y_test,probas_test))"
   ]
  },
  {
   "cell_type": "code",
   "execution_count": 26,
   "metadata": {},
   "outputs": [
    {
     "name": "stdout",
     "output_type": "stream",
     "text": [
      "lift at 10 percent : 3.58\n",
      "3.58\n",
      "lift at 10 percent : 3.72\n",
      "3.72\n"
     ]
    }
   ],
   "source": [
    "print(lift(probas_train,X_train,y_train))\n",
    "print(lift(probas_test,X_test,y_test))\n",
    "\n",
    "# Le lift à 10% : je prend les 10% plus fortes proba de churn (individus les plus risqués),\n",
    "# taux de churn / taux de churn moyen "
   ]
  },
  {
   "cell_type": "code",
   "execution_count": 27,
   "metadata": {},
   "outputs": [
    {
     "name": "stdout",
     "output_type": "stream",
     "text": [
      "lift at 5 percent : 3.96\n",
      "3.96\n",
      "lift at 5 percent : 4.41\n",
      "4.41\n"
     ]
    }
   ],
   "source": [
    "#compute lift at 5%\n",
    "print(lift(probas_train,X_train,y_train,p=5))\n",
    "print(lift(probas_test,X_test,y_test,p=5))"
   ]
  },
  {
   "cell_type": "code",
   "execution_count": 28,
   "metadata": {},
   "outputs": [
    {
     "name": "stdout",
     "output_type": "stream",
     "text": [
      "lift at 5 percent : 4.41\n",
      "lift at 10 percent : 3.72\n"
     ]
    },
    {
     "data": {
      "text/plain": [
       "[{'model': 'Score Lasso',\n",
       "  'AUC_test': 0.821,\n",
       "  'lift at 5': 4.41,\n",
       "  'lift at 10': 3.72}]"
      ]
     },
     "execution_count": 28,
     "metadata": {},
     "output_type": "execute_result"
    }
   ],
   "source": [
    "# ENR LES RESULTATS DANS UN DICTIONNAIRE POUR POUVOIR COMPARER\n",
    "model='Score Lasso'\n",
    "# métriques (liste de dictionnaires)\n",
    "metriques = [{'model':model,'AUC_test':round(roc_auc_score(y_test,probas_test),3),'lift at 5':lift(probas_test,X_test,y_test,p=5),'lift at 10':lift(probas_test,X_test,y_test,p=10)}]\n",
    "metriques"
   ]
  },
  {
   "cell_type": "code",
   "execution_count": 29,
   "metadata": {},
   "outputs": [
    {
     "name": "stdout",
     "output_type": "stream",
     "text": [
      "[[581 274]\n",
      " [ 29 116]]\n",
      "col_0          0         1\n",
      "Churn?                    \n",
      "0       0.679532  0.320468\n",
      "1       0.200000  0.800000\n",
      "col_0          0         1\n",
      "Churn?                    \n",
      "0       0.952459  0.702564\n",
      "1       0.047541  0.297436\n",
      "              precision    recall  f1-score   support\n",
      "\n",
      "     Fidèles       0.95      0.68      0.79       855\n",
      "    Churners       0.30      0.80      0.43       145\n",
      "\n",
      "    accuracy                           0.70      1000\n",
      "   macro avg       0.62      0.74      0.61      1000\n",
      "weighted avg       0.86      0.70      0.74      1000\n",
      "\n",
      "              precision    recall  f1-score   support\n",
      "\n",
      "     Fidèles       0.88      0.98      0.93       855\n",
      "    Churners       0.63      0.20      0.30       145\n",
      "\n",
      "    accuracy                           0.87      1000\n",
      "   macro avg       0.75      0.59      0.62      1000\n",
      "weighted avg       0.84      0.87      0.84      1000\n",
      "\n"
     ]
    }
   ],
   "source": [
    "# mat de confusion à un cutoff donné\n",
    "pred = (probas_test > 0.14).astype(int)\n",
    "print(confusion_matrix(y_test, pred))\n",
    "print(pd.crosstab(y_test,pred, normalize=\"index\"))\n",
    "print(pd.crosstab(y_test,pred, normalize=\"columns\"))\n",
    "\n",
    "target_names = ['Fidèles','Churners']\n",
    "\n",
    "# métriques au cutoff donné\n",
    "print(classification_report(y_test,pred, target_names=target_names))\n",
    "# métriques au cutoff par défaut\n",
    "print(classification_report(y_test,model_LogitL1.predict(X_test), target_names=target_names))\n",
    "\n"
   ]
  },
  {
   "cell_type": "code",
   "execution_count": 30,
   "metadata": {},
   "outputs": [
    {
     "data": {
      "text/html": [
       "<div>\n",
       "<style scoped>\n",
       "    .dataframe tbody tr th:only-of-type {\n",
       "        vertical-align: middle;\n",
       "    }\n",
       "\n",
       "    .dataframe tbody tr th {\n",
       "        vertical-align: top;\n",
       "    }\n",
       "\n",
       "    .dataframe thead th {\n",
       "        text-align: right;\n",
       "    }\n",
       "</style>\n",
       "<table border=\"1\" class=\"dataframe\">\n",
       "  <thead>\n",
       "    <tr style=\"text-align: right;\">\n",
       "      <th></th>\n",
       "      <th>Population</th>\n",
       "      <th>Positifs parmi la population</th>\n",
       "      <th>% positifs</th>\n",
       "      <th>Population cumulée</th>\n",
       "      <th>Positifs cumulés</th>\n",
       "      <th>% Positifs cumulés</th>\n",
       "      <th>% positifs cumulés sur le total des positifs</th>\n",
       "      <th>Lift</th>\n",
       "    </tr>\n",
       "  </thead>\n",
       "  <tbody>\n",
       "    <tr>\n",
       "      <th>5</th>\n",
       "      <td>50</td>\n",
       "      <td>32</td>\n",
       "      <td>64.0</td>\n",
       "      <td>50</td>\n",
       "      <td>32</td>\n",
       "      <td>64.00</td>\n",
       "      <td>22.07</td>\n",
       "      <td>4.41</td>\n",
       "    </tr>\n",
       "    <tr>\n",
       "      <th>10</th>\n",
       "      <td>50</td>\n",
       "      <td>22</td>\n",
       "      <td>44.0</td>\n",
       "      <td>100</td>\n",
       "      <td>54</td>\n",
       "      <td>54.00</td>\n",
       "      <td>37.24</td>\n",
       "      <td>3.72</td>\n",
       "    </tr>\n",
       "    <tr>\n",
       "      <th>15</th>\n",
       "      <td>50</td>\n",
       "      <td>17</td>\n",
       "      <td>34.0</td>\n",
       "      <td>150</td>\n",
       "      <td>71</td>\n",
       "      <td>47.33</td>\n",
       "      <td>48.97</td>\n",
       "      <td>3.26</td>\n",
       "    </tr>\n",
       "    <tr>\n",
       "      <th>20</th>\n",
       "      <td>50</td>\n",
       "      <td>12</td>\n",
       "      <td>24.0</td>\n",
       "      <td>200</td>\n",
       "      <td>83</td>\n",
       "      <td>41.50</td>\n",
       "      <td>57.24</td>\n",
       "      <td>2.86</td>\n",
       "    </tr>\n",
       "    <tr>\n",
       "      <th>25</th>\n",
       "      <td>50</td>\n",
       "      <td>13</td>\n",
       "      <td>26.0</td>\n",
       "      <td>250</td>\n",
       "      <td>96</td>\n",
       "      <td>38.40</td>\n",
       "      <td>66.21</td>\n",
       "      <td>2.65</td>\n",
       "    </tr>\n",
       "    <tr>\n",
       "      <th>30</th>\n",
       "      <td>50</td>\n",
       "      <td>12</td>\n",
       "      <td>24.0</td>\n",
       "      <td>300</td>\n",
       "      <td>108</td>\n",
       "      <td>36.00</td>\n",
       "      <td>74.48</td>\n",
       "      <td>2.48</td>\n",
       "    </tr>\n",
       "    <tr>\n",
       "      <th>35</th>\n",
       "      <td>50</td>\n",
       "      <td>5</td>\n",
       "      <td>10.0</td>\n",
       "      <td>350</td>\n",
       "      <td>113</td>\n",
       "      <td>32.29</td>\n",
       "      <td>77.93</td>\n",
       "      <td>2.23</td>\n",
       "    </tr>\n",
       "    <tr>\n",
       "      <th>40</th>\n",
       "      <td>50</td>\n",
       "      <td>3</td>\n",
       "      <td>6.0</td>\n",
       "      <td>400</td>\n",
       "      <td>116</td>\n",
       "      <td>29.00</td>\n",
       "      <td>80.00</td>\n",
       "      <td>2.00</td>\n",
       "    </tr>\n",
       "    <tr>\n",
       "      <th>45</th>\n",
       "      <td>50</td>\n",
       "      <td>3</td>\n",
       "      <td>6.0</td>\n",
       "      <td>450</td>\n",
       "      <td>119</td>\n",
       "      <td>26.44</td>\n",
       "      <td>82.07</td>\n",
       "      <td>1.82</td>\n",
       "    </tr>\n",
       "    <tr>\n",
       "      <th>50</th>\n",
       "      <td>50</td>\n",
       "      <td>5</td>\n",
       "      <td>10.0</td>\n",
       "      <td>500</td>\n",
       "      <td>124</td>\n",
       "      <td>24.80</td>\n",
       "      <td>85.52</td>\n",
       "      <td>1.71</td>\n",
       "    </tr>\n",
       "  </tbody>\n",
       "</table>\n",
       "</div>"
      ],
      "text/plain": [
       "    Population  Positifs parmi la population  % positifs  Population cumulée  \\\n",
       "5           50                            32        64.0                  50   \n",
       "10          50                            22        44.0                 100   \n",
       "15          50                            17        34.0                 150   \n",
       "20          50                            12        24.0                 200   \n",
       "25          50                            13        26.0                 250   \n",
       "30          50                            12        24.0                 300   \n",
       "35          50                             5        10.0                 350   \n",
       "40          50                             3         6.0                 400   \n",
       "45          50                             3         6.0                 450   \n",
       "50          50                             5        10.0                 500   \n",
       "\n",
       "    Positifs cumulés  % Positifs cumulés  \\\n",
       "5                 32               64.00   \n",
       "10                54               54.00   \n",
       "15                71               47.33   \n",
       "20                83               41.50   \n",
       "25                96               38.40   \n",
       "30               108               36.00   \n",
       "35               113               32.29   \n",
       "40               116               29.00   \n",
       "45               119               26.44   \n",
       "50               124               24.80   \n",
       "\n",
       "    % positifs cumulés sur le total des positifs  Lift  \n",
       "5                                          22.07  4.41  \n",
       "10                                         37.24  3.72  \n",
       "15                                         48.97  3.26  \n",
       "20                                         57.24  2.86  \n",
       "25                                         66.21  2.65  \n",
       "30                                         74.48  2.48  \n",
       "35                                         77.93  2.23  \n",
       "40                                         80.00  2.00  \n",
       "45                                         82.07  1.82  \n",
       "50                                         85.52  1.71  "
      ]
     },
     "execution_count": 30,
     "metadata": {},
     "output_type": "execute_result"
    }
   ],
   "source": [
    "from fonctions_metrics import CAP_table, auc_et_roc\n",
    "CAP_table(pd.Series(probas_test, index= y_test.index),y_test, stepsize=5,n=10 )"
   ]
  },
  {
   "cell_type": "code",
   "execution_count": 31,
   "metadata": {},
   "outputs": [
    {
     "name": "stdout",
     "output_type": "stream",
     "text": [
      "auc= 0.8212623512805\n"
     ]
    },
    {
     "data": {
      "image/png": "[encoded data removed]",
      "text/plain": [
       "<Figure size 640x480 with 1 Axes>"
      ]
     },
     "metadata": {},
     "output_type": "display_data"
    }
   ],
   "source": [
    "auc_et_roc(y_test, probas_test)"
   ]
  },
  {
   "cell_type": "markdown",
   "metadata": {},
   "source": [
    "#### Sauvegarde du modèle en pickle"
   ]
  },
  {
   "cell_type": "code",
   "execution_count": 32,
   "metadata": {},
   "outputs": [],
   "source": [
    "with open(\"/home/jupyter/python_ml/data/my_churn_model.pkl\", \"wb\") as file:\n",
    "    pickle.dump(model_LogitL1, file)"
   ]
  },
  {
   "cell_type": "code",
   "execution_count": 33,
   "metadata": {},
   "outputs": [],
   "source": [
    "# Test de réapplication\n",
    "with open(\"/home/jupyter/python_ml/data/my_churn_model.pkl\", \"rb\") as file:\n",
    "    test_reapp_model = pickle.load(file)"
   ]
  },
  {
   "cell_type": "code",
   "execution_count": 34,
   "metadata": {},
   "outputs": [
    {
     "data": {
      "text/plain": [
       "array([[0.87235233, 0.12764767],\n",
       "       [0.53944875, 0.46055125],\n",
       "       [0.9253479 , 0.0746521 ],\n",
       "       [0.77320379, 0.22679621],\n",
       "       [0.82698901, 0.17301099]])"
      ]
     },
     "execution_count": 34,
     "metadata": {},
     "output_type": "execute_result"
    }
   ],
   "source": [
    "test_reapp_model.predict_proba(X_test.head(5))"
   ]
  },
  {
   "cell_type": "markdown",
   "metadata": {},
   "source": [
    "## 3.2 PARAMETRER LE MODELE REG PENALISEE ELASTICNET <a name=\"sect42\" ></a>"
   ]
  },
  {
   "cell_type": "code",
   "execution_count": 35,
   "metadata": {},
   "outputs": [
    {
     "data": {
      "text/plain": [
       "{'alpha': 0.01, 'l1_ratio': 0.5}"
      ]
     },
     "execution_count": 35,
     "metadata": {},
     "output_type": "execute_result"
    }
   ],
   "source": [
    "# Régression logistique elastic net : SGDClassifier : loss = log --> logistique\n",
    "# penalty = \"elasticnet\"\n",
    "# alpha entre 1 et 1000 , et l1_ratio entre 0 et 1\n",
    "from sklearn.linear_model import SGDClassifier\n",
    "\n",
    "param = [{\"alpha\":(0.001,0.01,0.015,0.025,0.004,0.05,0.075,0.1,0.2),\n",
    "          \"l1_ratio\":(0.1,0.25,0.5) }] \n",
    "sgdElasticAUCnow = GridSearchCV (SGDClassifier(loss=\"log\", penalty=\"elasticnet\",l1_ratio=0.25,class_weight=None), param, cv = 4,n_jobs=4,scoring='roc_auc')\n",
    "\n",
    "cvelasticnet = sgdElasticAUCnow.fit(X_train,y_train)\n",
    "cvelasticnet.best_params_\n",
    "\n"
   ]
  },
  {
   "cell_type": "code",
   "execution_count": 36,
   "metadata": {},
   "outputs": [
    {
     "data": {
      "text/plain": [
       "SGDClassifier(alpha=0.01, l1_ratio=0.5, loss='log', penalty='elasticnet')"
      ]
     },
     "execution_count": 36,
     "metadata": {},
     "output_type": "execute_result"
    }
   ],
   "source": [
    "elasticnet = SGDClassifier(loss=\"log\", penalty=\"elasticnet\", **cvelasticnet.best_params_) ## dict va parser directement les clés comme des arguments et valeurs comme valeurs des arguments\n",
    "# Apprentissage du modele\n",
    "elasticnet.fit(X_train,y_train)\n"
   ]
  },
  {
   "cell_type": "code",
   "execution_count": 37,
   "metadata": {},
   "outputs": [
    {
     "name": "stdout",
     "output_type": "stream",
     "text": [
      "7\n"
     ]
    }
   ],
   "source": [
    "# combien d'élemnts non nuls ?\n",
    "coef = list(elasticnet.coef_[0])\n",
    "feature_0= [i for i in coef if i==0] #print(feature_0)\n",
    "print(len(feature_0))\n",
    "# PLus on baisse C, plus de colonnes s'annulent (0)"
   ]
  },
  {
   "cell_type": "markdown",
   "metadata": {},
   "source": [
    "### Analyser les résultats et les performances (light)\n"
   ]
  },
  {
   "cell_type": "code",
   "execution_count": 38,
   "metadata": {},
   "outputs": [],
   "source": [
    "# Prediction des probabilités de 1 avec    model_LogitL1.predict_proba(X)\n",
    "probas_test = elasticnet.predict_proba(X_test)[:,1]\n",
    "probas_train = elasticnet.predict_proba(X_train)[:,1]"
   ]
  },
  {
   "cell_type": "code",
   "execution_count": 39,
   "metadata": {},
   "outputs": [
    {
     "name": "stdout",
     "output_type": "stream",
     "text": [
      "0.8295724518396582\n",
      "0.823311151441823\n"
     ]
    }
   ],
   "source": [
    "#AUC\n",
    "print(roc_auc_score(y_train,probas_train))\n",
    "print(roc_auc_score(y_test,probas_test))"
   ]
  },
  {
   "cell_type": "code",
   "execution_count": 40,
   "metadata": {},
   "outputs": [
    {
     "name": "stdout",
     "output_type": "stream",
     "text": [
      "lift at 5 percent : 4.55\n",
      "lift at 10 percent : 3.79\n"
     ]
    },
    {
     "data": {
      "text/plain": [
       "[{'model': 'Score Lasso',\n",
       "  'AUC_test': 0.821,\n",
       "  'lift at 5': 4.41,\n",
       "  'lift at 10': 3.72},\n",
       " [{'model': 'Score elasticnet',\n",
       "   'AUC_test': 0.823,\n",
       "   'lift at 5': 4.55,\n",
       "   'lift at 10': 3.79}]]"
      ]
     },
     "execution_count": 40,
     "metadata": {},
     "output_type": "execute_result"
    }
   ],
   "source": [
    "# AJOUTE LES RESULTATS\n",
    "model='Score elasticnet'\n",
    "# métriques (liste de dictionnaires)\n",
    "metriques.append([{'model':model,'AUC_test':round(roc_auc_score(y_test,probas_test),3),'lift at 5':lift(probas_test,X_test,y_test,p=5),'lift at 10':lift(probas_test,X_test,y_test,p=10)}])\n",
    "metriques"
   ]
  },
  {
   "cell_type": "markdown",
   "metadata": {},
   "source": [
    "## 3.3 PARAMETRER LE MODELE RANDOMFOREST <a name=\"sect43\" ></a>\n",
    "Tester un modle light peu profond et un modele complexe"
   ]
  },
  {
   "cell_type": "code",
   "execution_count": 41,
   "metadata": {},
   "outputs": [],
   "source": [
    "# exemple randomforest avec des rbres peu profonds\n",
    "rf_light = RandomForestClassifier(     n_estimators = 300,\n",
    "                                       criterion = \"gini\",\n",
    "                                       max_features = \"sqrt\",\n",
    "                                       max_depth = 4,\n",
    "                                       min_samples_split = 40,\n",
    "                                       min_samples_leaf = 30,                                                                           \n",
    "                                       n_jobs = -1, # coeurs\n",
    "                                       random_state = 42,\n",
    "                                       class_weight=\"balanced\"\n",
    "                                     )    \n"
   ]
  },
  {
   "cell_type": "code",
   "execution_count": 42,
   "metadata": {},
   "outputs": [],
   "source": [
    "# avec des arbres profonds et dont les feuilles avec 5 ind min\n",
    "# on bloque à 100 feuilles max\n",
    "rf_complex= RandomForestClassifier(     n_estimators = 300,\n",
    "                                       criterion = \"gini\",\n",
    "                                       max_features = \"sqrt\",\n",
    "                                       max_depth = 8,\n",
    "                                       min_samples_split = 10,\n",
    "                                       min_samples_leaf = 5,                                                                           \n",
    "                                       max_leaf_nodes = 100,\n",
    "                                       n_jobs = -1, # coeurs\n",
    "                                       random_state = 42,\n",
    "                                       class_weight=\"balanced\"\n",
    "                                     )    "
   ]
  },
  {
   "cell_type": "code",
   "execution_count": 43,
   "metadata": {},
   "outputs": [
    {
     "data": {
      "text/plain": [
       "RandomForestClassifier(class_weight='balanced', max_depth=8,\n",
       "                       max_features='sqrt', max_leaf_nodes=100,\n",
       "                       min_samples_leaf=5, min_samples_split=10,\n",
       "                       n_estimators=300, n_jobs=-1, random_state=42)"
      ]
     },
     "execution_count": 43,
     "metadata": {},
     "output_type": "execute_result"
    }
   ],
   "source": [
    "# Apprentissage du modele avec methode fit\n",
    "rf_light.fit(X_train,y_train)\n",
    "rf_complex.fit(X_train,y_train)"
   ]
  },
  {
   "cell_type": "code",
   "execution_count": 44,
   "metadata": {},
   "outputs": [
    {
     "data": {
      "text/html": [
       "<div>\n",
       "<style scoped>\n",
       "    .dataframe tbody tr th:only-of-type {\n",
       "        vertical-align: middle;\n",
       "    }\n",
       "\n",
       "    .dataframe tbody tr th {\n",
       "        vertical-align: top;\n",
       "    }\n",
       "\n",
       "    .dataframe thead th {\n",
       "        text-align: right;\n",
       "    }\n",
       "</style>\n",
       "<table border=\"1\" class=\"dataframe\">\n",
       "  <thead>\n",
       "    <tr style=\"text-align: right;\">\n",
       "      <th></th>\n",
       "      <th>Importance</th>\n",
       "    </tr>\n",
       "  </thead>\n",
       "  <tbody>\n",
       "    <tr>\n",
       "      <th>Day Mins</th>\n",
       "      <td>0.201516</td>\n",
       "    </tr>\n",
       "    <tr>\n",
       "      <th>CustServ Calls</th>\n",
       "      <td>0.194031</td>\n",
       "    </tr>\n",
       "    <tr>\n",
       "      <th>Day Charge</th>\n",
       "      <td>0.193381</td>\n",
       "    </tr>\n",
       "    <tr>\n",
       "      <th>Int'l Plan</th>\n",
       "      <td>0.132138</td>\n",
       "    </tr>\n",
       "    <tr>\n",
       "      <th>churnMoy_state</th>\n",
       "      <td>0.046209</td>\n",
       "    </tr>\n",
       "    <tr>\n",
       "      <th>VMail Message</th>\n",
       "      <td>0.033402</td>\n",
       "    </tr>\n",
       "    <tr>\n",
       "      <th>Eve Charge</th>\n",
       "      <td>0.032670</td>\n",
       "    </tr>\n",
       "    <tr>\n",
       "      <th>Eve Mins</th>\n",
       "      <td>0.032593</td>\n",
       "    </tr>\n",
       "    <tr>\n",
       "      <th>VMail Plan</th>\n",
       "      <td>0.023577</td>\n",
       "    </tr>\n",
       "    <tr>\n",
       "      <th>Intl Charge</th>\n",
       "      <td>0.019991</td>\n",
       "    </tr>\n",
       "    <tr>\n",
       "      <th>Intl Calls</th>\n",
       "      <td>0.018220</td>\n",
       "    </tr>\n",
       "    <tr>\n",
       "      <th>Intl Mins</th>\n",
       "      <td>0.017922</td>\n",
       "    </tr>\n",
       "    <tr>\n",
       "      <th>Night Mins</th>\n",
       "      <td>0.012912</td>\n",
       "    </tr>\n",
       "    <tr>\n",
       "      <th>Night Charge</th>\n",
       "      <td>0.010172</td>\n",
       "    </tr>\n",
       "    <tr>\n",
       "      <th>Account Length</th>\n",
       "      <td>0.008476</td>\n",
       "    </tr>\n",
       "    <tr>\n",
       "      <th>Day Calls</th>\n",
       "      <td>0.008177</td>\n",
       "    </tr>\n",
       "    <tr>\n",
       "      <th>Eve Calls</th>\n",
       "      <td>0.007191</td>\n",
       "    </tr>\n",
       "    <tr>\n",
       "      <th>Night Calls</th>\n",
       "      <td>0.006049</td>\n",
       "    </tr>\n",
       "    <tr>\n",
       "      <th>Area Code_415</th>\n",
       "      <td>0.000936</td>\n",
       "    </tr>\n",
       "    <tr>\n",
       "      <th>Area Code_510</th>\n",
       "      <td>0.000438</td>\n",
       "    </tr>\n",
       "  </tbody>\n",
       "</table>\n",
       "</div>"
      ],
      "text/plain": [
       "                Importance\n",
       "Day Mins          0.201516\n",
       "CustServ Calls    0.194031\n",
       "Day Charge        0.193381\n",
       "Int'l Plan        0.132138\n",
       "churnMoy_state    0.046209\n",
       "VMail Message     0.033402\n",
       "Eve Charge        0.032670\n",
       "Eve Mins          0.032593\n",
       "VMail Plan        0.023577\n",
       "Intl Charge       0.019991\n",
       "Intl Calls        0.018220\n",
       "Intl Mins         0.017922\n",
       "Night Mins        0.012912\n",
       "Night Charge      0.010172\n",
       "Account Length    0.008476\n",
       "Day Calls         0.008177\n",
       "Eve Calls         0.007191\n",
       "Night Calls       0.006049\n",
       "Area Code_415     0.000936\n",
       "Area Code_510     0.000438"
      ]
     },
     "execution_count": 44,
     "metadata": {},
     "output_type": "execute_result"
    }
   ],
   "source": [
    "# Importance des variables Light\n",
    "df=pd.DataFrame(rf_light.feature_importances_,X_train.columns.values)\n",
    "df.columns=['Importance']\n",
    "df.sort_values(by='Importance',ascending=False)"
   ]
  },
  {
   "cell_type": "code",
   "execution_count": 45,
   "metadata": {},
   "outputs": [
    {
     "data": {
      "text/html": [
       "<div>\n",
       "<style scoped>\n",
       "    .dataframe tbody tr th:only-of-type {\n",
       "        vertical-align: middle;\n",
       "    }\n",
       "\n",
       "    .dataframe tbody tr th {\n",
       "        vertical-align: top;\n",
       "    }\n",
       "\n",
       "    .dataframe thead th {\n",
       "        text-align: right;\n",
       "    }\n",
       "</style>\n",
       "<table border=\"1\" class=\"dataframe\">\n",
       "  <thead>\n",
       "    <tr style=\"text-align: right;\">\n",
       "      <th></th>\n",
       "      <th>Importance</th>\n",
       "    </tr>\n",
       "  </thead>\n",
       "  <tbody>\n",
       "    <tr>\n",
       "      <th>CustServ Calls</th>\n",
       "      <td>0.175319</td>\n",
       "    </tr>\n",
       "    <tr>\n",
       "      <th>Day Mins</th>\n",
       "      <td>0.158475</td>\n",
       "    </tr>\n",
       "    <tr>\n",
       "      <th>Day Charge</th>\n",
       "      <td>0.143515</td>\n",
       "    </tr>\n",
       "    <tr>\n",
       "      <th>Int'l Plan</th>\n",
       "      <td>0.101391</td>\n",
       "    </tr>\n",
       "    <tr>\n",
       "      <th>Eve Mins</th>\n",
       "      <td>0.048726</td>\n",
       "    </tr>\n",
       "    <tr>\n",
       "      <th>Eve Charge</th>\n",
       "      <td>0.044521</td>\n",
       "    </tr>\n",
       "    <tr>\n",
       "      <th>churnMoy_state</th>\n",
       "      <td>0.042319</td>\n",
       "    </tr>\n",
       "    <tr>\n",
       "      <th>VMail Message</th>\n",
       "      <td>0.033654</td>\n",
       "    </tr>\n",
       "    <tr>\n",
       "      <th>Intl Charge</th>\n",
       "      <td>0.031873</td>\n",
       "    </tr>\n",
       "    <tr>\n",
       "      <th>Intl Calls</th>\n",
       "      <td>0.029213</td>\n",
       "    </tr>\n",
       "    <tr>\n",
       "      <th>Intl Mins</th>\n",
       "      <td>0.028450</td>\n",
       "    </tr>\n",
       "    <tr>\n",
       "      <th>Night Mins</th>\n",
       "      <td>0.025294</td>\n",
       "    </tr>\n",
       "    <tr>\n",
       "      <th>Account Length</th>\n",
       "      <td>0.023834</td>\n",
       "    </tr>\n",
       "    <tr>\n",
       "      <th>Night Charge</th>\n",
       "      <td>0.023294</td>\n",
       "    </tr>\n",
       "    <tr>\n",
       "      <th>VMail Plan</th>\n",
       "      <td>0.023278</td>\n",
       "    </tr>\n",
       "    <tr>\n",
       "      <th>Day Calls</th>\n",
       "      <td>0.022835</td>\n",
       "    </tr>\n",
       "    <tr>\n",
       "      <th>Eve Calls</th>\n",
       "      <td>0.020404</td>\n",
       "    </tr>\n",
       "    <tr>\n",
       "      <th>Night Calls</th>\n",
       "      <td>0.019600</td>\n",
       "    </tr>\n",
       "    <tr>\n",
       "      <th>Area Code_415</th>\n",
       "      <td>0.002283</td>\n",
       "    </tr>\n",
       "    <tr>\n",
       "      <th>Area Code_510</th>\n",
       "      <td>0.001722</td>\n",
       "    </tr>\n",
       "  </tbody>\n",
       "</table>\n",
       "</div>"
      ],
      "text/plain": [
       "                Importance\n",
       "CustServ Calls    0.175319\n",
       "Day Mins          0.158475\n",
       "Day Charge        0.143515\n",
       "Int'l Plan        0.101391\n",
       "Eve Mins          0.048726\n",
       "Eve Charge        0.044521\n",
       "churnMoy_state    0.042319\n",
       "VMail Message     0.033654\n",
       "Intl Charge       0.031873\n",
       "Intl Calls        0.029213\n",
       "Intl Mins         0.028450\n",
       "Night Mins        0.025294\n",
       "Account Length    0.023834\n",
       "Night Charge      0.023294\n",
       "VMail Plan        0.023278\n",
       "Day Calls         0.022835\n",
       "Eve Calls         0.020404\n",
       "Night Calls       0.019600\n",
       "Area Code_415     0.002283\n",
       "Area Code_510     0.001722"
      ]
     },
     "execution_count": 45,
     "metadata": {},
     "output_type": "execute_result"
    }
   ],
   "source": [
    "# Importance des variables Complex\n",
    "df=pd.DataFrame(rf_complex.feature_importances_,X_train.columns.values)\n",
    "df.columns=['Importance']\n",
    "df.sort_values(by='Importance',ascending=False)"
   ]
  },
  {
   "cell_type": "markdown",
   "metadata": {},
   "source": [
    "### Analyser les résultats et les performances (light)"
   ]
  },
  {
   "cell_type": "code",
   "execution_count": 46,
   "metadata": {},
   "outputs": [],
   "source": [
    "# Prediction des probabilités de 1 ( array2d ) avec fonction predict_proba\n",
    "probas_test = rf_light.predict_proba(X_test)[:,1]\n",
    "probas_train = rf_light.predict_proba(X_train)[:,1]"
   ]
  },
  {
   "cell_type": "code",
   "execution_count": 47,
   "metadata": {},
   "outputs": [
    {
     "name": "stdout",
     "output_type": "stream",
     "text": [
      "0.9295160979371506\n",
      "0.8864932446057673\n"
     ]
    }
   ],
   "source": [
    "#AUC sur train et test avec roc_auc_score\n",
    "print(roc_auc_score(y_train,probas_train))\n",
    "print(roc_auc_score(y_test,probas_test))\n",
    "# un peu de surapprentissage mais peu ce qui est normal car ce sont des arbres peu profonds"
   ]
  },
  {
   "cell_type": "code",
   "execution_count": 48,
   "metadata": {},
   "outputs": [
    {
     "name": "stdout",
     "output_type": "stream",
     "text": [
      "lift at 10 percent : 5.77\n",
      "5.77\n",
      "lift at 10 percent : 5.31\n",
      "5.31\n"
     ]
    }
   ],
   "source": [
    "print(lift(probas_train,X_train,y_train))\n",
    "print(lift(probas_test,X_test,y_test))"
   ]
  },
  {
   "cell_type": "code",
   "execution_count": 49,
   "metadata": {},
   "outputs": [
    {
     "name": "stdout",
     "output_type": "stream",
     "text": [
      "lift at 5 percent : 6.34\n",
      "lift at 10 percent : 5.31\n"
     ]
    },
    {
     "data": {
      "text/plain": [
       "[{'model': 'Score Lasso',\n",
       "  'AUC_test': 0.821,\n",
       "  'lift at 5': 4.41,\n",
       "  'lift at 10': 3.72},\n",
       " [{'model': 'Score elasticnet',\n",
       "   'AUC_test': 0.823,\n",
       "   'lift at 5': 4.55,\n",
       "   'lift at 10': 3.79}],\n",
       " [{'model': 'rf light',\n",
       "   'AUC_test': 0.886,\n",
       "   'lift at 5': 6.34,\n",
       "   'lift at 10': 5.31}]]"
      ]
     },
     "execution_count": 49,
     "metadata": {},
     "output_type": "execute_result"
    }
   ],
   "source": [
    "# AJOUTE LES RESULTATS\n",
    "model='rf light'\n",
    "# métriques (liste de dictionnaires)\n",
    "metriques.append([{'model':model,'AUC_test':round(roc_auc_score(y_test,probas_test),3),'lift at 5':lift(probas_test,X_test,y_test,p=5),'lift at 10':lift(probas_test,X_test,y_test,p=10)}])\n",
    "metriques"
   ]
  },
  {
   "cell_type": "code",
   "execution_count": 50,
   "metadata": {},
   "outputs": [],
   "source": [
    "# Prediction des probabilités de 1 ( array2d ) avec fonction predict_proba\n",
    "probas_test = rf_complex.predict_proba(X_test)[:,1]\n",
    "probas_train = rf_complex.predict_proba(X_train)[:,1]"
   ]
  },
  {
   "cell_type": "code",
   "execution_count": 51,
   "metadata": {},
   "outputs": [
    {
     "name": "stdout",
     "output_type": "stream",
     "text": [
      "0.9905844492889027\n",
      "0.9030611010284333\n"
     ]
    }
   ],
   "source": [
    "#AUC sur train et test avec roc_auc_score\n",
    "print(roc_auc_score(y_train,probas_train))\n",
    "print(roc_auc_score(y_test,probas_test))\n",
    "# ! Surapprentissage ce qui est normal car ce sont des arbres profonds"
   ]
  },
  {
   "cell_type": "code",
   "execution_count": 52,
   "metadata": {},
   "outputs": [
    {
     "name": "stdout",
     "output_type": "stream",
     "text": [
      "lift at 5 percent : 6.62\n",
      "lift at 10 percent : 6.14\n"
     ]
    },
    {
     "data": {
      "text/plain": [
       "[{'model': 'Score Lasso',\n",
       "  'AUC_test': 0.821,\n",
       "  'lift at 5': 4.41,\n",
       "  'lift at 10': 3.72},\n",
       " [{'model': 'Score elasticnet',\n",
       "   'AUC_test': 0.823,\n",
       "   'lift at 5': 4.55,\n",
       "   'lift at 10': 3.79}],\n",
       " [{'model': 'rf light',\n",
       "   'AUC_test': 0.886,\n",
       "   'lift at 5': 6.34,\n",
       "   'lift at 10': 5.31}],\n",
       " [{'model': 'rf complex',\n",
       "   'AUC_test': 0.903,\n",
       "   'lift at 5': 6.62,\n",
       "   'lift at 10': 6.14}]]"
      ]
     },
     "execution_count": 52,
     "metadata": {},
     "output_type": "execute_result"
    }
   ],
   "source": [
    "# AJOUTE LES RESULTATS\n",
    "model='rf complex'\n",
    "# métriques (liste de dictionnaires)\n",
    "metriques.append([{'model':model,'AUC_test':round(roc_auc_score(y_test,probas_test),3),'lift at 5':lift(probas_test,X_test,y_test,p=5),'lift at 10':lift(probas_test,X_test,y_test,p=10)}])\n",
    "metriques\n",
    "# conclusion  le modele RF est plus predictif mais moins confiance dans sa capacité à etre robuste à moyen terme"
   ]
  },
  {
   "cell_type": "markdown",
   "metadata": {},
   "source": [
    "## 3.4 PARAMETRER LE MODELE GRADIENT BOOSTING MACHINE <a name=\"sect44\" ></a>\n"
   ]
  },
  {
   "cell_type": "code",
   "execution_count": 53,
   "metadata": {},
   "outputs": [],
   "source": [
    "from sklearn.ensemble import GradientBoostingClassifier"
   ]
  },
  {
   "cell_type": "code",
   "execution_count": 54,
   "metadata": {},
   "outputs": [],
   "source": [
    "gbt_noRand05=GradientBoostingClassifier(loss='deviance', learning_rate=0.05,\n",
    "                           n_estimators=500,\n",
    "                           subsample=1.0, min_samples_split=20, min_samples_leaf=10,\n",
    "                           max_depth=4,\n",
    "                                       random_state=42)"
   ]
  },
  {
   "cell_type": "code",
   "execution_count": 55,
   "metadata": {},
   "outputs": [
    {
     "data": {
      "text/plain": [
       "GradientBoostingClassifier(learning_rate=0.05, max_depth=4, min_samples_leaf=10,\n",
       "                           min_samples_split=20, n_estimators=500,\n",
       "                           random_state=42)"
      ]
     },
     "execution_count": 55,
     "metadata": {},
     "output_type": "execute_result"
    }
   ],
   "source": [
    "# Apprentissage du modele\n",
    "gbt_noRand05.fit(X_train,y_train)"
   ]
  },
  {
   "cell_type": "markdown",
   "metadata": {},
   "source": [
    "Analyse du nb iterations optimal en affichant la fonction de perte sur le test"
   ]
  },
  {
   "cell_type": "code",
   "execution_count": 56,
   "metadata": {},
   "outputs": [
    {
     "data": {
      "text/plain": [
       "<matplotlib.legend.Legend at 0x7f794f90aed0>"
      ]
     },
     "execution_count": 56,
     "metadata": {},
     "output_type": "execute_result"
    },
    {
     "data": {
      "image/png": "[encoded data removed]",
      "text/plain": [
       "<Figure size 800x600 with 1 Axes>"
      ]
     },
     "metadata": {},
     "output_type": "display_data"
    }
   ],
   "source": [
    "niter=500\n",
    "iter = np.arange(niter) + 1\n",
    "test_deviance = np.zeros((niter,), dtype=np.float64)\n",
    "# staged_decision_functio : décision fonction à chaque iteration\n",
    "for i, y_pred in enumerate(gbt_noRand05.staged_decision_function(X_test)):\n",
    "    # clf.loss_ assumes that y_test[i] in {0, 1}\n",
    "    test_deviance[i] = gbt_noRand05.loss_(y_test, y_pred)\n",
    "\n",
    "plt.figure(figsize=(8, 6))\n",
    "# Erreur sur le test (evolution deviance)\n",
    "plt.plot(iter,test_deviance,label='Test',color='darkorange')\n",
    "        # min vers 100 \n",
    "# Erreur sur apprentissage (evolution deviance)\n",
    "plt.plot(iter,gbt_noRand05.train_score_,label='Apprentissage',color='navy')    \n",
    "# Diminution de l'erreur rapport modele precedant (par rapport au oob)\n",
    "#plt.plot(iter,gbt_noRand05.oob_improvement_)\n",
    "plt.legend(loc=\"upper right\", fontsize=12)\n"
   ]
  },
  {
   "cell_type": "code",
   "execution_count": 57,
   "metadata": {},
   "outputs": [
    {
     "data": {
      "text/plain": [
       "GradientBoostingClassifier(learning_rate=0.05, max_features='sqrt',\n",
       "                           max_leaf_nodes=12, min_samples_leaf=20,\n",
       "                           min_samples_split=30, min_weight_fraction_leaf=0.005,\n",
       "                           n_estimators=500, random_state=42, subsample=0.5)"
      ]
     },
     "execution_count": 57,
     "metadata": {},
     "output_type": "execute_result"
    }
   ],
   "source": [
    "# algo avec randomisation subsample=0.5 et max_feature = racine(nb variable)\n",
    "\n",
    "gbt_Rand=GradientBoostingClassifier(loss='deviance', learning_rate=0.05,\n",
    "                           n_estimators=500,\n",
    "                           subsample=0.5, min_samples_split=30, min_samples_leaf=20,\n",
    "                           min_weight_fraction_leaf=0.005,\n",
    "                           max_depth=3,max_leaf_nodes=12,max_features=\"sqrt\", random_state=42)\n",
    "# Apprentissage du modele\n",
    "gbt_Rand.fit(X_train,y_train)"
   ]
  },
  {
   "cell_type": "code",
   "execution_count": 58,
   "metadata": {},
   "outputs": [
    {
     "data": {
      "text/plain": [
       "<matplotlib.legend.Legend at 0x7f7958e76690>"
      ]
     },
     "execution_count": 58,
     "metadata": {},
     "output_type": "execute_result"
    },
    {
     "data": {
      "image/png": "[encoded data removed]",
      "text/plain": [
       "<Figure size 800x600 with 1 Axes>"
      ]
     },
     "metadata": {},
     "output_type": "display_data"
    }
   ],
   "source": [
    "niter=500\n",
    "iter = np.arange(niter) + 1\n",
    "test_deviance = np.zeros((niter,), dtype=np.float64)\n",
    "# staged_decision_functio : décision fonction à chaque iteration\n",
    "for i, y_pred in enumerate(gbt_Rand.staged_decision_function(X_test)):\n",
    "    # clf.loss_ assumes that y_test[i] in {0, 1}\n",
    "    test_deviance[i] = gbt_Rand.loss_(y_test, y_pred)\n",
    "\n",
    "plt.figure(figsize=(8, 6))\n",
    "# Erreur sur le test (evolution deviance)\n",
    "plt.plot(iter,test_deviance,label='Test',color='darkorange')\n",
    "        # min vers 100 \n",
    "# Erreur sur apprentissage (evolution deviance)\n",
    "plt.plot(iter,gbt_Rand.train_score_,label='Apprentissage',color='navy')    \n",
    "# Diminution de l'erreur rapport modele precedant (par rapport au oob)\n",
    "#plt.plot(iter,gbt_noRand05.oob_improvement_)\n",
    "plt.legend(loc=\"upper right\", fontsize=12)"
   ]
  },
  {
   "cell_type": "code",
   "execution_count": 59,
   "metadata": {},
   "outputs": [
    {
     "data": {
      "text/plain": [
       "GradientBoostingClassifier(learning_rate=0.05, max_features='sqrt',\n",
       "                           max_leaf_nodes=12, min_samples_leaf=20,\n",
       "                           min_samples_split=30, min_weight_fraction_leaf=0.005,\n",
       "                           n_estimators=150, random_state=42, subsample=0.5)"
      ]
     },
     "execution_count": 59,
     "metadata": {},
     "output_type": "execute_result"
    }
   ],
   "source": [
    "# algo early stopping (150 itération)\n",
    "\n",
    "gbt_Rand150=GradientBoostingClassifier(loss='deviance', learning_rate=0.05,\n",
    "                           n_estimators=150,\n",
    "                           subsample=0.5, min_samples_split=30, min_samples_leaf=20,\n",
    "                           min_weight_fraction_leaf=0.005,\n",
    "                           max_depth=3,max_leaf_nodes=12,max_features=\"sqrt\", random_state=42)\n",
    "# Apprentissage du modele\n",
    "gbt_Rand150.fit(X_train,y_train)"
   ]
  },
  {
   "cell_type": "code",
   "execution_count": 60,
   "metadata": {},
   "outputs": [
    {
     "data": {
      "text/plain": [
       "<matplotlib.legend.Legend at 0x7f794f85ff50>"
      ]
     },
     "execution_count": 60,
     "metadata": {},
     "output_type": "execute_result"
    },
    {
     "data": {
      "image/png": "[encoded data removed]",
      "text/plain": [
       "<Figure size 800x600 with 1 Axes>"
      ]
     },
     "metadata": {},
     "output_type": "display_data"
    }
   ],
   "source": [
    "niter=150\n",
    "iter = np.arange(niter) + 1\n",
    "test_deviance = np.zeros((niter,), dtype=np.float64)\n",
    "# staged_decision_functio : décision fonction à chaque iteration\n",
    "for i, y_pred in enumerate(gbt_Rand150.staged_decision_function(X_test)):\n",
    "    # clf.loss_ assumes that y_test[i] in {0, 1}\n",
    "    test_deviance[i] = gbt_Rand150.loss_(y_test, y_pred)\n",
    "\n",
    "plt.figure(figsize=(8, 6))\n",
    "# Erreur sur le test (evolution deviance)\n",
    "plt.plot(iter,test_deviance,label='Test',color='darkorange')\n",
    "        # min vers 100 \n",
    "# Erreur sur apprentissage (evolution deviance)\n",
    "plt.plot(iter,gbt_Rand150.train_score_,label='Apprentissage',color='navy')    \n",
    "# Diminution de l'erreur rapport modele precedant (par rapport au oob)\n",
    "#plt.plot(iter,gbt_noRand05.oob_improvement_)\n",
    "plt.legend(loc=\"upper right\", fontsize=12)"
   ]
  },
  {
   "cell_type": "markdown",
   "metadata": {},
   "source": [
    "### Analyser les résultats et les performances (light) "
   ]
  },
  {
   "cell_type": "code",
   "execution_count": 61,
   "metadata": {},
   "outputs": [],
   "source": [
    "# Prediction des probabilités de 1 , array2d\n",
    "probas_test = gbt_noRand05.predict_proba(X_test)[:,1]\n",
    "probas_train = gbt_noRand05.predict_proba(X_train)[:,1]\n"
   ]
  },
  {
   "cell_type": "code",
   "execution_count": 62,
   "metadata": {},
   "outputs": [
    {
     "name": "stdout",
     "output_type": "stream",
     "text": [
      "0.9999985170025656\n",
      "0.9033353498689252\n"
     ]
    }
   ],
   "source": [
    "print(roc_auc_score(y_train,probas_train))\n",
    "print(roc_auc_score(y_test,probas_test))\n"
   ]
  },
  {
   "cell_type": "code",
   "execution_count": 63,
   "metadata": {},
   "outputs": [
    {
     "name": "stdout",
     "output_type": "stream",
     "text": [
      "lift at 5 percent : 6.9\n",
      "lift at 10 percent : 6.41\n"
     ]
    },
    {
     "data": {
      "text/plain": [
       "[{'model': 'Score Lasso',\n",
       "  'AUC_test': 0.821,\n",
       "  'lift at 5': 4.41,\n",
       "  'lift at 10': 3.72},\n",
       " [{'model': 'Score elasticnet',\n",
       "   'AUC_test': 0.823,\n",
       "   'lift at 5': 4.55,\n",
       "   'lift at 10': 3.79}],\n",
       " [{'model': 'rf light',\n",
       "   'AUC_test': 0.886,\n",
       "   'lift at 5': 6.34,\n",
       "   'lift at 10': 5.31}],\n",
       " [{'model': 'rf complex',\n",
       "   'AUC_test': 0.903,\n",
       "   'lift at 5': 6.62,\n",
       "   'lift at 10': 6.14}],\n",
       " [{'model': 'gbm no rand',\n",
       "   'AUC_test': 0.903,\n",
       "   'lift at 5': 6.9,\n",
       "   'lift at 10': 6.41}]]"
      ]
     },
     "execution_count": 63,
     "metadata": {},
     "output_type": "execute_result"
    }
   ],
   "source": [
    "# AJOUTE LES RESULTATS\n",
    "model='gbm no rand'\n",
    "# métriques (liste de dictionnaires)\n",
    "metriques.append([{'model':model,'AUC_test':round(roc_auc_score(y_test,probas_test),3),'lift at 5':lift(probas_test,X_test,y_test,p=5),'lift at 10':lift(probas_test,X_test,y_test,p=10)}])\n",
    "metriques\n",
    "# conclusion  le modele RF est plus predictif mais moins confiance dans sa capacité à etre robuste à moyen terme\n"
   ]
  },
  {
   "cell_type": "code",
   "execution_count": 64,
   "metadata": {},
   "outputs": [],
   "source": [
    "# Prediction des probabilités de 1 , array2d\n",
    "probas_test = gbt_Rand.predict_proba(X_test)[:,1]\n",
    "probas_train = gbt_Rand.predict_proba(X_train)[:,1]\n"
   ]
  },
  {
   "cell_type": "code",
   "execution_count": 65,
   "metadata": {},
   "outputs": [
    {
     "name": "stdout",
     "output_type": "stream",
     "text": [
      "0.9869852145155789\n",
      "0.9077797943133696\n"
     ]
    }
   ],
   "source": [
    "print(roc_auc_score(y_train,probas_train))\n",
    "print(roc_auc_score(y_test,probas_test))\n"
   ]
  },
  {
   "cell_type": "code",
   "execution_count": 66,
   "metadata": {},
   "outputs": [
    {
     "name": "stdout",
     "output_type": "stream",
     "text": [
      "lift at 5 percent : 6.9\n",
      "lift at 10 percent : 6.41\n"
     ]
    },
    {
     "data": {
      "text/plain": [
       "[{'model': 'Score Lasso',\n",
       "  'AUC_test': 0.821,\n",
       "  'lift at 5': 4.41,\n",
       "  'lift at 10': 3.72},\n",
       " [{'model': 'Score elasticnet',\n",
       "   'AUC_test': 0.823,\n",
       "   'lift at 5': 4.55,\n",
       "   'lift at 10': 3.79}],\n",
       " [{'model': 'rf light',\n",
       "   'AUC_test': 0.886,\n",
       "   'lift at 5': 6.34,\n",
       "   'lift at 10': 5.31}],\n",
       " [{'model': 'rf complex',\n",
       "   'AUC_test': 0.903,\n",
       "   'lift at 5': 6.62,\n",
       "   'lift at 10': 6.14}],\n",
       " [{'model': 'gbm no rand',\n",
       "   'AUC_test': 0.903,\n",
       "   'lift at 5': 6.9,\n",
       "   'lift at 10': 6.41}],\n",
       " [{'model': 'gbm rand',\n",
       "   'AUC_test': 0.908,\n",
       "   'lift at 5': 6.9,\n",
       "   'lift at 10': 6.41}]]"
      ]
     },
     "execution_count": 66,
     "metadata": {},
     "output_type": "execute_result"
    }
   ],
   "source": [
    "# AJOUTE LES RESULTATS\n",
    "model='gbm rand'\n",
    "# métriques (liste de dictionnaires)\n",
    "metriques.append([{'model':model,'AUC_test':round(roc_auc_score(y_test,probas_test),3),'lift at 5':lift(probas_test,X_test,y_test,p=5),'lift at 10':lift(probas_test,X_test,y_test,p=10)}])\n",
    "metriques\n",
    "# conclusion  le modele RF est plus predictif mais moins confiance dans sa capacité à etre robuste à moyen terme\n"
   ]
  },
  {
   "cell_type": "code",
   "execution_count": 67,
   "metadata": {},
   "outputs": [],
   "source": [
    "# Prediction des probabilités de 1 , array2d\n",
    "probas_test = gbt_Rand150.predict_proba(X_test)[:,1]\n",
    "probas_train = gbt_Rand150.predict_proba(X_train)[:,1]\n"
   ]
  },
  {
   "cell_type": "code",
   "execution_count": 68,
   "metadata": {},
   "outputs": [
    {
     "name": "stdout",
     "output_type": "stream",
     "text": [
      "0.9536874731206716\n",
      "0.9055858035894335\n"
     ]
    }
   ],
   "source": [
    "print(roc_auc_score(y_train,probas_train))\n",
    "print(roc_auc_score(y_test,probas_test))\n"
   ]
  },
  {
   "cell_type": "code",
   "execution_count": 69,
   "metadata": {},
   "outputs": [
    {
     "name": "stdout",
     "output_type": "stream",
     "text": [
      "lift at 5 percent : 6.76\n",
      "lift at 10 percent : 6.14\n"
     ]
    },
    {
     "data": {
      "text/plain": [
       "[{'model': 'Score Lasso',\n",
       "  'AUC_test': 0.821,\n",
       "  'lift at 5': 4.41,\n",
       "  'lift at 10': 3.72},\n",
       " [{'model': 'Score elasticnet',\n",
       "   'AUC_test': 0.823,\n",
       "   'lift at 5': 4.55,\n",
       "   'lift at 10': 3.79}],\n",
       " [{'model': 'rf light',\n",
       "   'AUC_test': 0.886,\n",
       "   'lift at 5': 6.34,\n",
       "   'lift at 10': 5.31}],\n",
       " [{'model': 'rf complex',\n",
       "   'AUC_test': 0.903,\n",
       "   'lift at 5': 6.62,\n",
       "   'lift at 10': 6.14}],\n",
       " [{'model': 'gbm no rand',\n",
       "   'AUC_test': 0.903,\n",
       "   'lift at 5': 6.9,\n",
       "   'lift at 10': 6.41}],\n",
       " [{'model': 'gbm rand',\n",
       "   'AUC_test': 0.908,\n",
       "   'lift at 5': 6.9,\n",
       "   'lift at 10': 6.41}],\n",
       " [{'model': 'gbm rand 150',\n",
       "   'AUC_test': 0.906,\n",
       "   'lift at 5': 6.76,\n",
       "   'lift at 10': 6.14}]]"
      ]
     },
     "execution_count": 69,
     "metadata": {},
     "output_type": "execute_result"
    }
   ],
   "source": [
    "# AJOUTE LES RESULTATS\n",
    "model='gbm rand 150'\n",
    "# métriques (liste de dictionnaires)\n",
    "metriques.append([{'model':model,'AUC_test':round(roc_auc_score(y_test,probas_test),3),'lift at 5':lift(probas_test,X_test,y_test,p=5),'lift at 10':lift(probas_test,X_test,y_test,p=10)}])\n",
    "metriques\n",
    "# conclusion  le modele RF est plus predictif mais moins confiance dans sa capacité à etre robuste à moyen terme\n"
   ]
  },
  {
   "cell_type": "code",
   "execution_count": null,
   "metadata": {},
   "outputs": [],
   "source": []
  },
  {
   "cell_type": "code",
   "execution_count": null,
   "metadata": {},
   "outputs": [],
   "source": []
  }
 ],
 "metadata": {
  "environment": {
   "name": "tf2-gpu.2-1.m46",
   "type": "gcloud",
   "uri": "gcr.io/deeplearning-platform-release/tf2-gpu.2-1:m46"
  },
  "kernelspec": {
   "display_name": "Python 3 (ipykernel)",
   "language": "python",
   "name": "python3"
  },
  "language_info": {
   "codemirror_mode": {
    "name": "ipython",
    "version": 3
   },
   "file_extension": ".py",
   "mimetype": "text/x-python",
   "name": "python",
   "nbconvert_exporter": "python",
   "pygments_lexer": "ipython3",
   "version": "3.7.12"
  }
 },
 "nbformat": 4,
 "nbformat_minor": 4
}
