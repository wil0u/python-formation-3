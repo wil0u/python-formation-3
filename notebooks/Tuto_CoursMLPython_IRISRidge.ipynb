{
 "cells": [
  {
   "cell_type": "markdown",
   "metadata": {},
   "source": [
    "# TUTORIEL REGRESSION PENALISEE RIDGE"
   ]
  },
  {
   "cell_type": "markdown",
   "metadata": {},
   "source": [
    "## LES DONNEES\n",
    " "
   ]
  },
  {
   "cell_type": "code",
   "execution_count": null,
   "metadata": {},
   "outputs": [],
   "source": [
    "import pandas as pd\n",
    "import os\n",
    "from sklearn import datasets\n",
    "\n",
    "iris = pd.DataFrame(datasets.load_iris()[\"data\"])\n",
    "\n",
    "# on définit les colonnes\n",
    "iris.columns = ['petalLength', 'petalWidth', 'sepalLength', 'sepalWidth']\n",
    "# et la target\n",
    "iris['species'] = datasets.load_iris()[\"target\"]\n",
    "iris['species'] = iris['species'].map({0 : 'Iris-setosa', 1 : 'Iris-versicolor', 2 : 'Iris-virginica'})\n",
    "iris.head()"
   ]
  },
  {
   "cell_type": "markdown",
   "metadata": {},
   "source": [
    "## EXPLORATION\n"
   ]
  },
  {
   "cell_type": "code",
   "execution_count": null,
   "metadata": {},
   "outputs": [],
   "source": [
    "import numpy as np\n",
    "%matplotlib inline\n",
    "import matplotlib.pyplot as plt\n",
    "import seaborn as sns\n",
    "corr = iris.loc[:,[\"petalLength\",\"petalWidth\",\"sepalLength\",\"sepalWidth\"]].corr()\n",
    "sns.heatmap(corr,xticklabels=corr.columns.values,yticklabels=corr.columns.values)\n"
   ]
  },
  {
   "cell_type": "code",
   "execution_count": null,
   "metadata": {},
   "outputs": [],
   "source": [
    "\n",
    "# étude de sepalLength\n",
    "sns.pairplot(x_vars='petalWidth', y_vars='sepalLength', data=iris, hue=\"species\", size=5)\n",
    "\n",
    "# on va séparer en deux groupes et étudier que les non setosa\n",
    "\n",
    "X = iris.loc[iris.species != 'Iris-setosa',['petalLength', 'petalWidth', 'sepalWidth']]\n",
    "y = iris[iris.species != 'Iris-setosa'].sepalLength"
   ]
  },
  {
   "cell_type": "markdown",
   "metadata": {},
   "source": [
    "## REGRESSION LINEAIRE SIMPLE\n"
   ]
  },
  {
   "cell_type": "code",
   "execution_count": null,
   "metadata": {},
   "outputs": [],
   "source": [
    "# Régression linéaire simple\n",
    "# quel est le signe de petal.width pour expliquer sepalLength\n",
    "from sklearn import linear_model\n",
    "reg = linear_model.LinearRegression()\n",
    "\n",
    "\n",
    "X_petalWidth=X[['petalWidth']]\n",
    "reg.fit(X_petalWidth,y)\n",
    "sepalLength_pred =reg.predict(X_petalWidth)\n"
   ]
  },
  {
   "cell_type": "code",
   "execution_count": null,
   "metadata": {},
   "outputs": [],
   "source": [
    "print(pd.DataFrame({'Coefficients': list(reg.coef_)}, list(X_petalWidth.columns.values)))\n"
   ]
  },
  {
   "cell_type": "markdown",
   "metadata": {},
   "source": [
    "#### Focus sur les métriques de régression"
   ]
  },
  {
   "cell_type": "markdown",
   "metadata": {},
   "source": [
    "- **MSE** *(Mean Square Error)*  =  $1/n\\sum_{i=1}^{n} (y_i - \\hat{y}_i)^2$\n",
    "\n",
    "- **RMSE** *(Root Mean Square Error)*   =  $\\sqrt{MSE}$\n",
    "\n",
    "- **MAE** *(Mean Absolute Error)* = $1/n\\sum_{i=1}^{n}\\mid(y_i - \\hat{y}_i)\\mid$\n",
    "\n",
    "- **MAPE** *(Mean Absolute Percentage Error)*  = $1/n\\sum_{i=1}^{n}\\mid\\frac{(y_i - \\hat{y}_i)}{y_i}\\mid$\n",
    "\n",
    "- **R$^2$ (ou Coefficient de Pearson)** =  $1 -\\frac{\\sum_{i=1}^{n} (y_i - \\hat{y}_i)^2}{\\sum_{i=1}^{n} (y_i - \\bar{y}_i)^2}$ \n"
   ]
  },
  {
   "cell_type": "code",
   "execution_count": null,
   "metadata": {},
   "outputs": [],
   "source": [
    "from sklearn.metrics import r2_score,mean_absolute_error, mean_squared_error, mean_absolute_error, mean_absolute_percentage_error\n",
    "from math import sqrt\n",
    "\n",
    "print('Coefficients: \\n', reg.coef_)\n",
    "print(\"Mean squared error: %.2f\" % mean_squared_error(y, sepalLength_pred))\n",
    "print(\"root Mean squared error: %.2f\" % sqrt(mean_squared_error(y, sepalLength_pred)))\n",
    "print(\"Mean Absolute Error : %.2f\" % mean_absolute_error(y, sepalLength_pred))\n",
    "print(\"Mean Absolute Percentage Error : %.2f\" % mean_absolute_percentage_error(y, sepalLength_pred))\n",
    "print('Variance score: %.2f' % r2_score(y, sepalLength_pred))\n",
    "\n"
   ]
  },
  {
   "cell_type": "code",
   "execution_count": null,
   "metadata": {},
   "outputs": [],
   "source": [
    "import matplotlib.pyplot as plt\n",
    "plt.figure()\n",
    "sns.pairplot(x_vars='petalWidth', y_vars='sepalLength', data=iris[iris.species != 'Iris-setosa'], hue=\"species\", size=5)\n",
    "plt.plot(X_petalWidth, sepalLength_pred, color='grey', linewidth=3)\n",
    "plt.xticks(())\n",
    "plt.yticks(())\n",
    "\n",
    "plt.show()"
   ]
  },
  {
   "cell_type": "markdown",
   "metadata": {},
   "source": [
    "## REGRESSION MULTIPLE SUR DES DONNEES CORRELEES"
   ]
  },
  {
   "cell_type": "code",
   "execution_count": null,
   "metadata": {},
   "outputs": [],
   "source": [
    "# rég linéaire multiple sur données corrélées\n",
    "reg = linear_model.LinearRegression()\n",
    "reg.fit(X,y)\n",
    "print(pd.DataFrame({'Coefficients': list(reg.coef_)}, list(X.columns.values)))\n",
    "\n",
    "#  quand on explique la variation de Y par les 3 var, le signe de Petal.Width devient neg ! -0.25\n",
    "# CONCLUSION : la rég linéaire donne des résultats biaisés en présence de COLLINEARITE (corrélations multivariées)"
   ]
  },
  {
   "cell_type": "code",
   "execution_count": null,
   "metadata": {},
   "outputs": [],
   "source": [
    "print('Variance score: %.2f' % r2_score(y, reg.predict(X)))"
   ]
  },
  {
   "cell_type": "code",
   "execution_count": null,
   "metadata": {},
   "outputs": [],
   "source": [
    "# Si on enleve une variable\n",
    "reg = linear_model.LinearRegression()\n",
    "reg.fit(X[[\"sepalWidth\",\"petalLength\"]],y)\n",
    "print(pd.DataFrame({'Coefficients': list(reg.coef_)}, list(X[[\"sepalWidth\",\"petalLength\"]].columns.values)))\n",
    "\n",
    "print('Variance score: %.2f' % r2_score(y, reg.predict(X[[\"sepalWidth\",\"petalLength\"]])))"
   ]
  },
  {
   "cell_type": "markdown",
   "metadata": {},
   "source": [
    "## REGRESSION LINEAIRE MULTIPLE RIDGE SUR DES DONNEES CORRELEES"
   ]
  },
  {
   "cell_type": "code",
   "execution_count": null,
   "metadata": {},
   "outputs": [],
   "source": [
    "# la régression ridge permet de garder tous les prédicteurs en evitant que les coeff\n",
    "# prennent des valeurs contradictoires pour compenser les corrélations\n",
    "from sklearn import linear_model\n",
    "ridge = linear_model.LinearRegression()\n",
    "ridge.fit(X,y)\n",
    "print(pd.DataFrame({'Coefficients': list(ridge.coef_)}, list(X.columns.values)))"
   ]
  },
  {
   "cell_type": "code",
   "execution_count": null,
   "metadata": {},
   "outputs": [],
   "source": [
    "# On augmente le coefficient pour augmenter la pénalisation et voir son impact (schrinkage)\n",
    "from sklearn import linear_model\n",
    "ridge = linear_model.Ridge (alpha = 25)\n",
    "ridge.fit(X,y)\n",
    "print(pd.DataFrame({'Coefficients': list(ridge.coef_)}, list(X.columns.values)))"
   ]
  },
  {
   "cell_type": "code",
   "execution_count": null,
   "metadata": {},
   "outputs": [],
   "source": [
    "# On augmente le coefficient pour augmenter la pénalisation et voir son impact (schrinkage)\n",
    "from sklearn import linear_model\n",
    "ridge = linear_model.Ridge (alpha = 500)\n",
    "ridge.fit(X,y)\n",
    "print(pd.DataFrame({'Coefficients': list(ridge.coef_)}, list(X.columns.values)))"
   ]
  },
  {
   "cell_type": "markdown",
   "metadata": {},
   "source": [
    "# REGRESSION LINEAIRE MULTIPLE LASSO SUR DES DONNEES CORRELEES"
   ]
  },
  {
   "cell_type": "code",
   "execution_count": null,
   "metadata": {},
   "outputs": [],
   "source": [
    "# On augmente le coefficient pour augmenter la pénalisation et voir son impact (schrinkage)\n",
    "from sklearn import linear_model\n",
    "ridge = linear_model.Lasso(alpha = 0.1)\n",
    "ridge.fit(X,y)\n",
    "print(pd.DataFrame({'Coefficients': list(ridge.coef_)}, list(X.columns.values)))"
   ]
  }
 ],
 "metadata": {
  "environment": {
   "kernel": "python3",
   "name": ".m119",
   "type": "gcloud",
   "uri": "us-docker.pkg.dev/deeplearning-platform-release/gcr.io/:m119"
  },
  "kernelspec": {
   "display_name": ".venv",
   "language": "python",
   "name": "python3"
  },
  "language_info": {
   "codemirror_mode": {
    "name": "ipython",
    "version": 3
   },
   "file_extension": ".py",
   "mimetype": "text/x-python",
   "name": "python",
   "nbconvert_exporter": "python",
   "pygments_lexer": "ipython3",
   "version": "3.11.9"
  }
 },
 "nbformat": 4,
 "nbformat_minor": 4
}
